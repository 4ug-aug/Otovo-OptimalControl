{
 "cells": [
  {
   "cell_type": "code",
   "execution_count": 3,
   "metadata": {},
   "outputs": [],
   "source": [
    "# Load data from grid_installation.csv as pandas df\n",
    "import pandas as pd\n",
    "df_grid = pd.read_csv('/Users/augusttollerup/Documents/SEM4/Fagprojekt/Data/subscription_data.csv', sep=',')\n",
    "\n",
    "# Load aggregated meter data from agg-meter-ids.csv\n",
    "df_agg_meter_ids = pd.read_csv('/Users/augusttollerup/Documents/SEM4/Fagprojekt/Data/agg-meter-ids.csv', sep=',')\n",
    "\n",
    "# Set index to Unamed: 0\n",
    "df_grid.set_index('Unnamed: 0', inplace=True)\n"
   ]
  },
  {
   "cell_type": "markdown",
   "metadata": {},
   "source": [
    "We want to merge the df_grid into df_agg_meter_ids.\n",
    "\n",
    "We merge based on the meter_id column.\n",
    "\n",
    "Before merging we should check whether there exists any overlap between the two dataframe columns"
   ]
  },
  {
   "cell_type": "code",
   "execution_count": 6,
   "metadata": {},
   "outputs": [
    {
     "name": "stdout",
     "output_type": "stream",
     "text": [
      "[]\n"
     ]
    }
   ],
   "source": [
    "# Determine overlap of meter_ids from the 2 dataframes\n",
    "agg_ids = list(df_agg_meter_ids[\"meter_id\"].unique())\n",
    "installation_ids = list(df_grid[\"subscription_id\"].unique())\n",
    "# order_ids = list(df_grid[\"order_id\"].unique())\n",
    "\n",
    "# Calculate the overlap between 2 lists\n",
    "def overlap(list1, list2):\n",
    "    return list(set(list1) & set(list2))\n",
    "\n",
    "print(overlap(agg_ids, installation_ids))\n",
    "# print(overlap(agg_ids, order_ids))\n"
   ]
  },
  {
   "cell_type": "code",
   "execution_count": 2,
   "metadata": {},
   "outputs": [],
   "source": [
    "# Rename column order_id in df_grid to meter_id\n",
    "df_grid.rename(columns={'installation_id': 'meter_id'}, inplace=True)\n",
    "\n",
    "# Merge df_grid and df_agg_meter_ids by meter_id\n",
    "df_merged = pd.merge(df_agg_meter_ids, df_grid, on='meter_id', how='left')"
   ]
  }
 ],
 "metadata": {
  "interpreter": {
   "hash": "eb74edf5377e9b64b01bb0c99c1641005436bfceb9d69d7c3e7c70abf68e1011"
  },
  "kernelspec": {
   "display_name": "Python 3.8.5 ('otovo': venv)",
   "language": "python",
   "name": "python3"
  },
  "language_info": {
   "codemirror_mode": {
    "name": "ipython",
    "version": 3
   },
   "file_extension": ".py",
   "mimetype": "text/x-python",
   "name": "python",
   "nbconvert_exporter": "python",
   "pygments_lexer": "ipython3",
   "version": "3.8.5"
  },
  "orig_nbformat": 4
 },
 "nbformat": 4,
 "nbformat_minor": 2
}
