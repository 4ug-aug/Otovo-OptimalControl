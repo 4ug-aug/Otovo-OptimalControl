{
 "cells": [
  {
   "cell_type": "code",
   "execution_count": 1,
   "metadata": {},
   "outputs": [],
   "source": [
    "import dask.dataframe as dd\n",
    "import pandas as pd"
   ]
  },
  {
   "cell_type": "code",
   "execution_count": 2,
   "metadata": {},
   "outputs": [],
   "source": [
    "fp = \"data/gridtx-dump.csv\"\n",
    "dtype={'adjusts_id': 'object',\n",
    "    'ediel_product_code': 'float64',\n",
    "    'invoice_item_id': 'object',\n",
    "    'parent_id': 'object'}\n",
    "\n",
    "data = dd.read_csv(fp, sep=\";\", dtype=dtype)\n",
    "\n",
    "dtype={'meter_number': 'object'}\n",
    "meters = dd.read_csv(\"data/grid-metering-point-dump-plus-zipcode-GMAPS.csv\", dtype=dtype)\n",
    "\n",
    "def list_diff(li1, li2):\n",
    "    return list(set(li1) - set(li2)) + list(set(li2) - set(li1))\n",
    "\n",
    "to_keep_meters = [\"idgrid_data_table\", \"market_balance_area\", \"automatic_meter\", \"lat\", \"lng\"]\n",
    "to_drop_meters = list_diff(to_keep_meters, list(meters.columns))\n",
    "\n",
    "to_keep_data = ['created_at', 'updated_at', 'num_kwh', 'timeslot', 'type', 'estimation', 'spot_price_no_vat', 'amount_no_vat', 'vat_percent', 'meter_id', 'kwh_fee_no_vat']\n",
    "to_drop_data = list_diff(to_keep_meters, list(data.columns))\n",
    "\n",
    "data_merged = dd.merge(data, meters.drop(to_drop_meters, axis = 1), how=\"left\", left_on=\"meter_id\", right_on = \"idgrid_data_table\")\n",
    "\n",
    "data_merged.to_csv(\"data/gridtx-dump-MERGED.csv\", index= None, header = True,\n",
    "    single_file=True)"
   ]
  }
 ],
 "metadata": {
  "interpreter": {
   "hash": "373ca570fc891238f1057e6d105cf17eb814cd9c6397d08456c6623205273c62"
  },
  "kernelspec": {
   "display_name": "Python 3.8.8 ('venv': venv)",
   "language": "python",
   "name": "python3"
  },
  "language_info": {
   "codemirror_mode": {
    "name": "ipython",
    "version": 3
   },
   "file_extension": ".py",
   "mimetype": "text/x-python",
   "name": "python",
   "nbconvert_exporter": "python",
   "pygments_lexer": "ipython3",
   "version": "3.8.8"
  },
  "orig_nbformat": 4
 },
 "nbformat": 4,
 "nbformat_minor": 2
}
