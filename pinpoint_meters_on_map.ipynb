{
 "cells": [
  {
   "cell_type": "markdown",
   "metadata": {},
   "source": [
    "# IMPORT"
   ]
  },
  {
   "cell_type": "code",
   "execution_count": 3,
   "metadata": {},
   "outputs": [],
   "source": [
    "import numpy as np\n",
    "import pandas as pd\n",
    "import folium\n",
    "from folium import plugins\n",
    "from folium.plugins import HeatMap\n",
    "import io\n",
    "from PIL import Image"
   ]
  },
  {
   "cell_type": "markdown",
   "metadata": {},
   "source": [
    "# LOAD DATA"
   ]
  },
  {
   "cell_type": "code",
   "execution_count": 4,
   "metadata": {},
   "outputs": [],
   "source": [
    "# Load the data \n",
    "file = \"data/grid-metering-point-dump-plus-zipcode-GMAPS-in-gridtx.csv\"\n",
    "df = pd.read_csv(file)"
   ]
  },
  {
   "cell_type": "markdown",
   "metadata": {},
   "source": [
    "# CREATE MAP"
   ]
  },
  {
   "cell_type": "code",
   "execution_count": 27,
   "metadata": {},
   "outputs": [],
   "source": [
    "def create_map(df, out_file_name):\n",
    "    # Define map with startring point and initial zoom \n",
    "    norway = folium.Map(location=[65.238350, 16.471382], zoom_start=4.5)\n",
    "\n",
    "    # Loop through rows in dataframe \n",
    "    for key, row in df.iterrows():\n",
    "\n",
    "        id = row[\"idgrid_data_table\"]\n",
    "        street_address = row[\"street_address\"]\n",
    "        name = row[\"name\"]\n",
    "        full_address = row[\"full_address\"]\n",
    "        lat = row[\"lat\"]\n",
    "        lng = row[\"lng\"]\n",
    "\n",
    "        if not(np.isnan(lat) and np.isnan(lng)):\n",
    "            html = \"\"\"{} <br> {}, {} <br> {} <br> {}, {}\n",
    "            \"\"\".format(id, street_address, name, full_address, lat, lng)\n",
    "\n",
    "            iframe = folium.IFrame(html,\n",
    "                            width=300,\n",
    "                            height=100)\n",
    "\n",
    "            popup = folium.Popup(iframe,\n",
    "                                max_width=300)\n",
    "\n",
    "            folium.Marker(location= [lat, lng], popup=(popup), tooltip=\"Click for details\").add_to(norway)\n",
    "\n",
    "    out_file_name = \"data/maps/\" + out_file_name \n",
    "\n",
    "    norway.save(out_file_name + \".html\")\n",
    "\n",
    "# img_data = norway._to_png(5)\n",
    "# img = Image.open(io.BytesIO(img_data))\n",
    "# img.save(out_file_name + \".png\")\n"
   ]
  },
  {
   "cell_type": "code",
   "execution_count": 12,
   "metadata": {},
   "outputs": [],
   "source": [
    "create_map(df, \"grid_metering_point_map_in_gridtx\")"
   ]
  },
  {
   "cell_type": "code",
   "execution_count": 13,
   "metadata": {},
   "outputs": [],
   "source": [
    "df_grid = pd.read_csv(\"data/gridtx-dump-AGGREGATED-CLEANED-THRESHOLD.csv\")\n",
    "updated_meters = list(df_grid[\"meter_id\"].drop_duplicates())\n",
    "create_map(df[df[\"idgrid_data_table\"].isin(updated_meters)], \"grid_metering_point_map_in_gridtx_CLEANED\")"
   ]
  },
  {
   "cell_type": "code",
   "execution_count": 14,
   "metadata": {},
   "outputs": [],
   "source": [
    "df_grid = pd.read_csv(\"data/gridtx-dump-AGGREGATED-CLEANED-THRESHOLD-COVERAGt E100-NORMALIZED.csv\")\n",
    "updated_meters = list(df_grid[\"meter_id\"].drop_duplicates())\n",
    "create_map(df[df[\"idgrid_data_table\"].isin(updated_meters)], \"grid_metering_point_map_in_gridtx_CLEANED_COVERAGE100_NORMALIZED\")"
   ]
  }
 ],
 "metadata": {
  "interpreter": {
   "hash": "75689878a105dee67c5a2a8f384e2aa8da20bcff148463addcb4797f6b921216"
  },
  "kernelspec": {
   "display_name": "Python 3.8.8 ('venv': venv)",
   "language": "python",
   "name": "python3"
  },
  "language_info": {
   "codemirror_mode": {
    "name": "ipython",
    "version": 3
   },
   "file_extension": ".py",
   "mimetype": "text/x-python",
   "name": "python",
   "nbconvert_exporter": "python",
   "pygments_lexer": "ipython3",
   "version": "3.8.8"
  },
  "orig_nbformat": 4
 },
 "nbformat": 4,
 "nbformat_minor": 2
}
