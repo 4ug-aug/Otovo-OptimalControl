{
 "cells": [
  {
   "cell_type": "code",
   "execution_count": 44,
   "metadata": {},
   "outputs": [],
   "source": [
    "import numpy as np\n",
    "import pandas as pd\n",
    "import folium\n",
    "from folium import plugins\n",
    "from folium.plugins import HeatMap\n",
    "import os\n",
    "import geopy\n",
    "import json"
   ]
  },
  {
   "cell_type": "code",
   "execution_count": 55,
   "metadata": {},
   "outputs": [],
   "source": [
    "# Load the data \n",
    "file = \"data/grid-metering-point-dump-plus-zipcode-GMAPS.csv\"\n",
    "df = pd.read_csv(file)"
   ]
  },
  {
   "cell_type": "code",
   "execution_count": 74,
   "metadata": {},
   "outputs": [],
   "source": [
    "# Define map with startring point and initial zoom \n",
    "norway = folium.Map(location=[65.238350, 16.471382], zoom_start=4.5)\n",
    "\n",
    "# Loop through rows in dataframe \n",
    "for key, row in df.iterrows():\n",
    "\n",
    "    id = row[\"idgrid_data_table\"]\n",
    "    street_address = row[\"street_address\"]\n",
    "    name = row[\"name\"]\n",
    "    full_address = row[\"full_address\"]\n",
    "    lat = row[\"lat\"]\n",
    "    lng = row[\"lng\"]\n",
    "\n",
    "\n",
    "\n",
    "    if not(np.isnan(lat) and np.isnan(lng)):\n",
    "        html = \"\"\"{} <br> {}, {} <br> {}\n",
    "        \"\"\".format(id, street_address, name, full_address)\n",
    "\n",
    "        iframe = folium.IFrame(html,\n",
    "                        width=300,\n",
    "                        height=100)\n",
    "\n",
    "        popup = folium.Popup(iframe,\n",
    "                            max_width=300)\n",
    "\n",
    "        folium.Marker(location= [lat, lng], popup=(popup), tooltip=\"Click for details\").add_to(norway)\n",
    "\n",
    "norway.save(\"data/maps/norway_map_grid_metering_point.html\")"
   ]
  }
 ],
 "metadata": {
  "interpreter": {
   "hash": "373ca570fc891238f1057e6d105cf17eb814cd9c6397d08456c6623205273c62"
  },
  "kernelspec": {
   "display_name": "Python 3.8.8 ('venv': venv)",
   "language": "python",
   "name": "python3"
  },
  "language_info": {
   "codemirror_mode": {
    "name": "ipython",
    "version": 3
   },
   "file_extension": ".py",
   "mimetype": "text/x-python",
   "name": "python",
   "nbconvert_exporter": "python",
   "pygments_lexer": "ipython3",
   "version": "3.8.8"
  },
  "orig_nbformat": 4
 },
 "nbformat": 4,
 "nbformat_minor": 2
}
