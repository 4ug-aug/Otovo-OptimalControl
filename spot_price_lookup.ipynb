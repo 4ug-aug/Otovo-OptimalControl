{
 "cells": [
  {
   "cell_type": "markdown",
   "metadata": {},
   "source": [
    "## Imports"
   ]
  },
  {
   "cell_type": "code",
   "execution_count": 1,
   "metadata": {},
   "outputs": [],
   "source": [
    "import pandas as pd\n",
    "import numpy as np\n",
    "import os\n",
    "import datetime\n",
    "from matplotlib import pyplot as plt\n",
    "import seaborn as sns\n",
    "import json"
   ]
  },
  {
   "cell_type": "code",
   "execution_count": 2,
   "metadata": {},
   "outputs": [],
   "source": [
    "def moving_average(timeseries, window):\n",
    "    \"\"\"Calculate the moving average of a timeseries.\n",
    "\n",
    "    Args:\n",
    "        timeseries (pd.Series): timeseries\n",
    "        window (int): Window size\n",
    "\n",
    "    Returns:\n",
    "        pd.Series: Smoothened timeseries\n",
    "    \"\"\"\n",
    "    return timeseries.rolling(window=window, center=True).mean()"
   ]
  },
  {
   "cell_type": "markdown",
   "metadata": {},
   "source": [
    "## Define peak hours"
   ]
  },
  {
   "cell_type": "code",
   "execution_count": 3,
   "metadata": {},
   "outputs": [],
   "source": [
    "# Define peak hours 8-11 and 16-19\n",
    "peak_hours = list(range(8,20))\n",
    "# All hours\n",
    "all_hours = list(range(24))\n",
    "# difference between peak hours and all hours (off_peak_hours)\n",
    "off_peak_hours = list(set(all_hours) - set(peak_hours))"
   ]
  },
  {
   "cell_type": "markdown",
   "metadata": {},
   "source": [
    "## Spot prices from the dataset\n",
    "Load and prepare dataset"
   ]
  },
  {
   "cell_type": "code",
   "execution_count": 5,
   "metadata": {},
   "outputs": [],
   "source": [
    "fp = \"data/gridtx-dump-AGGREGATED-CLEANED-THRESHOLD-COVERAGE100-NORMALIZED.csv\"\n",
    "data = pd.read_csv(fp, sep=\",\")\n",
    "\n",
    "# Meter with most observations\n",
    "mm_id = \"e882f9a7-f1de-4419-9869-7339be303281\"\n",
    "\n",
    "df = data[data[\"meter_id\"] == mm_id]\n",
    "\n",
    "df_cons = df[df[\"type\"] == \"consumption\"]\n",
    "\n",
    "df_cons.index = pd.to_datetime(df_cons['timeslot'], utc=True)\n",
    "df_cons = df_cons.sort_index()\n"
   ]
  },
  {
   "cell_type": "code",
   "execution_count": 6,
   "metadata": {},
   "outputs": [
    {
     "name": "stderr",
     "output_type": "stream",
     "text": [
      "C:\\Users\\andre\\AppData\\Local\\Temp\\ipykernel_23056\\2341981275.py:3: SettingWithCopyWarning: \n",
      "A value is trying to be set on a copy of a slice from a DataFrame.\n",
      "Try using .loc[row_indexer,col_indexer] = value instead\n",
      "\n",
      "See the caveats in the documentation: https://pandas.pydata.org/pandas-docs/stable/user_guide/indexing.html#returning-a-view-versus-a-copy\n",
      "  df_2017[\"peak\"] = np.where(df_2017.index.hour.isin(peak_hours), True, False)\n"
     ]
    }
   ],
   "source": [
    "df_2017 = df_cons[df_cons.index.year == 2017]\n",
    "\n",
    "df_2017[\"peak\"] = np.where(df_2017.index.hour.isin(peak_hours), True, False)"
   ]
  },
  {
   "cell_type": "code",
   "execution_count": 7,
   "metadata": {},
   "outputs": [],
   "source": [
    "# Group by day of year and peak\n",
    "df_2017_avg = df_2017.groupby([df_2017.index.dayofyear, \"peak\"]).mean()[\"spot_price_no_vat\"]"
   ]
  },
  {
   "cell_type": "code",
   "execution_count": 8,
   "metadata": {},
   "outputs": [],
   "source": [
    "# Create dictionary with day of year and hour as key and spot price as value\n",
    "df_2017_avg_dict = df_2017_avg.to_dict()\n",
    "\n",
    "hour_lookup_price_dict = {}\n",
    "\n",
    "# loop though group\n",
    "for dayofyear in df_2017.index.dayofyear: \n",
    "    for hour in all_hours:\n",
    "        # if hour_lookup_price_dict has key\n",
    "        if dayofyear not in hour_lookup_price_dict:\n",
    "            hour_lookup_price_dict[dayofyear] = {}\n",
    "        hour_lookup_price_dict[dayofyear][hour] = df_2017_avg_dict[(dayofyear, hour in peak_hours)]\n",
    "        "
   ]
  },
  {
   "cell_type": "code",
   "execution_count": 9,
   "metadata": {},
   "outputs": [],
   "source": [
    "# save hour_lookup_price_dict to json\n",
    "with open('data/hour_lookup_price_dict.json', 'w') as fp:\n",
    "    json.dump(hour_lookup_price_dict, fp)"
   ]
  },
  {
   "cell_type": "code",
   "execution_count": 10,
   "metadata": {},
   "outputs": [
    {
     "data": {
      "image/png": "[encoded data removed]",
      "text/plain": [
       "<Figure size 432x288 with 1 Axes>"
      ]
     },
     "metadata": {
      "needs_background": "light"
     },
     "output_type": "display_data"
    }
   ],
   "source": [
    "# plot hour_lookup_price_dict\n",
    "plt.plot(moving_average(df_2017[\"spot_price_no_vat\"],24*31))\n",
    "plt.show()"
   ]
  },
  {
   "cell_type": "markdown",
   "metadata": {},
   "source": [
    "## Spot prices from Nordpool (2021)\n",
    "Load and prepare data\n"
   ]
  },
  {
   "cell_type": "code",
   "execution_count": 20,
   "metadata": {},
   "outputs": [],
   "source": []
  },
  {
   "cell_type": "code",
   "execution_count": 11,
   "metadata": {},
   "outputs": [
    {
     "name": "stdout",
     "output_type": "stream",
     "text": [
      "There are 1 missing values in parsed_values\n"
     ]
    }
   ],
   "source": [
    "# Load csv\n",
    "nordpool_df = pd.read_csv(\"data/nordpool_dump_2022-06-13.csv\", sep=\",\")\n",
    "\n",
    "# Only get data for Oslo \n",
    "nordpool_df = nordpool_df[nordpool_df[\"Name\"] == \"Oslo\"]\n",
    "# Convert from MWh to kWh\n",
    "nordpool_df[\"parsed_values\"] = nordpool_df[\"parsed_values\"]/1000\n",
    "# drop all columns except parsed_values and timestamp\n",
    "nordpool_df = nordpool_df[[\"parsed_values\", \"timestamp\"]]\n",
    "nordpool_df.index = pd.to_datetime(nordpool_df['timestamp'], utc=True)\n",
    "\n",
    "# nordpool_df missing values\n",
    "print(\"There are\", nordpool_df[\"parsed_values\"].isnull().sum(), \"missing values in parsed_values\")"
   ]
  },
  {
   "cell_type": "code",
   "execution_count": 12,
   "metadata": {},
   "outputs": [],
   "source": [
    "# interpolate missing values\n",
    "nordpool_df[\"parsed_values\"] = nordpool_df[\"parsed_values\"].interpolate()"
   ]
  },
  {
   "cell_type": "code",
   "execution_count": 13,
   "metadata": {},
   "outputs": [],
   "source": [
    "# Add peak column (boolean) and average over on peak/off peak each day\n",
    "nordpool_df[\"peak\"] = np.where(nordpool_df.index.hour.isin(peak_hours), True, False)\n",
    "nordpool_df_avg = nordpool_df.groupby([nordpool_df.index.dayofyear, \"peak\"]).mean()[\"parsed_values\"]"
   ]
  },
  {
   "cell_type": "code",
   "execution_count": 14,
   "metadata": {},
   "outputs": [],
   "source": [
    "nordpool_df_avg_dict = nordpool_df_avg.to_dict()\n",
    "# Create dictionary with day of year and hour as key and spot price as value\n",
    "nordpool_df_avg_dict = nordpool_df_avg.to_dict()\n",
    "\n",
    "nordpool_hour_lookup_price_dict = {}\n",
    "\n",
    "# loop though group\n",
    "for dayofyear in nordpool_df.index.dayofyear: \n",
    "    for hour in all_hours:\n",
    "        # if hour_lookup_price_dict has key\n",
    "        if dayofyear not in nordpool_hour_lookup_price_dict:\n",
    "            nordpool_hour_lookup_price_dict[dayofyear] = {}\n",
    "        nordpool_hour_lookup_price_dict[dayofyear][hour] = nordpool_df_avg_dict[(dayofyear, hour in peak_hours)]\n",
    "        "
   ]
  },
  {
   "cell_type": "code",
   "execution_count": 15,
   "metadata": {},
   "outputs": [],
   "source": [
    "# save hour_lookup_price_dict to json\n",
    "with open('data/nordpool_hour_lookup_price_dict.json', 'w') as fp:\n",
    "    json.dump(nordpool_hour_lookup_price_dict, fp)"
   ]
  },
  {
   "cell_type": "code",
   "execution_count": 16,
   "metadata": {},
   "outputs": [
    {
     "data": {
      "image/png": "[encoded data removed]",
      "text/plain": [
       "<Figure size 432x288 with 1 Axes>"
      ]
     },
     "metadata": {
      "needs_background": "light"
     },
     "output_type": "display_data"
    }
   ],
   "source": [
    "# plot hour_lookup_price_dict\n",
    "plt.clf()\n",
    "plt.plot(moving_average(nordpool_df[\"parsed_values\"],24*31))\n",
    "plt.show()"
   ]
  },
  {
   "cell_type": "markdown",
   "metadata": {},
   "source": [
    "Plot both prices (smoothened)"
   ]
  },
  {
   "cell_type": "code",
   "execution_count": 31,
   "metadata": {},
   "outputs": [
    {
     "data": {
      "image/png": "[encoded data removed]",
      "text/plain": [
       "<Figure size 432x288 with 1 Axes>"
      ]
     },
     "metadata": {
      "needs_background": "light"
     },
     "output_type": "display_data"
    }
   ],
   "source": [
    "# Plot nordpool_df together with df_2017 with same x-axis\n",
    "plt.clf()\n",
    "plt.plot(nordpool_df.index.dayofyear,moving_average(nordpool_df[\"parsed_values\"], 24*31), label=\"Nordpool (2021)\")\n",
    "plt.plot(df_2017.index.dayofyear,moving_average(df_2017[\"spot_price_no_vat\"], 24*31), label=\"Gridtx (2017)\")\n",
    "# x-axis\n",
    "plt.xlabel(\"Day of year\")\n",
    "# y-axis\n",
    "plt.ylabel(\"Spot price (NOK/kWh)\")\n",
    "# title\n",
    "plt.title(\"Spot price during one year\")\n",
    "plt.legend()\n",
    "plt.show()\n"
   ]
  },
  {
   "cell_type": "markdown",
   "metadata": {},
   "source": [
    "Plot both (not smoothened)"
   ]
  },
  {
   "cell_type": "code",
   "execution_count": 18,
   "metadata": {},
   "outputs": [
    {
     "data": {
      "image/png": "[encoded data removed]",
      "text/plain": [
       "<Figure size 432x288 with 1 Axes>"
      ]
     },
     "metadata": {
      "needs_background": "light"
     },
     "output_type": "display_data"
    }
   ],
   "source": [
    "# Plot nordpool_df together with df_2017 with same x-axis\n",
    "plt.clf()\n",
    "plt.plot(nordpool_df.index.dayofyear,nordpool_df[\"parsed_values\"], label=\"Nordpool\")\n",
    "plt.plot(df_2017.index.dayofyear,df_2017[\"spot_price_no_vat\"], label=\"Gridtx\")\n",
    "plt.legend()\n",
    "plt.show()\n"
   ]
  },
  {
   "cell_type": "markdown",
   "metadata": {},
   "source": [
    "## Analyze prices\n",
    "Descriptive statistics"
   ]
  },
  {
   "cell_type": "code",
   "execution_count": 27,
   "metadata": {},
   "outputs": [
    {
     "data": {
      "text/html": [
       "<div>\n",
       "<style scoped>\n",
       "    .dataframe tbody tr th:only-of-type {\n",
       "        vertical-align: middle;\n",
       "    }\n",
       "\n",
       "    .dataframe tbody tr th {\n",
       "        vertical-align: top;\n",
       "    }\n",
       "\n",
       "    .dataframe thead th {\n",
       "        text-align: right;\n",
       "    }\n",
       "</style>\n",
       "<table border=\"1\" class=\"dataframe\">\n",
       "  <thead>\n",
       "    <tr style=\"text-align: right;\">\n",
       "      <th></th>\n",
       "      <th>Nordpool</th>\n",
       "      <th>gridtx</th>\n",
       "    </tr>\n",
       "  </thead>\n",
       "  <tbody>\n",
       "    <tr>\n",
       "      <th>count</th>\n",
       "      <td>8592.000000</td>\n",
       "      <td>21863.00000</td>\n",
       "    </tr>\n",
       "    <tr>\n",
       "      <th>mean</th>\n",
       "      <td>0.740616</td>\n",
       "      <td>0.71475</td>\n",
       "    </tr>\n",
       "    <tr>\n",
       "      <th>std</th>\n",
       "      <td>0.469412</td>\n",
       "      <td>0.21774</td>\n",
       "    </tr>\n",
       "    <tr>\n",
       "      <th>min</th>\n",
       "      <td>-0.019720</td>\n",
       "      <td>0.03636</td>\n",
       "    </tr>\n",
       "    <tr>\n",
       "      <th>25%</th>\n",
       "      <td>0.457335</td>\n",
       "      <td>0.54400</td>\n",
       "    </tr>\n",
       "    <tr>\n",
       "      <th>50%</th>\n",
       "      <td>0.595440</td>\n",
       "      <td>0.67400</td>\n",
       "    </tr>\n",
       "    <tr>\n",
       "      <th>75%</th>\n",
       "      <td>0.930945</td>\n",
       "      <td>0.86141</td>\n",
       "    </tr>\n",
       "    <tr>\n",
       "      <th>max</th>\n",
       "      <td>6.124930</td>\n",
       "      <td>4.90800</td>\n",
       "    </tr>\n",
       "  </tbody>\n",
       "</table>\n",
       "</div>"
      ],
      "text/plain": [
       "          Nordpool       gridtx\n",
       "count  8592.000000  21863.00000\n",
       "mean      0.740616      0.71475\n",
       "std       0.469412      0.21774\n",
       "min      -0.019720      0.03636\n",
       "25%       0.457335      0.54400\n",
       "50%       0.595440      0.67400\n",
       "75%       0.930945      0.86141\n",
       "max       6.124930      4.90800"
      ]
     },
     "execution_count": 27,
     "metadata": {},
     "output_type": "execute_result"
    }
   ],
   "source": [
    "desc1 = nordpool_df[\"parsed_values\"].describe()\n",
    "desc2 = df_cons[\"spot_price_no_vat\"].describe()\n",
    "\n",
    "# Merge desc1 and desc2\n",
    "desc = pd.concat([desc1, desc2], axis=1)\n",
    "desc.columns = [\"Nordpool\", \"gridtx\"]\n",
    "desc"
   ]
  }
 ],
 "metadata": {
  "interpreter": {
   "hash": "75689878a105dee67c5a2a8f384e2aa8da20bcff148463addcb4797f6b921216"
  },
  "kernelspec": {
   "display_name": "Python 3.8.8 ('venv': venv)",
   "language": "python",
   "name": "python3"
  },
  "language_info": {
   "codemirror_mode": {
    "name": "ipython",
    "version": 3
   },
   "file_extension": ".py",
   "mimetype": "text/x-python",
   "name": "python",
   "nbconvert_exporter": "python",
   "pygments_lexer": "ipython3",
   "version": "3.8.8"
  },
  "orig_nbformat": 4
 },
 "nbformat": 4,
 "nbformat_minor": 2
}
