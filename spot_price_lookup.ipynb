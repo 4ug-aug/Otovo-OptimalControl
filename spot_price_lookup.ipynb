{
 "cells": [
  {
   "cell_type": "markdown",
   "metadata": {},
   "source": [
    "## Imports"
   ]
  },
  {
   "cell_type": "code",
   "execution_count": 2,
   "metadata": {},
   "outputs": [],
   "source": [
    "import pandas as pd\n",
    "import numpy as np\n",
    "import os\n",
    "import datetime\n",
    "from matplotlib import pyplot as plt\n",
    "import seaborn as sns\n",
    "import json"
   ]
  },
  {
   "cell_type": "markdown",
   "metadata": {},
   "source": [
    "## Define peak hours"
   ]
  },
  {
   "cell_type": "code",
   "execution_count": 7,
   "metadata": {},
   "outputs": [],
   "source": [
    "# Define peak hours 8-11 and 16-19\n",
    "peak_hours = list(range(8,19))\n",
    "# All hours\n",
    "all_hours = list(range(24))\n",
    "# difference between peak hours and all hours (off_peak_hours)\n",
    "off_peak_hours = list(set(all_hours) - set(peak_hours))"
   ]
  },
  {
   "cell_type": "markdown",
   "metadata": {},
   "source": [
    "## Spot prices from the dataset\n",
    "Load and prepare dataset"
   ]
  },
  {
   "cell_type": "code",
   "execution_count": 9,
   "metadata": {},
   "outputs": [],
   "source": [
    "# load dataset\n",
    "fp = \"data/gridtx-dump-AGGREGATED-CLEANED-THRESHOLD-COVERAGE100-NORMALIZED.csv\"\n",
    "data = pd.read_csv(fp, sep=\",\")\n",
    "\n",
    "# Meter with most observations\n",
    "mm_id = \"28ba7f57-6e83-4341-8078-232c1639e4e3\"\n",
    "\n",
    "# df = data[data[\"meter_id\"] == mm_id]\n",
    "df = data\n",
    "\n",
    "df_cons = df[df[\"type\"] == \"consumption\"]\n",
    "\n",
    "# Convert timeslot to datetime and set as index\n",
    "df_cons.index = pd.to_datetime(df_cons['timeslot'], utc=True)\n",
    "\n",
    "# Sort index \n",
    "df_cons = df_cons.sort_index()\n",
    "df_cons[\"hour\"] = df_cons.index.hour\n",
    "# Add column to df_cons_spot_price\n",
    "df_cons[\"peak_hour\"] = np.where(df_cons[\"hour\"].isin(peak_hours), 1, 0)"
   ]
  },
  {
   "cell_type": "markdown",
   "metadata": {},
   "source": [
    "Calculate averages"
   ]
  },
  {
   "cell_type": "code",
   "execution_count": 10,
   "metadata": {},
   "outputs": [],
   "source": [
    "#Average over peak_hour\n",
    "df_cons_avg = df_cons.groupby([\"peak_hour\"]).mean()[\"spot_price_no_vat\"]\n",
    "avg_dict = df_cons_avg.to_dict()\n",
    "\n",
    "# Average over hour\n",
    "df_cons_avg_hour = df_cons.groupby([\"hour\"]).mean()[\"spot_price_no_vat\"]\n",
    "df_cons_avg_hour_dict = df_cons_avg_hour.to_dict()\n",
    "\n",
    "hour_lookup_price_dict = {}\n",
    "for hour in all_hours:\n",
    "    if hour in peak_hours:\n",
    "        hour_lookup_price_dict[hour] = avg_dict[1]\n",
    "    elif hour in off_peak_hours:\n",
    "        hour_lookup_price_dict[hour] = avg_dict[0]"
   ]
  },
  {
   "cell_type": "markdown",
   "metadata": {},
   "source": [
    "Save to files"
   ]
  },
  {
   "cell_type": "code",
   "execution_count": null,
   "metadata": {},
   "outputs": [],
   "source": [
    "# Save to files\n",
    "with open('data/hour_lookup_price_dict.json', 'w') as fp:\n",
    "    json.dump(hour_lookup_price_dict, fp)\n",
    "\n",
    "with open('data/hour_lookup_price_houravg_dict.json', 'w') as fp:\n",
    "    json.dump(df_cons_avg_hour_dict, fp)"
   ]
  },
  {
   "cell_type": "markdown",
   "metadata": {},
   "source": [
    "## Spot prices from Nordpool (2021)\n",
    "Load and prepare data\n"
   ]
  },
  {
   "cell_type": "code",
   "execution_count": 14,
   "metadata": {},
   "outputs": [],
   "source": [
    "# load spot_prices_2021.csv\n",
    "fp = \"data/spot_prices_2021.csv\"\n",
    "df = pd.read_csv(fp, sep=\",\")\n",
    "\n",
    "df_oslo = df[df[\"region\"] == \"Oslo\"]\n",
    "\n",
    "# Convert timeslot to datetime and set as index\n",
    "df_oslo.index = pd.to_datetime(df_oslo['start_time'], utc=True)\n",
    "\n",
    "# Sort index \n",
    "df_oslo = df_oslo.sort_index()\n",
    "df_oslo[\"hour\"] = df_oslo.index.hour\n",
    "df_oslo[\"peak_hour\"] = np.where(df_oslo[\"hour\"].isin(peak_hours), 1, 0)\n"
   ]
  },
  {
   "cell_type": "markdown",
   "metadata": {},
   "source": [
    "Calculate averages"
   ]
  },
  {
   "cell_type": "code",
   "execution_count": null,
   "metadata": {},
   "outputs": [],
   "source": [
    "#Average over peak_hour\n",
    "df_oslo_avg_peak_hour = df_oslo.groupby([\"peak_hour\"]).mean()[\"price\"]\n",
    "df_oslo_avg_hour = df_oslo.groupby([\"hour\"]).mean()[\"price\"]\n",
    "avg_dict_oslo_hour = df_oslo_avg_hour.to_dict()\n",
    "\n",
    "# df_cons_avg to dict\n",
    "avg_peak_hour_dict = df_oslo_avg_peak_hour.to_dict()\n",
    "\n",
    "hour_lookup_price_dict = {}\n",
    "for hour in all_hours:\n",
    "    if hour in peak_hours:\n",
    "        hour_lookup_price_dict[hour] = avg_peak_hour_dict[1]\n",
    "    elif hour in off_peak_hours:\n",
    "        hour_lookup_price_dict[hour] = avg_peak_hour_dict[0]"
   ]
  },
  {
   "cell_type": "markdown",
   "metadata": {},
   "source": [
    "Save to files"
   ]
  },
  {
   "cell_type": "code",
   "execution_count": null,
   "metadata": {},
   "outputs": [],
   "source": [
    "with open('data/hour_lookup_price_oslo_2021_dict.json', 'w') as fp:\n",
    "    json.dump(hour_lookup_price_dict, fp)\n",
    "\n",
    "with open('data/hour_lookup_price_oslo_2021_houravg_dict.json', 'w') as fp:\n",
    "    json.dump(avg_dict_oslo_hour, fp)"
   ]
  }
 ],
 "metadata": {
  "interpreter": {
   "hash": "75689878a105dee67c5a2a8f384e2aa8da20bcff148463addcb4797f6b921216"
  },
  "kernelspec": {
   "display_name": "Python 3.8.8 ('venv': venv)",
   "language": "python",
   "name": "python3"
  },
  "language_info": {
   "codemirror_mode": {
    "name": "ipython",
    "version": 3
   },
   "file_extension": ".py",
   "mimetype": "text/x-python",
   "name": "python",
   "nbconvert_exporter": "python",
   "pygments_lexer": "ipython3",
   "version": "3.8.8"
  },
  "orig_nbformat": 4
 },
 "nbformat": 4,
 "nbformat_minor": 2
}
