{
 "cells": [
  {
   "cell_type": "markdown",
   "metadata": {},
   "source": [
    "## Imports"
   ]
  },
  {
   "cell_type": "code",
   "execution_count": 151,
   "metadata": {},
   "outputs": [],
   "source": [
    "import pandas as pd\n",
    "import numpy as np\n",
    "import os\n",
    "import datetime\n",
    "from matplotlib import pyplot as plt\n",
    "import seaborn as sns\n",
    "import json"
   ]
  },
  {
   "cell_type": "markdown",
   "metadata": {},
   "source": [
    "## Define peak hours"
   ]
  },
  {
   "cell_type": "code",
   "execution_count": 152,
   "metadata": {},
   "outputs": [],
   "source": [
    "# Define peak hours 8-11 and 16-19\n",
    "peak_hours = list(range(6,19))\n",
    "# All hours\n",
    "all_hours = list(range(24))\n",
    "# difference between peak hours and all hours (off_peak_hours)\n",
    "off_peak_hours = list(set(all_hours) - set(peak_hours))"
   ]
  },
  {
   "cell_type": "markdown",
   "metadata": {},
   "source": [
    "## Spot prices from the dataset\n",
    "Load and prepare dataset"
   ]
  },
  {
   "cell_type": "code",
   "execution_count": 153,
   "metadata": {},
   "outputs": [],
   "source": [
    "fp = \"data/gridtx-dump-AGGREGATED-CLEANED-THRESHOLD-COVERAGE100-NORMALIZED.csv\"\n",
    "data = pd.read_csv(fp, sep=\",\")\n",
    "\n",
    "# Meter with most observations\n",
    "mm_id = \"28ba7f57-6e83-4341-8078-232c1639e4e3\"\n",
    "\n",
    "df = data[data[\"meter_id\"] == mm_id]\n",
    "\n",
    "df_cons = df[df[\"type\"] == \"consumption\"]\n",
    "\n",
    "df_cons.index = pd.to_datetime(df_cons['timeslot'], utc=True)\n",
    "df_cons = df_cons.sort_index()\n"
   ]
  },
  {
   "cell_type": "code",
   "execution_count": 154,
   "metadata": {},
   "outputs": [
    {
     "name": "stderr",
     "output_type": "stream",
     "text": [
      "C:\\Users\\andre\\AppData\\Local\\Temp\\ipykernel_8312\\2341981275.py:3: SettingWithCopyWarning: \n",
      "A value is trying to be set on a copy of a slice from a DataFrame.\n",
      "Try using .loc[row_indexer,col_indexer] = value instead\n",
      "\n",
      "See the caveats in the documentation: https://pandas.pydata.org/pandas-docs/stable/user_guide/indexing.html#returning-a-view-versus-a-copy\n",
      "  df_2017[\"peak\"] = np.where(df_2017.index.hour.isin(peak_hours), True, False)\n"
     ]
    }
   ],
   "source": [
    "df_2017 = df_cons[df_cons.index.year == 2017]\n",
    "\n",
    "df_2017[\"peak\"] = np.where(df_2017.index.hour.isin(peak_hours), True, False)"
   ]
  },
  {
   "cell_type": "code",
   "execution_count": 155,
   "metadata": {},
   "outputs": [],
   "source": [
    "# Group by day of year and peak\n",
    "df_2017_avg = df_2017.groupby([df_2017.index.dayofyear, \"peak\"]).mean()[\"spot_price_no_vat\"]"
   ]
  },
  {
   "cell_type": "code",
   "execution_count": 182,
   "metadata": {},
   "outputs": [],
   "source": [
    "# Create dictionary with day of year and hour as key and spot price as value\n",
    "df_2017_avg_dict = df_2017_avg.to_dict()\n",
    "\n",
    "hour_lookup_price_dict = {}\n",
    "\n",
    "# loop though group\n",
    "for dayofyear in df_2017.index.dayofyear: \n",
    "    for hour in all_hours:\n",
    "        # if hour_lookup_price_dict has key\n",
    "        if dayofyear not in hour_lookup_price_dict:\n",
    "            hour_lookup_price_dict[dayofyear] = {}\n",
    "        hour_lookup_price_dict[dayofyear][hour] = df_2017_avg_dict[(dayofyear, hour in peak_hours)]\n",
    "        "
   ]
  },
  {
   "cell_type": "code",
   "execution_count": 193,
   "metadata": {},
   "outputs": [],
   "source": [
    "# save hour_lookup_price_dict to json\n",
    "with open('data/hour_lookup_price_dict.json', 'w') as fp:\n",
    "    json.dump(hour_lookup_price_dict, fp)"
   ]
  },
  {
   "cell_type": "markdown",
   "metadata": {},
   "source": [
    "## Spot prices from Nordpool (2021)\n",
    "Load and prepare data\n"
   ]
  },
  {
   "cell_type": "code",
   "execution_count": 202,
   "metadata": {},
   "outputs": [],
   "source": [
    "# load spot_prices_2021.csv\n",
    "fp = \"data/spot_prices_2021.csv\"\n",
    "df = pd.read_csv(fp, sep=\",\")\n",
    "\n",
    "df_oslo = df[df[\"region\"] == \"Oslo\"]\n",
    "\n",
    "# Convert timeslot to datetime and set as index\n",
    "df_oslo.index = pd.to_datetime(df_oslo['start_time'], utc=True)\n",
    "\n",
    "# Sort index \n",
    "df_oslo = df_oslo.sort_index()\n",
    "df_oslo[\"hour\"] = df_oslo.index.hour\n",
    "df_oslo[\"peak_hour\"] = np.where(df_oslo[\"hour\"].isin(peak_hours), 1, 0)\n",
    "\n",
    "# Update price\n",
    "df_oslo[\"price\"] = -df_oslo[\"price\"]"
   ]
  },
  {
   "cell_type": "code",
   "execution_count": 236,
   "metadata": {},
   "outputs": [
    {
     "data": {
      "text/plain": [
       "732.0"
      ]
     },
     "execution_count": 236,
     "metadata": {},
     "output_type": "execute_result"
    }
   ],
   "source": [
    "df_oslo_month = df_oslo[df_oslo.index.month == 10]\n",
    "# df_oslo_week = df_oslo_month[df_oslo_month.index.isocalendar().week == 1]\n",
    "df_oslo_day = df_oslo_month[df_oslo_month.index.day == 1]\n",
    "\n",
    "\n",
    "df_oslo_day[\"price\"].sum()/24\n",
    "\n",
    "df_oslo_month.shape\n",
    "\n",
    "24*30.5\n"
   ]
  },
  {
   "cell_type": "code",
   "execution_count": 241,
   "metadata": {},
   "outputs": [
    {
     "data": {
      "text/plain": [
       "744"
      ]
     },
     "execution_count": 241,
     "metadata": {},
     "output_type": "execute_result"
    }
   ],
   "source": [
    "24*31"
   ]
  },
  {
   "cell_type": "code",
   "execution_count": 240,
   "metadata": {},
   "outputs": [
    {
     "data": {
      "text/html": [
       "<div>\n",
       "<style scoped>\n",
       "    .dataframe tbody tr th:only-of-type {\n",
       "        vertical-align: middle;\n",
       "    }\n",
       "\n",
       "    .dataframe tbody tr th {\n",
       "        vertical-align: top;\n",
       "    }\n",
       "\n",
       "    .dataframe thead th {\n",
       "        text-align: right;\n",
       "    }\n",
       "</style>\n",
       "<table border=\"1\" class=\"dataframe\">\n",
       "  <thead>\n",
       "    <tr style=\"text-align: right;\">\n",
       "      <th></th>\n",
       "      <th>price</th>\n",
       "      <th>start_time</th>\n",
       "      <th>end_time</th>\n",
       "      <th>region</th>\n",
       "      <th>hour</th>\n",
       "      <th>peak_hour</th>\n",
       "    </tr>\n",
       "    <tr>\n",
       "      <th>start_time</th>\n",
       "      <th></th>\n",
       "      <th></th>\n",
       "      <th></th>\n",
       "      <th></th>\n",
       "      <th></th>\n",
       "      <th></th>\n",
       "    </tr>\n",
       "  </thead>\n",
       "  <tbody>\n",
       "    <tr>\n",
       "      <th>1</th>\n",
       "      <td>732</td>\n",
       "      <td>732</td>\n",
       "      <td>732</td>\n",
       "      <td>732</td>\n",
       "      <td>732</td>\n",
       "      <td>732</td>\n",
       "    </tr>\n",
       "    <tr>\n",
       "      <th>2</th>\n",
       "      <td>636</td>\n",
       "      <td>636</td>\n",
       "      <td>636</td>\n",
       "      <td>636</td>\n",
       "      <td>636</td>\n",
       "      <td>636</td>\n",
       "    </tr>\n",
       "    <tr>\n",
       "      <th>3</th>\n",
       "      <td>742</td>\n",
       "      <td>742</td>\n",
       "      <td>742</td>\n",
       "      <td>742</td>\n",
       "      <td>742</td>\n",
       "      <td>742</td>\n",
       "    </tr>\n",
       "    <tr>\n",
       "      <th>4</th>\n",
       "      <td>716</td>\n",
       "      <td>716</td>\n",
       "      <td>716</td>\n",
       "      <td>716</td>\n",
       "      <td>716</td>\n",
       "      <td>716</td>\n",
       "    </tr>\n",
       "    <tr>\n",
       "      <th>5</th>\n",
       "      <td>744</td>\n",
       "      <td>744</td>\n",
       "      <td>744</td>\n",
       "      <td>744</td>\n",
       "      <td>744</td>\n",
       "      <td>744</td>\n",
       "    </tr>\n",
       "    <tr>\n",
       "      <th>6</th>\n",
       "      <td>720</td>\n",
       "      <td>720</td>\n",
       "      <td>720</td>\n",
       "      <td>720</td>\n",
       "      <td>720</td>\n",
       "      <td>720</td>\n",
       "    </tr>\n",
       "    <tr>\n",
       "      <th>7</th>\n",
       "      <td>744</td>\n",
       "      <td>744</td>\n",
       "      <td>744</td>\n",
       "      <td>744</td>\n",
       "      <td>744</td>\n",
       "      <td>744</td>\n",
       "    </tr>\n",
       "    <tr>\n",
       "      <th>8</th>\n",
       "      <td>710</td>\n",
       "      <td>710</td>\n",
       "      <td>710</td>\n",
       "      <td>710</td>\n",
       "      <td>710</td>\n",
       "      <td>710</td>\n",
       "    </tr>\n",
       "    <tr>\n",
       "      <th>9</th>\n",
       "      <td>176</td>\n",
       "      <td>176</td>\n",
       "      <td>176</td>\n",
       "      <td>176</td>\n",
       "      <td>176</td>\n",
       "      <td>176</td>\n",
       "    </tr>\n",
       "    <tr>\n",
       "      <th>10</th>\n",
       "      <td>444</td>\n",
       "      <td>444</td>\n",
       "      <td>444</td>\n",
       "      <td>444</td>\n",
       "      <td>444</td>\n",
       "      <td>444</td>\n",
       "    </tr>\n",
       "    <tr>\n",
       "      <th>11</th>\n",
       "      <td>480</td>\n",
       "      <td>480</td>\n",
       "      <td>480</td>\n",
       "      <td>480</td>\n",
       "      <td>480</td>\n",
       "      <td>480</td>\n",
       "    </tr>\n",
       "    <tr>\n",
       "      <th>12</th>\n",
       "      <td>2</td>\n",
       "      <td>2</td>\n",
       "      <td>2</td>\n",
       "      <td>2</td>\n",
       "      <td>2</td>\n",
       "      <td>2</td>\n",
       "    </tr>\n",
       "  </tbody>\n",
       "</table>\n",
       "</div>"
      ],
      "text/plain": [
       "            price  start_time  end_time  region  hour  peak_hour\n",
       "start_time                                                      \n",
       "1             732         732       732     732   732        732\n",
       "2             636         636       636     636   636        636\n",
       "3             742         742       742     742   742        742\n",
       "4             716         716       716     716   716        716\n",
       "5             744         744       744     744   744        744\n",
       "6             720         720       720     720   720        720\n",
       "7             744         744       744     744   744        744\n",
       "8             710         710       710     710   710        710\n",
       "9             176         176       176     176   176        176\n",
       "10            444         444       444     444   444        444\n",
       "11            480         480       480     480   480        480\n",
       "12              2           2         2       2     2          2"
      ]
     },
     "execution_count": 240,
     "metadata": {},
     "output_type": "execute_result"
    }
   ],
   "source": [
    "# Count days in each month \n",
    "df_oslo_month_count = df_oslo.groupby(df_oslo.index.month).count()\n",
    "\n",
    "df_oslo_month_count"
   ]
  },
  {
   "cell_type": "code",
   "execution_count": 243,
   "metadata": {},
   "outputs": [],
   "source": [
    "# Get index for timeslot = 01-01-2018 00:01:00\n",
    "\n",
    "def create_ideal_index(index_start, index_end):\n",
    "    new_index = pd.date_range(start = index_start, end = index_end, freq = \"1H\")\n",
    "    # Convert new_index to string\n",
    "    new_index = [str(x) for x in new_index]\n",
    "    return new_index\n",
    "\n",
    "# Fix timeslot\n",
    "def fix_timeslot(timeslot):\n",
    "    # Pandas convert +01:00 to +02:00\n",
    "    timeslot = pd.to_datetime(timeslot)\n",
    "    timeslot = timeslot.tz_convert(tz = \"UTC\")\n",
    "    # Convert to string\n",
    "    timeslot = str(timeslot)\n",
    "    \n",
    "    return timeslot\n"
   ]
  },
  {
   "cell_type": "code",
   "execution_count": 248,
   "metadata": {},
   "outputs": [],
   "source": [
    "timeslots_for_meter = sorted(df_oslo.index)\n",
    "timeslots_for_meter = [pd.to_datetime(x).tz_convert(\"UTC\").strftime(\"%Y-%m-%d %H:%M:%S+00:00\") for x in timeslots_for_meter]\n",
    "# Get first and last timeslot\n",
    "first_timeslot = fix_timeslot(str(timeslots_for_meter[0]))\n",
    "last_timeslot = fix_timeslot(str(timeslots_for_meter[-1]))\n",
    "\n",
    "# print(\"First timeslot: \", first_timeslot)\n",
    "# print(\"Last timeslot: \", last_timeslot)\n",
    "\n",
    "new_index = create_ideal_index(first_timeslot, last_timeslot)\n",
    "\n",
    "# print(\"New index first timeslot: \", new_index[0])\n",
    "# print(\"New index last timeslot: \", new_index[-1])\n",
    "\n",
    "overlap = list(set(timeslots_for_meter) & set(new_index))\n",
    "missing = list(set(new_index) - set(timeslots_for_meter))\n"
   ]
  },
  {
   "cell_type": "code",
   "execution_count": 258,
   "metadata": {},
   "outputs": [
    {
     "name": "stdout",
     "output_type": "stream",
     "text": [
      "Expected number of hours:  8021\n",
      "Actual number of hours:  6846\n",
      "Missing number of hours:  1176\n",
      "Percentage missing:  0.14661513526991646\n"
     ]
    }
   ],
   "source": [
    "print( \"Expected number of hours: \", len(new_index))\n",
    "print(\"Actual number of hours: \", len(timeslots_for_meter))\n",
    "print(\"Missing number of hours: \", len(missing))\n",
    "print(\"Percentage missing: \", len(missing)/len(new_index))"
   ]
  },
  {
   "cell_type": "code",
   "execution_count": 252,
   "metadata": {},
   "outputs": [
    {
     "data": {
      "text/plain": [
       "6846"
      ]
     },
     "execution_count": 252,
     "metadata": {},
     "output_type": "execute_result"
    }
   ],
   "source": [
    "len(df_oslo)"
   ]
  },
  {
   "cell_type": "code",
   "execution_count": 250,
   "metadata": {},
   "outputs": [
    {
     "data": {
      "text/plain": [
       "1176"
      ]
     },
     "execution_count": 250,
     "metadata": {},
     "output_type": "execute_result"
    }
   ],
   "source": []
  },
  {
   "cell_type": "markdown",
   "metadata": {},
   "source": [
    "Calculate averages"
   ]
  },
  {
   "cell_type": "code",
   "execution_count": 60,
   "metadata": {},
   "outputs": [],
   "source": [
    "#Average over peak_hour\n",
    "df_oslo_avg_peak_hour = df_oslo.groupby([\"peak_hour\"]).mean()[\"price\"]\n",
    "df_oslo_avg_hour = df_oslo.groupby([\"hour\"]).mean()[\"price\"]\n",
    "avg_dict_oslo_hour = df_oslo_avg_hour.to_dict()\n",
    "\n",
    "# df_cons_avg to dict\n",
    "avg_peak_hour_dict = df_oslo_avg_peak_hour.to_dict()\n",
    "\n",
    "hour_lookup_price_dict = {}\n",
    "for hour in all_hours:\n",
    "    if hour in peak_hours:\n",
    "        hour_lookup_price_dict[hour] = avg_peak_hour_dict[1]\n",
    "    elif hour in off_peak_hours:\n",
    "        hour_lookup_price_dict[hour] = avg_peak_hour_dict[0]"
   ]
  },
  {
   "cell_type": "markdown",
   "metadata": {},
   "source": [
    "Save to files"
   ]
  },
  {
   "cell_type": "code",
   "execution_count": 96,
   "metadata": {},
   "outputs": [],
   "source": [
    "with open('data/hour_lookup_price_oslo_2021_dict.json', 'w') as fp:\n",
    "    json.dump(hour_lookup_price_dict, fp)\n",
    "\n",
    "with open('data/hour_lookup_price_oslo_2021_houravg_dict.json', 'w') as fp:\n",
    "    json.dump(avg_dict_oslo_hour, fp)"
   ]
  },
  {
   "cell_type": "markdown",
   "metadata": {},
   "source": [
    "## Analyze prices\n",
    "Descriptive statistics"
   ]
  },
  {
   "cell_type": "code",
   "execution_count": 76,
   "metadata": {},
   "outputs": [
    {
     "data": {
      "text/html": [
       "<div>\n",
       "<style scoped>\n",
       "    .dataframe tbody tr th:only-of-type {\n",
       "        vertical-align: middle;\n",
       "    }\n",
       "\n",
       "    .dataframe tbody tr th {\n",
       "        vertical-align: top;\n",
       "    }\n",
       "\n",
       "    .dataframe thead th {\n",
       "        text-align: right;\n",
       "    }\n",
       "</style>\n",
       "<table border=\"1\" class=\"dataframe\">\n",
       "  <thead>\n",
       "    <tr style=\"text-align: right;\">\n",
       "      <th></th>\n",
       "      <th>Nordpool</th>\n",
       "      <th>gridtx</th>\n",
       "    </tr>\n",
       "  </thead>\n",
       "  <tbody>\n",
       "    <tr>\n",
       "      <th>count</th>\n",
       "      <td>6846.000000</td>\n",
       "      <td>962585.000000</td>\n",
       "    </tr>\n",
       "    <tr>\n",
       "      <th>mean</th>\n",
       "      <td>0.568753</td>\n",
       "      <td>0.743342</td>\n",
       "    </tr>\n",
       "    <tr>\n",
       "      <th>std</th>\n",
       "      <td>0.195522</td>\n",
       "      <td>0.246329</td>\n",
       "    </tr>\n",
       "    <tr>\n",
       "      <th>min</th>\n",
       "      <td>-0.019720</td>\n",
       "      <td>0.028000</td>\n",
       "    </tr>\n",
       "    <tr>\n",
       "      <th>25%</th>\n",
       "      <td>0.426915</td>\n",
       "      <td>0.556000</td>\n",
       "    </tr>\n",
       "    <tr>\n",
       "      <th>50%</th>\n",
       "      <td>0.527470</td>\n",
       "      <td>0.775000</td>\n",
       "    </tr>\n",
       "    <tr>\n",
       "      <th>75%</th>\n",
       "      <td>0.682500</td>\n",
       "      <td>0.910000</td>\n",
       "    </tr>\n",
       "    <tr>\n",
       "      <th>max</th>\n",
       "      <td>0.999620</td>\n",
       "      <td>4.908000</td>\n",
       "    </tr>\n",
       "  </tbody>\n",
       "</table>\n",
       "</div>"
      ],
      "text/plain": [
       "          Nordpool         gridtx\n",
       "count  6846.000000  962585.000000\n",
       "mean      0.568753       0.743342\n",
       "std       0.195522       0.246329\n",
       "min      -0.019720       0.028000\n",
       "25%       0.426915       0.556000\n",
       "50%       0.527470       0.775000\n",
       "75%       0.682500       0.910000\n",
       "max       0.999620       4.908000"
      ]
     },
     "execution_count": 76,
     "metadata": {},
     "output_type": "execute_result"
    }
   ],
   "source": [
    "desc1 = df_oslo[\"price\"].describe()\n",
    "desc2 = df_cons[\"spot_price_no_vat\"].describe()\n",
    "\n",
    "# Merge desc1 and desc2\n",
    "desc = pd.concat([desc1, desc2], axis=1)\n",
    "desc.columns = [\"Nordpool\", \"gridtx\"]\n",
    "desc"
   ]
  },
  {
   "cell_type": "code",
   "execution_count": 108,
   "metadata": {},
   "outputs": [
    {
     "data": {
      "text/plain": [
       "0.2725958333333333"
      ]
     },
     "execution_count": 108,
     "metadata": {},
     "output_type": "execute_result"
    }
   ],
   "source": [
    "df_oslo_month = df_oslo[df_oslo.index.month == 1]\n",
    "# df_oslo_week = df_oslo_month[df_oslo_month.index.isocalendar().week == 1]\n",
    "df_oslo_day = df_oslo_month[df_oslo_month.index.day == 1]\n",
    "\n",
    "\n",
    "# df_oslo_day[\"price\"].sum()/24"
   ]
  },
  {
   "cell_type": "code",
   "execution_count": 95,
   "metadata": {},
   "outputs": [
    {
     "data": {
      "image/png": "[encoded data removed]",
      "text/plain": [
       "<Figure size 432x288 with 1 Axes>"
      ]
     },
     "metadata": {
      "needs_background": "light"
     },
     "output_type": "display_data"
    }
   ],
   "source": [
    "# Plot for one\n",
    "df_oslo_month = df_oslo[df_oslo.index.month == 3]\n",
    "df_oslo_week = df_oslo_month[df_oslo_month.index.isocalendar().week == 1]\n",
    "df_oslo_day = df_oslo_month[df_oslo_month.index.day == 4]\n",
    "df_oslo_day\n",
    "\n",
    "# Plot df_oslo_day\n",
    "# plt.plot(df_oslo_day[\"hour\"], df_oslo_day[\"price\"])\n",
    "\n",
    "\n",
    "plt.clf()\n",
    "# plot title\n",
    "plt.title(\"Average hourly spot price (Nordpool2021 vs. gridtx)\")\n",
    "# x-axis label\n",
    "plt.xlabel(\"Hour of day\")\n",
    "# y-axis label\n",
    "plt.ylabel(\"Spot price (NOK/kWh)\")\n",
    "\n",
    "plt.plot(avg_dict_oslo_hour.keys(), avg_dict_oslo_hour.values(), label=\"Nordpool\")\n",
    "plt.plot(df_cons_avg_hour_dict.keys(), df_cons_avg_hour_dict.values(), label=\"gridtx\")\n",
    "# show labels\n",
    "plt.legend()\n",
    "# show grid\n",
    "plt.grid(True)\n"
   ]
  }
 ],
 "metadata": {
  "interpreter": {
   "hash": "75689878a105dee67c5a2a8f384e2aa8da20bcff148463addcb4797f6b921216"
  },
  "kernelspec": {
   "display_name": "Python 3.8.8 ('venv': venv)",
   "language": "python",
   "name": "python3"
  },
  "language_info": {
   "codemirror_mode": {
    "name": "ipython",
    "version": 3
   },
   "file_extension": ".py",
   "mimetype": "text/x-python",
   "name": "python",
   "nbconvert_exporter": "python",
   "pygments_lexer": "ipython3",
   "version": "3.8.8"
  },
  "orig_nbformat": 4
 },
 "nbformat": 4,
 "nbformat_minor": 2
}
