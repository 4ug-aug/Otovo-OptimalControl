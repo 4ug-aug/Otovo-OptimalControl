{
 "cells": [
  {
   "cell_type": "markdown",
   "metadata": {},
   "source": [
    "# Apply the battery to our data and calculate the cost with and without battery (and logic)"
   ]
  },
  {
   "cell_type": "markdown",
   "metadata": {},
   "source": [
    "## Ready the dataset"
   ]
  },
  {
   "cell_type": "code",
   "execution_count": 152,
   "metadata": {},
   "outputs": [],
   "source": [
    "# Load peak hour price data and meter-id data\n",
    "import pandas as pd\n",
    "import numpy as np\n",
    "import json\n",
    "from matplotlib import pyplot as plt\n",
    "from dateutil.relativedelta import relativedelta\n",
    "# Import battery class \n",
    "from battery import Battery, Battery2\n",
    "\n",
    "# Load production and consumption for the cleaned meters \n",
    "df_prod = pd.read_csv(\"data/gridtx-dump-AGGREGATED-CLEANED-THRESHOLD-COVERAGE100-NORMALIZED-PROD.csv\")\n",
    "df_cons = pd.read_csv(\"data/gridtx-dump-AGGREGATED-CLEANED-THRESHOLD-COVERAGE100-NORMALIZED-CONS.csv\")\n",
    "\n",
    "# Load json file hour_lookup_price.json\n",
    "with open('data/hour_lookup_price_dict.json') as json_file:\n",
    "    hour_lookup_price = json.load(json_file)\n"
   ]
  },
  {
   "cell_type": "code",
   "execution_count": 155,
   "metadata": {},
   "outputs": [],
   "source": [
    "def get_series(meter_id, type=\"prod\", start=None, end=None, agg=None):\n",
    "    \"\"\"Create Series from meter_id and type of data\n",
    "\n",
    "    Args:\n",
    "        meter_id (str): meter-id\n",
    "        type (str, optional): production or consumption of kwh. Defaults to \"prod\".\n",
    "        start (str, optional): timeslot to start series. Defaults to None.\n",
    "        end (str, optional): timeslot to end series. Defaults to None.\n",
    "        agg (str, optional): aggregation of data. One of day, week or month. Defaults to None.\n",
    "\n",
    "    Returns:\n",
    "        pd.series: series of filtered data\n",
    "    \"\"\"\n",
    "\n",
    "    print(\"Getting series for meter_id: {}\".format(meter_id))\n",
    "\n",
    "    # if start not none\n",
    "    if start is not None:\n",
    "        # Convert to datetime\n",
    "        start = pd.to_datetime(start)\n",
    "    \n",
    "    # if end not none\n",
    "    if end is not None:\n",
    "        # Convert to datetime\n",
    "        end = pd.to_datetime(end)\n",
    "\n",
    "    if type == \"prod\":\n",
    "        df_return = df_prod[df_prod[\"meter_id\"] == meter_id]\n",
    "        # Drop all columns but timeslot and num_kwh_normalized\n",
    "        df_return = df_return[['timeslot', 'num_kwh']]\n",
    "        # Set index to timeslot\n",
    "        # Filter on start and end\n",
    "        # Convert timeslot to datetime\n",
    "        df_return[\"timeslot\"] = pd.to_datetime(df_return[\"timeslot\"], utc=True)\n",
    "        if start is not None and end is not None:\n",
    "            print(\"Filtering on start and end: \", start, end)\n",
    "            try:\n",
    "                df_return = df_return[(df_return['timeslot'] >= start) & (df_return['timeslot'] <= end)]\n",
    "            except Exception as e:\n",
    "                print(e)\n",
    "                print(\"No data for this timeslot, timeslot might be incorrect format or out of range:\")\n",
    "                print(\"Format and range for timeslot: \", df_return.index[0], \" \", df_return.index[-1])\n",
    "                print(\"Format for input start: \", start)\n",
    "                print(\"Format for input end: \", end)\n",
    "                pass\n",
    "        elif start is not None:\n",
    "            print(\"Filtering on start: \", start)\n",
    "            try:\n",
    "                df_return = df_return[(df_return['timeslot'] >= start)]\n",
    "            except:\n",
    "                print(\"No data for this timeslot, timeslot might be incorrect format or out of range:\")\n",
    "                print(\"Format and range for timeslot: \", df_return.index[0], \" \", df_return.index[-1])\n",
    "                print(\"Format for input start: \", start)\n",
    "                pass\n",
    "        elif end is not None:\n",
    "            print(\"Filtering on end: \", end)\n",
    "            try:\n",
    "                df_return = df_return[(df_return['timeslot'] <= end)]\n",
    "            except:\n",
    "                print(\"No data for this timeslot, timeslot might be incorrect format or out of range:\")\n",
    "                print(\"Format and range for timeslot: \", df_return.index[0], \" \", df_return.index[-1])\n",
    "                print(\"Format for input end: \", end)\n",
    "                pass\n",
    "\n",
    "    elif type == \"cons\":\n",
    "        df_return = df_cons[df_cons[\"meter_id\"] == meter_id]\n",
    "        # Drop all columns but timeslot and num_kwh_normalized\n",
    "        df_return = df_return[['timeslot', 'num_kwh']]\n",
    "        # Set index to timeslot\n",
    "        # Filter on start and end\n",
    "        # Convert timeslot to datetime\n",
    "        df_return[\"timeslot\"] = pd.to_datetime(df_return[\"timeslot\"], utc=True)\n",
    "        if start is not None and end is not None:\n",
    "            print(\"Filtering on start and end: \", start, end)\n",
    "            try:\n",
    "                df_return = df_return[(df_return['timeslot'] >= start) & (df_return['timeslot'] <= end)]\n",
    "            except Exception as e:\n",
    "                print(e)\n",
    "                print(\"No data for this timeslot, timeslot might be incorrect format or out of range:\")\n",
    "                print(\"Format and range for timeslot: \", df_return.index[0], \" \", df_return.index[-1])\n",
    "                print(\"Format for input start: \", start)\n",
    "                print(\"Format for input end: \", end)\n",
    "                pass\n",
    "        elif start is not None:\n",
    "            print(\"Filtering on start: \", start)\n",
    "            try:\n",
    "                df_return = df_return[(df_return['timeslot'] >= start)]\n",
    "            except:\n",
    "                print(\"No data for this timeslot, timeslot might be incorrect format or out of range:\")\n",
    "                print(\"Format and range for timeslot: \", df_return.index[0], \" \", df_return.index[-1])\n",
    "                print(\"Format for input start: \", start)\n",
    "                pass\n",
    "        elif end is not None:\n",
    "            print(\"Filtering on end: \", end)\n",
    "            try:\n",
    "                df_return = df_return[(df_return['timeslot'] <= end)]\n",
    "            except:\n",
    "                print(\"No data for this timeslot, timeslot might be incorrect format or out of range:\")\n",
    "                print(\"Format and range for timeslot: \", df_return.index[0], \" \", df_return.index[-1])\n",
    "                print(\"Format for input end: \", end)\n",
    "                pass\n",
    "\n",
    "    df_return = df_return.set_index(\"timeslot\").sort_index()\n",
    "\n",
    "    # If agg is not none\n",
    "    if agg is not None:\n",
    "        if agg == \"day\":\n",
    "            df_return = df_return.resample(\"D\").sum()\n",
    "        elif agg == \"week\":\n",
    "            df_return = df_return.resample(\"W\").sum()\n",
    "        elif agg == \"month\":\n",
    "            df_return = df_return.resample(\"M\").sum()\n",
    "        else:\n",
    "            print(\"Aggregation not supported\")\n",
    "            return None\n",
    "\n",
    "    # Return series\n",
    "    return df_return"
   ]
  },
  {
   "cell_type": "code",
   "execution_count": 156,
   "metadata": {},
   "outputs": [
    {
     "name": "stdout",
     "output_type": "stream",
     "text": [
      "Getting series for meter_id: 28ba7f57-6e83-4341-8078-232c1639e4e3\n",
      "Filtering on start and end:  2016-09-04 22:00:00+00:00 2019-05-14 21:00:00+00:00\n",
      "Getting series for meter_id: 28ba7f57-6e83-4341-8078-232c1639e4e3\n",
      "Filtering on start and end:  2016-09-04 22:00:00+00:00 2019-05-14 21:00:00+00:00\n"
     ]
    }
   ],
   "source": [
    "# Choose the meter id with the most observations\n",
    "meter_id = \"28ba7f57-6e83-4341-8078-232c1639e4e3\"\n",
    "\n",
    "series_prod = get_series(meter_id, \"prod\", start=\"2016-09-04 22:00:00+00:00\", end = \"2019-05-14 21:00:00+00:00\")\n",
    "series_cons = get_series(meter_id, \"cons\", start=\"2016-09-04 22:00:00+00:00\", end = \"2019-05-14 21:00:00+00:00\")"
   ]
  },
  {
   "cell_type": "code",
   "execution_count": 157,
   "metadata": {},
   "outputs": [
    {
     "data": {
      "text/html": [
       "<div>\n",
       "<style scoped>\n",
       "    .dataframe tbody tr th:only-of-type {\n",
       "        vertical-align: middle;\n",
       "    }\n",
       "\n",
       "    .dataframe tbody tr th {\n",
       "        vertical-align: top;\n",
       "    }\n",
       "\n",
       "    .dataframe thead th {\n",
       "        text-align: right;\n",
       "    }\n",
       "</style>\n",
       "<table border=\"1\" class=\"dataframe\">\n",
       "  <thead>\n",
       "    <tr style=\"text-align: right;\">\n",
       "      <th></th>\n",
       "      <th>num_kwh_prod</th>\n",
       "      <th>num_kwh_cons</th>\n",
       "      <th>power_yield</th>\n",
       "      <th>timeslot</th>\n",
       "    </tr>\n",
       "  </thead>\n",
       "  <tbody>\n",
       "    <tr>\n",
       "      <th>0</th>\n",
       "      <td>0.0</td>\n",
       "      <td>0.0</td>\n",
       "      <td>0.0</td>\n",
       "      <td>2016-09-04 22:00:00+00:00</td>\n",
       "    </tr>\n",
       "    <tr>\n",
       "      <th>1</th>\n",
       "      <td>0.0</td>\n",
       "      <td>2.0</td>\n",
       "      <td>-2.0</td>\n",
       "      <td>2016-09-04 23:00:00+00:00</td>\n",
       "    </tr>\n",
       "    <tr>\n",
       "      <th>2</th>\n",
       "      <td>0.0</td>\n",
       "      <td>1.0</td>\n",
       "      <td>-1.0</td>\n",
       "      <td>2016-09-05 00:00:00+00:00</td>\n",
       "    </tr>\n",
       "    <tr>\n",
       "      <th>3</th>\n",
       "      <td>0.0</td>\n",
       "      <td>1.0</td>\n",
       "      <td>-1.0</td>\n",
       "      <td>2016-09-05 01:00:00+00:00</td>\n",
       "    </tr>\n",
       "    <tr>\n",
       "      <th>4</th>\n",
       "      <td>0.0</td>\n",
       "      <td>1.0</td>\n",
       "      <td>-1.0</td>\n",
       "      <td>2016-09-05 02:00:00+00:00</td>\n",
       "    </tr>\n",
       "  </tbody>\n",
       "</table>\n",
       "</div>"
      ],
      "text/plain": [
       "   num_kwh_prod  num_kwh_cons  power_yield                  timeslot\n",
       "0           0.0           0.0          0.0 2016-09-04 22:00:00+00:00\n",
       "1           0.0           2.0         -2.0 2016-09-04 23:00:00+00:00\n",
       "2           0.0           1.0         -1.0 2016-09-05 00:00:00+00:00\n",
       "3           0.0           1.0         -1.0 2016-09-05 01:00:00+00:00\n",
       "4           0.0           1.0         -1.0 2016-09-05 02:00:00+00:00"
      ]
     },
     "execution_count": 157,
     "metadata": {},
     "output_type": "execute_result"
    }
   ],
   "source": [
    "# Merge series\n",
    "series_merge = pd.merge(series_prod, series_cons, how=\"outer\", left_index=True, right_index=True)\n",
    "# Rename num_kwh_normalized_x and num_kwh_normalized_y\n",
    "series_merge.columns = [\"num_kwh_prod\", \"num_kwh_cons\"]\n",
    "\n",
    "# Add column called power_yield with the difference between prod and cons\n",
    "series_merge[\"power_yield\"] = series_merge[\"num_kwh_prod\"] - series_merge[\"num_kwh_cons\"]\n",
    "# add column current index as timeslot and reset index\n",
    "series_merge[\"timeslot\"] = series_merge.index\n",
    "series_merge = series_merge.reset_index(drop=True)\n",
    "\n",
    "series_merge.head()"
   ]
  },
  {
   "cell_type": "markdown",
   "metadata": {},
   "source": [
    "## Plot"
   ]
  },
  {
   "cell_type": "code",
   "execution_count": 163,
   "metadata": {},
   "outputs": [],
   "source": [
    "def moving_average(timeseries, window):\n",
    "    \"\"\"Calculate the moving average of a timeseries.\n",
    "\n",
    "    Args:\n",
    "        timeseries (pd.Series): timeseries\n",
    "        window (int): Window size\n",
    "\n",
    "    Returns:\n",
    "        pd.Series: Smoothened timeseries\n",
    "    \"\"\"\n",
    "    return timeseries.rolling(window=window, center=True).mean()"
   ]
  },
  {
   "cell_type": "markdown",
   "metadata": {},
   "source": [
    "## Battery logic rollout"
   ]
  },
  {
   "cell_type": "code",
   "execution_count": 70,
   "metadata": {},
   "outputs": [],
   "source": [
    "peak_hours = list(range(6,19))"
   ]
  },
  {
   "cell_type": "code",
   "execution_count": 136,
   "metadata": {},
   "outputs": [],
   "source": [
    "# Load json file hour_lookup_price.json\n",
    "with open('data/hour_lookup_price_dict.json') as json_file:\n",
    "    hour_lookup_price = json.load(json_file)\n",
    "\n",
    "def logic_rollout(series_battery, battery, logic, get_price):\n",
    "    \"\"\"Battery logic rollout\n",
    "\n",
    "    Args:\n",
    "        series_battery (DataFrame): time series of battery\n",
    "        battery (object): Battery object \n",
    "        logic (funct): Logic function applied to the row\n",
    "        get_price (funct): Get price function\n",
    "\n",
    "    Returns:\n",
    "        DataFrame: Time series datafram with applied logic and price\n",
    "    \"\"\"\n",
    "    series_battery = series_battery.apply(lambda row: logic(row, battery), axis=1)\n",
    "    series_battery[\"price\"] = series_battery.apply(lambda row: get_price(row[\"surplus_deficit\"], row[\"timeslot\"]), axis=1)\n",
    "    series_battery[\"price_cummulative\"] = series_battery[\"price\"].cumsum(axis=0)\n",
    "    return series_battery\n",
    "\n",
    "\n",
    "# Definge get price function   \n",
    "def get_price(demand, timestamp):\n",
    "    \"\"\"Get price function\n",
    "\n",
    "    Args:\n",
    "        demand (float): Power demand\n",
    "        hour (int): Hour of the day to make price lookup\n",
    "\n",
    "    Returns:\n",
    "        float: Price \n",
    "    \"\"\"\n",
    "\n",
    "    # Update hour_lookup_price by multiplying peak_hours by 8\n",
    "    # for key, value in hour_lookup_price.items():\n",
    "    #     if int(key) in peak_hours:\n",
    "    #         hour_lookup_price[key] = value * 1.8\n",
    "\n",
    "    if demand >= 0:\n",
    "        # Selling price \n",
    "        return -demand * hour_lookup_price[str(365 if timestamp.dayofyear == 366 else timestamp.dayofyear)][str(timestamp.hour)]*0.1\n",
    "        # For leap year, assume that day 366 of year is 365\n",
    "    else:\n",
    "        # Buying price\n",
    "        return -demand * hour_lookup_price[str(365 if timestamp.dayofyear == 366 else timestamp.dayofyear)][str(timestamp.hour)]\n",
    "\n",
    "\n",
    "def print_price_summary(series_battery):\n",
    "    start, end = series_battery[\"timeslot\"].iloc[0], series_battery[\"timeslot\"].iloc[-1]\n",
    "    difference_in_years = relativedelta(end, start).years\n",
    "    print(f\"Cost for period: {start} to {end} is: \", round(series_battery[\"price\"].sum(), 0), \" NOK without VAT\")\n",
    "    num_wh_total = series_battery[\"surplus_deficit\"].sum() // 1\n",
    "\n",
    "\n",
    "    time_delta_seconds =  (end-start).total_seconds()\n",
    "    years_timedelta = time_delta_seconds/(365.25*24*60*60)\n",
    "    print(f\"Average cost per year is: {round(series_battery['price'].sum()/years_timedelta,0)} NOK without VAT\")\n",
    "\n",
    "    print(f\"Number of kwh purchased in the period: {-num_wh_total}\")\n",
    "\n",
    "    print(f\"Average number of kwh purchased per year: {-num_wh_total/years_timedelta}\")\n"
   ]
  },
  {
   "cell_type": "markdown",
   "metadata": {},
   "source": [
    "## Calculate Cost without battery\n",
    "Define battery with a capacity of 0 (no battery) and logic function"
   ]
  },
  {
   "cell_type": "code",
   "execution_count": 127,
   "metadata": {},
   "outputs": [],
   "source": [
    "# Define battery with capcacity 0, same as no battery\n",
    "battery = Battery(0)\n",
    "\n",
    "# Define logic, in this case it does nothing\n",
    "def logic(row, battery):\n",
    "    power_yield = row[\"power_yield\"]\n",
    "    battery.charge(power_yield)\n",
    "\n",
    "    row[\"battery_capacity\"] = battery.get_current_capacity()\n",
    "    row[\"surplus_deficit\"] = battery.get_surplus_deficit()\n",
    "    return row\n",
    "\n"
   ]
  },
  {
   "cell_type": "code",
   "execution_count": 128,
   "metadata": {},
   "outputs": [],
   "source": [
    "# Logic rollout \n",
    "series_no_battery = logic_rollout(series_merge.copy(), battery, logic, get_price)"
   ]
  },
  {
   "cell_type": "code",
   "execution_count": 129,
   "metadata": {},
   "outputs": [
    {
     "name": "stdout",
     "output_type": "stream",
     "text": [
      "7005.739\n",
      "-83595.10500000001\n"
     ]
    }
   ],
   "source": [
    "print(series_no_battery[series_no_battery[\"power_yield\"] > 0][\"power_yield\"].sum())\n",
    "print(series_no_battery[series_no_battery[\"power_yield\"] < 0][\"power_yield\"].sum())"
   ]
  },
  {
   "cell_type": "markdown",
   "metadata": {},
   "source": [
    "Summary of cost"
   ]
  },
  {
   "cell_type": "code",
   "execution_count": 130,
   "metadata": {},
   "outputs": [
    {
     "name": "stdout",
     "output_type": "stream",
     "text": [
      "Cost for period: 2016-09-04 22:00:00+00:00 to 2019-05-14 21:00:00+00:00 is:  46969.0  NOK without VAT\n",
      "Average cost per year is: 17471.0 NOK without VAT\n",
      "Number of kwh purchased in the period: 76590.0\n",
      "Average number of kwh purchased per year: 28488.477107820254\n"
     ]
    }
   ],
   "source": [
    "print_price_summary(series_no_battery)"
   ]
  },
  {
   "cell_type": "markdown",
   "metadata": {},
   "source": [
    "## Calculate Cost with battery with simple logic\n",
    "Charge battery when in surplus, use from battery when in deficit"
   ]
  },
  {
   "cell_type": "code",
   "execution_count": 131,
   "metadata": {},
   "outputs": [],
   "source": [
    "simple_logic_capacity = 12\n",
    "# Define battery with capcacity\n",
    "battery = Battery(max_capacity=simple_logic_capacity)\n",
    "\n",
    "# Define logic charge/discharge battery if needed\n",
    "def logic(row, battery):\n",
    "    power_yield = row[\"power_yield\"]\n",
    "    battery.charge(power_yield)\n",
    "\n",
    "    row[\"battery_capacity\"] = battery.get_current_capacity()\n",
    "    row[\"surplus_deficit\"] = battery.get_surplus_deficit()\n",
    "    return row"
   ]
  },
  {
   "cell_type": "code",
   "execution_count": 132,
   "metadata": {},
   "outputs": [],
   "source": [
    "# Logic rollout \n",
    "series_battery = logic_rollout(series_merge.copy(), battery, logic, get_price)"
   ]
  },
  {
   "cell_type": "code",
   "execution_count": 135,
   "metadata": {},
   "outputs": [
    {
     "name": "stdout",
     "output_type": "stream",
     "text": [
      "Cost for period: 2016-09-04 22:00:00+00:00 to 2019-05-14 21:00:00+00:00 is:  45324.0  NOK without VAT\n",
      "Average cost per year is: 16859.0 NOK without VAT\n",
      "Number of kwh purchased in the period: 76590.0\n",
      "Average number of kwh purchased per year: 28488.477107820254\n"
     ]
    }
   ],
   "source": [
    "print_price_summary(series_battery)"
   ]
  },
  {
   "cell_type": "code",
   "execution_count": 133,
   "metadata": {},
   "outputs": [
    {
     "ename": "KeyError",
     "evalue": "'num_kwh_prod'",
     "output_type": "error",
     "traceback": [
      "\u001b[1;31m---------------------------------------------------------------------------\u001b[0m",
      "\u001b[1;31mKeyError\u001b[0m                                  Traceback (most recent call last)",
      "File \u001b[1;32mc:\\Users\\andre\\OneDrive - Danmarks Tekniske Universitet\\02466 Project work - Bachelor of Artificial Intelligence and Data\\Project-Work---Bsc.-AIDS\\venv\\lib\\site-packages\\pandas\\core\\indexes\\base.py:3621\u001b[0m, in \u001b[0;36mIndex.get_loc\u001b[1;34m(self, key, method, tolerance)\u001b[0m\n\u001b[0;32m   <a href='file:///c%3A/Users/andre/OneDrive%20-%20Danmarks%20Tekniske%20Universitet/02466%20Project%20work%20-%20Bachelor%20of%20Artificial%20Intelligence%20and%20Data/Project-Work---Bsc.-AIDS/venv/lib/site-packages/pandas/core/indexes/base.py?line=3619'>3620</a>\u001b[0m \u001b[39mtry\u001b[39;00m:\n\u001b[1;32m-> <a href='file:///c%3A/Users/andre/OneDrive%20-%20Danmarks%20Tekniske%20Universitet/02466%20Project%20work%20-%20Bachelor%20of%20Artificial%20Intelligence%20and%20Data/Project-Work---Bsc.-AIDS/venv/lib/site-packages/pandas/core/indexes/base.py?line=3620'>3621</a>\u001b[0m     \u001b[39mreturn\u001b[39;00m \u001b[39mself\u001b[39;49m\u001b[39m.\u001b[39;49m_engine\u001b[39m.\u001b[39;49mget_loc(casted_key)\n\u001b[0;32m   <a href='file:///c%3A/Users/andre/OneDrive%20-%20Danmarks%20Tekniske%20Universitet/02466%20Project%20work%20-%20Bachelor%20of%20Artificial%20Intelligence%20and%20Data/Project-Work---Bsc.-AIDS/venv/lib/site-packages/pandas/core/indexes/base.py?line=3621'>3622</a>\u001b[0m \u001b[39mexcept\u001b[39;00m \u001b[39mKeyError\u001b[39;00m \u001b[39mas\u001b[39;00m err:\n",
      "File \u001b[1;32mc:\\Users\\andre\\OneDrive - Danmarks Tekniske Universitet\\02466 Project work - Bachelor of Artificial Intelligence and Data\\Project-Work---Bsc.-AIDS\\venv\\lib\\site-packages\\pandas\\_libs\\index.pyx:136\u001b[0m, in \u001b[0;36mpandas._libs.index.IndexEngine.get_loc\u001b[1;34m()\u001b[0m\n",
      "File \u001b[1;32mc:\\Users\\andre\\OneDrive - Danmarks Tekniske Universitet\\02466 Project work - Bachelor of Artificial Intelligence and Data\\Project-Work---Bsc.-AIDS\\venv\\lib\\site-packages\\pandas\\_libs\\index.pyx:163\u001b[0m, in \u001b[0;36mpandas._libs.index.IndexEngine.get_loc\u001b[1;34m()\u001b[0m\n",
      "File \u001b[1;32mpandas\\_libs\\hashtable_class_helper.pxi:5198\u001b[0m, in \u001b[0;36mpandas._libs.hashtable.PyObjectHashTable.get_item\u001b[1;34m()\u001b[0m\n",
      "File \u001b[1;32mpandas\\_libs\\hashtable_class_helper.pxi:5206\u001b[0m, in \u001b[0;36mpandas._libs.hashtable.PyObjectHashTable.get_item\u001b[1;34m()\u001b[0m\n",
      "\u001b[1;31mKeyError\u001b[0m: 'num_kwh_prod'",
      "\nThe above exception was the direct cause of the following exception:\n",
      "\u001b[1;31mKeyError\u001b[0m                                  Traceback (most recent call last)",
      "\u001b[1;32mc:\\Users\\andre\\OneDrive - Danmarks Tekniske Universitet\\02466 Project work - Bachelor of Artificial Intelligence and Data\\Project-Work---Bsc.-AIDS\\apply_battery.ipynb Cell 22'\u001b[0m in \u001b[0;36m<cell line: 2>\u001b[1;34m()\u001b[0m\n\u001b[0;32m      <a href='vscode-notebook-cell:/c%3A/Users/andre/OneDrive%20-%20Danmarks%20Tekniske%20Universitet/02466%20Project%20work%20-%20Bachelor%20of%20Artificial%20Intelligence%20and%20Data/Project-Work---Bsc.-AIDS/apply_battery.ipynb#ch0000044?line=0'>1</a>\u001b[0m \u001b[39m# plot series_prod num_kwh\u001b[39;00m\n\u001b[1;32m----> <a href='vscode-notebook-cell:/c%3A/Users/andre/OneDrive%20-%20Danmarks%20Tekniske%20Universitet/02466%20Project%20work%20-%20Bachelor%20of%20Artificial%20Intelligence%20and%20Data/Project-Work---Bsc.-AIDS/apply_battery.ipynb#ch0000044?line=1'>2</a>\u001b[0m series_prod[\u001b[39m\"\u001b[39;49m\u001b[39mnum_kwh_prod\u001b[39;49m\u001b[39m\"\u001b[39;49m]\u001b[39m.\u001b[39mplot(label\u001b[39m=\u001b[39m\u001b[39m\"\u001b[39m\u001b[39mnum_kwh_prod\u001b[39m\u001b[39m\"\u001b[39m)\n\u001b[0;32m      <a href='vscode-notebook-cell:/c%3A/Users/andre/OneDrive%20-%20Danmarks%20Tekniske%20Universitet/02466%20Project%20work%20-%20Bachelor%20of%20Artificial%20Intelligence%20and%20Data/Project-Work---Bsc.-AIDS/apply_battery.ipynb#ch0000044?line=3'>4</a>\u001b[0m plt\u001b[39m.\u001b[39mshow()\n",
      "File \u001b[1;32mc:\\Users\\andre\\OneDrive - Danmarks Tekniske Universitet\\02466 Project work - Bachelor of Artificial Intelligence and Data\\Project-Work---Bsc.-AIDS\\venv\\lib\\site-packages\\pandas\\core\\frame.py:3505\u001b[0m, in \u001b[0;36mDataFrame.__getitem__\u001b[1;34m(self, key)\u001b[0m\n\u001b[0;32m   <a href='file:///c%3A/Users/andre/OneDrive%20-%20Danmarks%20Tekniske%20Universitet/02466%20Project%20work%20-%20Bachelor%20of%20Artificial%20Intelligence%20and%20Data/Project-Work---Bsc.-AIDS/venv/lib/site-packages/pandas/core/frame.py?line=3502'>3503</a>\u001b[0m \u001b[39mif\u001b[39;00m \u001b[39mself\u001b[39m\u001b[39m.\u001b[39mcolumns\u001b[39m.\u001b[39mnlevels \u001b[39m>\u001b[39m \u001b[39m1\u001b[39m:\n\u001b[0;32m   <a href='file:///c%3A/Users/andre/OneDrive%20-%20Danmarks%20Tekniske%20Universitet/02466%20Project%20work%20-%20Bachelor%20of%20Artificial%20Intelligence%20and%20Data/Project-Work---Bsc.-AIDS/venv/lib/site-packages/pandas/core/frame.py?line=3503'>3504</a>\u001b[0m     \u001b[39mreturn\u001b[39;00m \u001b[39mself\u001b[39m\u001b[39m.\u001b[39m_getitem_multilevel(key)\n\u001b[1;32m-> <a href='file:///c%3A/Users/andre/OneDrive%20-%20Danmarks%20Tekniske%20Universitet/02466%20Project%20work%20-%20Bachelor%20of%20Artificial%20Intelligence%20and%20Data/Project-Work---Bsc.-AIDS/venv/lib/site-packages/pandas/core/frame.py?line=3504'>3505</a>\u001b[0m indexer \u001b[39m=\u001b[39m \u001b[39mself\u001b[39;49m\u001b[39m.\u001b[39;49mcolumns\u001b[39m.\u001b[39;49mget_loc(key)\n\u001b[0;32m   <a href='file:///c%3A/Users/andre/OneDrive%20-%20Danmarks%20Tekniske%20Universitet/02466%20Project%20work%20-%20Bachelor%20of%20Artificial%20Intelligence%20and%20Data/Project-Work---Bsc.-AIDS/venv/lib/site-packages/pandas/core/frame.py?line=3505'>3506</a>\u001b[0m \u001b[39mif\u001b[39;00m is_integer(indexer):\n\u001b[0;32m   <a href='file:///c%3A/Users/andre/OneDrive%20-%20Danmarks%20Tekniske%20Universitet/02466%20Project%20work%20-%20Bachelor%20of%20Artificial%20Intelligence%20and%20Data/Project-Work---Bsc.-AIDS/venv/lib/site-packages/pandas/core/frame.py?line=3506'>3507</a>\u001b[0m     indexer \u001b[39m=\u001b[39m [indexer]\n",
      "File \u001b[1;32mc:\\Users\\andre\\OneDrive - Danmarks Tekniske Universitet\\02466 Project work - Bachelor of Artificial Intelligence and Data\\Project-Work---Bsc.-AIDS\\venv\\lib\\site-packages\\pandas\\core\\indexes\\base.py:3623\u001b[0m, in \u001b[0;36mIndex.get_loc\u001b[1;34m(self, key, method, tolerance)\u001b[0m\n\u001b[0;32m   <a href='file:///c%3A/Users/andre/OneDrive%20-%20Danmarks%20Tekniske%20Universitet/02466%20Project%20work%20-%20Bachelor%20of%20Artificial%20Intelligence%20and%20Data/Project-Work---Bsc.-AIDS/venv/lib/site-packages/pandas/core/indexes/base.py?line=3620'>3621</a>\u001b[0m     \u001b[39mreturn\u001b[39;00m \u001b[39mself\u001b[39m\u001b[39m.\u001b[39m_engine\u001b[39m.\u001b[39mget_loc(casted_key)\n\u001b[0;32m   <a href='file:///c%3A/Users/andre/OneDrive%20-%20Danmarks%20Tekniske%20Universitet/02466%20Project%20work%20-%20Bachelor%20of%20Artificial%20Intelligence%20and%20Data/Project-Work---Bsc.-AIDS/venv/lib/site-packages/pandas/core/indexes/base.py?line=3621'>3622</a>\u001b[0m \u001b[39mexcept\u001b[39;00m \u001b[39mKeyError\u001b[39;00m \u001b[39mas\u001b[39;00m err:\n\u001b[1;32m-> <a href='file:///c%3A/Users/andre/OneDrive%20-%20Danmarks%20Tekniske%20Universitet/02466%20Project%20work%20-%20Bachelor%20of%20Artificial%20Intelligence%20and%20Data/Project-Work---Bsc.-AIDS/venv/lib/site-packages/pandas/core/indexes/base.py?line=3622'>3623</a>\u001b[0m     \u001b[39mraise\u001b[39;00m \u001b[39mKeyError\u001b[39;00m(key) \u001b[39mfrom\u001b[39;00m \u001b[39merr\u001b[39;00m\n\u001b[0;32m   <a href='file:///c%3A/Users/andre/OneDrive%20-%20Danmarks%20Tekniske%20Universitet/02466%20Project%20work%20-%20Bachelor%20of%20Artificial%20Intelligence%20and%20Data/Project-Work---Bsc.-AIDS/venv/lib/site-packages/pandas/core/indexes/base.py?line=3623'>3624</a>\u001b[0m \u001b[39mexcept\u001b[39;00m \u001b[39mTypeError\u001b[39;00m:\n\u001b[0;32m   <a href='file:///c%3A/Users/andre/OneDrive%20-%20Danmarks%20Tekniske%20Universitet/02466%20Project%20work%20-%20Bachelor%20of%20Artificial%20Intelligence%20and%20Data/Project-Work---Bsc.-AIDS/venv/lib/site-packages/pandas/core/indexes/base.py?line=3624'>3625</a>\u001b[0m     \u001b[39m# If we have a listlike key, _check_indexing_error will raise\u001b[39;00m\n\u001b[0;32m   <a href='file:///c%3A/Users/andre/OneDrive%20-%20Danmarks%20Tekniske%20Universitet/02466%20Project%20work%20-%20Bachelor%20of%20Artificial%20Intelligence%20and%20Data/Project-Work---Bsc.-AIDS/venv/lib/site-packages/pandas/core/indexes/base.py?line=3625'>3626</a>\u001b[0m     \u001b[39m#  InvalidIndexError. Otherwise we fall through and re-raise\u001b[39;00m\n\u001b[0;32m   <a href='file:///c%3A/Users/andre/OneDrive%20-%20Danmarks%20Tekniske%20Universitet/02466%20Project%20work%20-%20Bachelor%20of%20Artificial%20Intelligence%20and%20Data/Project-Work---Bsc.-AIDS/venv/lib/site-packages/pandas/core/indexes/base.py?line=3626'>3627</a>\u001b[0m     \u001b[39m#  the TypeError.\u001b[39;00m\n\u001b[0;32m   <a href='file:///c%3A/Users/andre/OneDrive%20-%20Danmarks%20Tekniske%20Universitet/02466%20Project%20work%20-%20Bachelor%20of%20Artificial%20Intelligence%20and%20Data/Project-Work---Bsc.-AIDS/venv/lib/site-packages/pandas/core/indexes/base.py?line=3627'>3628</a>\u001b[0m     \u001b[39mself\u001b[39m\u001b[39m.\u001b[39m_check_indexing_error(key)\n",
      "\u001b[1;31mKeyError\u001b[0m: 'num_kwh_prod'"
     ]
    }
   ],
   "source": [
    "# plot series_prod num_kwh\n",
    "series_prod[\"num_kwh_prod\"].plot(label=\"num_kwh_prod\")\n",
    "\n",
    "plt.show()"
   ]
  },
  {
   "cell_type": "code",
   "execution_count": 99,
   "metadata": {},
   "outputs": [
    {
     "data": {
      "image/png": "[encoded data removed]",
      "text/plain": [
       "<Figure size 864x432 with 1 Axes>"
      ]
     },
     "metadata": {},
     "output_type": "display_data"
    }
   ],
   "source": [
    "# plot battery capacity and power yield in same plot with plotly\n",
    "import seaborn as sns\n",
    "sns.set()\n",
    "\n",
    "fig, ax = plt.subplots(figsize=(12, 6))\n",
    "ax.plot(series_battery[\"timeslot\"], series_battery[\"battery_capacity\"], label=\"Battery capacity\", alpha=0.75)\n",
    "ax.plot(series_battery[\"timeslot\"], series_battery[\"power_yield\"], label=\"Power yield\", alpha=0.5)\n",
    "ax.plot(series_battery[\"timeslot\"], series_battery[\"surplus_deficit\"], label=\"Surplus Deficit\", alpha=0.75)\n",
    "ax.legend()\n",
    "plt.show()"
   ]
  },
  {
   "cell_type": "code",
   "execution_count": null,
   "metadata": {},
   "outputs": [],
   "source": []
  },
  {
   "cell_type": "markdown",
   "metadata": {},
   "source": [
    "## Estimate cost with battery and with logic"
   ]
  },
  {
   "cell_type": "markdown",
   "metadata": {},
   "source": [
    "if next hour's estimated cost is higher than our current - we wait discharging our battery"
   ]
  },
  {
   "cell_type": "code",
   "execution_count": 137,
   "metadata": {},
   "outputs": [],
   "source": [
    "# Initialise battery\n",
    "battery = Battery(max_capacity=12)\n",
    "\n",
    "# Define logic \n",
    "def price_optimisation_logic(row, battery):\n",
    "\n",
    "    power_yield = row[\"power_yield\"]\n",
    "    hour = row[\"timeslot\"].hour\n",
    "\n",
    "\n",
    "    # if hour is in peak hours we sell all the power we have and produce\n",
    "    if hour in peak_hours:\n",
    "        if power_yield >= 0:\n",
    "            current_charge = battery.get_current_capacity()\n",
    "            current_charge += power_yield\n",
    "            battery.current_capacity = 0\n",
    "            row[\"surplus_deficit\"] = current_charge\n",
    "        else:\n",
    "            battery.charge(power_yield)\n",
    "            surplus = battery.get_surplus_deficit()\n",
    "            if surplus >= 0:\n",
    "                remaining_capacity = battery.get_current_capacity()\n",
    "                battery.current_capacity = 0\n",
    "                row[\"surplus_deficit\"] = remaining_capacity\n",
    "            else:\n",
    "                row[\"surplus_deficit\"] = battery.get_surplus_deficit()\n",
    "    else:\n",
    "        if power_yield >= 0:\n",
    "            battery.charge(power_yield)\n",
    "            if battery.get_current_capacity() != battery.get_max_capacity():\n",
    "                buy = -(battery.get_max_capacity() - battery.get_current_capacity())\n",
    "                battery.current_capacity = battery.get_max_capacity()\n",
    "\n",
    "                row[\"surplus_deficit\"] = buy\n",
    "            else:\n",
    "                row[\"surplus_deficit\"] = battery.get_surplus_deficit()\n",
    "\n",
    "        else:\n",
    "            row[\"surplus_deficit\"] = power_yield - (battery.get_max_capacity() - battery.get_current_capacity())\n",
    "    \n",
    "    row[\"battery_capacity\"] = battery.get_current_capacity()\n",
    "    return row"
   ]
  },
  {
   "cell_type": "code",
   "execution_count": 81,
   "metadata": {},
   "outputs": [],
   "source": [
    "series_battery_logic = logic_rollout(series_merge.copy(), battery, price_optimisation_logic, get_price)"
   ]
  },
  {
   "cell_type": "code",
   "execution_count": 82,
   "metadata": {},
   "outputs": [
    {
     "name": "stdout",
     "output_type": "stream",
     "text": [
      "Cost for period: 2016-09-04 22:00:00+00:00 to 2019-05-14 21:00:00+00:00 is:  142368.0  NOK without VAT\n",
      "Average cost per year is: 52955.0 NOK without VAT\n",
      "Number of kwh purchased in the period: 190698.0\n",
      "Average number of kwh purchased per year: 70932.1792336742\n"
     ]
    }
   ],
   "source": [
    "print_price_summary(series_battery_logic)"
   ]
  },
  {
   "cell_type": "code",
   "execution_count": 83,
   "metadata": {},
   "outputs": [
    {
     "data": {
      "image/png": "[encoded data removed]",
      "text/plain": [
       "<Figure size 864x432 with 1 Axes>"
      ]
     },
     "metadata": {},
     "output_type": "display_data"
    }
   ],
   "source": [
    "import seaborn as sns\n",
    "sns.set()\n",
    "fig, ax = plt.subplots(figsize=(12, 6))\n",
    "# ax.plot(series_battery_logic[\"timeslot\"], series_battery_logic[\"battery_capacity\"], label=\"Battery capacity\")\n",
    "ax.plot(series_battery_logic[\"timeslot\"], series_battery_logic[\"power_yield\"], label=\"Power yield\")\n",
    "ax.plot(series_battery_logic[\"timeslot\"], series_battery_logic[\"surplus_deficit\"], label=\"Beyond Battery Capacity\")\n",
    "ax.legend()\n",
    "plt.show()"
   ]
  },
  {
   "cell_type": "markdown",
   "metadata": {},
   "source": [
    "# Tariff optimisation"
   ]
  },
  {
   "cell_type": "code",
   "execution_count": 139,
   "metadata": {},
   "outputs": [],
   "source": [
    "# Initialise battery\n",
    "battery = Battery(max_capacity=12)\n",
    "\n",
    "# Define logic \n",
    "def tariff_optimisation_logic(row, battery):\n",
    "\n",
    "    power_yield = row[\"power_yield\"]\n",
    "    hour = row[\"timeslot\"].hour\n",
    "    deficit = power_yield < 0\n",
    "\n",
    "\n",
    "    # If production\n",
    "    if power_yield >= 0:\n",
    "        # Charge battery with surplus\n",
    "        battery.charge(power_yield)\n",
    "\n",
    "\n",
    "    # If we are in peak hours\n",
    "    if hour in peak_hours:\n",
    "        # Discharge battery if deficit\n",
    "        if deficit:\n",
    "            battery.charge(power_yield)\n",
    "    else: \n",
    "\n",
    "        # Initialise power_to_buy to 0\n",
    "        power_to_buy = 0\n",
    "        # If battery is not fully charged \n",
    "        if battery.get_current_capacity() != battery.get_max_capacity():\n",
    "            # Charge battery\n",
    "            power_to_buy = battery.get_max_capacity() - battery.get_current_capacity()\n",
    "            battery.charge(power_to_buy) \n",
    "\n",
    "\n",
    "        if deficit: \n",
    "            if deficit:\n",
    "                battery.surplus_deficit = -power_to_buy + power_yield\n",
    "            else: \n",
    "                battery.surplus_deficit = -power_to_buy\n",
    "\n",
    "\n",
    "    row[\"surplus_deficit\"] = battery.get_surplus_deficit()\n",
    "    row[\"battery_capacity\"] = battery.get_current_capacity()\n",
    "\n",
    "    return row"
   ]
  },
  {
   "cell_type": "code",
   "execution_count": 140,
   "metadata": {},
   "outputs": [],
   "source": [
    "series_battery_logic_TO = logic_rollout(series_merge.copy(), battery, tariff_optimisation_logic, get_price)"
   ]
  },
  {
   "cell_type": "code",
   "execution_count": 141,
   "metadata": {},
   "outputs": [
    {
     "name": "stdout",
     "output_type": "stream",
     "text": [
      "Cost for period: 2016-09-04 22:00:00+00:00 to 2019-05-14 21:00:00+00:00 is:  46129.0  NOK without VAT\n",
      "Average cost per year is: 17158.0 NOK without VAT\n",
      "Number of kwh purchased in the period: 76570.0\n",
      "Average number of kwh purchased per year: 28481.03789196758\n"
     ]
    }
   ],
   "source": [
    "print_price_summary(series_battery_logic_TO)"
   ]
  },
  {
   "cell_type": "markdown",
   "metadata": {},
   "source": [
    "##  DP optimized path"
   ]
  },
  {
   "cell_type": "code",
   "execution_count": 143,
   "metadata": {},
   "outputs": [],
   "source": [
    "# Initialise battery\n",
    "battery = Battery(max_capacity=12)\n",
    "\n",
    "actions = pd.read_csv(\"actions_small_graph_mulitplied_peak.txt\", sep=\",\", header=None)\n",
    "# convert to list\n",
    "actions = actions.values.tolist()[0]\n",
    "\n",
    "# Define logic \n",
    "def DP_logic(row, battery):\n",
    "\n",
    "    u =  actions.pop(0)\n",
    "    # u = 1\n",
    "\n",
    "    battery.charge(u)\n",
    "    row[\"surplus_deficit\"] = row[\"power_yield\"] - u\n",
    "\n",
    "    # row[\"surplus_deficit\"] = battery.get_surplus_deficit()\n",
    "    row[\"battery_capacity\"] = battery.get_current_capacity()\n",
    "\n",
    "    \n",
    "    return row"
   ]
  },
  {
   "cell_type": "code",
   "execution_count": 144,
   "metadata": {},
   "outputs": [],
   "source": [
    "series_battery_logic_DP = logic_rollout(series_merge.copy(), battery, DP_logic, get_price)"
   ]
  },
  {
   "cell_type": "code",
   "execution_count": 145,
   "metadata": {},
   "outputs": [
    {
     "name": "stdout",
     "output_type": "stream",
     "text": [
      "Cost for period: 2016-09-04 22:00:00+00:00 to 2019-05-14 21:00:00+00:00 is:  45662.0  NOK without VAT\n",
      "Average cost per year is: 16985.0 NOK without VAT\n",
      "Number of kwh purchased in the period: 76590.0\n",
      "Average number of kwh purchased per year: 28488.477107820254\n"
     ]
    }
   ],
   "source": [
    "print_price_summary(series_battery_logic_DP)"
   ]
  },
  {
   "cell_type": "markdown",
   "metadata": {},
   "source": [
    "# Plot cummulative price "
   ]
  },
  {
   "cell_type": "code",
   "execution_count": 147,
   "metadata": {},
   "outputs": [
    {
     "data": {
      "image/png": "[encoded data removed]",
      "text/plain": [
       "<Figure size 864x432 with 1 Axes>"
      ]
     },
     "metadata": {},
     "output_type": "display_data"
    }
   ],
   "source": [
    "# plot cummulative price\n",
    "import seaborn as sns\n",
    "sns.set()\n",
    "fig, ax = plt.subplots(figsize=(12, 6))\n",
    "# ax.plot(series_battery_logic[\"timeslot\"], series_battery_logic[\"price_cummulative\"], label=\"Shitty logic\")\n",
    "ax.plot(series_battery[\"timeslot\"], series_battery[\"price_cummulative\"], label=\"Simple logic\")\n",
    "ax.plot(series_no_battery[\"timeslot\"], series_no_battery[\"price_cummulative\"], label=\"No Battery\")\n",
    "ax.plot(series_battery_logic_TO[\"timeslot\"], series_battery_logic_TO[\"price_cummulative\"], label=\"Tariff Optimisation\")\n",
    "ax.plot(series_battery_logic_DP[\"timeslot\"], series_battery_logic_DP[\"price_cummulative\"], label=\"DP Optimisation\")\n",
    "\n",
    "ax.set_xlabel('Time')\n",
    "ax.set_ylabel('Cost (NOK)')\n",
    "ax.set_title('Cummulative cost of electricity')\n",
    "\n",
    "ax.legend()\n",
    "plt.show()\n"
   ]
  },
  {
   "cell_type": "markdown",
   "metadata": {},
   "source": [
    "## Savings percentage barplot"
   ]
  },
  {
   "cell_type": "code",
   "execution_count": 148,
   "metadata": {},
   "outputs": [
    {
     "name": "stdout",
     "output_type": "stream",
     "text": [
      "{'Simple logic': 3.5030763195375645, 'Shitty logic': -203.10893859923866, 'Tariff optimisation': 1.7896481894126217, 'DP optimisation': 2.78294417362486}\n"
     ]
    },
    {
     "data": {
      "image/png": "[encoded data removed]",
      "text/plain": [
       "<Figure size 864x432 with 1 Axes>"
      ]
     },
     "metadata": {},
     "output_type": "display_data"
    }
   ],
   "source": [
    "series_list = {\"Simple logic\": series_battery, \"Shitty logic\": series_battery_logic, \"Tariff optimisation\": series_battery_logic_TO, \"DP optimisation\": series_battery_logic_DP}\n",
    "\n",
    "savings_percentage_dict = {}\n",
    "\n",
    "# Create a savings percentage dictionary\n",
    "for name, series in series_list.items():\n",
    "    series_price_sum = series[\"price\"].sum()\n",
    "    series_no_battery_price_sum = series_no_battery[\"price\"].sum()\n",
    "    savings_percentage = ((series_no_battery_price_sum-series_price_sum)/series_no_battery_price_sum)*100\n",
    "    savings_percentage_dict[name] = savings_percentage\n",
    "print(savings_percentage_dict)\n",
    "\n",
    "\n",
    "# Drop \"shitty logic\" from savings_percentage_dict dict\n",
    "del savings_percentage_dict[\"Shitty logic\"]\n",
    "\n",
    "\n",
    "# plot barplot of savings_percentage_dict\n",
    "import seaborn as sns\n",
    "sns.set()\n",
    "fig, ax = plt.subplots(figsize=(12, 6))\n",
    "ax.bar(list(savings_percentage_dict.keys()), list(savings_percentage_dict.values()))\n",
    "ax.set_xlabel('Policy')\n",
    "ax.set_ylabel('Savings (%)')\n",
    "ax.set_title('Savings from using battery and different policies')\n",
    "plt.show()\n"
   ]
  }
 ],
 "metadata": {
  "interpreter": {
   "hash": "75689878a105dee67c5a2a8f384e2aa8da20bcff148463addcb4797f6b921216"
  },
  "kernelspec": {
   "display_name": "Python 3.8.8 ('venv': venv)",
   "language": "python",
   "name": "python3"
  },
  "language_info": {
   "codemirror_mode": {
    "name": "ipython",
    "version": 3
   },
   "file_extension": ".py",
   "mimetype": "text/x-python",
   "name": "python",
   "nbconvert_exporter": "python",
   "pygments_lexer": "ipython3",
   "version": "3.8.8"
  },
  "orig_nbformat": 4
 },
 "nbformat": 4,
 "nbformat_minor": 2
}
