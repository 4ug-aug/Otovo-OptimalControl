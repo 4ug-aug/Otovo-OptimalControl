{
 "cells": [
  {
   "cell_type": "markdown",
   "metadata": {},
   "source": [
    "## Apply the battery to our data and calculate the cost with and without battery (and logic)"
   ]
  },
  {
   "cell_type": "markdown",
   "metadata": {},
   "source": [
    "### Ready the dataset"
   ]
  },
  {
   "cell_type": "code",
   "execution_count": 35,
   "metadata": {},
   "outputs": [],
   "source": [
    "# Load peak hour price data and meter-id data\n",
    "import pandas as pd\n",
    "import numpy as np\n",
    "from battery import Battery\n",
    "\n",
    "df_prod = pd.read_csv(\"data/gridtx-dump-AGGREGATED-CLEANED-THRESHOLD-COVERAGE100-NORMALIZED-PROD.csv\")\n",
    "df_cons = pd.read_csv(\"data/gridtx-dump-AGGREGATED-CLEANED-THRESHOLD-COVERAGE100-NORMALIZED-CONS.csv\")"
   ]
  },
  {
   "cell_type": "code",
   "execution_count": 17,
   "metadata": {},
   "outputs": [],
   "source": [
    "def get_series(meter_id, type=\"prod\", start=None, end=None, agg=None):\n",
    "    \"\"\"Create Series from meter_id and type of data\n",
    "\n",
    "    Args:\n",
    "        meter_id (str): meter-id\n",
    "        type (str, optional): production or consumption of kwh. Defaults to \"prod\".\n",
    "        start (str, optional): timeslot to start series. Defaults to None.\n",
    "        end (str, optional): timeslot to end series. Defaults to None.\n",
    "        agg (str, optional): aggregation of data. One of day, week or month. Defaults to None.\n",
    "\n",
    "    Returns:\n",
    "        pd.series: series of filtered data\n",
    "    \"\"\"\n",
    "\n",
    "    print(\"Getting series for meter_id: {}\".format(meter_id))\n",
    "\n",
    "    # if start not none\n",
    "    if start is not None:\n",
    "        # Convert to datetime\n",
    "        start = pd.to_datetime(start)\n",
    "    \n",
    "    # if end not none\n",
    "    if end is not None:\n",
    "        # Convert to datetime\n",
    "        end = pd.to_datetime(end)\n",
    "\n",
    "    if type == \"prod\":\n",
    "        df_return = df_prod[df_prod[\"meter_id\"] == meter_id]\n",
    "        # Drop all columns but timeslot and num_kwh_normalized\n",
    "        df_return = df_return[['timeslot', 'num_kwh_normalized']]\n",
    "        # Set index to timeslot\n",
    "        # Filter on start and end\n",
    "        # Convert timeslot to datetime\n",
    "        df_return[\"timeslot\"] = pd.to_datetime(df_return[\"timeslot\"], utc=True)\n",
    "        if start is not None and end is not None:\n",
    "            print(\"Filtering on start and end: \", start, end)\n",
    "            try:\n",
    "                df_return = df_return[(df_return['timeslot'] >= start) & (df_return['timeslot'] <= end)]\n",
    "            except Exception as e:\n",
    "                print(e)\n",
    "                print(\"No data for this timeslot, timeslot might be incorrect format or out of range:\")\n",
    "                print(\"Format and range for timeslot: \", df_return.index[0], \" \", df_return.index[-1])\n",
    "                print(\"Format for input start: \", start)\n",
    "                print(\"Format for input end: \", end)\n",
    "                pass\n",
    "        elif start is not None:\n",
    "            print(\"Filtering on start: \", start)\n",
    "            try:\n",
    "                df_return = df_return[(df_return['timeslot'] >= start)]\n",
    "            except:\n",
    "                print(\"No data for this timeslot, timeslot might be incorrect format or out of range:\")\n",
    "                print(\"Format and range for timeslot: \", df_return.index[0], \" \", df_return.index[-1])\n",
    "                print(\"Format for input start: \", start)\n",
    "                pass\n",
    "        elif end is not None:\n",
    "            print(\"Filtering on end: \", end)\n",
    "            try:\n",
    "                df_return = df_return[(df_return['timeslot'] <= end)]\n",
    "            except:\n",
    "                print(\"No data for this timeslot, timeslot might be incorrect format or out of range:\")\n",
    "                print(\"Format and range for timeslot: \", df_return.index[0], \" \", df_return.index[-1])\n",
    "                print(\"Format for input end: \", end)\n",
    "                pass\n",
    "\n",
    "    elif type == \"cons\":\n",
    "        df_return = df_cons[df_cons[\"meter_id\"] == meter_id]\n",
    "        # Drop all columns but timeslot and num_kwh_normalized\n",
    "        df_return = df_return[['timeslot', 'num_kwh_normalized']]\n",
    "        # Set index to timeslot\n",
    "        # Filter on start and end\n",
    "        # Convert timeslot to datetime\n",
    "        df_return[\"timeslot\"] = pd.to_datetime(df_return[\"timeslot\"], utc=True)\n",
    "        if start is not None and end is not None:\n",
    "            print(\"Filtering on start and end: \", start, end)\n",
    "            try:\n",
    "                df_return = df_return[(df_return['timeslot'] >= start) & (df_return['timeslot'] <= end)]\n",
    "            except Exception as e:\n",
    "                print(e)\n",
    "                print(\"No data for this timeslot, timeslot might be incorrect format or out of range:\")\n",
    "                print(\"Format and range for timeslot: \", df_return.index[0], \" \", df_return.index[-1])\n",
    "                print(\"Format for input start: \", start)\n",
    "                print(\"Format for input end: \", end)\n",
    "                pass\n",
    "        elif start is not None:\n",
    "            print(\"Filtering on start: \", start)\n",
    "            try:\n",
    "                df_return = df_return[(df_return['timeslot'] >= start)]\n",
    "            except:\n",
    "                print(\"No data for this timeslot, timeslot might be incorrect format or out of range:\")\n",
    "                print(\"Format and range for timeslot: \", df_return.index[0], \" \", df_return.index[-1])\n",
    "                print(\"Format for input start: \", start)\n",
    "                pass\n",
    "        elif end is not None:\n",
    "            print(\"Filtering on end: \", end)\n",
    "            try:\n",
    "                df_return = df_return[(df_return['timeslot'] <= end)]\n",
    "            except:\n",
    "                print(\"No data for this timeslot, timeslot might be incorrect format or out of range:\")\n",
    "                print(\"Format and range for timeslot: \", df_return.index[0], \" \", df_return.index[-1])\n",
    "                print(\"Format for input end: \", end)\n",
    "                pass\n",
    "\n",
    "    df_return = df_return.set_index(\"timeslot\").sort_index()\n",
    "\n",
    "    # If agg is not none\n",
    "    if agg is not None:\n",
    "        if agg == \"day\":\n",
    "            df_return = df_return.resample(\"D\").sum()\n",
    "        elif agg == \"week\":\n",
    "            df_return = df_return.resample(\"W\").sum()\n",
    "        elif agg == \"month\":\n",
    "            df_return = df_return.resample(\"M\").sum()\n",
    "        else:\n",
    "            print(\"Aggregation not supported\")\n",
    "            return None\n",
    "\n",
    "    # Return series\n",
    "    return df_return"
   ]
  },
  {
   "cell_type": "code",
   "execution_count": 28,
   "metadata": {},
   "outputs": [
    {
     "name": "stdout",
     "output_type": "stream",
     "text": [
      "Getting series for meter_id: 28ba7f57-6e83-4341-8078-232c1639e4e3\n",
      "Filtering on start and end:  2016-09-04 22:00:00+00:00 2019-05-14 21:00:00+00:00\n",
      "Getting series for meter_id: 28ba7f57-6e83-4341-8078-232c1639e4e3\n",
      "Filtering on start and end:  2016-09-04 22:00:00+00:00 2019-05-14 21:00:00+00:00\n"
     ]
    }
   ],
   "source": [
    "series_prod = get_series(\"28ba7f57-6e83-4341-8078-232c1639e4e3\", \"prod\", start=\"2016-09-04 22:00:00+00:00\", end = \"2019-05-14 21:00:00+00:00\")\n",
    "series_cons = get_series(\"28ba7f57-6e83-4341-8078-232c1639e4e3\", \"cons\", start=\"2016-09-04 22:00:00+00:00\", end = \"2019-05-14 21:00:00+00:00\")"
   ]
  },
  {
   "cell_type": "code",
   "execution_count": 29,
   "metadata": {},
   "outputs": [
    {
     "name": "stdout",
     "output_type": "stream",
     "text": [
      "                           num_kwh_normalized_prod  num_kwh_normalized_cons  \\\n",
      "timeslot                                                                      \n",
      "2016-09-04 22:00:00+00:00                      0.0                 0.000000   \n",
      "2016-09-04 23:00:00+00:00                      0.0                 0.055556   \n",
      "2016-09-05 00:00:00+00:00                      0.0                 0.027778   \n",
      "2016-09-05 01:00:00+00:00                      0.0                 0.027778   \n",
      "2016-09-05 02:00:00+00:00                      0.0                 0.027778   \n",
      "\n",
      "                           power_yield  \n",
      "timeslot                                \n",
      "2016-09-04 22:00:00+00:00     0.000000  \n",
      "2016-09-04 23:00:00+00:00    -0.055556  \n",
      "2016-09-05 00:00:00+00:00    -0.027778  \n",
      "2016-09-05 01:00:00+00:00    -0.027778  \n",
      "2016-09-05 02:00:00+00:00    -0.027778  \n"
     ]
    }
   ],
   "source": [
    "# Merge series\n",
    "series_merge = pd.merge(series_prod, series_cons, how=\"outer\", left_index=True, right_index=True)\n",
    "# Rename num_kwh_normalized_x and num_kwh_normalized_y\n",
    "series_merge.columns = [\"num_kwh_normalized_prod\", \"num_kwh_normalized_cons\"]\n",
    "\n",
    "# Add column called power_yield with the difference between prod and cons\n",
    "series_merge[\"power_yield\"] = series_merge[\"num_kwh_normalized_prod\"] - series_merge[\"num_kwh_normalized_cons\"]\n",
    "print(series_merge.head())"
   ]
  },
  {
   "cell_type": "markdown",
   "metadata": {},
   "source": [
    "### Calculate Cost without battery"
   ]
  },
  {
   "cell_type": "code",
   "execution_count": null,
   "metadata": {},
   "outputs": [],
   "source": []
  },
  {
   "cell_type": "markdown",
   "metadata": {},
   "source": [
    "### Calculate Cost with battery without logic"
   ]
  },
  {
   "cell_type": "code",
   "execution_count": 36,
   "metadata": {},
   "outputs": [
    {
     "name": "stdout",
     "output_type": "stream",
     "text": [
      "0\n"
     ]
    }
   ],
   "source": [
    "battery = Battery()"
   ]
  }
 ],
 "metadata": {
  "interpreter": {
   "hash": "528ab2b825a4efd34bdd13622bbc356c85ce5334aacc4ee2e2c553fd26a47110"
  },
  "kernelspec": {
   "display_name": "Python 3.8.5 ('otovo': venv)",
   "language": "python",
   "name": "python3"
  },
  "language_info": {
   "codemirror_mode": {
    "name": "ipython",
    "version": 3
   },
   "file_extension": ".py",
   "mimetype": "text/x-python",
   "name": "python",
   "nbconvert_exporter": "python",
   "pygments_lexer": "ipython3",
   "version": "3.8.5"
  },
  "orig_nbformat": 4
 },
 "nbformat": 4,
 "nbformat_minor": 2
}
