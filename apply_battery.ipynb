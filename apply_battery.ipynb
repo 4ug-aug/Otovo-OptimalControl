{
 "cells": [
  {
   "cell_type": "markdown",
   "metadata": {},
   "source": [
    "## Apply the battery to our data and calculate the cost with and without battery (and logic)"
   ]
  },
  {
   "cell_type": "markdown",
   "metadata": {},
   "source": [
    "### Ready the dataset"
   ]
  },
  {
   "cell_type": "code",
   "execution_count": 1,
   "metadata": {},
   "outputs": [],
   "source": [
    "# Load peak hour price data and meter-id data\n",
    "import pandas as pd\n",
    "import numpy as np\n",
    "import json\n",
    "from matplotlib import pyplot as plt\n",
    "from dateutil.relativedelta import relativedelta\n",
    "\n",
    "df_prod = pd.read_csv(\"data/gridtx-dump-AGGREGATED-CLEANED-THRESHOLD-COVERAGE100-NORMALIZED-PROD.csv\")\n",
    "df_cons = pd.read_csv(\"data/gridtx-dump-AGGREGATED-CLEANED-THRESHOLD-COVERAGE100-NORMALIZED-CONS.csv\")\n",
    "\n",
    "# Load json file hour_lookup_price.json\n",
    "with open('data/hour_lookup_price_dict.json') as json_file:\n",
    "    hour_lookup_price = json.load(json_file)\n"
   ]
  },
  {
   "cell_type": "code",
   "execution_count": null,
   "metadata": {},
   "outputs": [],
   "source": [
    "def get_series(meter_id, type=\"prod\", start=None, end=None, agg=None):\n",
    "    \"\"\"Create Series from meter_id and type of data\n",
    "\n",
    "    Args:\n",
    "        meter_id (str): meter-id\n",
    "        type (str, optional): production or consumption of kwh. Defaults to \"prod\".\n",
    "        start (str, optional): timeslot to start series. Defaults to None.\n",
    "        end (str, optional): timeslot to end series. Defaults to None.\n",
    "        agg (str, optional): aggregation of data. One of day, week or month. Defaults to None.\n",
    "\n",
    "    Returns:\n",
    "        pd.series: series of filtered data\n",
    "    \"\"\"\n",
    "\n",
    "    print(\"Getting series for meter_id: {}\".format(meter_id))\n",
    "\n",
    "    # if start not none\n",
    "    if start is not None:\n",
    "        # Convert to datetime\n",
    "        start = pd.to_datetime(start)\n",
    "    \n",
    "    # if end not none\n",
    "    if end is not None:\n",
    "        # Convert to datetime\n",
    "        end = pd.to_datetime(end)\n",
    "\n",
    "    if type == \"prod\":\n",
    "        df_return = df_prod[df_prod[\"meter_id\"] == meter_id]\n",
    "        # Drop all columns but timeslot and num_kwh_normalized\n",
    "        df_return = df_return[['timeslot', 'num_kwh']]\n",
    "        # Set index to timeslot\n",
    "        # Filter on start and end\n",
    "        # Convert timeslot to datetime\n",
    "        df_return[\"timeslot\"] = pd.to_datetime(df_return[\"timeslot\"], utc=True)\n",
    "        if start is not None and end is not None:\n",
    "            print(\"Filtering on start and end: \", start, end)\n",
    "            try:\n",
    "                df_return = df_return[(df_return['timeslot'] >= start) & (df_return['timeslot'] <= end)]\n",
    "            except Exception as e:\n",
    "                print(e)\n",
    "                print(\"No data for this timeslot, timeslot might be incorrect format or out of range:\")\n",
    "                print(\"Format and range for timeslot: \", df_return.index[0], \" \", df_return.index[-1])\n",
    "                print(\"Format for input start: \", start)\n",
    "                print(\"Format for input end: \", end)\n",
    "                pass\n",
    "        elif start is not None:\n",
    "            print(\"Filtering on start: \", start)\n",
    "            try:\n",
    "                df_return = df_return[(df_return['timeslot'] >= start)]\n",
    "            except:\n",
    "                print(\"No data for this timeslot, timeslot might be incorrect format or out of range:\")\n",
    "                print(\"Format and range for timeslot: \", df_return.index[0], \" \", df_return.index[-1])\n",
    "                print(\"Format for input start: \", start)\n",
    "                pass\n",
    "        elif end is not None:\n",
    "            print(\"Filtering on end: \", end)\n",
    "            try:\n",
    "                df_return = df_return[(df_return['timeslot'] <= end)]\n",
    "            except:\n",
    "                print(\"No data for this timeslot, timeslot might be incorrect format or out of range:\")\n",
    "                print(\"Format and range for timeslot: \", df_return.index[0], \" \", df_return.index[-1])\n",
    "                print(\"Format for input end: \", end)\n",
    "                pass\n",
    "\n",
    "    elif type == \"cons\":\n",
    "        df_return = df_cons[df_cons[\"meter_id\"] == meter_id]\n",
    "        # Drop all columns but timeslot and num_kwh_normalized\n",
    "        df_return = df_return[['timeslot', 'num_kwh']]\n",
    "        # Set index to timeslot\n",
    "        # Filter on start and end\n",
    "        # Convert timeslot to datetime\n",
    "        df_return[\"timeslot\"] = pd.to_datetime(df_return[\"timeslot\"], utc=True)\n",
    "        if start is not None and end is not None:\n",
    "            print(\"Filtering on start and end: \", start, end)\n",
    "            try:\n",
    "                df_return = df_return[(df_return['timeslot'] >= start) & (df_return['timeslot'] <= end)]\n",
    "            except Exception as e:\n",
    "                print(e)\n",
    "                print(\"No data for this timeslot, timeslot might be incorrect format or out of range:\")\n",
    "                print(\"Format and range for timeslot: \", df_return.index[0], \" \", df_return.index[-1])\n",
    "                print(\"Format for input start: \", start)\n",
    "                print(\"Format for input end: \", end)\n",
    "                pass\n",
    "        elif start is not None:\n",
    "            print(\"Filtering on start: \", start)\n",
    "            try:\n",
    "                df_return = df_return[(df_return['timeslot'] >= start)]\n",
    "            except:\n",
    "                print(\"No data for this timeslot, timeslot might be incorrect format or out of range:\")\n",
    "                print(\"Format and range for timeslot: \", df_return.index[0], \" \", df_return.index[-1])\n",
    "                print(\"Format for input start: \", start)\n",
    "                pass\n",
    "        elif end is not None:\n",
    "            print(\"Filtering on end: \", end)\n",
    "            try:\n",
    "                df_return = df_return[(df_return['timeslot'] <= end)]\n",
    "            except:\n",
    "                print(\"No data for this timeslot, timeslot might be incorrect format or out of range:\")\n",
    "                print(\"Format and range for timeslot: \", df_return.index[0], \" \", df_return.index[-1])\n",
    "                print(\"Format for input end: \", end)\n",
    "                pass\n",
    "\n",
    "    df_return = df_return.set_index(\"timeslot\").sort_index()\n",
    "\n",
    "    # If agg is not none\n",
    "    if agg is not None:\n",
    "        if agg == \"day\":\n",
    "            df_return = df_return.resample(\"D\").sum()\n",
    "        elif agg == \"week\":\n",
    "            df_return = df_return.resample(\"W\").sum()\n",
    "        elif agg == \"month\":\n",
    "            df_return = df_return.resample(\"M\").sum()\n",
    "        else:\n",
    "            print(\"Aggregation not supported\")\n",
    "            return None\n",
    "\n",
    "    # Return series\n",
    "    return df_return"
   ]
  },
  {
   "cell_type": "code",
   "execution_count": null,
   "metadata": {},
   "outputs": [],
   "source": [
    "meter_id = \"28ba7f57-6e83-4341-8078-232c1639e4e3\"\n",
    "\n",
    "series_prod = get_series(meter_id, \"prod\", start=\"2016-09-04 22:00:00+00:00\", end = \"2019-05-14 21:00:00+00:00\")\n",
    "series_cons = get_series(meter_id, \"cons\", start=\"2016-09-04 22:00:00+00:00\", end = \"2019-05-14 21:00:00+00:00\")"
   ]
  },
  {
   "cell_type": "code",
   "execution_count": null,
   "metadata": {},
   "outputs": [],
   "source": [
    "# Merge series\n",
    "series_merge = pd.merge(series_prod, series_cons, how=\"outer\", left_index=True, right_index=True)\n",
    "# Rename num_kwh_normalized_x and num_kwh_normalized_y\n",
    "series_merge.columns = [\"num_kwh_prod\", \"num_kwh_cons\"]\n",
    "\n",
    "# Add column called power_yield with the difference between prod and cons\n",
    "series_merge[\"power_yield\"] = series_merge[\"num_kwh_prod\"] - series_merge[\"num_kwh_cons\"]\n",
    "# add column current index as timeslot and reset index\n",
    "series_merge[\"timeslot\"] = series_merge.index\n",
    "series_merge = series_merge.reset_index(drop=True)\n",
    "\n",
    "print(series_merge.head())"
   ]
  },
  {
   "cell_type": "markdown",
   "metadata": {},
   "source": [
    "## Calculate Cost without battery"
   ]
  },
  {
   "cell_type": "code",
   "execution_count": null,
   "metadata": {},
   "outputs": [],
   "source": [
    "# Add column with the price based on the power_yield\n",
    "def get_price(power_yield, hour):\n",
    "    if power_yield >= 0:\n",
    "        return -power_yield * hour_lookup_price[str(hour)]*0.25\n",
    "    else:\n",
    "        return -power_yield * hour_lookup_price[str(hour)]\n",
    "\n",
    "series_no_battery = series_merge.copy()\n",
    "\n",
    "# Apply function to dataframe and add column\n",
    "series_no_battery[\"price\"] = series_no_battery.apply(lambda row: get_price(row[\"power_yield\"], row[\"timeslot\"].hour), axis=1)\n"
   ]
  },
  {
   "cell_type": "markdown",
   "metadata": {},
   "source": [
    "Without battery cost"
   ]
  },
  {
   "cell_type": "code",
   "execution_count": null,
   "metadata": {},
   "outputs": [],
   "source": [
    "start, end = series_no_battery[\"timeslot\"].iloc[0], series_no_battery[\"timeslot\"].iloc[-1]\n",
    "print(f\"Cost for period: {start} to {end} is: \", round(series_no_battery[\"price\"].sum(), 0), \" NOK without VAT\")\n",
    "num_wh_total = series_no_battery[\"power_yield\"].sum() // 1\n",
    "print(f\"Number of kwh used: {-num_wh_total}\")\n",
    "print(f\"Installation size: {df_prod['num_panels'].iloc[0]} panels\")"
   ]
  },
  {
   "cell_type": "markdown",
   "metadata": {},
   "source": [
    "## Calculate Cost with battery without logic"
   ]
  },
  {
   "cell_type": "code",
   "execution_count": null,
   "metadata": {},
   "outputs": [],
   "source": [
    "# Initialise battery\n",
    "from battery import Battery\n",
    "battery = Battery()\n",
    "series_battery = series_merge.copy()\n",
    "print(series_battery.head())"
   ]
  },
  {
   "cell_type": "code",
   "execution_count": null,
   "metadata": {},
   "outputs": [],
   "source": [
    "# Def function to apply battery to dataframe\n",
    "def logic(power_yield):\n",
    "    battery.charge(power_yield)\n",
    "\n",
    "    # Return battery capacity\n",
    "    return battery.get_current_capacity()\n",
    "\n",
    "# Add column with battery capacity\n",
    "series_battery[\"battery_capacity\"] = series_battery.apply(lambda row: logic(row[\"power_yield\"]), axis=1)\n",
    "series_battery.head()"
   ]
  },
  {
   "cell_type": "code",
   "execution_count": null,
   "metadata": {},
   "outputs": [],
   "source": []
  },
  {
   "cell_type": "code",
   "execution_count": null,
   "metadata": {},
   "outputs": [],
   "source": [
    "battery = Battery()\n",
    "# Def function to apply battery to dataframe\n",
    "def logic(power_yield):\n",
    "    battery.charge(power_yield)\n",
    "\n",
    "    # Return battery capacity\n",
    "    return battery.get_surplus_deficit()\n",
    "\n",
    "series_battery[\"surplus_deficit\"] = series_battery.apply(lambda row: logic(row[\"power_yield\"]), axis=1)\n",
    "series_battery.head()"
   ]
  },
  {
   "cell_type": "code",
   "execution_count": null,
   "metadata": {},
   "outputs": [],
   "source": [
    "def moving_average(timeseries, window):\n",
    "    \"\"\"Calculate the moving average of a timeseries.\n",
    "\n",
    "    Args:\n",
    "        timeseries (pd.Series): timeseries\n",
    "        window (int): Window size\n",
    "\n",
    "    Returns:\n",
    "        pd.Series: Smoothened timeseries\n",
    "    \"\"\"\n",
    "    return timeseries.rolling(window=window, center=True).mean()"
   ]
  },
  {
   "cell_type": "code",
   "execution_count": null,
   "metadata": {},
   "outputs": [],
   "source": [
    "# plot battery capacity and power yield in same plot with plotly\n",
    "import seaborn as sns\n",
    "sns.set()\n",
    "\n",
    "fig, ax = plt.subplots(figsize=(12, 6))\n",
    "ax.plot(series_battery[\"timeslot\"], moving_average(series_battery[\"battery_capacity\"], 80), label=\"Battery capacity\", alpha=0.75)\n",
    "ax.plot(series_battery[\"timeslot\"], moving_average(series_battery[\"power_yield\"], 80), label=\"Power yield\", alpha=0.5)\n",
    "ax.plot(series_battery[\"timeslot\"], moving_average(series_battery[\"surplus_deficit\"], 80), label=\"Surplus Deficit\", alpha=0.75)\n",
    "ax.legend()\n",
    "plt.show()"
   ]
  },
  {
   "cell_type": "code",
   "execution_count": null,
   "metadata": {},
   "outputs": [],
   "source": [
    "def get_price_battery(demand, hour):\n",
    "    if demand >= 0:\n",
    "        return -demand * hour_lookup_price[str(hour)]*0.25\n",
    "    else:\n",
    "        return -demand * hour_lookup_price[str(hour)]\n",
    "\n",
    "series_battery[\"price\"] = series_battery.apply(lambda row: get_price_battery(row[\"surplus_deficit\"], row[\"timeslot\"].hour), axis=1)"
   ]
  },
  {
   "cell_type": "markdown",
   "metadata": {},
   "source": [
    "### Price with battery without logic"
   ]
  },
  {
   "cell_type": "code",
   "execution_count": null,
   "metadata": {},
   "outputs": [],
   "source": [
    "# df_maps = pd.read_csv(\"data/grid-metering-point-dump-plus-zipcode-GMAPS-in-gridtx.csv\")\n",
    "# df_maps = df_maps[df_maps[\"idgrid_data_table\"] == meter_id]\n",
    "# print(df_maps[\"full_address\"])\n",
    "\n",
    "\n",
    "start, end = series_battery[\"timeslot\"].iloc[0], series_battery[\"timeslot\"].iloc[-1]\n",
    "difference_in_years = relativedelta(end, start).years\n",
    "print(f\"Cost for period: {start} to {end} is: \", round(series_battery[\"price\"].sum(), 0), \" NOK without VAT\")\n",
    "num_wh_total = series_battery[\"surplus_deficit\"].sum() // 1\n",
    "\n",
    "print(f\"Number of kwh purchased in the period: {-num_wh_total}\")\n",
    "\n",
    "time_delta_seconds =  (end-start).total_seconds()\n",
    "years_timedelta = time_delta_seconds/(365.25*24*60*60)\n",
    "print(f\"Average cost per year is: {round(series_battery['price'].sum()/years_timedelta,0)} NOK without VAT\")\n",
    "print(f\"Average number of kwh purchased per year: {-num_wh_total/years_timedelta}\")\n",
    "\n"
   ]
  },
  {
   "cell_type": "code",
   "execution_count": null,
   "metadata": {},
   "outputs": [],
   "source": [
    "series_battery[\"price_cummulative\"] = series_battery[\"price\"].cumsum(axis=0)\n",
    "series_battery.head()"
   ]
  },
  {
   "cell_type": "code",
   "execution_count": null,
   "metadata": {},
   "outputs": [],
   "source": []
  },
  {
   "cell_type": "markdown",
   "metadata": {},
   "source": [
    "## Estimate cost with battery and with logic"
   ]
  },
  {
   "cell_type": "markdown",
   "metadata": {},
   "source": [
    "if next hour's estimated cost is higher than our current - we wait discharging our battery"
   ]
  },
  {
   "cell_type": "code",
   "execution_count": null,
   "metadata": {},
   "outputs": [],
   "source": [
    "# Initialise battery\n",
    "from battery import Battery, Battery2\n",
    "battery = Battery2()\n",
    "series_battery_logic = series_merge.copy()\n",
    "print(series_battery_logic.head())"
   ]
  },
  {
   "cell_type": "markdown",
   "metadata": {},
   "source": [
    "We calculate the battery capacity just in case we need it"
   ]
  },
  {
   "cell_type": "code",
   "execution_count": null,
   "metadata": {},
   "outputs": [],
   "source": [
    "# Def function to apply battery to dataframe\n",
    "def logic(power_yield):\n",
    "    # If surplus - charge battery\n",
    "    if power_yield > 0:\n",
    "       battery.charge(power_yield)\n",
    "\n",
    "    # If deficit - discharge battery\n",
    "    elif power_yield < 0:\n",
    "        battery.discharge(power_yield)\n",
    "    \n",
    "    # If power_yield is 0 - do nothing\n",
    "    else:\n",
    "        pass\n",
    "\n",
    "    # Return battery capacity\n",
    "    return battery.get_current_capacity()\n",
    "\n",
    "# Add column with battery capacity\n",
    "series_battery_logic[\"battery_capacity\"] = series_battery_logic.apply(lambda row: logic(row[\"power_yield\"]), axis=1)"
   ]
  },
  {
   "cell_type": "code",
   "execution_count": null,
   "metadata": {},
   "outputs": [],
   "source": [
    "battery = Battery()\n",
    "# Def function to apply battery to dataframe\n",
    "def logic(power_yield):\n",
    "    # If surplus - charge battery\n",
    "    if power_yield >= 0:\n",
    "       battery.charge(power_yield)\n",
    "\n",
    "    # If deficit - discharge battery\n",
    "    elif power_yield < 0:\n",
    "        battery.discharge(power_yield)\n",
    "\n",
    "    # Return battery capacity\n",
    "    return battery.get_over_under_charge()\n",
    "\n",
    "series_battery_logic[\"beyond_battery_capacity\"] = series_battery_logic.apply(lambda row: logic(row[\"power_yield\"]), axis=1)"
   ]
  },
  {
   "cell_type": "code",
   "execution_count": null,
   "metadata": {},
   "outputs": [],
   "source": [
    "def logic_OLD(battery_now, now_power_yield, next_power_yield, hour):\n",
    "    \"\"\"If the price of the next hour is higher than the price of the current hour,\n",
    "    the battery will not be discharged\n",
    "\n",
    "    Args:\n",
    "        battery_now (object): The current battery object\n",
    "        now_power_yield (float): _description_\n",
    "        next_power_yield (float): _description_\n",
    "        hour (int): _description_\n",
    "\n",
    "    Returns:\n",
    "        None\n",
    "    \"\"\"\n",
    "    \n",
    "    if now_power_yield > 0:\n",
    "       battery.charge(now_power_yield)\n",
    "       return battery.get_over_under_charge()\n",
    "    \n",
    "    # Load battery with current capacity\n",
    "    current_over_under = battery_now.get_over_under_charge()\n",
    "    current_battery_capacity = battery_now.get_current_capacity()\n",
    "    battery_next = Battery(current_battery_capacity, current_over_under)\n",
    "    battery_now = Battery(current_battery_capacity, current_over_under)\n",
    "\n",
    "    # Simulate next hour\n",
    "    if next_power_yield > 0:\n",
    "       battery_next.charge(next_power_yield)\n",
    "\n",
    "    elif next_power_yield < 0:\n",
    "        battery_next.discharge(next_power_yield)\n",
    "\n",
    "    # Calculate the battery for the current hour\n",
    "    if now_power_yield > 0:\n",
    "       battery_now.charge(now_power_yield)\n",
    "\n",
    "    elif now_power_yield < 0:\n",
    "        battery_now.discharge(now_power_yield)\n",
    "\n",
    "    now_battery_over_under_charge = battery_now.get_over_under_charge()\n",
    "\n",
    "    # We now have a battery for the next hour as if we did not use it for the current hour\n",
    "    next_battery_over_under_charge = battery_next.get_over_under_charge()\n",
    "\n",
    "    # Price if we need to pay now\n",
    "    price_now = now_battery_over_under_charge * hour_lookup_price[str(hour)]\n",
    "    # Price if we dont dicharged now\n",
    "    next_hour = hour + 1 if hour < 23 else 0\n",
    "    price_next = next_battery_over_under_charge * hour_lookup_price[str(next_hour)]\n",
    "\n",
    "    if price_now >= price_next:\n",
    "        battery.discharge(now_power_yield)\n",
    "    \n",
    "    else:\n",
    "        # We buy all the power we need right now\n",
    "        battery.over_under_charge = now_power_yield\n",
    "\n",
    "    return battery.get_over_under_charge()"
   ]
  },
  {
   "cell_type": "code",
   "execution_count": null,
   "metadata": {},
   "outputs": [],
   "source": [
    "def price_optimisation_logic(battery, power_yield, hour):\n",
    "\n",
    "    peak_hours = [8, 9, 10, 11, 16, 17, 18, 19]\n",
    "    # if hour is in peak hours we sell all the power we have and produce\n",
    "    if hour in peak_hours:\n",
    "        if power_yield >= 0:\n",
    "            current_charge = battery.get_current_capacity()\n",
    "            current_charge += power_yield\n",
    "            battery.current_capacity = 0\n",
    "            return current_charge\n",
    "        else:\n",
    "            battery.charge(power_yield)\n",
    "            surplus = battery.get_surplus_deficit()\n",
    "            if surplus >= 0:\n",
    "                remaining_capacity = battery.get_current_capacity()\n",
    "                battery.current_capacity = 0\n",
    "                return remaining_capacity\n",
    "            return battery.get_surplus_deficit()\n",
    "    else:\n",
    "        if power_yield >= 0:\n",
    "            battery.charge(power_yield)\n",
    "            if battery.get_current_capacity() != battery.get_max_capacity():\n",
    "                buy = -(battery.get_max_capacity() - battery.get_current_capacity())\n",
    "                battery.current_capacity = battery.get_max_capacity()\n",
    "                return buy\n",
    "            return battery.get_surplus_deficit()\n",
    "        \n",
    "        else:\n",
    "            return power_yield - (battery.get_max_capacity() - battery.get_current_capacity())"
   ]
  },
  {
   "cell_type": "code",
   "execution_count": null,
   "metadata": {},
   "outputs": [],
   "source": [
    "# Apply battery logic to dataframe where next_power_yield is the power_yield of the next row\n",
    "battery = Battery2()\n",
    "for index, row in series_battery_logic.iterrows():\n",
    "    # If next index is last index, we dont have a next row\n",
    "    if index == series_battery_logic.shape[0] - 1:\n",
    "        break\n",
    "\n",
    "    series_battery_logic.loc[index, \"beyond_battery_capacity\"] = price_optimisation_logic(battery, row[\"power_yield\"], row[\"timeslot\"].hour)\n",
    "\n",
    "series_battery_logic.head()"
   ]
  },
  {
   "cell_type": "code",
   "execution_count": null,
   "metadata": {},
   "outputs": [],
   "source": [
    "print(series_battery_logic.isnull().sum())"
   ]
  },
  {
   "cell_type": "code",
   "execution_count": null,
   "metadata": {},
   "outputs": [],
   "source": [
    "import seaborn as sns\n",
    "sns.set()\n",
    "fig, ax = plt.subplots(figsize=(12, 6))\n",
    "# ax.plot(series_battery_logic[\"timeslot\"], series_battery_logic[\"battery_capacity\"], label=\"Battery capacity\")\n",
    "ax.plot(series_battery_logic[\"timeslot\"], series_battery_logic[\"power_yield\"], label=\"Power yield\")\n",
    "ax.plot(series_battery_logic[\"timeslot\"], series_battery_logic[\"beyond_battery_capacity\"], label=\"Beyond Battery Capacity\")\n",
    "ax.legend()\n",
    "plt.show()"
   ]
  },
  {
   "cell_type": "code",
   "execution_count": null,
   "metadata": {},
   "outputs": [],
   "source": [
    "# Calculate cost for battery\n",
    "def get_price_battery(demand, hour):\n",
    "    if demand >= 0:\n",
    "        return demand * hour_lookup_price[str(hour)]*0.25\n",
    "    else:\n",
    "        return -demand * hour_lookup_price[str(hour)]\n",
    "\n",
    "series_battery_logic[\"price\"] = series_battery_logic.apply(lambda row: get_price_battery(row[\"beyond_battery_capacity\"], row[\"timeslot\"].hour), axis=1)"
   ]
  },
  {
   "cell_type": "code",
   "execution_count": null,
   "metadata": {},
   "outputs": [],
   "source": [
    "series_battery_logic[\"price_cummulative\"] = series_battery_logic[\"price\"].cumsum(axis=0)\n",
    "series_battery_logic.head()"
   ]
  },
  {
   "cell_type": "code",
   "execution_count": null,
   "metadata": {},
   "outputs": [],
   "source": [
    "start, end = series_battery_logic[\"timeslot\"].iloc[0], series_battery_logic[\"timeslot\"].iloc[-1]\n",
    "print(f\"Cost for period: {start} to {end} is: \", round(series_battery_logic[\"price\"].sum(), 0), \" NOK without VAT\")"
   ]
  }
 ],
 "metadata": {
  "interpreter": {
   "hash": "75689878a105dee67c5a2a8f384e2aa8da20bcff148463addcb4797f6b921216"
  },
  "kernelspec": {
   "display_name": "Python 3.8.8 ('venv': venv)",
   "language": "python",
   "name": "python3"
  },
  "language_info": {
   "codemirror_mode": {
    "name": "ipython",
    "version": 3
   },
   "file_extension": ".py",
   "mimetype": "text/x-python",
   "name": "python",
   "nbconvert_exporter": "python",
   "pygments_lexer": "ipython3",
   "version": "3.8.8"
  },
  "orig_nbformat": 4
 },
 "nbformat": 4,
 "nbformat_minor": 2
}
