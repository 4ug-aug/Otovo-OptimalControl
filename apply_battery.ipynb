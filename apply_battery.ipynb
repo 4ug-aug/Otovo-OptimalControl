{
 "cells": [
  {
   "cell_type": "markdown",
   "metadata": {},
   "source": [
    "# Apply the battery to our data and calculate the cost with and without battery (and logic)"
   ]
  },
  {
   "cell_type": "markdown",
   "metadata": {},
   "source": [
    "## Ready the dataset"
   ]
  },
  {
   "cell_type": "code",
   "execution_count": 1,
   "metadata": {},
   "outputs": [],
   "source": [
    "# Load peak hour price data and meter-id data\n",
    "import pandas as pd\n",
    "import numpy as np\n",
    "import json\n",
    "from matplotlib import pyplot as plt\n",
    "from dateutil.relativedelta import relativedelta\n",
    "# Import battery class \n",
    "from battery import Battery, Battery2\n",
    "\n",
    "# Load production and consumption for the cleaned meters \n",
    "df_prod = pd.read_csv(\"data/gridtx-dump-AGGREGATED-CLEANED-THRESHOLD-COVERAGE100-NORMALIZED-PROD.csv\")\n",
    "df_cons = pd.read_csv(\"data/gridtx-dump-AGGREGATED-CLEANED-THRESHOLD-COVERAGE100-NORMALIZED-CONS.csv\")\n",
    "\n",
    "# Load json file hour_lookup_price.json\n",
    "with open('data/hour_lookup_price_dict.json') as json_file:\n",
    "    hour_lookup_price = json.load(json_file)\n"
   ]
  },
  {
   "cell_type": "code",
   "execution_count": 2,
   "metadata": {},
   "outputs": [],
   "source": [
    "def get_series(meter_id, type=\"prod\", start=None, end=None, agg=None):\n",
    "    \"\"\"Create Series from meter_id and type of data\n",
    "\n",
    "    Args:\n",
    "        meter_id (str): meter-id\n",
    "        type (str, optional): production or consumption of kwh. Defaults to \"prod\".\n",
    "        start (str, optional): timeslot to start series. Defaults to None.\n",
    "        end (str, optional): timeslot to end series. Defaults to None.\n",
    "        agg (str, optional): aggregation of data. One of day, week or month. Defaults to None.\n",
    "\n",
    "    Returns:\n",
    "        pd.series: series of filtered data\n",
    "    \"\"\"\n",
    "\n",
    "    print(\"Getting series for meter_id: {}\".format(meter_id))\n",
    "\n",
    "    # if start not none\n",
    "    if start is not None:\n",
    "        # Convert to datetime\n",
    "        start = pd.to_datetime(start)\n",
    "    \n",
    "    # if end not none\n",
    "    if end is not None:\n",
    "        # Convert to datetime\n",
    "        end = pd.to_datetime(end)\n",
    "\n",
    "    if type == \"prod\":\n",
    "        df_return = df_prod[df_prod[\"meter_id\"] == meter_id]\n",
    "        # Drop all columns but timeslot and num_kwh_normalized\n",
    "        df_return = df_return[['timeslot', 'num_kwh']]\n",
    "        # Set index to timeslot\n",
    "        # Filter on start and end\n",
    "        # Convert timeslot to datetime\n",
    "        df_return[\"timeslot\"] = pd.to_datetime(df_return[\"timeslot\"], utc=True)\n",
    "        if start is not None and end is not None:\n",
    "            print(\"Filtering on start and end: \", start, end)\n",
    "            try:\n",
    "                df_return = df_return[(df_return['timeslot'] >= start) & (df_return['timeslot'] <= end)]\n",
    "            except Exception as e:\n",
    "                print(e)\n",
    "                print(\"No data for this timeslot, timeslot might be incorrect format or out of range:\")\n",
    "                print(\"Format and range for timeslot: \", df_return.index[0], \" \", df_return.index[-1])\n",
    "                print(\"Format for input start: \", start)\n",
    "                print(\"Format for input end: \", end)\n",
    "                pass\n",
    "        elif start is not None:\n",
    "            print(\"Filtering on start: \", start)\n",
    "            try:\n",
    "                df_return = df_return[(df_return['timeslot'] >= start)]\n",
    "            except:\n",
    "                print(\"No data for this timeslot, timeslot might be incorrect format or out of range:\")\n",
    "                print(\"Format and range for timeslot: \", df_return.index[0], \" \", df_return.index[-1])\n",
    "                print(\"Format for input start: \", start)\n",
    "                pass\n",
    "        elif end is not None:\n",
    "            print(\"Filtering on end: \", end)\n",
    "            try:\n",
    "                df_return = df_return[(df_return['timeslot'] <= end)]\n",
    "            except:\n",
    "                print(\"No data for this timeslot, timeslot might be incorrect format or out of range:\")\n",
    "                print(\"Format and range for timeslot: \", df_return.index[0], \" \", df_return.index[-1])\n",
    "                print(\"Format for input end: \", end)\n",
    "                pass\n",
    "\n",
    "    elif type == \"cons\":\n",
    "        df_return = df_cons[df_cons[\"meter_id\"] == meter_id]\n",
    "        # Drop all columns but timeslot and num_kwh_normalized\n",
    "        df_return = df_return[['timeslot', 'num_kwh']]\n",
    "        # Set index to timeslot\n",
    "        # Filter on start and end\n",
    "        # Convert timeslot to datetime\n",
    "        df_return[\"timeslot\"] = pd.to_datetime(df_return[\"timeslot\"], utc=True)\n",
    "        if start is not None and end is not None:\n",
    "            print(\"Filtering on start and end: \", start, end)\n",
    "            try:\n",
    "                df_return = df_return[(df_return['timeslot'] >= start) & (df_return['timeslot'] <= end)]\n",
    "            except Exception as e:\n",
    "                print(e)\n",
    "                print(\"No data for this timeslot, timeslot might be incorrect format or out of range:\")\n",
    "                print(\"Format and range for timeslot: \", df_return.index[0], \" \", df_return.index[-1])\n",
    "                print(\"Format for input start: \", start)\n",
    "                print(\"Format for input end: \", end)\n",
    "                pass\n",
    "        elif start is not None:\n",
    "            print(\"Filtering on start: \", start)\n",
    "            try:\n",
    "                df_return = df_return[(df_return['timeslot'] >= start)]\n",
    "            except:\n",
    "                print(\"No data for this timeslot, timeslot might be incorrect format or out of range:\")\n",
    "                print(\"Format and range for timeslot: \", df_return.index[0], \" \", df_return.index[-1])\n",
    "                print(\"Format for input start: \", start)\n",
    "                pass\n",
    "        elif end is not None:\n",
    "            print(\"Filtering on end: \", end)\n",
    "            try:\n",
    "                df_return = df_return[(df_return['timeslot'] <= end)]\n",
    "            except:\n",
    "                print(\"No data for this timeslot, timeslot might be incorrect format or out of range:\")\n",
    "                print(\"Format and range for timeslot: \", df_return.index[0], \" \", df_return.index[-1])\n",
    "                print(\"Format for input end: \", end)\n",
    "                pass\n",
    "\n",
    "    df_return = df_return.set_index(\"timeslot\").sort_index()\n",
    "\n",
    "    # If agg is not none\n",
    "    if agg is not None:\n",
    "        if agg == \"day\":\n",
    "            df_return = df_return.resample(\"D\").sum()\n",
    "        elif agg == \"week\":\n",
    "            df_return = df_return.resample(\"W\").sum()\n",
    "        elif agg == \"month\":\n",
    "            df_return = df_return.resample(\"M\").sum()\n",
    "        else:\n",
    "            print(\"Aggregation not supported\")\n",
    "            return None\n",
    "\n",
    "    # Return series\n",
    "    return df_return"
   ]
  },
  {
   "cell_type": "code",
   "execution_count": 3,
   "metadata": {},
   "outputs": [
    {
     "name": "stdout",
     "output_type": "stream",
     "text": [
      "Getting series for meter_id: 28ba7f57-6e83-4341-8078-232c1639e4e3\n",
      "Filtering on start and end:  2016-09-04 22:00:00+00:00 2019-05-14 21:00:00+00:00\n",
      "Getting series for meter_id: 28ba7f57-6e83-4341-8078-232c1639e4e3\n",
      "Filtering on start and end:  2016-09-04 22:00:00+00:00 2019-05-14 21:00:00+00:00\n"
     ]
    }
   ],
   "source": [
    "# Choose the meter id with the most observations\n",
    "meter_id = \"28ba7f57-6e83-4341-8078-232c1639e4e3\"\n",
    "\n",
    "series_prod = get_series(meter_id, \"prod\", start=\"2016-09-04 22:00:00+00:00\", end = \"2019-05-14 21:00:00+00:00\")\n",
    "series_cons = get_series(meter_id, \"cons\", start=\"2016-09-04 22:00:00+00:00\", end = \"2019-05-14 21:00:00+00:00\")"
   ]
  },
  {
   "cell_type": "code",
   "execution_count": 5,
   "metadata": {},
   "outputs": [
    {
     "data": {
      "text/html": [
       "<div>\n",
       "<style scoped>\n",
       "    .dataframe tbody tr th:only-of-type {\n",
       "        vertical-align: middle;\n",
       "    }\n",
       "\n",
       "    .dataframe tbody tr th {\n",
       "        vertical-align: top;\n",
       "    }\n",
       "\n",
       "    .dataframe thead th {\n",
       "        text-align: right;\n",
       "    }\n",
       "</style>\n",
       "<table border=\"1\" class=\"dataframe\">\n",
       "  <thead>\n",
       "    <tr style=\"text-align: right;\">\n",
       "      <th></th>\n",
       "      <th>num_kwh_prod</th>\n",
       "      <th>num_kwh_cons</th>\n",
       "      <th>power_yield</th>\n",
       "      <th>timeslot</th>\n",
       "    </tr>\n",
       "  </thead>\n",
       "  <tbody>\n",
       "    <tr>\n",
       "      <th>0</th>\n",
       "      <td>0.0</td>\n",
       "      <td>0.0</td>\n",
       "      <td>0.0</td>\n",
       "      <td>2016-09-04 22:00:00+00:00</td>\n",
       "    </tr>\n",
       "    <tr>\n",
       "      <th>1</th>\n",
       "      <td>0.0</td>\n",
       "      <td>2.0</td>\n",
       "      <td>-2.0</td>\n",
       "      <td>2016-09-04 23:00:00+00:00</td>\n",
       "    </tr>\n",
       "    <tr>\n",
       "      <th>2</th>\n",
       "      <td>0.0</td>\n",
       "      <td>1.0</td>\n",
       "      <td>-1.0</td>\n",
       "      <td>2016-09-05 00:00:00+00:00</td>\n",
       "    </tr>\n",
       "    <tr>\n",
       "      <th>3</th>\n",
       "      <td>0.0</td>\n",
       "      <td>1.0</td>\n",
       "      <td>-1.0</td>\n",
       "      <td>2016-09-05 01:00:00+00:00</td>\n",
       "    </tr>\n",
       "    <tr>\n",
       "      <th>4</th>\n",
       "      <td>0.0</td>\n",
       "      <td>1.0</td>\n",
       "      <td>-1.0</td>\n",
       "      <td>2016-09-05 02:00:00+00:00</td>\n",
       "    </tr>\n",
       "  </tbody>\n",
       "</table>\n",
       "</div>"
      ],
      "text/plain": [
       "   num_kwh_prod  num_kwh_cons  power_yield                  timeslot\n",
       "0           0.0           0.0          0.0 2016-09-04 22:00:00+00:00\n",
       "1           0.0           2.0         -2.0 2016-09-04 23:00:00+00:00\n",
       "2           0.0           1.0         -1.0 2016-09-05 00:00:00+00:00\n",
       "3           0.0           1.0         -1.0 2016-09-05 01:00:00+00:00\n",
       "4           0.0           1.0         -1.0 2016-09-05 02:00:00+00:00"
      ]
     },
     "execution_count": 5,
     "metadata": {},
     "output_type": "execute_result"
    }
   ],
   "source": [
    "# Merge series\n",
    "series_merge = pd.merge(series_prod, series_cons, how=\"outer\", left_index=True, right_index=True)\n",
    "# Rename num_kwh_normalized_x and num_kwh_normalized_y\n",
    "series_merge.columns = [\"num_kwh_prod\", \"num_kwh_cons\"]\n",
    "\n",
    "# Add column called power_yield with the difference between prod and cons\n",
    "series_merge[\"power_yield\"] = series_merge[\"num_kwh_prod\"] - series_merge[\"num_kwh_cons\"]\n",
    "# add column current index as timeslot and reset index\n",
    "series_merge[\"timeslot\"] = series_merge.index\n",
    "series_merge = series_merge.reset_index(drop=True)\n",
    "\n",
    "series_merge.head()"
   ]
  },
  {
   "cell_type": "markdown",
   "metadata": {},
   "source": [
    "## Battery logic rollout"
   ]
  },
  {
   "cell_type": "code",
   "execution_count": 75,
   "metadata": {},
   "outputs": [],
   "source": [
    "def logic_rollout(series_battery, battery, logic, get_price):\n",
    "    \"\"\"Battery logic rollout\n",
    "\n",
    "    Args:\n",
    "        series_battery (DataFrame): time series of battery\n",
    "        battery (object): Battery object \n",
    "        logic (funct): Logic function applied to the row\n",
    "        get_price (funct): Get price function\n",
    "\n",
    "    Returns:\n",
    "        DataFrame: Time series datafram with applied logic and price\n",
    "    \"\"\"\n",
    "    series_battery = series_battery.apply(lambda row: logic(row, battery), axis=1)\n",
    "    series_battery[\"price\"] = series_battery.apply(lambda row: get_price(row[\"surplus_deficit\"], row[\"timeslot\"].hour), axis=1)\n",
    "    series_battery[\"price_cummulative\"] = series_battery[\"price\"].cumsum(axis=0)\n",
    "    return series_battery\n",
    "\n",
    "\n",
    "# Definge get price function   \n",
    "def get_price(demand, hour):\n",
    "    \"\"\"Get price function\n",
    "\n",
    "    Args:\n",
    "        demand (float): Power demand\n",
    "        hour (int): Hour of the day to make price lookup\n",
    "\n",
    "    Returns:\n",
    "        float: Price \n",
    "    \"\"\"\n",
    "    if demand >= 0:\n",
    "        # Selling price \n",
    "        return -demand * hour_lookup_price[str(hour)]*0.25\n",
    "    else:\n",
    "        # Buying price\n",
    "        return -demand * hour_lookup_price[str(hour)]\n",
    "\n",
    "\n",
    "def print_price_summary(series_battery):\n",
    "    start, end = series_battery[\"timeslot\"].iloc[0], series_battery[\"timeslot\"].iloc[-1]\n",
    "    difference_in_years = relativedelta(end, start).years\n",
    "    print(f\"Cost for period: {start} to {end} is: \", round(series_battery[\"price\"].sum(), 0), \" NOK without VAT\")\n",
    "    num_wh_total = series_battery[\"surplus_deficit\"].sum() // 1\n",
    "\n",
    "\n",
    "    time_delta_seconds =  (end-start).total_seconds()\n",
    "    years_timedelta = time_delta_seconds/(365.25*24*60*60)\n",
    "    print(f\"Average cost per year is: {round(series_battery['price'].sum()/years_timedelta,0)} NOK without VAT\")\n",
    "\n",
    "    print(f\"Number of kwh purchased in the period: {-num_wh_total}\")\n",
    "\n",
    "    print(f\"Average number of kwh purchased per year: {-num_wh_total/years_timedelta}\")\n"
   ]
  },
  {
   "cell_type": "markdown",
   "metadata": {},
   "source": [
    "## Calculate Cost without battery\n",
    "Define battery with a capacity of 0 (no battery) and logic function"
   ]
  },
  {
   "cell_type": "code",
   "execution_count": 70,
   "metadata": {},
   "outputs": [],
   "source": [
    "# Define battery with capcacity 0, same as no battery\n",
    "battery = Battery(0)\n",
    "\n",
    "# Define logic, in this case it does nothing\n",
    "def logic(row, battery):\n",
    "    power_yield = row[\"power_yield\"]\n",
    "    battery.charge(power_yield)\n",
    "\n",
    "    row[\"battery_capacity\"] = battery.get_current_capacity()\n",
    "    row[\"surplus_deficit\"] = battery.get_surplus_deficit()\n",
    "    return row\n",
    "\n"
   ]
  },
  {
   "cell_type": "code",
   "execution_count": 78,
   "metadata": {},
   "outputs": [
    {
     "data": {
      "text/html": [
       "<div>\n",
       "<style scoped>\n",
       "    .dataframe tbody tr th:only-of-type {\n",
       "        vertical-align: middle;\n",
       "    }\n",
       "\n",
       "    .dataframe tbody tr th {\n",
       "        vertical-align: top;\n",
       "    }\n",
       "\n",
       "    .dataframe thead th {\n",
       "        text-align: right;\n",
       "    }\n",
       "</style>\n",
       "<table border=\"1\" class=\"dataframe\">\n",
       "  <thead>\n",
       "    <tr style=\"text-align: right;\">\n",
       "      <th></th>\n",
       "      <th>num_kwh_prod</th>\n",
       "      <th>num_kwh_cons</th>\n",
       "      <th>power_yield</th>\n",
       "      <th>timeslot</th>\n",
       "      <th>battery_capacity</th>\n",
       "      <th>surplus_deficit</th>\n",
       "      <th>price</th>\n",
       "      <th>price_cummulative</th>\n",
       "    </tr>\n",
       "  </thead>\n",
       "  <tbody>\n",
       "    <tr>\n",
       "      <th>0</th>\n",
       "      <td>0.0</td>\n",
       "      <td>0.0</td>\n",
       "      <td>0.0</td>\n",
       "      <td>2016-09-04 22:00:00+00:00</td>\n",
       "      <td>0</td>\n",
       "      <td>0.0</td>\n",
       "      <td>-0.000000</td>\n",
       "      <td>-0.000000</td>\n",
       "    </tr>\n",
       "    <tr>\n",
       "      <th>1</th>\n",
       "      <td>0.0</td>\n",
       "      <td>2.0</td>\n",
       "      <td>-2.0</td>\n",
       "      <td>2016-09-04 23:00:00+00:00</td>\n",
       "      <td>0</td>\n",
       "      <td>-2.0</td>\n",
       "      <td>1.452056</td>\n",
       "      <td>1.452056</td>\n",
       "    </tr>\n",
       "    <tr>\n",
       "      <th>2</th>\n",
       "      <td>0.0</td>\n",
       "      <td>1.0</td>\n",
       "      <td>-1.0</td>\n",
       "      <td>2016-09-05 00:00:00+00:00</td>\n",
       "      <td>0</td>\n",
       "      <td>-1.0</td>\n",
       "      <td>0.726028</td>\n",
       "      <td>2.178084</td>\n",
       "    </tr>\n",
       "    <tr>\n",
       "      <th>3</th>\n",
       "      <td>0.0</td>\n",
       "      <td>1.0</td>\n",
       "      <td>-1.0</td>\n",
       "      <td>2016-09-05 01:00:00+00:00</td>\n",
       "      <td>0</td>\n",
       "      <td>-1.0</td>\n",
       "      <td>0.726028</td>\n",
       "      <td>2.904112</td>\n",
       "    </tr>\n",
       "    <tr>\n",
       "      <th>4</th>\n",
       "      <td>0.0</td>\n",
       "      <td>1.0</td>\n",
       "      <td>-1.0</td>\n",
       "      <td>2016-09-05 02:00:00+00:00</td>\n",
       "      <td>0</td>\n",
       "      <td>-1.0</td>\n",
       "      <td>0.726028</td>\n",
       "      <td>3.630140</td>\n",
       "    </tr>\n",
       "  </tbody>\n",
       "</table>\n",
       "</div>"
      ],
      "text/plain": [
       "   num_kwh_prod  num_kwh_cons  power_yield                  timeslot  \\\n",
       "0           0.0           0.0          0.0 2016-09-04 22:00:00+00:00   \n",
       "1           0.0           2.0         -2.0 2016-09-04 23:00:00+00:00   \n",
       "2           0.0           1.0         -1.0 2016-09-05 00:00:00+00:00   \n",
       "3           0.0           1.0         -1.0 2016-09-05 01:00:00+00:00   \n",
       "4           0.0           1.0         -1.0 2016-09-05 02:00:00+00:00   \n",
       "\n",
       "   battery_capacity  surplus_deficit     price  price_cummulative  \n",
       "0                 0              0.0 -0.000000          -0.000000  \n",
       "1                 0             -2.0  1.452056           1.452056  \n",
       "2                 0             -1.0  0.726028           2.178084  \n",
       "3                 0             -1.0  0.726028           2.904112  \n",
       "4                 0             -1.0  0.726028           3.630140  "
      ]
     },
     "execution_count": 78,
     "metadata": {},
     "output_type": "execute_result"
    }
   ],
   "source": [
    "# Copy series \n",
    "series_no_battery = series_merge.copy()\n",
    "\n",
    "# Logic rollout \n",
    "series_no_battery = logic_rollout(series_no_battery, battery, logic, get_price)\n",
    "series_no_battery.head()"
   ]
  },
  {
   "cell_type": "markdown",
   "metadata": {},
   "source": [
    "Summary of cost"
   ]
  },
  {
   "cell_type": "code",
   "execution_count": 79,
   "metadata": {},
   "outputs": [
    {
     "name": "stdout",
     "output_type": "stream",
     "text": [
      "Cost for period: 2016-09-04 22:00:00+00:00 to 2019-05-14 21:00:00+00:00 is:  60849.0  NOK without VAT\n",
      "Average cost per year is: 22634.0 NOK without VAT\n",
      "Number of kwh purchased in the period: 76590.0\n",
      "Average number of kwh purchased per year: 28488.477107820254\n"
     ]
    }
   ],
   "source": [
    "print_price_summary(series_no_battery)"
   ]
  },
  {
   "cell_type": "markdown",
   "metadata": {},
   "source": [
    "## Calculate Cost with battery with simple logic\n",
    "Charge battery when in surplus, use from battery when in deficit"
   ]
  },
  {
   "cell_type": "code",
   "execution_count": 163,
   "metadata": {},
   "outputs": [],
   "source": [
    "# Define battery with capcacity\n",
    "battery = Battery(max_capacity=12)\n",
    "\n",
    "# Define logic charge/discharge battery if needed\n",
    "def logic(row, battery):\n",
    "    power_yield = row[\"power_yield\"]\n",
    "    battery.charge(power_yield)\n",
    "\n",
    "    row[\"battery_capacity\"] = battery.get_current_capacity()\n",
    "    row[\"surplus_deficit\"] = battery.get_surplus_deficit()\n",
    "    return row"
   ]
  },
  {
   "cell_type": "code",
   "execution_count": 164,
   "metadata": {},
   "outputs": [],
   "source": [
    "# Logic rollout \n",
    "series_battery = logic_rollout(series_merge.copy(), battery, logic, get_price)"
   ]
  },
  {
   "cell_type": "code",
   "execution_count": 165,
   "metadata": {},
   "outputs": [
    {
     "name": "stdout",
     "output_type": "stream",
     "text": [
      "Cost for period: 2016-09-04 22:00:00+00:00 to 2019-05-14 21:00:00+00:00 is:  58852.0  NOK without VAT\n",
      "Average cost per year is: 21891.0 NOK without VAT\n",
      "Number of kwh purchased in the period: 76590.0\n",
      "Average number of kwh purchased per year: 28488.477107820254\n"
     ]
    }
   ],
   "source": [
    "print_price_summary(series_battery)"
   ]
  },
  {
   "cell_type": "code",
   "execution_count": 119,
   "metadata": {},
   "outputs": [],
   "source": [
    "def moving_average(timeseries, window):\n",
    "    \"\"\"Calculate the moving average of a timeseries.\n",
    "\n",
    "    Args:\n",
    "        timeseries (pd.Series): timeseries\n",
    "        window (int): Window size\n",
    "\n",
    "    Returns:\n",
    "        pd.Series: Smoothened timeseries\n",
    "    \"\"\"\n",
    "    return timeseries.rolling(window=window, center=True).mean()\n",
    "\n"
   ]
  },
  {
   "cell_type": "code",
   "execution_count": 123,
   "metadata": {},
   "outputs": [
    {
     "data": {
      "image/png": "[encoded data removed]",
      "text/plain": [
       "<Figure size 864x432 with 1 Axes>"
      ]
     },
     "metadata": {},
     "output_type": "display_data"
    }
   ],
   "source": [
    "# plot battery capacity and power yield in same plot with plotly\n",
    "import seaborn as sns\n",
    "sns.set()\n",
    "\n",
    "fig, ax = plt.subplots(figsize=(12, 6))\n",
    "ax.plot(series_battery[\"timeslot\"], moving_average(series_battery[\"battery_capacity\"], 80), label=\"Battery capacity\", alpha=0.75)\n",
    "ax.plot(series_battery[\"timeslot\"], moving_average(series_battery[\"power_yield\"], 80), label=\"Power yield\", alpha=0.5)\n",
    "ax.plot(series_battery[\"timeslot\"], moving_average(series_battery[\"surplus_deficit\"], 80), label=\"Surplus Deficit\", alpha=0.75)\n",
    "ax.legend()\n",
    "plt.show()"
   ]
  },
  {
   "cell_type": "code",
   "execution_count": null,
   "metadata": {},
   "outputs": [],
   "source": []
  },
  {
   "cell_type": "markdown",
   "metadata": {},
   "source": [
    "## Estimate cost with battery and with logic"
   ]
  },
  {
   "cell_type": "markdown",
   "metadata": {},
   "source": [
    "if next hour's estimated cost is higher than our current - we wait discharging our battery"
   ]
  },
  {
   "cell_type": "code",
   "execution_count": 158,
   "metadata": {},
   "outputs": [],
   "source": [
    "# Initialise battery\n",
    "battery = Battery2(max_capacity=12)\n",
    "\n",
    "# Define logic \n",
    "def price_optimisation_logic(row, battery):\n",
    "\n",
    "    power_yield = row[\"power_yield\"]\n",
    "    hour = row[\"timeslot\"].hour\n",
    "\n",
    "\n",
    "    peak_hours = [8, 9, 10, 11, 16, 17, 18, 19]\n",
    "    # if hour is in peak hours we sell all the power we have and produce\n",
    "    if hour in peak_hours:\n",
    "        if power_yield >= 0:\n",
    "            current_charge = battery.get_current_capacity()\n",
    "            current_charge += power_yield\n",
    "            battery.current_capacity = 0\n",
    "            row[\"surplus_deficit\"] = current_charge\n",
    "        else:\n",
    "            battery.charge(power_yield)\n",
    "            surplus = battery.get_surplus_deficit()\n",
    "            if surplus >= 0:\n",
    "                remaining_capacity = battery.get_current_capacity()\n",
    "                battery.current_capacity = 0\n",
    "                row[\"surplus_deficit\"] = remaining_capacity\n",
    "            else:\n",
    "                row[\"surplus_deficit\"] = battery.get_surplus_deficit()\n",
    "    else:\n",
    "        if power_yield >= 0:\n",
    "            battery.charge(power_yield)\n",
    "            if battery.get_current_capacity() != battery.get_max_capacity():\n",
    "                buy = -(battery.get_max_capacity() - battery.get_current_capacity())\n",
    "                battery.current_capacity = battery.get_max_capacity()\n",
    "\n",
    "                row[\"surplus_deficit\"] = buy\n",
    "            else:\n",
    "                row[\"surplus_deficit\"] = battery.get_surplus_deficit()\n",
    "\n",
    "        else:\n",
    "            row[\"surplus_deficit\"] = power_yield - (battery.get_max_capacity() - battery.get_current_capacity())\n",
    "    \n",
    "    row[\"battery_capacity\"] = battery.get_current_capacity()\n",
    "    return row"
   ]
  },
  {
   "cell_type": "code",
   "execution_count": 159,
   "metadata": {},
   "outputs": [],
   "source": [
    "series_battery_logic = logic_rollout(series_merge.copy(), battery, price_optimisation_logic, get_price)"
   ]
  },
  {
   "cell_type": "code",
   "execution_count": 162,
   "metadata": {},
   "outputs": [
    {
     "name": "stdout",
     "output_type": "stream",
     "text": [
      "Cost for period: 2016-09-04 22:00:00+00:00 to 2019-05-14 21:00:00+00:00 is:  172004.0  NOK without VAT\n",
      "Average cost per year is: 63979.0 NOK without VAT\n",
      "Number of kwh purchased in the period: 224922.0\n",
      "Average number of kwh purchased per year: 83662.16540077225\n"
     ]
    }
   ],
   "source": [
    "print_price_summary(series_battery_logic)"
   ]
  },
  {
   "cell_type": "code",
   "execution_count": 153,
   "metadata": {},
   "outputs": [
    {
     "data": {
      "image/png": "[encoded data removed]",
      "text/plain": [
       "<Figure size 864x432 with 1 Axes>"
      ]
     },
     "metadata": {},
     "output_type": "display_data"
    }
   ],
   "source": [
    "import seaborn as sns\n",
    "sns.set()\n",
    "fig, ax = plt.subplots(figsize=(12, 6))\n",
    "# ax.plot(series_battery_logic[\"timeslot\"], series_battery_logic[\"battery_capacity\"], label=\"Battery capacity\")\n",
    "ax.plot(series_battery_logic[\"timeslot\"], series_battery_logic[\"power_yield\"], label=\"Power yield\")\n",
    "ax.plot(series_battery_logic[\"timeslot\"], series_battery_logic[\"surplus_deficit\"], label=\"Beyond Battery Capacity\")\n",
    "ax.legend()\n",
    "plt.show()"
   ]
  }
 ],
 "metadata": {
  "interpreter": {
   "hash": "75689878a105dee67c5a2a8f384e2aa8da20bcff148463addcb4797f6b921216"
  },
  "kernelspec": {
   "display_name": "Python 3.8.8 ('venv': venv)",
   "language": "python",
   "name": "python3"
  },
  "language_info": {
   "codemirror_mode": {
    "name": "ipython",
    "version": 3
   },
   "file_extension": ".py",
   "mimetype": "text/x-python",
   "name": "python",
   "nbconvert_exporter": "python",
   "pygments_lexer": "ipython3",
   "version": "3.8.8"
  },
  "orig_nbformat": 4
 },
 "nbformat": 4,
 "nbformat_minor": 2
}
