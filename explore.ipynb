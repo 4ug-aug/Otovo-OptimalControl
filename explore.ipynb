{
 "cells": [
  {
   "cell_type": "markdown",
   "metadata": {},
   "source": [
    "# Imports "
   ]
  },
  {
   "cell_type": "code",
   "execution_count": 1,
   "metadata": {},
   "outputs": [],
   "source": [
    "import dask.dataframe as dd\n",
    "import pandas as pd\n",
    "import matplotlib.pyplot as plt"
   ]
  },
  {
   "cell_type": "markdown",
   "metadata": {},
   "source": [
    "# Full dataset\n",
    "Load gridtx-dump"
   ]
  },
  {
   "cell_type": "code",
   "execution_count": 126,
   "metadata": {},
   "outputs": [],
   "source": [
    "# Load gridtx dump \n",
    "dtype={'adjusts_id': 'object',\n",
    "       'ediel_product_code': 'float64',\n",
    "       'invoice_item_id': 'object',\n",
    "       'parent_id': 'object',\n",
    "       'meter_id': 'object'}\n",
    "\n",
    "file = \"data/gridtx-dump.csv\"\n",
    "df = dd.read_csv(file, sep=\";\", dtype=dtype)"
   ]
  },
  {
   "cell_type": "markdown",
   "metadata": {},
   "source": [
    "Explore gridtx dump"
   ]
  },
  {
   "cell_type": "code",
   "execution_count": 131,
   "metadata": {},
   "outputs": [
    {
     "data": {
      "text/plain": [
       "1969"
      ]
     },
     "execution_count": 131,
     "metadata": {},
     "output_type": "execute_result"
    }
   ],
   "source": [
    "# Get uniqe meter ids \n",
    "meter_ids = df[\"meter_id\"].unique().compute()\n",
    "len(meter_ids)"
   ]
  },
  {
   "cell_type": "code",
   "execution_count": 48,
   "metadata": {},
   "outputs": [
    {
     "data": {
      "text/plain": [
       "40075583"
      ]
     },
     "execution_count": 48,
     "metadata": {},
     "output_type": "execute_result"
    }
   ],
   "source": [
    "# Get number of rows in dataframe\n",
    "num_rows = len(df)\n",
    "num_rows"
   ]
  },
  {
   "cell_type": "code",
   "execution_count": 50,
   "metadata": {},
   "outputs": [],
   "source": [
    "# Number of unique rows in dataset\n",
    "unique_rows = len(df.drop_duplicates())\n",
    "unique_rows\n"
   ]
  },
  {
   "cell_type": "code",
   "execution_count": 46,
   "metadata": {},
   "outputs": [
    {
     "data": {
      "text/plain": [
       "24440788"
      ]
     },
     "execution_count": 46,
     "metadata": {},
     "output_type": "execute_result"
    }
   ],
   "source": [
    "# Check if timeslot is uniqe\n",
    "timeslot_unique_count = df[[\"timeslot\",\"meter_id\", \"type\"]].drop_duplicates().shape[0].compute()\n",
    "timeslot_unique_count"
   ]
  },
  {
   "cell_type": "code",
   "execution_count": 3,
   "metadata": {},
   "outputs": [
    {
     "data": {
      "text/html": [
       "<div>\n",
       "<style scoped>\n",
       "    .dataframe tbody tr th:only-of-type {\n",
       "        vertical-align: middle;\n",
       "    }\n",
       "\n",
       "    .dataframe tbody tr th {\n",
       "        vertical-align: top;\n",
       "    }\n",
       "\n",
       "    .dataframe thead th {\n",
       "        text-align: right;\n",
       "    }\n",
       "</style>\n",
       "<table border=\"1\" class=\"dataframe\">\n",
       "  <thead>\n",
       "    <tr style=\"text-align: right;\">\n",
       "      <th></th>\n",
       "      <th>num_kwh</th>\n",
       "      <th>spot_price_no_vat</th>\n",
       "      <th>amount_no_vat</th>\n",
       "      <th>amount_with_vat</th>\n",
       "      <th>vat_percent</th>\n",
       "      <th>ediel_product_code</th>\n",
       "      <th>kwh_fee_no_vat</th>\n",
       "    </tr>\n",
       "  </thead>\n",
       "  <tbody>\n",
       "    <tr>\n",
       "      <th>count</th>\n",
       "      <td>4.007558e+07</td>\n",
       "      <td>4.002075e+07</td>\n",
       "      <td>4.007558e+07</td>\n",
       "      <td>4.007558e+07</td>\n",
       "      <td>4.007558e+07</td>\n",
       "      <td>3.997582e+07</td>\n",
       "      <td>4.007558e+07</td>\n",
       "    </tr>\n",
       "    <tr>\n",
       "      <th>mean</th>\n",
       "      <td>1.261181e+00</td>\n",
       "      <td>-1.191252e-01</td>\n",
       "      <td>1.322791e-03</td>\n",
       "      <td>1.862953e-03</td>\n",
       "      <td>1.670095e+01</td>\n",
       "      <td>1.491748e+03</td>\n",
       "      <td>1.492465e-02</td>\n",
       "    </tr>\n",
       "    <tr>\n",
       "      <th>std</th>\n",
       "      <td>5.996560e+00</td>\n",
       "      <td>6.360822e-01</td>\n",
       "      <td>2.223072e+01</td>\n",
       "      <td>2.746402e+01</td>\n",
       "      <td>1.177294e+01</td>\n",
       "      <td>8.819701e+00</td>\n",
       "      <td>2.259279e-02</td>\n",
       "    </tr>\n",
       "    <tr>\n",
       "      <th>min</th>\n",
       "      <td>-1.560000e+03</td>\n",
       "      <td>-1.116000e+00</td>\n",
       "      <td>-9.646320e+03</td>\n",
       "      <td>-1.205790e+04</td>\n",
       "      <td>0.000000e+00</td>\n",
       "      <td>1.481000e+03</td>\n",
       "      <td>0.000000e+00</td>\n",
       "    </tr>\n",
       "    <tr>\n",
       "      <th>25%</th>\n",
       "      <td>0.000000e+00</td>\n",
       "      <td>2.000000e-02</td>\n",
       "      <td>0.000000e+00</td>\n",
       "      <td>0.000000e+00</td>\n",
       "      <td>2.500000e+01</td>\n",
       "      <td>1.491000e+03</td>\n",
       "      <td>0.000000e+00</td>\n",
       "    </tr>\n",
       "    <tr>\n",
       "      <th>50%</th>\n",
       "      <td>0.000000e+00</td>\n",
       "      <td>3.722800e-01</td>\n",
       "      <td>0.000000e+00</td>\n",
       "      <td>0.000000e+00</td>\n",
       "      <td>2.500000e+01</td>\n",
       "      <td>1.491000e+03</td>\n",
       "      <td>0.000000e+00</td>\n",
       "    </tr>\n",
       "    <tr>\n",
       "      <th>75%</th>\n",
       "      <td>2.047500e+00</td>\n",
       "      <td>5.370600e-01</td>\n",
       "      <td>1.261000e+00</td>\n",
       "      <td>1.577000e+00</td>\n",
       "      <td>2.500000e+01</td>\n",
       "      <td>1.491000e+03</td>\n",
       "      <td>5.600000e-02</td>\n",
       "    </tr>\n",
       "    <tr>\n",
       "      <th>max</th>\n",
       "      <td>2.347000e+03</td>\n",
       "      <td>2.454310e+00</td>\n",
       "      <td>6.255580e+03</td>\n",
       "      <td>7.819480e+03</td>\n",
       "      <td>2.500000e+01</td>\n",
       "      <td>1.591000e+03</td>\n",
       "      <td>5.600000e-02</td>\n",
       "    </tr>\n",
       "  </tbody>\n",
       "</table>\n",
       "</div>"
      ],
      "text/plain": [
       "            num_kwh  spot_price_no_vat  amount_no_vat  amount_with_vat  \\\n",
       "count  4.007558e+07       4.002075e+07   4.007558e+07     4.007558e+07   \n",
       "mean   1.261181e+00      -1.191252e-01   1.322791e-03     1.862953e-03   \n",
       "std    5.996560e+00       6.360822e-01   2.223072e+01     2.746402e+01   \n",
       "min   -1.560000e+03      -1.116000e+00  -9.646320e+03    -1.205790e+04   \n",
       "25%    0.000000e+00       2.000000e-02   0.000000e+00     0.000000e+00   \n",
       "50%    0.000000e+00       3.722800e-01   0.000000e+00     0.000000e+00   \n",
       "75%    2.047500e+00       5.370600e-01   1.261000e+00     1.577000e+00   \n",
       "max    2.347000e+03       2.454310e+00   6.255580e+03     7.819480e+03   \n",
       "\n",
       "        vat_percent  ediel_product_code  kwh_fee_no_vat  \n",
       "count  4.007558e+07        3.997582e+07    4.007558e+07  \n",
       "mean   1.670095e+01        1.491748e+03    1.492465e-02  \n",
       "std    1.177294e+01        8.819701e+00    2.259279e-02  \n",
       "min    0.000000e+00        1.481000e+03    0.000000e+00  \n",
       "25%    2.500000e+01        1.491000e+03    0.000000e+00  \n",
       "50%    2.500000e+01        1.491000e+03    0.000000e+00  \n",
       "75%    2.500000e+01        1.491000e+03    5.600000e-02  \n",
       "max    2.500000e+01        1.591000e+03    5.600000e-02  "
      ]
     },
     "execution_count": 3,
     "metadata": {},
     "output_type": "execute_result"
    }
   ],
   "source": [
    "# Descibe data \n",
    "df.describe().compute()"
   ]
  },
  {
   "cell_type": "code",
   "execution_count": 3,
   "metadata": {},
   "outputs": [],
   "source": [
    "meter_row_counts = df[\"meter_id\"].value_counts().compute()"
   ]
  },
  {
   "cell_type": "markdown",
   "metadata": {},
   "source": [
    "# New metering-point data\n",
    "Creates a new metering-point dataset so we only include meters that are in our gridtx dataset"
   ]
  },
  {
   "cell_type": "code",
   "execution_count": 132,
   "metadata": {},
   "outputs": [
    {
     "name": "stdout",
     "output_type": "stream",
     "text": [
      "Number of rows in meters dataset:  2049\n",
      "Number of rows in new meters dataset:  1968\n"
     ]
    }
   ],
   "source": [
    "meters = pd.read_csv(\"data/grid-metering-point-dump-plus-zipcode-GMAPS.csv\")\n",
    "print(\"Number of rows in meters dataset: \", str(len(meters)))\n",
    "new_meters = meters[meters.idgrid_data_table.isin(meter_ids)]\n",
    "print(\"Number of rows in new meters dataset: \", str(len(new_meters)))"
   ]
  },
  {
   "cell_type": "code",
   "execution_count": 41,
   "metadata": {},
   "outputs": [],
   "source": [
    "new_meters.to_csv(\"data/grid-metering-point-dump-plus-zipcode-GMAPS-in-gridtx.csv\")"
   ]
  },
  {
   "cell_type": "markdown",
   "metadata": {},
   "source": [
    "# Explore meters\n",
    "Explore the newly created dataset"
   ]
  },
  {
   "cell_type": "code",
   "execution_count": 133,
   "metadata": {},
   "outputs": [],
   "source": [
    "# Load data\n",
    "new_meters = pd.read_csv(\"data/grid-metering-point-dump-plus-zipcode-GMAPS-in-gridtx.csv\")\n",
    "\n",
    "new_meters = new_meters[['idgrid_data_table', 'created_atgrid_data_table',\n",
    "       'updated_atgrid_data_table', 'meter_number', 'ean', 'automatic_meter',\n",
    "       'street_address', 'grid_owner_id', 'metering_grid_area', 'zip_code_id',\n",
    "       'provider', 'settlement_method', 'market_balance_area', 'code', 'name',\n",
    "       'idzipcode_table', 'created_atzipcode_table', 'updated_atzipcode_table',\n",
    "       'country', 'full_address', 'lat', 'lng']]\n"
   ]
  },
  {
   "cell_type": "code",
   "execution_count": 196,
   "metadata": {},
   "outputs": [],
   "source": [
    "NO1_meters = list(new_meters[new_meters[\"market_balance_area\"] == \"NO1\"][\"idgrid_data_table\"])\n",
    "NO2_meters = list(new_meters[new_meters[\"market_balance_area\"] == \"NO2\"][\"idgrid_data_table\"])\n",
    "NO3_meters = list(new_meters[new_meters[\"market_balance_area\"] == \"NO3\"][\"idgrid_data_table\"])\n",
    "NO4_meters = list(new_meters[new_meters[\"market_balance_area\"] == \"NO4\"][\"idgrid_data_table\"])\n",
    "NO5_meters = list(new_meters[new_meters[\"market_balance_area\"] == \"NO5\"][\"idgrid_data_table\"])\n",
    "\n",
    "# print(new_meters[\"market_balance_area\"].value_counts().to_latex())"
   ]
  },
  {
   "cell_type": "code",
   "execution_count": 219,
   "metadata": {},
   "outputs": [
    {
     "name": "stdout",
     "output_type": "stream",
     "text": [
      "t    1907\n",
      "f      61\n",
      "Name: automatic_meter, dtype: int64\n"
     ]
    }
   ],
   "source": [
    "# Count automatic meters \n",
    "print(new_meters[\"automatic_meter\"].value_counts())\n",
    "\n",
    "non_automatic_meters = list(new_meters[new_meters[\"automatic_meter\"] == \"f\"][\"idgrid_data_table\"])\n",
    "automatic_meters = list(new_meters[new_meters[\"automatic_meter\"] == \"t\"][\"idgrid_data_table\"])\n",
    "\n",
    "\n",
    "# Describe observation amount of non-automatic meters \n",
    "# print(\"Describe non-automatic meters count:\")\n",
    "# print(meter_row_counts[non_automatic_meters].describe())\n",
    "# print(\"Describe automatic meters count:\")\n",
    "# print(meter_row_counts[automatic_meters])"
   ]
  },
  {
   "cell_type": "code",
   "execution_count": 215,
   "metadata": {},
   "outputs": [
    {
     "data": {
      "image/png": "[encoded data removed]",
      "text/plain": [
       "<Figure size 576x396 with 1 Axes>"
      ]
     },
     "metadata": {},
     "output_type": "display_data"
    }
   ],
   "source": [
    "with plt.style.context(\"seaborn\"):\n",
    "    plt.boxplot([meter_row_counts[automatic_meters], meter_row_counts[non_automatic_meters]])\n",
    "    plt.title(\"Observation count for each meter\")\n",
    "    plt.xticks([1, 2], ['automatic_meters', 'non_automatic_meters'])\n"
   ]
  },
  {
   "cell_type": "code",
   "execution_count": 160,
   "metadata": {},
   "outputs": [
    {
     "name": "stdout",
     "output_type": "stream",
     "text": [
      "There are 7 hourly meters\n",
      "There are 0 daily meters\n"
     ]
    }
   ],
   "source": [
    "\n",
    "# Get hourly meters by code \n",
    "# hourly_meter_codes = [1491, 1481]\n",
    "hourly_meters = new_meters[(new_meters[\"code\"] == 1491) | (new_meters[\"code\"] == 1481)]\n",
    "daily_meters = new_meters[(new_meters[\"code\"] == 1591) | (new_meters[\"code\"] == 1581)]\n",
    "\n",
    "print(f\"There are {len(hourly_meters)} hourly meters\")\n",
    "print(f\"There are {len(daily_meters)} daily meters\")"
   ]
  },
  {
   "cell_type": "code",
   "execution_count": 83,
   "metadata": {},
   "outputs": [
    {
     "data": {
      "text/plain": [
       "NO1    50\n",
       "NO2     7\n",
       "NO5     3\n",
       "NO3     1\n",
       "Name: market_balance_area, dtype: int64"
      ]
     },
     "execution_count": 83,
     "metadata": {},
     "output_type": "execute_result"
    }
   ],
   "source": [
    "new_meters[new_meters[\"automatic_meter\"] == \"f\"][\"market_balance_area\"].value_counts()\n"
   ]
  },
  {
   "cell_type": "code",
   "execution_count": 162,
   "metadata": {},
   "outputs": [
    {
     "data": {
      "text/plain": [
       "Z32    1821\n",
       "Z31     147\n",
       "Name: settlement_method, dtype: int64"
      ]
     },
     "execution_count": 162,
     "metadata": {},
     "output_type": "execute_result"
    }
   ],
   "source": [
    "Z32_meters = list(new_meters[new_meters[\"settlement_method\"] == \"Z32\"][\"idgrid_data_table\"])\n",
    "Z31_meters = list(new_meters[new_meters[\"settlement_method\"] == \"Z31\"][\"idgrid_data_table\"])\n",
    "\n",
    "new_meters[\"settlement_method\"].value_counts()"
   ]
  },
  {
   "cell_type": "code",
   "execution_count": 216,
   "metadata": {},
   "outputs": [
    {
     "data": {
      "image/png": "[encoded data removed]",
      "text/plain": [
       "<Figure size 576x396 with 1 Axes>"
      ]
     },
     "metadata": {},
     "output_type": "display_data"
    }
   ],
   "source": [
    "with plt.style.context(\"seaborn\"):\n",
    "    plt.boxplot([meter_row_counts[Z31_meters], meter_row_counts[Z32_meters]])\n",
    "    plt.title(\"Observation count for each meter\")\n",
    "    plt.xticks([1, 2], ['Z31_meters', 'Z32_meters'])"
   ]
  },
  {
   "cell_type": "code",
   "execution_count": 228,
   "metadata": {},
   "outputs": [
    {
     "data": {
      "text/plain": [
       "Z31    61\n",
       "Name: settlement_method, dtype: int64"
      ]
     },
     "execution_count": 228,
     "metadata": {},
     "output_type": "execute_result"
    }
   ],
   "source": [
    "# Check the settlement method for the non_automatic meters \n",
    "new_meters[new_meters[\"idgrid_data_table\"].isin(non_automatic_meters)][\"settlement_method\"].value_counts()\n",
    "\n"
   ]
  },
  {
   "cell_type": "code",
   "execution_count": 267,
   "metadata": {},
   "outputs": [
    {
     "data": {
      "image/png": "[encoded data removed]",
      "text/plain": [
       "<Figure size 576x396 with 1 Axes>"
      ]
     },
     "metadata": {},
     "output_type": "display_data"
    }
   ],
   "source": [
    "with plt.style.context(\"seaborn\"):\n",
    "    plt.boxplot([ new_meters[\"lat\"], new_meters[new_meters[\"idgrid_data_table\"].isin(NO1_meters)][\"lat\"], new_meters[(new_meters[\"idgrid_data_table\"].isin(NO1_meters)) | (new_meters[\"idgrid_data_table\"].isin(NO2_meters))][\"lat\"] ])\n",
    "    plt.title(\"Meter location latitude\")\n",
    "    plt.xticks([1, 2, 3], ['latitude (all meters)', 'latitude (NO1)', 'latitude (NO1 and NO2)'])\n"
   ]
  },
  {
   "cell_type": "code",
   "execution_count": null,
   "metadata": {},
   "outputs": [
    {
     "name": "stdout",
     "output_type": "stream",
     "text": [
      "1456 meters in the updated dataset\n"
     ]
    }
   ],
   "source": [
    "ids_to_keep = list(new_meters[\"idgrid_data_table\"])\n",
    "\n",
    "updated_meter_ids = [id for id in ids_to_keep if id not in non_automatic_meters]\n",
    "updated_meter_ids = [id for id in updated_meter_ids if id not in Z31_meters]\n",
    "updated_meter_ids = [id for id in updated_meter_ids if id in NO1_meters]\n",
    "\n",
    "print(f\"{len(updated_meter_ids)} meters in the updated dataset\")"
   ]
  },
  {
   "cell_type": "code",
   "execution_count": null,
   "metadata": {},
   "outputs": [
    {
     "data": {
      "text/plain": [
       "98"
      ]
     },
     "execution_count": 166,
     "metadata": {},
     "output_type": "execute_result"
    }
   ],
   "source": [
    "# hourly_meter_ids = list(new_meters[(new_meters[\"code\"] < 1500) & (new_meters[\"code\"] >= 1400)][\"idgrid_data_table\"])\n",
    "# daily_meter_ids = list(new_meters[(new_meters[\"code\"] < 1600) & (new_meters[\"code\"] >= 1500)][\"idgrid_data_table\"])"
   ]
  },
  {
   "cell_type": "code",
   "execution_count": null,
   "metadata": {},
   "outputs": [
    {
     "data": {
      "text/plain": [
       "count        98.000000\n",
       "mean      27129.469388\n",
       "std       29106.730007\n",
       "min          12.000000\n",
       "25%        3032.500000\n",
       "50%       15980.000000\n",
       "75%       45153.250000\n",
       "max      116491.000000\n",
       "Name: meter_id, dtype: float64"
      ]
     },
     "execution_count": 53,
     "metadata": {},
     "output_type": "execute_result"
    }
   ],
   "source": [
    "meter_row_counts[hourly_meter_ids].describe()"
   ]
  },
  {
   "cell_type": "code",
   "execution_count": null,
   "metadata": {},
   "outputs": [
    {
     "data": {
      "text/plain": [
       "count       117.000000\n",
       "mean      10966.572650\n",
       "std       14983.078372\n",
       "min          17.000000\n",
       "25%        2849.000000\n",
       "50%        7039.000000\n",
       "75%       10216.000000\n",
       "max      105251.000000\n",
       "Name: meter_id, dtype: float64"
      ]
     },
     "execution_count": 54,
     "metadata": {},
     "output_type": "execute_result"
    }
   ],
   "source": [
    "meter_row_counts[daily_meter_ids].describe()"
   ]
  },
  {
   "cell_type": "code",
   "execution_count": null,
   "metadata": {},
   "outputs": [
    {
     "data": {
      "text/html": [
       "<div>\n",
       "<style scoped>\n",
       "    .dataframe tbody tr th:only-of-type {\n",
       "        vertical-align: middle;\n",
       "    }\n",
       "\n",
       "    .dataframe tbody tr th {\n",
       "        vertical-align: top;\n",
       "    }\n",
       "\n",
       "    .dataframe thead th {\n",
       "        text-align: right;\n",
       "    }\n",
       "</style>\n",
       "<table border=\"1\" class=\"dataframe\">\n",
       "  <thead>\n",
       "    <tr style=\"text-align: right;\">\n",
       "      <th></th>\n",
       "      <th>id</th>\n",
       "      <th>created_at</th>\n",
       "      <th>updated_at</th>\n",
       "      <th>num_kwh</th>\n",
       "      <th>timeslot</th>\n",
       "      <th>type</th>\n",
       "      <th>estimation</th>\n",
       "      <th>spot_price_no_vat</th>\n",
       "      <th>amount_no_vat</th>\n",
       "      <th>adjusts_id</th>\n",
       "      <th>parent_id</th>\n",
       "      <th>vat_percent</th>\n",
       "      <th>meter_id</th>\n",
       "      <th>kwh_fee_no_vat</th>\n",
       "    </tr>\n",
       "  </thead>\n",
       "  <tbody>\n",
       "    <tr>\n",
       "      <th>0</th>\n",
       "      <td>5aa2b892-d0eb-4c9d-97c0-460d3a94fea9</td>\n",
       "      <td>2017-12-22 05:29:21.359837+01</td>\n",
       "      <td>2017-12-22 05:29:21.359837+01</td>\n",
       "      <td>3.0</td>\n",
       "      <td>2017-12-13 02:00:00+01</td>\n",
       "      <td>elcert</td>\n",
       "      <td>f</td>\n",
       "      <td>0.020</td>\n",
       "      <td>0.06</td>\n",
       "      <td>NaN</td>\n",
       "      <td>3d6248ef-7055-463d-ba6b-db02072b976a</td>\n",
       "      <td>25</td>\n",
       "      <td>3ba47f27-33e8-4764-a390-d33ca37d625f</td>\n",
       "      <td>0.0</td>\n",
       "    </tr>\n",
       "    <tr>\n",
       "      <th>1</th>\n",
       "      <td>2b74be2c-4cc9-4c55-a5bb-f53b9365fb6c</td>\n",
       "      <td>2017-12-22 05:29:23.71587+01</td>\n",
       "      <td>2017-12-22 05:29:23.71587+01</td>\n",
       "      <td>0.0</td>\n",
       "      <td>2017-12-12 17:00:00+01</td>\n",
       "      <td>production</td>\n",
       "      <td>f</td>\n",
       "      <td>-1.000</td>\n",
       "      <td>0.00</td>\n",
       "      <td>4cad8e91-31f5-48a7-8f46-4438fe9883bf</td>\n",
       "      <td>52c6d1fd-16a7-4a18-8078-f1ae4575aba4</td>\n",
       "      <td>0</td>\n",
       "      <td>3ba47f27-33e8-4764-a390-d33ca37d625f</td>\n",
       "      <td>0.0</td>\n",
       "    </tr>\n",
       "    <tr>\n",
       "      <th>2</th>\n",
       "      <td>9afa70a4-b11e-4c32-93b0-ed83af9311a9</td>\n",
       "      <td>2017-12-22 05:29:23.799782+01</td>\n",
       "      <td>2017-12-22 05:29:23.799782+01</td>\n",
       "      <td>0.0</td>\n",
       "      <td>2017-12-12 16:00:00+01</td>\n",
       "      <td>production</td>\n",
       "      <td>f</td>\n",
       "      <td>-1.000</td>\n",
       "      <td>0.00</td>\n",
       "      <td>NaN</td>\n",
       "      <td>NaN</td>\n",
       "      <td>0</td>\n",
       "      <td>3ba47f27-33e8-4764-a390-d33ca37d625f</td>\n",
       "      <td>0.0</td>\n",
       "    </tr>\n",
       "    <tr>\n",
       "      <th>3</th>\n",
       "      <td>e1e0751e-16e6-4b31-9e66-c4a16ecb1cab</td>\n",
       "      <td>2017-12-22 05:29:26.089094+01</td>\n",
       "      <td>2017-12-22 05:29:26.089094+01</td>\n",
       "      <td>0.0</td>\n",
       "      <td>2017-12-12 08:00:00+01</td>\n",
       "      <td>production</td>\n",
       "      <td>f</td>\n",
       "      <td>-1.000</td>\n",
       "      <td>0.00</td>\n",
       "      <td>51e84716-3a8a-460a-8d46-d0f6b316c169</td>\n",
       "      <td>8f3ec39a-f394-4dca-9036-00054b061cec</td>\n",
       "      <td>0</td>\n",
       "      <td>3ba47f27-33e8-4764-a390-d33ca37d625f</td>\n",
       "      <td>0.0</td>\n",
       "    </tr>\n",
       "    <tr>\n",
       "      <th>4</th>\n",
       "      <td>dbdc1d94-05bf-4567-a3a8-0f7c1d8c8bf3</td>\n",
       "      <td>2017-12-22 05:29:30.795343+01</td>\n",
       "      <td>2017-12-22 05:29:30.795343+01</td>\n",
       "      <td>0.0</td>\n",
       "      <td>2017-12-11 14:00:00+01</td>\n",
       "      <td>consumption</td>\n",
       "      <td>f</td>\n",
       "      <td>0.519</td>\n",
       "      <td>0.00</td>\n",
       "      <td>ec1a3474-2178-432d-9d4c-947d09b23706</td>\n",
       "      <td>3992ce36-3fc7-4770-b4f1-315fdb109a58</td>\n",
       "      <td>25</td>\n",
       "      <td>3ba47f27-33e8-4764-a390-d33ca37d625f</td>\n",
       "      <td>0.0</td>\n",
       "    </tr>\n",
       "  </tbody>\n",
       "</table>\n",
       "</div>"
      ],
      "text/plain": [
       "                                     id                     created_at  \\\n",
       "0  5aa2b892-d0eb-4c9d-97c0-460d3a94fea9  2017-12-22 05:29:21.359837+01   \n",
       "1  2b74be2c-4cc9-4c55-a5bb-f53b9365fb6c   2017-12-22 05:29:23.71587+01   \n",
       "2  9afa70a4-b11e-4c32-93b0-ed83af9311a9  2017-12-22 05:29:23.799782+01   \n",
       "3  e1e0751e-16e6-4b31-9e66-c4a16ecb1cab  2017-12-22 05:29:26.089094+01   \n",
       "4  dbdc1d94-05bf-4567-a3a8-0f7c1d8c8bf3  2017-12-22 05:29:30.795343+01   \n",
       "\n",
       "                      updated_at  num_kwh                timeslot  \\\n",
       "0  2017-12-22 05:29:21.359837+01      3.0  2017-12-13 02:00:00+01   \n",
       "1   2017-12-22 05:29:23.71587+01      0.0  2017-12-12 17:00:00+01   \n",
       "2  2017-12-22 05:29:23.799782+01      0.0  2017-12-12 16:00:00+01   \n",
       "3  2017-12-22 05:29:26.089094+01      0.0  2017-12-12 08:00:00+01   \n",
       "4  2017-12-22 05:29:30.795343+01      0.0  2017-12-11 14:00:00+01   \n",
       "\n",
       "          type estimation  spot_price_no_vat  amount_no_vat  \\\n",
       "0       elcert          f              0.020           0.06   \n",
       "1   production          f             -1.000           0.00   \n",
       "2   production          f             -1.000           0.00   \n",
       "3   production          f             -1.000           0.00   \n",
       "4  consumption          f              0.519           0.00   \n",
       "\n",
       "                             adjusts_id                             parent_id  \\\n",
       "0                                   NaN  3d6248ef-7055-463d-ba6b-db02072b976a   \n",
       "1  4cad8e91-31f5-48a7-8f46-4438fe9883bf  52c6d1fd-16a7-4a18-8078-f1ae4575aba4   \n",
       "2                                   NaN                                   NaN   \n",
       "3  51e84716-3a8a-460a-8d46-d0f6b316c169  8f3ec39a-f394-4dca-9036-00054b061cec   \n",
       "4  ec1a3474-2178-432d-9d4c-947d09b23706  3992ce36-3fc7-4770-b4f1-315fdb109a58   \n",
       "\n",
       "   vat_percent                              meter_id  kwh_fee_no_vat  \n",
       "0           25  3ba47f27-33e8-4764-a390-d33ca37d625f             0.0  \n",
       "1            0  3ba47f27-33e8-4764-a390-d33ca37d625f             0.0  \n",
       "2            0  3ba47f27-33e8-4764-a390-d33ca37d625f             0.0  \n",
       "3            0  3ba47f27-33e8-4764-a390-d33ca37d625f             0.0  \n",
       "4           25  3ba47f27-33e8-4764-a390-d33ca37d625f             0.0  "
      ]
     },
     "execution_count": 45,
     "metadata": {},
     "output_type": "execute_result"
    }
   ],
   "source": [
    "datata = pd.read_csv(\"data/3ba47f27-33e8-4764-a390-d33ca37d625f.csv\")\n",
    "\n",
    "datata.head()"
   ]
  },
  {
   "cell_type": "markdown",
   "metadata": {},
   "source": [
    "# Explore Merged Meter Ids"
   ]
  },
  {
   "cell_type": "code",
   "execution_count": null,
   "metadata": {},
   "outputs": [],
   "source": [
    "# Load data \n",
    "dtype={'adjusts_id': 'object',\n",
    "       'ediel_product_code': 'float64',\n",
    "       'invoice_item_id': 'object',\n",
    "       'parent_id': 'object',\n",
    "       'meter_id': 'str'}\n",
    "\n",
    "file = \"data/merged_meter_ids.csv\"\n",
    "df = dd.read_csv(file, sep=\";\", dtype=dtype)"
   ]
  },
  {
   "cell_type": "code",
   "execution_count": null,
   "metadata": {},
   "outputs": [
    {
     "name": "stdout",
     "output_type": "stream",
     "text": [
      "['Unnamed: 0', 'created_at', 'updated_at', 'num_kwh', 'timeslot', 'type', 'estimation', 'spot_price_no_vat', 'amount_no_vat', 'vat_percent', 'meter_id', 'kwh_fee_no_vat']\n",
      "   Unnamed: 0                     created_at                     updated_at  \\\n",
      "0           0  2018-04-26 16:34:10.145628+02  2018-04-26 16:34:10.145628+02   \n",
      "1           1  2018-04-25 06:11:19.555649+02  2018-04-26 16:34:10.192034+02   \n",
      "2           2   2018-04-26 16:34:10.25942+02   2018-04-26 16:34:10.25942+02   \n",
      "3           3  2018-04-25 06:11:19.741357+02  2018-04-26 16:34:10.508598+02   \n",
      "4           4  2018-04-26 16:34:10.596066+02  2018-04-26 16:34:10.596066+02   \n",
      "\n",
      "   num_kwh                timeslot        type estimation  spot_price_no_vat  \\\n",
      "0      3.0  2018-04-22 23:00:00+02      elcert          f               0.02   \n",
      "1      0.0  2018-04-22 23:00:00+02  production          f              -1.00   \n",
      "2      0.0  2018-04-22 23:00:00+02  production          f              -1.00   \n",
      "3      0.0  2018-04-22 22:00:00+02  production          f              -1.00   \n",
      "4      0.0  2018-04-22 22:00:00+02  production          f              -1.00   \n",
      "\n",
      "   amount_no_vat  vat_percent                              meter_id  \\\n",
      "0           0.06           25  4ab70bee-64cb-4908-8c31-1a996ad049de   \n",
      "1           0.00            0  4ab70bee-64cb-4908-8c31-1a996ad049de   \n",
      "2           0.00            0  4ab70bee-64cb-4908-8c31-1a996ad049de   \n",
      "3           0.00            0  4ab70bee-64cb-4908-8c31-1a996ad049de   \n",
      "4           0.00            0  4ab70bee-64cb-4908-8c31-1a996ad049de   \n",
      "\n",
      "   kwh_fee_no_vat  \n",
      "0             0.0  \n",
      "1             0.0  \n",
      "2             0.0  \n",
      "3             0.0  \n",
      "4             0.0  \n"
     ]
    }
   ],
   "source": [
    "print(list(df.columns))\n",
    "print(df.head())"
   ]
  },
  {
   "cell_type": "code",
   "execution_count": null,
   "metadata": {},
   "outputs": [
    {
     "name": "stdout",
     "output_type": "stream",
     "text": [
      "0    25\n",
      "1     0\n",
      "Name: vat_percent, dtype: int64\n"
     ]
    }
   ],
   "source": [
    "print(df[\"vat_percent\"].unique().compute())\n"
   ]
  },
  {
   "cell_type": "code",
   "execution_count": null,
   "metadata": {},
   "outputs": [
    {
     "name": "stdout",
     "output_type": "stream",
     "text": [
      "0    25\n",
      "1     0\n",
      "Name: vat_percent, dtype: int64\n",
      "0    f\n",
      "1    t\n",
      "Name: estimation, dtype: object\n"
     ]
    }
   ],
   "source": [
    "print(df[\"vat_percent\"].unique().compute())\n",
    "\n",
    "\n",
    "print(df[\"estimation\"].unique().compute())\n",
    "\n"
   ]
  },
  {
   "cell_type": "code",
   "execution_count": null,
   "metadata": {},
   "outputs": [],
   "source": [
    "# Load data \n",
    "dtype={'adjusts_id': 'object',\n",
    "       'ediel_product_code': 'float64',\n",
    "       'invoice_item_id': 'object',\n",
    "       'parent_id': 'object',\n",
    "       'meter_id': 'str'}\n",
    "\n",
    "file = \"data/merged_meter_ids-MERGED.csv\"\n",
    "df = dd.read_csv(file, sep=\";\", dtype=dtype)"
   ]
  },
  {
   "cell_type": "code",
   "execution_count": null,
   "metadata": {},
   "outputs": [
    {
     "data": {
      "text/plain": [
       "['Unnamed: 0,created_at,updated_at,num_kwh,timeslot,type,estimation,spot_price_no_vat,amount_no_vat,vat_percent,meter_id,kwh_fee_no_vat,idgrid_data_table,automatic_meter,market_balance_area,code,lat,lng']"
      ]
     },
     "execution_count": 23,
     "metadata": {},
     "output_type": "execute_result"
    }
   ],
   "source": [
    "list(df.columns)"
   ]
  },
  {
   "cell_type": "code",
   "execution_count": null,
   "metadata": {},
   "outputs": [
    {
     "data": {
      "text/html": [
       "<div>\n",
       "<style scoped>\n",
       "    .dataframe tbody tr th:only-of-type {\n",
       "        vertical-align: middle;\n",
       "    }\n",
       "\n",
       "    .dataframe tbody tr th {\n",
       "        vertical-align: top;\n",
       "    }\n",
       "\n",
       "    .dataframe thead th {\n",
       "        text-align: right;\n",
       "    }\n",
       "</style>\n",
       "<table border=\"1\" class=\"dataframe\">\n",
       "  <thead>\n",
       "    <tr style=\"text-align: right;\">\n",
       "      <th></th>\n",
       "      <th>Unnamed: 0,created_at,updated_at,num_kwh,timeslot,type,estimation,spot_price_no_vat,amount_no_vat,vat_percent,meter_id,kwh_fee_no_vat,idgrid_data_table,automatic_meter,market_balance_area,lat,lng</th>\n",
       "    </tr>\n",
       "  </thead>\n",
       "  <tbody>\n",
       "    <tr>\n",
       "      <th>unique</th>\n",
       "      <td>5843450</td>\n",
       "    </tr>\n",
       "    <tr>\n",
       "      <th>count</th>\n",
       "      <td>5843450</td>\n",
       "    </tr>\n",
       "    <tr>\n",
       "      <th>top</th>\n",
       "      <td>0,2018-04-26 16:34:10.145628+02,2018-04-26 16:...</td>\n",
       "    </tr>\n",
       "    <tr>\n",
       "      <th>freq</th>\n",
       "      <td>1</td>\n",
       "    </tr>\n",
       "  </tbody>\n",
       "</table>\n",
       "</div>"
      ],
      "text/plain": [
       "       Unnamed: 0,created_at,updated_at,num_kwh,timeslot,type,estimation,spot_price_no_vat,amount_no_vat,vat_percent,meter_id,kwh_fee_no_vat,idgrid_data_table,automatic_meter,market_balance_area,lat,lng\n",
       "unique                                            5843450                                                                                                                                                 \n",
       "count                                             5843450                                                                                                                                                 \n",
       "top     0,2018-04-26 16:34:10.145628+02,2018-04-26 16:...                                                                                                                                                 \n",
       "freq                                                    1                                                                                                                                                 "
      ]
     },
     "execution_count": 21,
     "metadata": {},
     "output_type": "execute_result"
    }
   ],
   "source": [
    "df."
   ]
  },
  {
   "cell_type": "code",
   "execution_count": null,
   "metadata": {},
   "outputs": [],
   "source": [
    "file  = \"data/grid-metering-point-dump-plus-zipcode-GMAPS-in-gridtx.csv\"\n",
    "df = pd.read_csv(file)"
   ]
  },
  {
   "cell_type": "code",
   "execution_count": null,
   "metadata": {},
   "outputs": [
    {
     "ename": "AttributeError",
     "evalue": "'Series' object has no attribute 'value_count'",
     "output_type": "error",
     "traceback": [
      "\u001b[1;31m---------------------------------------------------------------------------\u001b[0m",
      "\u001b[1;31mAttributeError\u001b[0m                            Traceback (most recent call last)",
      "\u001b[1;32mc:\\Users\\andre\\OneDrive - Danmarks Tekniske Universitet\\02466 Project work - Bachelor of Artificial Intelligence and Data\\Project-Work---Bsc.-AIDS\\explore.ipynb Cell 29'\u001b[0m in \u001b[0;36m<cell line: 1>\u001b[1;34m()\u001b[0m\n\u001b[1;32m----> <a href='vscode-notebook-cell:/c%3A/Users/andre/OneDrive%20-%20Danmarks%20Tekniske%20Universitet/02466%20Project%20work%20-%20Bachelor%20of%20Artificial%20Intelligence%20and%20Data/Project-Work---Bsc.-AIDS/explore.ipynb#ch0000029?line=0'>1</a>\u001b[0m df[\u001b[39m\"\u001b[39;49m\u001b[39mautomatic_meter\u001b[39;49m\u001b[39m\"\u001b[39;49m]\u001b[39m.\u001b[39;49mvalue_count()\n",
      "File \u001b[1;32mc:\\Users\\andre\\OneDrive - Danmarks Tekniske Universitet\\02466 Project work - Bachelor of Artificial Intelligence and Data\\Project-Work---Bsc.-AIDS\\venv\\lib\\site-packages\\pandas\\core\\generic.py:5583\u001b[0m, in \u001b[0;36mNDFrame.__getattr__\u001b[1;34m(self, name)\u001b[0m\n\u001b[0;32m   <a href='file:///c%3A/Users/andre/OneDrive%20-%20Danmarks%20Tekniske%20Universitet/02466%20Project%20work%20-%20Bachelor%20of%20Artificial%20Intelligence%20and%20Data/Project-Work---Bsc.-AIDS/venv/lib/site-packages/pandas/core/generic.py?line=5575'>5576</a>\u001b[0m \u001b[39mif\u001b[39;00m (\n\u001b[0;32m   <a href='file:///c%3A/Users/andre/OneDrive%20-%20Danmarks%20Tekniske%20Universitet/02466%20Project%20work%20-%20Bachelor%20of%20Artificial%20Intelligence%20and%20Data/Project-Work---Bsc.-AIDS/venv/lib/site-packages/pandas/core/generic.py?line=5576'>5577</a>\u001b[0m     name \u001b[39mnot\u001b[39;00m \u001b[39min\u001b[39;00m \u001b[39mself\u001b[39m\u001b[39m.\u001b[39m_internal_names_set\n\u001b[0;32m   <a href='file:///c%3A/Users/andre/OneDrive%20-%20Danmarks%20Tekniske%20Universitet/02466%20Project%20work%20-%20Bachelor%20of%20Artificial%20Intelligence%20and%20Data/Project-Work---Bsc.-AIDS/venv/lib/site-packages/pandas/core/generic.py?line=5577'>5578</a>\u001b[0m     \u001b[39mand\u001b[39;00m name \u001b[39mnot\u001b[39;00m \u001b[39min\u001b[39;00m \u001b[39mself\u001b[39m\u001b[39m.\u001b[39m_metadata\n\u001b[0;32m   <a href='file:///c%3A/Users/andre/OneDrive%20-%20Danmarks%20Tekniske%20Universitet/02466%20Project%20work%20-%20Bachelor%20of%20Artificial%20Intelligence%20and%20Data/Project-Work---Bsc.-AIDS/venv/lib/site-packages/pandas/core/generic.py?line=5578'>5579</a>\u001b[0m     \u001b[39mand\u001b[39;00m name \u001b[39mnot\u001b[39;00m \u001b[39min\u001b[39;00m \u001b[39mself\u001b[39m\u001b[39m.\u001b[39m_accessors\n\u001b[0;32m   <a href='file:///c%3A/Users/andre/OneDrive%20-%20Danmarks%20Tekniske%20Universitet/02466%20Project%20work%20-%20Bachelor%20of%20Artificial%20Intelligence%20and%20Data/Project-Work---Bsc.-AIDS/venv/lib/site-packages/pandas/core/generic.py?line=5579'>5580</a>\u001b[0m     \u001b[39mand\u001b[39;00m \u001b[39mself\u001b[39m\u001b[39m.\u001b[39m_info_axis\u001b[39m.\u001b[39m_can_hold_identifiers_and_holds_name(name)\n\u001b[0;32m   <a href='file:///c%3A/Users/andre/OneDrive%20-%20Danmarks%20Tekniske%20Universitet/02466%20Project%20work%20-%20Bachelor%20of%20Artificial%20Intelligence%20and%20Data/Project-Work---Bsc.-AIDS/venv/lib/site-packages/pandas/core/generic.py?line=5580'>5581</a>\u001b[0m ):\n\u001b[0;32m   <a href='file:///c%3A/Users/andre/OneDrive%20-%20Danmarks%20Tekniske%20Universitet/02466%20Project%20work%20-%20Bachelor%20of%20Artificial%20Intelligence%20and%20Data/Project-Work---Bsc.-AIDS/venv/lib/site-packages/pandas/core/generic.py?line=5581'>5582</a>\u001b[0m     \u001b[39mreturn\u001b[39;00m \u001b[39mself\u001b[39m[name]\n\u001b[1;32m-> <a href='file:///c%3A/Users/andre/OneDrive%20-%20Danmarks%20Tekniske%20Universitet/02466%20Project%20work%20-%20Bachelor%20of%20Artificial%20Intelligence%20and%20Data/Project-Work---Bsc.-AIDS/venv/lib/site-packages/pandas/core/generic.py?line=5582'>5583</a>\u001b[0m \u001b[39mreturn\u001b[39;00m \u001b[39mobject\u001b[39;49m\u001b[39m.\u001b[39;49m\u001b[39m__getattribute__\u001b[39;49m(\u001b[39mself\u001b[39;49m, name)\n",
      "\u001b[1;31mAttributeError\u001b[0m: 'Series' object has no attribute 'value_count'"
     ]
    }
   ],
   "source": [
    "df[\"automatic_meter\"].value_count()"
   ]
  },
  {
   "cell_type": "code",
   "execution_count": null,
   "metadata": {},
   "outputs": [
    {
     "ename": "AttributeError",
     "evalue": "'Series' object has no attribute 'values_count'",
     "output_type": "error",
     "traceback": [
      "\u001b[1;31m---------------------------------------------------------------------------\u001b[0m",
      "\u001b[1;31mAttributeError\u001b[0m                            Traceback (most recent call last)",
      "\u001b[1;32mc:\\Users\\andre\\OneDrive - Danmarks Tekniske Universitet\\02466 Project work - Bachelor of Artificial Intelligence and Data\\Project-Work---Bsc.-AIDS\\explore.ipynb Cell 29'\u001b[0m in \u001b[0;36m<cell line: 1>\u001b[1;34m()\u001b[0m\n\u001b[1;32m----> <a href='vscode-notebook-cell:/c%3A/Users/andre/OneDrive%20-%20Danmarks%20Tekniske%20Universitet/02466%20Project%20work%20-%20Bachelor%20of%20Artificial%20Intelligence%20and%20Data/Project-Work---Bsc.-AIDS/explore.ipynb#ch0000028?line=0'>1</a>\u001b[0m df[\u001b[39m\"\u001b[39;49m\u001b[39mautomatic_meter\u001b[39;49m\u001b[39m\"\u001b[39;49m]\u001b[39m.\u001b[39;49mvalues_count()\n",
      "File \u001b[1;32mc:\\Users\\andre\\OneDrive - Danmarks Tekniske Universitet\\02466 Project work - Bachelor of Artificial Intelligence and Data\\Project-Work---Bsc.-AIDS\\venv\\lib\\site-packages\\pandas\\core\\generic.py:5583\u001b[0m, in \u001b[0;36mNDFrame.__getattr__\u001b[1;34m(self, name)\u001b[0m\n\u001b[0;32m   <a href='file:///c%3A/Users/andre/OneDrive%20-%20Danmarks%20Tekniske%20Universitet/02466%20Project%20work%20-%20Bachelor%20of%20Artificial%20Intelligence%20and%20Data/Project-Work---Bsc.-AIDS/venv/lib/site-packages/pandas/core/generic.py?line=5575'>5576</a>\u001b[0m \u001b[39mif\u001b[39;00m (\n\u001b[0;32m   <a href='file:///c%3A/Users/andre/OneDrive%20-%20Danmarks%20Tekniske%20Universitet/02466%20Project%20work%20-%20Bachelor%20of%20Artificial%20Intelligence%20and%20Data/Project-Work---Bsc.-AIDS/venv/lib/site-packages/pandas/core/generic.py?line=5576'>5577</a>\u001b[0m     name \u001b[39mnot\u001b[39;00m \u001b[39min\u001b[39;00m \u001b[39mself\u001b[39m\u001b[39m.\u001b[39m_internal_names_set\n\u001b[0;32m   <a href='file:///c%3A/Users/andre/OneDrive%20-%20Danmarks%20Tekniske%20Universitet/02466%20Project%20work%20-%20Bachelor%20of%20Artificial%20Intelligence%20and%20Data/Project-Work---Bsc.-AIDS/venv/lib/site-packages/pandas/core/generic.py?line=5577'>5578</a>\u001b[0m     \u001b[39mand\u001b[39;00m name \u001b[39mnot\u001b[39;00m \u001b[39min\u001b[39;00m \u001b[39mself\u001b[39m\u001b[39m.\u001b[39m_metadata\n\u001b[0;32m   <a href='file:///c%3A/Users/andre/OneDrive%20-%20Danmarks%20Tekniske%20Universitet/02466%20Project%20work%20-%20Bachelor%20of%20Artificial%20Intelligence%20and%20Data/Project-Work---Bsc.-AIDS/venv/lib/site-packages/pandas/core/generic.py?line=5578'>5579</a>\u001b[0m     \u001b[39mand\u001b[39;00m name \u001b[39mnot\u001b[39;00m \u001b[39min\u001b[39;00m \u001b[39mself\u001b[39m\u001b[39m.\u001b[39m_accessors\n\u001b[0;32m   <a href='file:///c%3A/Users/andre/OneDrive%20-%20Danmarks%20Tekniske%20Universitet/02466%20Project%20work%20-%20Bachelor%20of%20Artificial%20Intelligence%20and%20Data/Project-Work---Bsc.-AIDS/venv/lib/site-packages/pandas/core/generic.py?line=5579'>5580</a>\u001b[0m     \u001b[39mand\u001b[39;00m \u001b[39mself\u001b[39m\u001b[39m.\u001b[39m_info_axis\u001b[39m.\u001b[39m_can_hold_identifiers_and_holds_name(name)\n\u001b[0;32m   <a href='file:///c%3A/Users/andre/OneDrive%20-%20Danmarks%20Tekniske%20Universitet/02466%20Project%20work%20-%20Bachelor%20of%20Artificial%20Intelligence%20and%20Data/Project-Work---Bsc.-AIDS/venv/lib/site-packages/pandas/core/generic.py?line=5580'>5581</a>\u001b[0m ):\n\u001b[0;32m   <a href='file:///c%3A/Users/andre/OneDrive%20-%20Danmarks%20Tekniske%20Universitet/02466%20Project%20work%20-%20Bachelor%20of%20Artificial%20Intelligence%20and%20Data/Project-Work---Bsc.-AIDS/venv/lib/site-packages/pandas/core/generic.py?line=5581'>5582</a>\u001b[0m     \u001b[39mreturn\u001b[39;00m \u001b[39mself\u001b[39m[name]\n\u001b[1;32m-> <a href='file:///c%3A/Users/andre/OneDrive%20-%20Danmarks%20Tekniske%20Universitet/02466%20Project%20work%20-%20Bachelor%20of%20Artificial%20Intelligence%20and%20Data/Project-Work---Bsc.-AIDS/venv/lib/site-packages/pandas/core/generic.py?line=5582'>5583</a>\u001b[0m \u001b[39mreturn\u001b[39;00m \u001b[39mobject\u001b[39;49m\u001b[39m.\u001b[39;49m\u001b[39m__getattribute__\u001b[39;49m(\u001b[39mself\u001b[39;49m, name)\n",
      "\u001b[1;31mAttributeError\u001b[0m: 'Series' object has no attribute 'values_count'"
     ]
    }
   ],
   "source": [
    "df[\"automatic_meter\"].values_count()"
   ]
  },
  {
   "cell_type": "markdown",
   "metadata": {},
   "source": [
    "# Random meter IDs"
   ]
  },
  {
   "cell_type": "code",
   "execution_count": 2,
   "metadata": {},
   "outputs": [
    {
     "name": "stderr",
     "output_type": "stream",
     "text": [
      "C:\\Users\\andre\\AppData\\Local\\Temp\\ipykernel_20120\\1218862467.py:2: DtypeWarning: Columns (15) have mixed types. Specify dtype option on import or set low_memory=False.\n",
      "  df = pd.read_csv(file, sep=\";\")\n"
     ]
    }
   ],
   "source": [
    "file = \"data/random-meter-ids.csv\"\n",
    "df = pd.read_csv(file, sep=\";\")"
   ]
  },
  {
   "cell_type": "code",
   "execution_count": 3,
   "metadata": {},
   "outputs": [
    {
     "name": "stdout",
     "output_type": "stream",
     "text": [
      "Consumption (num_kwh) below 0: 8029\n",
      "Consumption (num_kwh) equal to 0: 142933\n",
      "Consumption (num_kwh) above 0: 172661\n",
      "\n",
      "Production (num_kwh) below 0: 8020\n",
      "Production (num_kwh) equal to 0: 219298\n",
      "Production (num_kwh) above 0: 19011\n",
      "\n",
      "Elcert (num_kwh) below 0: 2092\n",
      "Elcert (num_kwh) equal to 0: 63323\n",
      "Elcert (num_kwh) above 0: 59267\n"
     ]
    }
   ],
   "source": [
    "# print(df[[\"meter_id\",\"timeslot\"]].value_counts())\n",
    "\n",
    "\n",
    "# df[(df[\"meter_id\"] == \"d63b305d-7049-4c56-b121-48478c7dfbb1\") & (df[\"timeslot\"] == \"2018-06-30 00:00:00+02\")]\n",
    "\n",
    "\n",
    "df[df[\"num_kwh\"] == 0.0][\"amount_no_vat\"].describe()\n",
    "\n",
    "\n",
    "df[(df[\"num_kwh\"] == 0.0) & (df[\"type\"] == \"consumption\")].describe()\n",
    "\n",
    "print(\"Consumption (num_kwh) below 0: {}\".format(df[(df[\"type\"] == \"consumption\") & (df[\"num_kwh\"] < 0)].shape[0]))\n",
    "print(\"Consumption (num_kwh) equal to 0: {}\".format(df[(df[\"type\"] == \"consumption\") & (df[\"num_kwh\"] == 0)].shape[0]))\n",
    "print(\"Consumption (num_kwh) above 0: {}\".format(df[(df[\"type\"] == \"consumption\") & (df[\"num_kwh\"] > 0)].shape[0]))\n",
    "print()\n",
    "print(\"Production (num_kwh) below 0: {}\".format(df[(df[\"type\"] == \"production\") & (df[\"num_kwh\"] < 0)].shape[0]))\n",
    "print(\"Production (num_kwh) equal to 0: {}\".format(df[(df[\"type\"] == \"production\") & (df[\"num_kwh\"] == 0)].shape[0]))\n",
    "print(\"Production (num_kwh) above 0: {}\".format(df[(df[\"type\"] == \"production\") & (df[\"num_kwh\"] > 0)].shape[0]))\n",
    "print()\n",
    "print(\"Elcert (num_kwh) below 0: {}\".format(df[(df[\"type\"] == \"elcert\") & (df[\"num_kwh\"] < 0)].shape[0]))\n",
    "print(\"Elcert (num_kwh) equal to 0: {}\".format(df[(df[\"type\"] == \"elcert\") & (df[\"num_kwh\"] == 0)].shape[0]))\n",
    "print(\"Elcert (num_kwh) above 0: {}\".format(df[(df[\"type\"] == \"elcert\") & (df[\"num_kwh\"] > 0)].shape[0]))\n"
   ]
  },
  {
   "cell_type": "code",
   "execution_count": 26,
   "metadata": {},
   "outputs": [
    {
     "data": {
      "text/plain": [
       "0              consumption\n",
       "1                   elcert\n",
       "2      payment_consumption\n",
       "3           payment_elcert\n",
       "4              consumption\n",
       "              ...         \n",
       "129    payment_consumption\n",
       "130            consumption\n",
       "131    payment_consumption\n",
       "132     payment_production\n",
       "133             production\n",
       "Name: type, Length: 134, dtype: object"
      ]
     },
     "execution_count": 26,
     "metadata": {},
     "output_type": "execute_result"
    }
   ],
   "source": [
    "type_sum = df.groupby([\"meter_id\", \"type\"], as_index=False).sum()\n",
    "\n",
    "type_sum.shape[0]\n",
    "\n",
    "type_sum[\"num_kwh\"].describe()\n",
    "\n",
    "# df[[\"meter_id\", \"type\"]].drop_duplicates().shape[0]\n",
    "# type_sum = df.group_by(\"meter_id\")"
   ]
  },
  {
   "cell_type": "code",
   "execution_count": 311,
   "metadata": {},
   "outputs": [
    {
     "data": {
      "text/html": [
       "<div>\n",
       "<style scoped>\n",
       "    .dataframe tbody tr th:only-of-type {\n",
       "        vertical-align: middle;\n",
       "    }\n",
       "\n",
       "    .dataframe tbody tr th {\n",
       "        vertical-align: top;\n",
       "    }\n",
       "\n",
       "    .dataframe thead th {\n",
       "        text-align: right;\n",
       "    }\n",
       "</style>\n",
       "<table border=\"1\" class=\"dataframe\">\n",
       "  <thead>\n",
       "    <tr style=\"text-align: right;\">\n",
       "      <th></th>\n",
       "      <th></th>\n",
       "      <th>Unnamed: 0</th>\n",
       "      <th>num_kwh</th>\n",
       "      <th>spot_price_no_vat</th>\n",
       "      <th>amount_no_vat</th>\n",
       "      <th>amount_with_vat</th>\n",
       "      <th>vat_percent</th>\n",
       "      <th>ediel_product_code</th>\n",
       "      <th>kwh_fee_no_vat</th>\n",
       "    </tr>\n",
       "    <tr>\n",
       "      <th>meter_id</th>\n",
       "      <th>type</th>\n",
       "      <th></th>\n",
       "      <th></th>\n",
       "      <th></th>\n",
       "      <th></th>\n",
       "      <th></th>\n",
       "      <th></th>\n",
       "      <th></th>\n",
       "      <th></th>\n",
       "    </tr>\n",
       "  </thead>\n",
       "  <tbody>\n",
       "    <tr>\n",
       "      <th rowspan=\"4\" valign=\"top\">07d1adfd-5898-4ba4-aeca-8c3a38158355</th>\n",
       "      <th>consumption</th>\n",
       "      <td>74261677</td>\n",
       "      <td>11722.0</td>\n",
       "      <td>158.14900</td>\n",
       "      <td>3502.632</td>\n",
       "      <td>4378.294</td>\n",
       "      <td>13150</td>\n",
       "      <td>836866.0</td>\n",
       "      <td>0.00</td>\n",
       "    </tr>\n",
       "    <tr>\n",
       "      <th>elcert</th>\n",
       "      <td>74238595</td>\n",
       "      <td>11722.0</td>\n",
       "      <td>10.52000</td>\n",
       "      <td>234.440</td>\n",
       "      <td>293.050</td>\n",
       "      <td>13150</td>\n",
       "      <td>836866.0</td>\n",
       "      <td>0.00</td>\n",
       "    </tr>\n",
       "    <tr>\n",
       "      <th>payment_consumption</th>\n",
       "      <td>4235738</td>\n",
       "      <td>0.0</td>\n",
       "      <td>0.00000</td>\n",
       "      <td>-3502.650</td>\n",
       "      <td>-4378.290</td>\n",
       "      <td>750</td>\n",
       "      <td>0.0</td>\n",
       "      <td>0.00</td>\n",
       "    </tr>\n",
       "    <tr>\n",
       "      <th>payment_elcert</th>\n",
       "      <td>3812648</td>\n",
       "      <td>0.0</td>\n",
       "      <td>0.00000</td>\n",
       "      <td>-234.400</td>\n",
       "      <td>-293.050</td>\n",
       "      <td>675</td>\n",
       "      <td>0.0</td>\n",
       "      <td>0.00</td>\n",
       "    </tr>\n",
       "    <tr>\n",
       "      <th>117e0012-3f28-4df4-906f-eb83b8a106ef</th>\n",
       "      <th>consumption</th>\n",
       "      <td>985775306</td>\n",
       "      <td>25557.7</td>\n",
       "      <td>4438.65811</td>\n",
       "      <td>13300.177</td>\n",
       "      <td>16625.217</td>\n",
       "      <td>242975</td>\n",
       "      <td>14491029.0</td>\n",
       "      <td>491.64</td>\n",
       "    </tr>\n",
       "  </tbody>\n",
       "</table>\n",
       "</div>"
      ],
      "text/plain": [
       "                                                          Unnamed: 0  num_kwh  \\\n",
       "meter_id                             type                                       \n",
       "07d1adfd-5898-4ba4-aeca-8c3a38158355 consumption            74261677  11722.0   \n",
       "                                     elcert                 74238595  11722.0   \n",
       "                                     payment_consumption     4235738      0.0   \n",
       "                                     payment_elcert          3812648      0.0   \n",
       "117e0012-3f28-4df4-906f-eb83b8a106ef consumption           985775306  25557.7   \n",
       "\n",
       "                                                          spot_price_no_vat  \\\n",
       "meter_id                             type                                     \n",
       "07d1adfd-5898-4ba4-aeca-8c3a38158355 consumption                  158.14900   \n",
       "                                     elcert                        10.52000   \n",
       "                                     payment_consumption            0.00000   \n",
       "                                     payment_elcert                 0.00000   \n",
       "117e0012-3f28-4df4-906f-eb83b8a106ef consumption                 4438.65811   \n",
       "\n",
       "                                                          amount_no_vat  \\\n",
       "meter_id                             type                                 \n",
       "07d1adfd-5898-4ba4-aeca-8c3a38158355 consumption               3502.632   \n",
       "                                     elcert                     234.440   \n",
       "                                     payment_consumption      -3502.650   \n",
       "                                     payment_elcert            -234.400   \n",
       "117e0012-3f28-4df4-906f-eb83b8a106ef consumption              13300.177   \n",
       "\n",
       "                                                          amount_with_vat  \\\n",
       "meter_id                             type                                   \n",
       "07d1adfd-5898-4ba4-aeca-8c3a38158355 consumption                 4378.294   \n",
       "                                     elcert                       293.050   \n",
       "                                     payment_consumption        -4378.290   \n",
       "                                     payment_elcert              -293.050   \n",
       "117e0012-3f28-4df4-906f-eb83b8a106ef consumption                16625.217   \n",
       "\n",
       "                                                          vat_percent  \\\n",
       "meter_id                             type                               \n",
       "07d1adfd-5898-4ba4-aeca-8c3a38158355 consumption                13150   \n",
       "                                     elcert                     13150   \n",
       "                                     payment_consumption          750   \n",
       "                                     payment_elcert               675   \n",
       "117e0012-3f28-4df4-906f-eb83b8a106ef consumption               242975   \n",
       "\n",
       "                                                          ediel_product_code  \\\n",
       "meter_id                             type                                      \n",
       "07d1adfd-5898-4ba4-aeca-8c3a38158355 consumption                    836866.0   \n",
       "                                     elcert                         836866.0   \n",
       "                                     payment_consumption                 0.0   \n",
       "                                     payment_elcert                      0.0   \n",
       "117e0012-3f28-4df4-906f-eb83b8a106ef consumption                  14491029.0   \n",
       "\n",
       "                                                          kwh_fee_no_vat  \n",
       "meter_id                             type                                 \n",
       "07d1adfd-5898-4ba4-aeca-8c3a38158355 consumption                    0.00  \n",
       "                                     elcert                         0.00  \n",
       "                                     payment_consumption            0.00  \n",
       "                                     payment_elcert                 0.00  \n",
       "117e0012-3f28-4df4-906f-eb83b8a106ef consumption                  491.64  "
      ]
     },
     "execution_count": 311,
     "metadata": {},
     "output_type": "execute_result"
    }
   ],
   "source": [
    "type_sum.head()"
   ]
  },
  {
   "cell_type": "code",
   "execution_count": 310,
   "metadata": {},
   "outputs": [
    {
     "ename": "KeyError",
     "evalue": "'type'",
     "output_type": "error",
     "traceback": [
      "\u001b[1;31m---------------------------------------------------------------------------\u001b[0m",
      "\u001b[1;31mKeyError\u001b[0m                                  Traceback (most recent call last)",
      "File \u001b[1;32mc:\\Users\\andre\\OneDrive - Danmarks Tekniske Universitet\\02466 Project work - Bachelor of Artificial Intelligence and Data\\Project-Work---Bsc.-AIDS\\venv\\lib\\site-packages\\pandas\\core\\indexes\\base.py:3621\u001b[0m, in \u001b[0;36mIndex.get_loc\u001b[1;34m(self, key, method, tolerance)\u001b[0m\n\u001b[0;32m   <a href='file:///c%3A/Users/andre/OneDrive%20-%20Danmarks%20Tekniske%20Universitet/02466%20Project%20work%20-%20Bachelor%20of%20Artificial%20Intelligence%20and%20Data/Project-Work---Bsc.-AIDS/venv/lib/site-packages/pandas/core/indexes/base.py?line=3619'>3620</a>\u001b[0m \u001b[39mtry\u001b[39;00m:\n\u001b[1;32m-> <a href='file:///c%3A/Users/andre/OneDrive%20-%20Danmarks%20Tekniske%20Universitet/02466%20Project%20work%20-%20Bachelor%20of%20Artificial%20Intelligence%20and%20Data/Project-Work---Bsc.-AIDS/venv/lib/site-packages/pandas/core/indexes/base.py?line=3620'>3621</a>\u001b[0m     \u001b[39mreturn\u001b[39;00m \u001b[39mself\u001b[39;49m\u001b[39m.\u001b[39;49m_engine\u001b[39m.\u001b[39;49mget_loc(casted_key)\n\u001b[0;32m   <a href='file:///c%3A/Users/andre/OneDrive%20-%20Danmarks%20Tekniske%20Universitet/02466%20Project%20work%20-%20Bachelor%20of%20Artificial%20Intelligence%20and%20Data/Project-Work---Bsc.-AIDS/venv/lib/site-packages/pandas/core/indexes/base.py?line=3621'>3622</a>\u001b[0m \u001b[39mexcept\u001b[39;00m \u001b[39mKeyError\u001b[39;00m \u001b[39mas\u001b[39;00m err:\n",
      "File \u001b[1;32mc:\\Users\\andre\\OneDrive - Danmarks Tekniske Universitet\\02466 Project work - Bachelor of Artificial Intelligence and Data\\Project-Work---Bsc.-AIDS\\venv\\lib\\site-packages\\pandas\\_libs\\index.pyx:136\u001b[0m, in \u001b[0;36mpandas._libs.index.IndexEngine.get_loc\u001b[1;34m()\u001b[0m\n",
      "File \u001b[1;32mc:\\Users\\andre\\OneDrive - Danmarks Tekniske Universitet\\02466 Project work - Bachelor of Artificial Intelligence and Data\\Project-Work---Bsc.-AIDS\\venv\\lib\\site-packages\\pandas\\_libs\\index.pyx:163\u001b[0m, in \u001b[0;36mpandas._libs.index.IndexEngine.get_loc\u001b[1;34m()\u001b[0m\n",
      "File \u001b[1;32mpandas\\_libs\\hashtable_class_helper.pxi:5198\u001b[0m, in \u001b[0;36mpandas._libs.hashtable.PyObjectHashTable.get_item\u001b[1;34m()\u001b[0m\n",
      "File \u001b[1;32mpandas\\_libs\\hashtable_class_helper.pxi:5206\u001b[0m, in \u001b[0;36mpandas._libs.hashtable.PyObjectHashTable.get_item\u001b[1;34m()\u001b[0m\n",
      "\u001b[1;31mKeyError\u001b[0m: 'type'",
      "\nThe above exception was the direct cause of the following exception:\n",
      "\u001b[1;31mKeyError\u001b[0m                                  Traceback (most recent call last)",
      "\u001b[1;32mc:\\Users\\andre\\OneDrive - Danmarks Tekniske Universitet\\02466 Project work - Bachelor of Artificial Intelligence and Data\\Project-Work---Bsc.-AIDS\\explore.ipynb Cell 46'\u001b[0m in \u001b[0;36m<cell line: 3>\u001b[1;34m()\u001b[0m\n\u001b[0;32m      <a href='vscode-notebook-cell:/c%3A/Users/andre/OneDrive%20-%20Danmarks%20Tekniske%20Universitet/02466%20Project%20work%20-%20Bachelor%20of%20Artificial%20Intelligence%20and%20Data/Project-Work---Bsc.-AIDS/explore.ipynb#ch0000055?line=0'>1</a>\u001b[0m df \u001b[39m=\u001b[39m type_sum\n\u001b[1;32m----> <a href='vscode-notebook-cell:/c%3A/Users/andre/OneDrive%20-%20Danmarks%20Tekniske%20Universitet/02466%20Project%20work%20-%20Bachelor%20of%20Artificial%20Intelligence%20and%20Data/Project-Work---Bsc.-AIDS/explore.ipynb#ch0000055?line=2'>3</a>\u001b[0m \u001b[39mprint\u001b[39m(\u001b[39m\"\u001b[39m\u001b[39mConsumption (num_kwh) below 0: \u001b[39m\u001b[39m{}\u001b[39;00m\u001b[39m\"\u001b[39m\u001b[39m.\u001b[39mformat(df[(df[\u001b[39m\"\u001b[39;49m\u001b[39mtype\u001b[39;49m\u001b[39m\"\u001b[39;49m] \u001b[39m==\u001b[39m \u001b[39m\"\u001b[39m\u001b[39mconsumption\u001b[39m\u001b[39m\"\u001b[39m) \u001b[39m&\u001b[39m (df[\u001b[39m\"\u001b[39m\u001b[39mnum_kwh\u001b[39m\u001b[39m\"\u001b[39m] \u001b[39m<\u001b[39m \u001b[39m0\u001b[39m)]\u001b[39m.\u001b[39mshape[\u001b[39m0\u001b[39m]))\n\u001b[0;32m      <a href='vscode-notebook-cell:/c%3A/Users/andre/OneDrive%20-%20Danmarks%20Tekniske%20Universitet/02466%20Project%20work%20-%20Bachelor%20of%20Artificial%20Intelligence%20and%20Data/Project-Work---Bsc.-AIDS/explore.ipynb#ch0000055?line=3'>4</a>\u001b[0m \u001b[39mprint\u001b[39m(\u001b[39m\"\u001b[39m\u001b[39mConsumption (num_kwh) equal to 0: \u001b[39m\u001b[39m{}\u001b[39;00m\u001b[39m\"\u001b[39m\u001b[39m.\u001b[39mformat(df[(df[\u001b[39m\"\u001b[39m\u001b[39mtype\u001b[39m\u001b[39m\"\u001b[39m] \u001b[39m==\u001b[39m \u001b[39m\"\u001b[39m\u001b[39mconsumption\u001b[39m\u001b[39m\"\u001b[39m) \u001b[39m&\u001b[39m (df[\u001b[39m\"\u001b[39m\u001b[39mnum_kwh\u001b[39m\u001b[39m\"\u001b[39m] \u001b[39m==\u001b[39m \u001b[39m0\u001b[39m)]\u001b[39m.\u001b[39mshape[\u001b[39m0\u001b[39m]))\n\u001b[0;32m      <a href='vscode-notebook-cell:/c%3A/Users/andre/OneDrive%20-%20Danmarks%20Tekniske%20Universitet/02466%20Project%20work%20-%20Bachelor%20of%20Artificial%20Intelligence%20and%20Data/Project-Work---Bsc.-AIDS/explore.ipynb#ch0000055?line=4'>5</a>\u001b[0m \u001b[39mprint\u001b[39m(\u001b[39m\"\u001b[39m\u001b[39mConsumption (num_kwh) above 0: \u001b[39m\u001b[39m{}\u001b[39;00m\u001b[39m\"\u001b[39m\u001b[39m.\u001b[39mformat(df[(df[\u001b[39m\"\u001b[39m\u001b[39mtype\u001b[39m\u001b[39m\"\u001b[39m] \u001b[39m==\u001b[39m \u001b[39m\"\u001b[39m\u001b[39mconsumption\u001b[39m\u001b[39m\"\u001b[39m) \u001b[39m&\u001b[39m (df[\u001b[39m\"\u001b[39m\u001b[39mnum_kwh\u001b[39m\u001b[39m\"\u001b[39m] \u001b[39m>\u001b[39m \u001b[39m0\u001b[39m)]\u001b[39m.\u001b[39mshape[\u001b[39m0\u001b[39m]))\n",
      "File \u001b[1;32mc:\\Users\\andre\\OneDrive - Danmarks Tekniske Universitet\\02466 Project work - Bachelor of Artificial Intelligence and Data\\Project-Work---Bsc.-AIDS\\venv\\lib\\site-packages\\pandas\\core\\frame.py:3505\u001b[0m, in \u001b[0;36mDataFrame.__getitem__\u001b[1;34m(self, key)\u001b[0m\n\u001b[0;32m   <a href='file:///c%3A/Users/andre/OneDrive%20-%20Danmarks%20Tekniske%20Universitet/02466%20Project%20work%20-%20Bachelor%20of%20Artificial%20Intelligence%20and%20Data/Project-Work---Bsc.-AIDS/venv/lib/site-packages/pandas/core/frame.py?line=3502'>3503</a>\u001b[0m \u001b[39mif\u001b[39;00m \u001b[39mself\u001b[39m\u001b[39m.\u001b[39mcolumns\u001b[39m.\u001b[39mnlevels \u001b[39m>\u001b[39m \u001b[39m1\u001b[39m:\n\u001b[0;32m   <a href='file:///c%3A/Users/andre/OneDrive%20-%20Danmarks%20Tekniske%20Universitet/02466%20Project%20work%20-%20Bachelor%20of%20Artificial%20Intelligence%20and%20Data/Project-Work---Bsc.-AIDS/venv/lib/site-packages/pandas/core/frame.py?line=3503'>3504</a>\u001b[0m     \u001b[39mreturn\u001b[39;00m \u001b[39mself\u001b[39m\u001b[39m.\u001b[39m_getitem_multilevel(key)\n\u001b[1;32m-> <a href='file:///c%3A/Users/andre/OneDrive%20-%20Danmarks%20Tekniske%20Universitet/02466%20Project%20work%20-%20Bachelor%20of%20Artificial%20Intelligence%20and%20Data/Project-Work---Bsc.-AIDS/venv/lib/site-packages/pandas/core/frame.py?line=3504'>3505</a>\u001b[0m indexer \u001b[39m=\u001b[39m \u001b[39mself\u001b[39;49m\u001b[39m.\u001b[39;49mcolumns\u001b[39m.\u001b[39;49mget_loc(key)\n\u001b[0;32m   <a href='file:///c%3A/Users/andre/OneDrive%20-%20Danmarks%20Tekniske%20Universitet/02466%20Project%20work%20-%20Bachelor%20of%20Artificial%20Intelligence%20and%20Data/Project-Work---Bsc.-AIDS/venv/lib/site-packages/pandas/core/frame.py?line=3505'>3506</a>\u001b[0m \u001b[39mif\u001b[39;00m is_integer(indexer):\n\u001b[0;32m   <a href='file:///c%3A/Users/andre/OneDrive%20-%20Danmarks%20Tekniske%20Universitet/02466%20Project%20work%20-%20Bachelor%20of%20Artificial%20Intelligence%20and%20Data/Project-Work---Bsc.-AIDS/venv/lib/site-packages/pandas/core/frame.py?line=3506'>3507</a>\u001b[0m     indexer \u001b[39m=\u001b[39m [indexer]\n",
      "File \u001b[1;32mc:\\Users\\andre\\OneDrive - Danmarks Tekniske Universitet\\02466 Project work - Bachelor of Artificial Intelligence and Data\\Project-Work---Bsc.-AIDS\\venv\\lib\\site-packages\\pandas\\core\\indexes\\base.py:3623\u001b[0m, in \u001b[0;36mIndex.get_loc\u001b[1;34m(self, key, method, tolerance)\u001b[0m\n\u001b[0;32m   <a href='file:///c%3A/Users/andre/OneDrive%20-%20Danmarks%20Tekniske%20Universitet/02466%20Project%20work%20-%20Bachelor%20of%20Artificial%20Intelligence%20and%20Data/Project-Work---Bsc.-AIDS/venv/lib/site-packages/pandas/core/indexes/base.py?line=3620'>3621</a>\u001b[0m     \u001b[39mreturn\u001b[39;00m \u001b[39mself\u001b[39m\u001b[39m.\u001b[39m_engine\u001b[39m.\u001b[39mget_loc(casted_key)\n\u001b[0;32m   <a href='file:///c%3A/Users/andre/OneDrive%20-%20Danmarks%20Tekniske%20Universitet/02466%20Project%20work%20-%20Bachelor%20of%20Artificial%20Intelligence%20and%20Data/Project-Work---Bsc.-AIDS/venv/lib/site-packages/pandas/core/indexes/base.py?line=3621'>3622</a>\u001b[0m \u001b[39mexcept\u001b[39;00m \u001b[39mKeyError\u001b[39;00m \u001b[39mas\u001b[39;00m err:\n\u001b[1;32m-> <a href='file:///c%3A/Users/andre/OneDrive%20-%20Danmarks%20Tekniske%20Universitet/02466%20Project%20work%20-%20Bachelor%20of%20Artificial%20Intelligence%20and%20Data/Project-Work---Bsc.-AIDS/venv/lib/site-packages/pandas/core/indexes/base.py?line=3622'>3623</a>\u001b[0m     \u001b[39mraise\u001b[39;00m \u001b[39mKeyError\u001b[39;00m(key) \u001b[39mfrom\u001b[39;00m \u001b[39merr\u001b[39;00m\n\u001b[0;32m   <a href='file:///c%3A/Users/andre/OneDrive%20-%20Danmarks%20Tekniske%20Universitet/02466%20Project%20work%20-%20Bachelor%20of%20Artificial%20Intelligence%20and%20Data/Project-Work---Bsc.-AIDS/venv/lib/site-packages/pandas/core/indexes/base.py?line=3623'>3624</a>\u001b[0m \u001b[39mexcept\u001b[39;00m \u001b[39mTypeError\u001b[39;00m:\n\u001b[0;32m   <a href='file:///c%3A/Users/andre/OneDrive%20-%20Danmarks%20Tekniske%20Universitet/02466%20Project%20work%20-%20Bachelor%20of%20Artificial%20Intelligence%20and%20Data/Project-Work---Bsc.-AIDS/venv/lib/site-packages/pandas/core/indexes/base.py?line=3624'>3625</a>\u001b[0m     \u001b[39m# If we have a listlike key, _check_indexing_error will raise\u001b[39;00m\n\u001b[0;32m   <a href='file:///c%3A/Users/andre/OneDrive%20-%20Danmarks%20Tekniske%20Universitet/02466%20Project%20work%20-%20Bachelor%20of%20Artificial%20Intelligence%20and%20Data/Project-Work---Bsc.-AIDS/venv/lib/site-packages/pandas/core/indexes/base.py?line=3625'>3626</a>\u001b[0m     \u001b[39m#  InvalidIndexError. Otherwise we fall through and re-raise\u001b[39;00m\n\u001b[0;32m   <a href='file:///c%3A/Users/andre/OneDrive%20-%20Danmarks%20Tekniske%20Universitet/02466%20Project%20work%20-%20Bachelor%20of%20Artificial%20Intelligence%20and%20Data/Project-Work---Bsc.-AIDS/venv/lib/site-packages/pandas/core/indexes/base.py?line=3626'>3627</a>\u001b[0m     \u001b[39m#  the TypeError.\u001b[39;00m\n\u001b[0;32m   <a href='file:///c%3A/Users/andre/OneDrive%20-%20Danmarks%20Tekniske%20Universitet/02466%20Project%20work%20-%20Bachelor%20of%20Artificial%20Intelligence%20and%20Data/Project-Work---Bsc.-AIDS/venv/lib/site-packages/pandas/core/indexes/base.py?line=3627'>3628</a>\u001b[0m     \u001b[39mself\u001b[39m\u001b[39m.\u001b[39m_check_indexing_error(key)\n",
      "\u001b[1;31mKeyError\u001b[0m: 'type'"
     ]
    }
   ],
   "source": [
    "df = type_sum\n",
    "\n",
    "print(\"Consumption (num_kwh) below 0: {}\".format(df[(df[\"type\"] == \"consumption\") & (df[\"num_kwh\"] < 0)].shape[0]))\n",
    "print(\"Consumption (num_kwh) equal to 0: {}\".format(df[(df[\"type\"] == \"consumption\") & (df[\"num_kwh\"] == 0)].shape[0]))\n",
    "print(\"Consumption (num_kwh) above 0: {}\".format(df[(df[\"type\"] == \"consumption\") & (df[\"num_kwh\"] > 0)].shape[0]))\n",
    "print()\n",
    "print(\"Production (num_kwh) below 0: {}\".format(df[(df[\"type\"] == \"production\") & (df[\"num_kwh\"] < 0)].shape[0]))\n",
    "print(\"Production (num_kwh) equal to 0: {}\".format(df[(df[\"type\"] == \"production\") & (df[\"num_kwh\"] == 0)].shape[0]))\n",
    "print(\"Production (num_kwh) above 0: {}\".format(df[(df[\"type\"] == \"production\") & (df[\"num_kwh\"] > 0)].shape[0]))\n",
    "print()\n",
    "print(\"Elcert (num_kwh) below 0: {}\".format(df[(df[\"type\"] == \"elcert\") & (df[\"num_kwh\"] < 0)].shape[0]))\n",
    "print(\"Elcert (num_kwh) equal to 0: {}\".format(df[(df[\"type\"] == \"elcert\") & (df[\"num_kwh\"] == 0)].shape[0]))\n",
    "print(\"Elcert (num_kwh) above 0: {}\".format(df[(df[\"type\"] == \"elcert\") & (df[\"num_kwh\"] > 0)].shape[0]))"
   ]
  }
 ],
 "metadata": {
  "interpreter": {
   "hash": "373ca570fc891238f1057e6d105cf17eb814cd9c6397d08456c6623205273c62"
  },
  "kernelspec": {
   "display_name": "Python 3.8.8 ('venv': venv)",
   "language": "python",
   "name": "python3"
  },
  "language_info": {
   "codemirror_mode": {
    "name": "ipython",
    "version": 3
   },
   "file_extension": ".py",
   "mimetype": "text/x-python",
   "name": "python",
   "nbconvert_exporter": "python",
   "pygments_lexer": "ipython3",
   "version": "3.8.8"
  },
  "orig_nbformat": 4
 },
 "nbformat": 4,
 "nbformat_minor": 2
}
