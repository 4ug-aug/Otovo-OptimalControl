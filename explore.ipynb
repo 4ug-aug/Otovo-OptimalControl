{
 "cells": [
  {
   "cell_type": "markdown",
   "metadata": {},
   "source": [
    "# Imports "
   ]
  },
  {
   "cell_type": "code",
   "execution_count": 1,
   "metadata": {},
   "outputs": [],
   "source": [
    "import dask.dataframe as dd\n",
    "import pandas as pd\n",
    "import matplotlib.pyplot as plt"
   ]
  },
  {
   "cell_type": "markdown",
   "metadata": {},
   "source": [
    "# Full dataset\n",
    "Load gridtx-dump"
   ]
  },
  {
   "cell_type": "code",
   "execution_count": 2,
   "metadata": {},
   "outputs": [],
   "source": [
    "# Load gridtx dump \n",
    "dtype={'adjusts_id': 'object',\n",
    "       'ediel_product_code': 'float64',\n",
    "       'invoice_item_id': 'object',\n",
    "       'parent_id': 'object',\n",
    "       'meter_id': 'object'}\n",
    "\n",
    "file = \"data/gridtx-dump.csv\"\n",
    "df = dd.read_csv(file, sep=\";\", dtype=dtype)"
   ]
  },
  {
   "cell_type": "markdown",
   "metadata": {},
   "source": [
    "Explore gridtx dump"
   ]
  },
  {
   "cell_type": "code",
   "execution_count": 3,
   "metadata": {},
   "outputs": [
    {
     "data": {
      "text/plain": [
       "1969"
      ]
     },
     "execution_count": 3,
     "metadata": {},
     "output_type": "execute_result"
    }
   ],
   "source": [
    "# Get uniqe meter ids \n",
    "meter_ids = df[\"meter_id\"].unique().compute()\n",
    "len(meter_ids)"
   ]
  },
  {
   "cell_type": "code",
   "execution_count": 48,
   "metadata": {},
   "outputs": [
    {
     "data": {
      "text/plain": [
       "40075583"
      ]
     },
     "execution_count": 48,
     "metadata": {},
     "output_type": "execute_result"
    }
   ],
   "source": [
    "# Get number of rows in dataframe\n",
    "num_rows = len(df)\n",
    "num_rows"
   ]
  },
  {
   "cell_type": "code",
   "execution_count": 50,
   "metadata": {},
   "outputs": [],
   "source": [
    "# Number of unique rows in dataset\n",
    "unique_rows = len(df.drop_duplicates())\n",
    "unique_rows\n"
   ]
  },
  {
   "cell_type": "code",
   "execution_count": 46,
   "metadata": {},
   "outputs": [
    {
     "data": {
      "text/plain": [
       "24440788"
      ]
     },
     "execution_count": 46,
     "metadata": {},
     "output_type": "execute_result"
    }
   ],
   "source": [
    "# Check if timeslot is uniqe\n",
    "timeslot_unique_count = df[[\"timeslot\",\"meter_id\", \"type\"]].drop_duplicates().shape[0].compute()\n",
    "timeslot_unique_count"
   ]
  },
  {
   "cell_type": "code",
   "execution_count": 3,
   "metadata": {},
   "outputs": [
    {
     "data": {
      "text/html": [
       "<div>\n",
       "<style scoped>\n",
       "    .dataframe tbody tr th:only-of-type {\n",
       "        vertical-align: middle;\n",
       "    }\n",
       "\n",
       "    .dataframe tbody tr th {\n",
       "        vertical-align: top;\n",
       "    }\n",
       "\n",
       "    .dataframe thead th {\n",
       "        text-align: right;\n",
       "    }\n",
       "</style>\n",
       "<table border=\"1\" class=\"dataframe\">\n",
       "  <thead>\n",
       "    <tr style=\"text-align: right;\">\n",
       "      <th></th>\n",
       "      <th>num_kwh</th>\n",
       "      <th>spot_price_no_vat</th>\n",
       "      <th>amount_no_vat</th>\n",
       "      <th>amount_with_vat</th>\n",
       "      <th>vat_percent</th>\n",
       "      <th>ediel_product_code</th>\n",
       "      <th>kwh_fee_no_vat</th>\n",
       "    </tr>\n",
       "  </thead>\n",
       "  <tbody>\n",
       "    <tr>\n",
       "      <th>count</th>\n",
       "      <td>4.007558e+07</td>\n",
       "      <td>4.002075e+07</td>\n",
       "      <td>4.007558e+07</td>\n",
       "      <td>4.007558e+07</td>\n",
       "      <td>4.007558e+07</td>\n",
       "      <td>3.997582e+07</td>\n",
       "      <td>4.007558e+07</td>\n",
       "    </tr>\n",
       "    <tr>\n",
       "      <th>mean</th>\n",
       "      <td>1.261181e+00</td>\n",
       "      <td>-1.191252e-01</td>\n",
       "      <td>1.322791e-03</td>\n",
       "      <td>1.862953e-03</td>\n",
       "      <td>1.670095e+01</td>\n",
       "      <td>1.491748e+03</td>\n",
       "      <td>1.492465e-02</td>\n",
       "    </tr>\n",
       "    <tr>\n",
       "      <th>std</th>\n",
       "      <td>5.996560e+00</td>\n",
       "      <td>6.360822e-01</td>\n",
       "      <td>2.223072e+01</td>\n",
       "      <td>2.746402e+01</td>\n",
       "      <td>1.177294e+01</td>\n",
       "      <td>8.819701e+00</td>\n",
       "      <td>2.259279e-02</td>\n",
       "    </tr>\n",
       "    <tr>\n",
       "      <th>min</th>\n",
       "      <td>-1.560000e+03</td>\n",
       "      <td>-1.116000e+00</td>\n",
       "      <td>-9.646320e+03</td>\n",
       "      <td>-1.205790e+04</td>\n",
       "      <td>0.000000e+00</td>\n",
       "      <td>1.481000e+03</td>\n",
       "      <td>0.000000e+00</td>\n",
       "    </tr>\n",
       "    <tr>\n",
       "      <th>25%</th>\n",
       "      <td>0.000000e+00</td>\n",
       "      <td>2.000000e-02</td>\n",
       "      <td>0.000000e+00</td>\n",
       "      <td>0.000000e+00</td>\n",
       "      <td>2.500000e+01</td>\n",
       "      <td>1.491000e+03</td>\n",
       "      <td>0.000000e+00</td>\n",
       "    </tr>\n",
       "    <tr>\n",
       "      <th>50%</th>\n",
       "      <td>0.000000e+00</td>\n",
       "      <td>3.722800e-01</td>\n",
       "      <td>0.000000e+00</td>\n",
       "      <td>0.000000e+00</td>\n",
       "      <td>2.500000e+01</td>\n",
       "      <td>1.491000e+03</td>\n",
       "      <td>0.000000e+00</td>\n",
       "    </tr>\n",
       "    <tr>\n",
       "      <th>75%</th>\n",
       "      <td>2.047500e+00</td>\n",
       "      <td>5.370600e-01</td>\n",
       "      <td>1.261000e+00</td>\n",
       "      <td>1.577000e+00</td>\n",
       "      <td>2.500000e+01</td>\n",
       "      <td>1.491000e+03</td>\n",
       "      <td>5.600000e-02</td>\n",
       "    </tr>\n",
       "    <tr>\n",
       "      <th>max</th>\n",
       "      <td>2.347000e+03</td>\n",
       "      <td>2.454310e+00</td>\n",
       "      <td>6.255580e+03</td>\n",
       "      <td>7.819480e+03</td>\n",
       "      <td>2.500000e+01</td>\n",
       "      <td>1.591000e+03</td>\n",
       "      <td>5.600000e-02</td>\n",
       "    </tr>\n",
       "  </tbody>\n",
       "</table>\n",
       "</div>"
      ],
      "text/plain": [
       "            num_kwh  spot_price_no_vat  amount_no_vat  amount_with_vat  \\\n",
       "count  4.007558e+07       4.002075e+07   4.007558e+07     4.007558e+07   \n",
       "mean   1.261181e+00      -1.191252e-01   1.322791e-03     1.862953e-03   \n",
       "std    5.996560e+00       6.360822e-01   2.223072e+01     2.746402e+01   \n",
       "min   -1.560000e+03      -1.116000e+00  -9.646320e+03    -1.205790e+04   \n",
       "25%    0.000000e+00       2.000000e-02   0.000000e+00     0.000000e+00   \n",
       "50%    0.000000e+00       3.722800e-01   0.000000e+00     0.000000e+00   \n",
       "75%    2.047500e+00       5.370600e-01   1.261000e+00     1.577000e+00   \n",
       "max    2.347000e+03       2.454310e+00   6.255580e+03     7.819480e+03   \n",
       "\n",
       "        vat_percent  ediel_product_code  kwh_fee_no_vat  \n",
       "count  4.007558e+07        3.997582e+07    4.007558e+07  \n",
       "mean   1.670095e+01        1.491748e+03    1.492465e-02  \n",
       "std    1.177294e+01        8.819701e+00    2.259279e-02  \n",
       "min    0.000000e+00        1.481000e+03    0.000000e+00  \n",
       "25%    2.500000e+01        1.491000e+03    0.000000e+00  \n",
       "50%    2.500000e+01        1.491000e+03    0.000000e+00  \n",
       "75%    2.500000e+01        1.491000e+03    5.600000e-02  \n",
       "max    2.500000e+01        1.591000e+03    5.600000e-02  "
      ]
     },
     "execution_count": 3,
     "metadata": {},
     "output_type": "execute_result"
    }
   ],
   "source": [
    "# Descibe data \n",
    "df.describe().compute()"
   ]
  },
  {
   "cell_type": "code",
   "execution_count": 16,
   "metadata": {},
   "outputs": [],
   "source": [
    "meter_row_counts = df[\"meter_id\"].value_counts().compute()"
   ]
  },
  {
   "cell_type": "markdown",
   "metadata": {},
   "source": [
    "# Aggregated data\n",
    "Create dataset grouped by type and meter id"
   ]
  },
  {
   "cell_type": "code",
   "execution_count": 9,
   "metadata": {},
   "outputs": [],
   "source": [
    "df_new = df.groupby([\"meter_id\", \"type\", \"timeslot\"]).sum().reset_index()\n"
   ]
  },
  {
   "cell_type": "code",
   "execution_count": 61,
   "metadata": {},
   "outputs": [
    {
     "data": {
      "text/plain": [
       "['c:\\\\Users\\\\andre\\\\OneDrive - Danmarks Tekniske Universitet\\\\02466 Project work - Bachelor of Artificial Intelligence and Data\\\\Project-Work---Bsc.-AIDS\\\\data\\\\gridtx-dump-AGGREGATED-TIMESLOT.csv']"
      ]
     },
     "execution_count": 61,
     "metadata": {},
     "output_type": "execute_result"
    }
   ],
   "source": [
    "df_new.to_csv(f\"data/gridtx-dump-AGGREGATED-TIMESLOT.csv\", index= None, header = True, single_file=True)"
   ]
  },
  {
   "cell_type": "markdown",
   "metadata": {},
   "source": [
    "Load the newly created dataset"
   ]
  },
  {
   "cell_type": "code",
   "execution_count": 10,
   "metadata": {},
   "outputs": [],
   "source": [
    "# Load new dataset \n",
    "# Load gridtx dump \n",
    "dtype={'adjusts_id': 'object',\n",
    "       'ediel_product_code': 'float64',\n",
    "       'invoice_item_id': 'object',\n",
    "       'parent_id': 'object',\n",
    "       'meter_id': 'object'}\n",
    "\n",
    "file = \"data/gridtx-dump-AGGREGATED-timeslot-type-meterid.csv\"\n",
    "df_new = dd.read_csv(file, sep=\",\", dtype=dtype)"
   ]
  },
  {
   "cell_type": "code",
   "execution_count": 5,
   "metadata": {},
   "outputs": [],
   "source": [
    "meter_ids = list(df_new[\"meter_id\"].drop_duplicates().compute())"
   ]
  },
  {
   "cell_type": "markdown",
   "metadata": {},
   "source": [
    "# New metering-point data\n",
    "Creates a new metering-point dataset so we only include meters that are in our gridtx dataset"
   ]
  },
  {
   "cell_type": "code",
   "execution_count": 5,
   "metadata": {},
   "outputs": [
    {
     "name": "stdout",
     "output_type": "stream",
     "text": [
      "Number of rows in meters dataset:  2049\n",
      "Number of rows in new meters dataset:  1968\n"
     ]
    }
   ],
   "source": [
    "meters = pd.read_csv(\"data/grid-metering-point-dump-plus-zipcode-GMAPS.csv\")\n",
    "print(\"Number of rows in meters dataset: \", str(len(meters)))\n",
    "new_meters = meters[meters.idgrid_data_table.isin(meter_ids)]\n",
    "print(\"Number of rows in new meters dataset: \", str(len(new_meters)))"
   ]
  },
  {
   "cell_type": "code",
   "execution_count": 6,
   "metadata": {},
   "outputs": [],
   "source": [
    "new_meters.to_csv(\"data/grid-metering-point-dump-plus-zipcode-GMAPS-in-gridtx.csv\")"
   ]
  },
  {
   "cell_type": "markdown",
   "metadata": {},
   "source": [
    "# Explore new meters dataset\n",
    "Explore the newly created dataset"
   ]
  },
  {
   "cell_type": "code",
   "execution_count": 7,
   "metadata": {},
   "outputs": [],
   "source": [
    "# Load data\n",
    "new_meters = pd.read_csv(\"data/grid-metering-point-dump-plus-zipcode-GMAPS-in-gridtx.csv\")\n",
    "\n",
    "new_meters = new_meters[['idgrid_data_table', 'created_atgrid_data_table',\n",
    "       'updated_atgrid_data_table', 'meter_number', 'ean', 'automatic_meter',\n",
    "       'street_address', 'grid_owner_id', 'metering_grid_area', 'zip_code_id',\n",
    "       'provider', 'settlement_method', 'market_balance_area', 'code', 'name',\n",
    "       'idzipcode_table', 'created_atzipcode_table', 'updated_atzipcode_table',\n",
    "       'country', 'full_address', 'lat', 'lng']]\n"
   ]
  },
  {
   "cell_type": "code",
   "execution_count": 11,
   "metadata": {},
   "outputs": [
    {
     "data": {
      "text/html": [
       "<div>\n",
       "<style scoped>\n",
       "    .dataframe tbody tr th:only-of-type {\n",
       "        vertical-align: middle;\n",
       "    }\n",
       "\n",
       "    .dataframe tbody tr th {\n",
       "        vertical-align: top;\n",
       "    }\n",
       "\n",
       "    .dataframe thead th {\n",
       "        text-align: right;\n",
       "    }\n",
       "</style>\n",
       "<table border=\"1\" class=\"dataframe\">\n",
       "  <thead>\n",
       "    <tr style=\"text-align: right;\">\n",
       "      <th></th>\n",
       "      <th>idgrid_data_table</th>\n",
       "      <th>created_atgrid_data_table</th>\n",
       "      <th>updated_atgrid_data_table</th>\n",
       "      <th>meter_number</th>\n",
       "      <th>ean</th>\n",
       "      <th>automatic_meter</th>\n",
       "      <th>street_address</th>\n",
       "      <th>grid_owner_id</th>\n",
       "      <th>metering_grid_area</th>\n",
       "      <th>zip_code_id</th>\n",
       "      <th>...</th>\n",
       "      <th>market_balance_area</th>\n",
       "      <th>code</th>\n",
       "      <th>name</th>\n",
       "      <th>idzipcode_table</th>\n",
       "      <th>created_atzipcode_table</th>\n",
       "      <th>updated_atzipcode_table</th>\n",
       "      <th>country</th>\n",
       "      <th>full_address</th>\n",
       "      <th>lat</th>\n",
       "      <th>lng</th>\n",
       "    </tr>\n",
       "  </thead>\n",
       "  <tbody>\n",
       "    <tr>\n",
       "      <th>1243</th>\n",
       "      <td>45411724-e84b-4c0d-b16d-e3044a552d19</td>\n",
       "      <td>2018-06-14 13:19:24.793678+02</td>\n",
       "      <td>2018-08-07 14:31:01.348274+02</td>\n",
       "      <td>5706567269060081</td>\n",
       "      <td>707057500062738089</td>\n",
       "      <td>t</td>\n",
       "      <td>Uranusvegen 48</td>\n",
       "      <td>ccd99972-760e-4877-bfc5-85965a53c436</td>\n",
       "      <td>50YXBU3F1E25LBGK</td>\n",
       "      <td>2b3fdb93-b327-4b6b-9873-e172343d498f</td>\n",
       "      <td>...</td>\n",
       "      <td>NO4</td>\n",
       "      <td>9024</td>\n",
       "      <td>Tomasjord</td>\n",
       "      <td>2b3fdb93-b327-4b6b-9873-e172343d498f</td>\n",
       "      <td>2017-10-04 22:12:45.370070+00:00</td>\n",
       "      <td>2018-10-10 07:52:26.865131+00:00</td>\n",
       "      <td>no</td>\n",
       "      <td>Tomasjord, Tromsø, Norway</td>\n",
       "      <td>69.659448</td>\n",
       "      <td>19.018229</td>\n",
       "    </tr>\n",
       "    <tr>\n",
       "      <th>1880</th>\n",
       "      <td>67dbbec6-d4fd-4313-b7e6-69c3f68057b2</td>\n",
       "      <td>2017-02-02 19:49:43.886517+01</td>\n",
       "      <td>2018-11-15 12:45:19.639703+01</td>\n",
       "      <td>137027</td>\n",
       "      <td>707057500062442702</td>\n",
       "      <td>t</td>\n",
       "      <td>Hamnveien 21</td>\n",
       "      <td>ccd99972-760e-4877-bfc5-85965a53c436</td>\n",
       "      <td>50YXBU3F1E25LBGK</td>\n",
       "      <td>31759144-f77b-4d94-acd4-3a9f1f1d8da0</td>\n",
       "      <td>...</td>\n",
       "      <td>NO4</td>\n",
       "      <td>9385</td>\n",
       "      <td>Skaland</td>\n",
       "      <td>31759144-f77b-4d94-acd4-3a9f1f1d8da0</td>\n",
       "      <td>2017-10-04 22:12:45.370070+00:00</td>\n",
       "      <td>2018-10-10 07:53:55.832764+00:00</td>\n",
       "      <td>no</td>\n",
       "      <td>Skaland, Norway</td>\n",
       "      <td>69.444542</td>\n",
       "      <td>17.298257</td>\n",
       "    </tr>\n",
       "  </tbody>\n",
       "</table>\n",
       "<p>2 rows × 22 columns</p>\n",
       "</div>"
      ],
      "text/plain": [
       "                         idgrid_data_table      created_atgrid_data_table  \\\n",
       "1243  45411724-e84b-4c0d-b16d-e3044a552d19  2018-06-14 13:19:24.793678+02   \n",
       "1880  67dbbec6-d4fd-4313-b7e6-69c3f68057b2  2017-02-02 19:49:43.886517+01   \n",
       "\n",
       "          updated_atgrid_data_table      meter_number                 ean  \\\n",
       "1243  2018-08-07 14:31:01.348274+02  5706567269060081  707057500062738089   \n",
       "1880  2018-11-15 12:45:19.639703+01            137027  707057500062442702   \n",
       "\n",
       "     automatic_meter  street_address                         grid_owner_id  \\\n",
       "1243               t  Uranusvegen 48  ccd99972-760e-4877-bfc5-85965a53c436   \n",
       "1880               t    Hamnveien 21  ccd99972-760e-4877-bfc5-85965a53c436   \n",
       "\n",
       "     metering_grid_area                           zip_code_id  ...  \\\n",
       "1243   50YXBU3F1E25LBGK  2b3fdb93-b327-4b6b-9873-e172343d498f  ...   \n",
       "1880   50YXBU3F1E25LBGK  31759144-f77b-4d94-acd4-3a9f1f1d8da0  ...   \n",
       "\n",
       "     market_balance_area  code       name  \\\n",
       "1243                 NO4  9024  Tomasjord   \n",
       "1880                 NO4  9385    Skaland   \n",
       "\n",
       "                           idzipcode_table           created_atzipcode_table  \\\n",
       "1243  2b3fdb93-b327-4b6b-9873-e172343d498f  2017-10-04 22:12:45.370070+00:00   \n",
       "1880  31759144-f77b-4d94-acd4-3a9f1f1d8da0  2017-10-04 22:12:45.370070+00:00   \n",
       "\n",
       "               updated_atzipcode_table country               full_address  \\\n",
       "1243  2018-10-10 07:52:26.865131+00:00      no  Tomasjord, Tromsø, Norway   \n",
       "1880  2018-10-10 07:53:55.832764+00:00      no            Skaland, Norway   \n",
       "\n",
       "            lat        lng  \n",
       "1243  69.659448  19.018229  \n",
       "1880  69.444542  17.298257  \n",
       "\n",
       "[2 rows x 22 columns]"
      ]
     },
     "execution_count": 11,
     "metadata": {},
     "output_type": "execute_result"
    }
   ],
   "source": [
    "new_meters[new_meters[\"lat\"]  == max(new_meters[\"lat\"])]\n",
    "new_meters[new_meters[\"idgrid_data_table\"] == \"45411724-e84b-4c0d-b16d-e3044a552d19\"]\n",
    "\n",
    "new_meters[new_meters[\"lat\"] == max(new_meters[new_meters[\"idgrid_data_table\"].isin(NO1_meters)][\"lat\"])]\n",
    "\n",
    "new_meters[new_meters[\"market_balance_area\"] == \"NO4\"]\n"
   ]
  },
  {
   "cell_type": "code",
   "execution_count": 12,
   "metadata": {},
   "outputs": [
    {
     "name": "stdout",
     "output_type": "stream",
     "text": [
      "Count of automatic and non-automatix meters\n",
      "NO1    1570\n",
      "NO2     282\n",
      "NO5      59\n",
      "NO3      55\n",
      "NO4       2\n",
      "Name: market_balance_area, dtype: int64\n",
      "Count of automatic and non-automatix meters\n",
      "t    1907\n",
      "f      61\n",
      "Name: automatic_meter, dtype: int64\n",
      "There are 7 hourly meters\n",
      "There are 0 daily meters\n",
      "Count for each settlement method\n"
     ]
    },
    {
     "data": {
      "text/plain": [
       "Z32    1821\n",
       "Z31     147\n",
       "Name: settlement_method, dtype: int64"
      ]
     },
     "execution_count": 12,
     "metadata": {},
     "output_type": "execute_result"
    }
   ],
   "source": [
    "# Get ids for each bidding zone \n",
    "\n",
    "NO1_meters = list(new_meters[new_meters[\"market_balance_area\"] == \"NO1\"][\"idgrid_data_table\"])\n",
    "NO2_meters = list(new_meters[new_meters[\"market_balance_area\"] == \"NO2\"][\"idgrid_data_table\"])\n",
    "NO3_meters = list(new_meters[new_meters[\"market_balance_area\"] == \"NO3\"][\"idgrid_data_table\"])\n",
    "NO4_meters = list(new_meters[new_meters[\"market_balance_area\"] == \"NO4\"][\"idgrid_data_table\"])\n",
    "NO5_meters = list(new_meters[new_meters[\"market_balance_area\"] == \"NO5\"][\"idgrid_data_table\"])\n",
    "print(\"Count of automatic and non-automatix meters\")\n",
    "print(new_meters[\"market_balance_area\"].value_counts())\n",
    "\n",
    "\n",
    "# Get ids for automatic and non-automatic meters\n",
    "non_automatic_meters = list(new_meters[new_meters[\"automatic_meter\"] == \"f\"][\"idgrid_data_table\"])\n",
    "automatic_meters = list(new_meters[new_meters[\"automatic_meter\"] == \"t\"][\"idgrid_data_table\"])\n",
    "print(\"Count of automatic and non-automatix meters\")\n",
    "print(new_meters[\"automatic_meter\"].value_counts())\n",
    "\n",
    "\n",
    "# Get hourly meters by code \n",
    "# hourly_meter_codes = [1491, 1481]\n",
    "hourly_meters = new_meters[(new_meters[\"code\"] == 1491) | (new_meters[\"code\"] == 1481)]\n",
    "daily_meters = new_meters[(new_meters[\"code\"] == 1591) | (new_meters[\"code\"] == 1581)]\n",
    "print(f\"There are {len(hourly_meters)} hourly meters\")\n",
    "print(f\"There are {len(daily_meters)} daily meters\")\n",
    "\n",
    "\n",
    "# Get ids for each settlement method \n",
    "print(\"Count for each settlement method\")\n",
    "Z32_meters = list(new_meters[new_meters[\"settlement_method\"] == \"Z32\"][\"idgrid_data_table\"])\n",
    "Z31_meters = list(new_meters[new_meters[\"settlement_method\"] == \"Z31\"][\"idgrid_data_table\"])\n",
    "\n",
    "new_meters[\"settlement_method\"].value_counts()\n"
   ]
  },
  {
   "cell_type": "markdown",
   "metadata": {},
   "source": [
    "Create list of ids to keep"
   ]
  },
  {
   "cell_type": "code",
   "execution_count": 13,
   "metadata": {},
   "outputs": [
    {
     "name": "stdout",
     "output_type": "stream",
     "text": [
      "1456 meters in the updated dataset\n"
     ]
    }
   ],
   "source": [
    "ids_to_keep = list(new_meters[\"idgrid_data_table\"])\n",
    "\n",
    "updated_meter_ids = [id for id in ids_to_keep if id not in non_automatic_meters]\n",
    "updated_meter_ids = [id for id in updated_meter_ids if id not in Z31_meters]\n",
    "updated_meter_ids = [id for id in updated_meter_ids if id in NO1_meters]\n",
    "\n",
    "print(f\"{len(updated_meter_ids)} meters in the updated dataset\")"
   ]
  },
  {
   "cell_type": "markdown",
   "metadata": {},
   "source": [
    "## PLOTS"
   ]
  },
  {
   "cell_type": "code",
   "execution_count": 17,
   "metadata": {},
   "outputs": [
    {
     "data": {
      "image/png": "[encoded data removed]",
      "text/plain": [
       "<Figure size 576x396 with 1 Axes>"
      ]
     },
     "metadata": {},
     "output_type": "display_data"
    }
   ],
   "source": [
    "# Plot automatic and non-automatic meters \n",
    "with plt.style.context(\"seaborn\"):\n",
    "    plt.boxplot([meter_row_counts[automatic_meters], meter_row_counts[non_automatic_meters]])\n",
    "    plt.title(\"Observation count for each meter\")\n",
    "    plt.xticks([1, 2], ['automatic_meters', 'non_automatic_meters'])\n"
   ]
  },
  {
   "cell_type": "code",
   "execution_count": 170,
   "metadata": {},
   "outputs": [
    {
     "data": {
      "image/png": "[encoded data removed]",
      "text/plain": [
       "<Figure size 576x396 with 1 Axes>"
      ]
     },
     "metadata": {},
     "output_type": "display_data"
    }
   ],
   "source": [
    "# Plot settlement method \n",
    "with plt.style.context(\"seaborn\"):\n",
    "    plt.boxplot([meter_row_counts[Z31_meters], meter_row_counts[Z32_meters]])\n",
    "    plt.title(\"Observation count for each meter\")\n",
    "    plt.xticks([1, 2], ['Z31_meters', 'Z32_meters'])"
   ]
  },
  {
   "cell_type": "code",
   "execution_count": 181,
   "metadata": {},
   "outputs": [
    {
     "data": {
      "text/plain": [
       "69.6655511"
      ]
     },
     "execution_count": 181,
     "metadata": {},
     "output_type": "execute_result"
    }
   ],
   "source": [
    "max(new_meters[\"lat\"])"
   ]
  },
  {
   "cell_type": "code",
   "execution_count": 15,
   "metadata": {},
   "outputs": [
    {
     "data": {
      "image/png": "[encoded data removed]",
      "text/plain": [
       "<Figure size 576x396 with 1 Axes>"
      ]
     },
     "metadata": {},
     "output_type": "display_data"
    }
   ],
   "source": [
    "with plt.style.context(\"seaborn\"):\n",
    "    plt.boxplot([ new_meters[\"lat\"], new_meters[new_meters[\"idgrid_data_table\"].isin(NO1_meters)][\"lat\"], new_meters[(new_meters[\"idgrid_data_table\"].isin(NO1_meters)) | (new_meters[\"idgrid_data_table\"].isin(NO2_meters))][\"lat\"] ])\n",
    "    plt.title(\"Meter location latitude\")\n",
    "    plt.xticks([1, 2, 3], ['latitude (all meters)', 'latitude (NO1)', 'latitude (NO1 and NO2)'])\n"
   ]
  },
  {
   "cell_type": "code",
   "execution_count": null,
   "metadata": {},
   "outputs": [
    {
     "name": "stdout",
     "output_type": "stream",
     "text": [
      "1456 meters in the updated dataset\n"
     ]
    }
   ],
   "source": []
  },
  {
   "cell_type": "code",
   "execution_count": null,
   "metadata": {},
   "outputs": [
    {
     "data": {
      "text/plain": [
       "98"
      ]
     },
     "execution_count": 166,
     "metadata": {},
     "output_type": "execute_result"
    }
   ],
   "source": [
    "# hourly_meter_ids = list(new_meters[(new_meters[\"code\"] < 1500) & (new_meters[\"code\"] >= 1400)][\"idgrid_data_table\"])\n",
    "# daily_meter_ids = list(new_meters[(new_meters[\"code\"] < 1600) & (new_meters[\"code\"] >= 1500)][\"idgrid_data_table\"])"
   ]
  },
  {
   "cell_type": "markdown",
   "metadata": {},
   "source": [
    "## New dataset\n",
    "Create new dataset from aggregated data and with the new meter ids"
   ]
  },
  {
   "cell_type": "code",
   "execution_count": 14,
   "metadata": {},
   "outputs": [],
   "source": [
    "df_new_new = df_new[df_new.meter_id.isin(updated_meter_ids)]"
   ]
  },
  {
   "cell_type": "code",
   "execution_count": 124,
   "metadata": {},
   "outputs": [
    {
     "data": {
      "text/plain": [
       "['c:\\\\Users\\\\andre\\\\OneDrive - Danmarks Tekniske Universitet\\\\02466 Project work - Bachelor of Artificial Intelligence and Data\\\\Project-Work---Bsc.-AIDS\\\\data\\\\gridtx-dump-AGGREGATED-CLEANED.csv']"
      ]
     },
     "execution_count": 124,
     "metadata": {},
     "output_type": "execute_result"
    }
   ],
   "source": [
    "df_new_new.to_csv(f\"data/gridtx-dump-AGGREGATED-CLEANED.csv\", index= None, header = True, single_file=True)"
   ]
  },
  {
   "cell_type": "code",
   "execution_count": 135,
   "metadata": {},
   "outputs": [],
   "source": [
    "ttt = df_new_new.groupby(\"meter_id\")[\"timeslot\"].nunique().compute()"
   ]
  },
  {
   "cell_type": "code",
   "execution_count": 149,
   "metadata": {},
   "outputs": [
    {
     "data": {
      "image/png": "[encoded data removed]",
      "text/plain": [
       "<Figure size 576x396 with 1 Axes>"
      ]
     },
     "metadata": {},
     "output_type": "display_data"
    }
   ],
   "source": [
    "threshold = 8064\n",
    "\n",
    "with plt.style.context(\"seaborn\"):\n",
    "    plt.hist(ttt, bins = 40, edgecolor=\"black\")\n",
    "    plt.axvline(threshold, color='k', linestyle='dashed', linewidth=1)\n",
    "    plt.title(\"Timslot count distribution\")"
   ]
  },
  {
   "cell_type": "code",
   "execution_count": 147,
   "metadata": {},
   "outputs": [
    {
     "data": {
      "text/plain": [
       "531"
      ]
     },
     "execution_count": 147,
     "metadata": {},
     "output_type": "execute_result"
    }
   ],
   "source": [
    "sum(ttt >= 8064)"
   ]
  },
  {
   "cell_type": "code",
   "execution_count": 154,
   "metadata": {},
   "outputs": [],
   "source": [
    "updated_meter_ids_new = list(ttt[ttt >= 8064].index)"
   ]
  },
  {
   "cell_type": "code",
   "execution_count": 155,
   "metadata": {},
   "outputs": [],
   "source": [
    "df_new_new_new = df_new_new[df_new_new.meter_id.isin(updated_meter_ids_new)]"
   ]
  },
  {
   "cell_type": "code",
   "execution_count": 156,
   "metadata": {},
   "outputs": [
    {
     "data": {
      "text/plain": [
       "['c:\\\\Users\\\\andre\\\\OneDrive - Danmarks Tekniske Universitet\\\\02466 Project work - Bachelor of Artificial Intelligence and Data\\\\Project-Work---Bsc.-AIDS\\\\data\\\\gridtx-dump-AGGREGATED-CLEANED-THRESHOLD.csv']"
      ]
     },
     "execution_count": 156,
     "metadata": {},
     "output_type": "execute_result"
    }
   ],
   "source": [
    "df_new_new_new.to_csv(f\"data/gridtx-dump-AGGREGATED-CLEANED-THRESHOLD.csv\", index= None, header = True, single_file=True)"
   ]
  },
  {
   "cell_type": "code",
   "execution_count": null,
   "metadata": {},
   "outputs": [],
   "source": []
  },
  {
   "cell_type": "markdown",
   "metadata": {},
   "source": [
    "# Explore Aggregated Cleaned Threshold\n"
   ]
  },
  {
   "cell_type": "code",
   "execution_count": 239,
   "metadata": {},
   "outputs": [],
   "source": [
    "# Load data \n",
    "dtype={'adjusts_id': 'object',\n",
    "       'ediel_product_code': 'float64',\n",
    "       'invoice_item_id': 'object',\n",
    "       'parent_id': 'object',\n",
    "       'meter_id': 'str'}\n",
    "\n",
    "file = \"data/gridtx-dump-AGGREGATED-CLEANED-THRESHOLD.csv\"\n",
    "df_threshold = dd.read_csv(file, sep=\",\", dtype=dtype)"
   ]
  },
  {
   "cell_type": "code",
   "execution_count": 218,
   "metadata": {},
   "outputs": [
    {
     "data": {
      "text/plain": [
       "Index(['meter_id', 'type', 'timeslot', 'num_kwh', 'spot_price_no_vat',\n",
       "       'amount_no_vat', 'amount_with_vat', 'vat_percent', 'ediel_product_code',\n",
       "       'kwh_fee_no_vat'],\n",
       "      dtype='object')"
      ]
     },
     "execution_count": 218,
     "metadata": {},
     "output_type": "execute_result"
    }
   ],
   "source": [
    "df_threshold.columns"
   ]
  },
  {
   "cell_type": "code",
   "execution_count": 252,
   "metadata": {},
   "outputs": [],
   "source": [
    "cons_numkwh_neg_counts = df_threshold[(df_threshold[\"type\"] == \"consumption\") & (df_threshold[\"num_kwh\"] < 0)][\"num_kwh\"].value_counts().compute()\n",
    "prod_numkwh_neg_counts = df_threshold[(df_threshold[\"type\"] == \"production\") & (df_threshold[\"num_kwh\"] < 0)][\"num_kwh\"].value_counts().compute()"
   ]
  },
  {
   "cell_type": "code",
   "execution_count": 259,
   "metadata": {},
   "outputs": [
    {
     "data": {
      "image/png": "[encoded data removed]",
      "text/plain": [
       "<Figure size 576x396 with 1 Axes>"
      ]
     },
     "metadata": {},
     "output_type": "display_data"
    }
   ],
   "source": [
    "# Create barplot of cons_numkwh_neg_counts\n",
    "with plt.style.context(\"seaborn\"):\n",
    "    plt.bar(cons_numkwh_neg_counts.index, cons_numkwh_neg_counts.values)\n",
    "    plt.title(\"Consumption num_kwh counts\")\n",
    "    plt.xlabel(\"num_kwh\")\n",
    "    plt.ylabel(\"count\")"
   ]
  },
  {
   "cell_type": "code",
   "execution_count": 262,
   "metadata": {},
   "outputs": [
    {
     "data": {
      "image/png": "[encoded data removed]",
      "text/plain": [
       "<Figure size 576x396 with 1 Axes>"
      ]
     },
     "metadata": {},
     "output_type": "display_data"
    }
   ],
   "source": [
    "# Create barplot of cons_numkwh_neg_counts\n",
    "with plt.style.context(\"seaborn\"):\n",
    "    plt.bar(prod_numkwh_neg_counts.index, prod_numkwh_neg_counts.values)\n",
    "    plt.title(\"Production num_kwh counts\")\n",
    "    plt.xlabel(\"num_kwh\")\n",
    "    plt.ylabel(\"count\")"
   ]
  },
  {
   "cell_type": "code",
   "execution_count": 241,
   "metadata": {},
   "outputs": [
    {
     "ename": "KeyboardInterrupt",
     "evalue": "",
     "output_type": "error",
     "traceback": [
      "\u001b[1;31m---------------------------------------------------------------------------\u001b[0m",
      "\u001b[1;31mKeyboardInterrupt\u001b[0m                         Traceback (most recent call last)",
      "\u001b[1;32mc:\\Users\\andre\\OneDrive - Danmarks Tekniske Universitet\\02466 Project work - Bachelor of Artificial Intelligence and Data\\Project-Work---Bsc.-AIDS\\explore.ipynb Cell 48'\u001b[0m in \u001b[0;36m<cell line: 2>\u001b[1;34m()\u001b[0m\n\u001b[0;32m      <a href='vscode-notebook-cell:/c%3A/Users/andre/OneDrive%20-%20Danmarks%20Tekniske%20Universitet/02466%20Project%20work%20-%20Bachelor%20of%20Artificial%20Intelligence%20and%20Data/Project-Work---Bsc.-AIDS/explore.ipynb#ch0000101?line=0'>1</a>\u001b[0m \u001b[39m# Create barplot of num_kwh accross all meters\u001b[39;00m\n\u001b[0;32m      <a href='vscode-notebook-cell:/c%3A/Users/andre/OneDrive%20-%20Danmarks%20Tekniske%20Universitet/02466%20Project%20work%20-%20Bachelor%20of%20Artificial%20Intelligence%20and%20Data/Project-Work---Bsc.-AIDS/explore.ipynb#ch0000101?line=1'>2</a>\u001b[0m \u001b[39mwith\u001b[39;00m plt\u001b[39m.\u001b[39mstyle\u001b[39m.\u001b[39mcontext(\u001b[39m\"\u001b[39m\u001b[39mseaborn\u001b[39m\u001b[39m\"\u001b[39m):\n\u001b[1;32m----> <a href='vscode-notebook-cell:/c%3A/Users/andre/OneDrive%20-%20Danmarks%20Tekniske%20Universitet/02466%20Project%20work%20-%20Bachelor%20of%20Artificial%20Intelligence%20and%20Data/Project-Work---Bsc.-AIDS/explore.ipynb#ch0000101?line=2'>3</a>\u001b[0m     plt\u001b[39m.\u001b[39;49mhist(df_threshold[\u001b[39m\"\u001b[39;49m\u001b[39mnum_kwh\u001b[39;49m\u001b[39m\"\u001b[39;49m], bins \u001b[39m=\u001b[39;49m \u001b[39m1000\u001b[39;49m, edgecolor\u001b[39m=\u001b[39;49m\u001b[39m\"\u001b[39;49m\u001b[39mblack\u001b[39;49m\u001b[39m\"\u001b[39;49m)\n\u001b[0;32m      <a href='vscode-notebook-cell:/c%3A/Users/andre/OneDrive%20-%20Danmarks%20Tekniske%20Universitet/02466%20Project%20work%20-%20Bachelor%20of%20Artificial%20Intelligence%20and%20Data/Project-Work---Bsc.-AIDS/explore.ipynb#ch0000101?line=3'>4</a>\u001b[0m     plt\u001b[39m.\u001b[39mtitle(\u001b[39m\"\u001b[39m\u001b[39mnum_kwh distribution\u001b[39m\u001b[39m\"\u001b[39m)\n",
      "File \u001b[1;32mc:\\Users\\andre\\OneDrive - Danmarks Tekniske Universitet\\02466 Project work - Bachelor of Artificial Intelligence and Data\\Project-Work---Bsc.-AIDS\\venv\\lib\\site-packages\\matplotlib\\pyplot.py:2590\u001b[0m, in \u001b[0;36mhist\u001b[1;34m(x, bins, range, density, weights, cumulative, bottom, histtype, align, orientation, rwidth, log, color, label, stacked, data, **kwargs)\u001b[0m\n\u001b[0;32m   <a href='file:///c%3A/Users/andre/OneDrive%20-%20Danmarks%20Tekniske%20Universitet/02466%20Project%20work%20-%20Bachelor%20of%20Artificial%20Intelligence%20and%20Data/Project-Work---Bsc.-AIDS/venv/lib/site-packages/matplotlib/pyplot.py?line=2583'>2584</a>\u001b[0m \u001b[39m@_copy_docstring_and_deprecators\u001b[39m(Axes\u001b[39m.\u001b[39mhist)\n\u001b[0;32m   <a href='file:///c%3A/Users/andre/OneDrive%20-%20Danmarks%20Tekniske%20Universitet/02466%20Project%20work%20-%20Bachelor%20of%20Artificial%20Intelligence%20and%20Data/Project-Work---Bsc.-AIDS/venv/lib/site-packages/matplotlib/pyplot.py?line=2584'>2585</a>\u001b[0m \u001b[39mdef\u001b[39;00m \u001b[39mhist\u001b[39m(\n\u001b[0;32m   <a href='file:///c%3A/Users/andre/OneDrive%20-%20Danmarks%20Tekniske%20Universitet/02466%20Project%20work%20-%20Bachelor%20of%20Artificial%20Intelligence%20and%20Data/Project-Work---Bsc.-AIDS/venv/lib/site-packages/matplotlib/pyplot.py?line=2585'>2586</a>\u001b[0m         x, bins\u001b[39m=\u001b[39m\u001b[39mNone\u001b[39;00m, \u001b[39mrange\u001b[39m\u001b[39m=\u001b[39m\u001b[39mNone\u001b[39;00m, density\u001b[39m=\u001b[39m\u001b[39mFalse\u001b[39;00m, weights\u001b[39m=\u001b[39m\u001b[39mNone\u001b[39;00m,\n\u001b[0;32m   <a href='file:///c%3A/Users/andre/OneDrive%20-%20Danmarks%20Tekniske%20Universitet/02466%20Project%20work%20-%20Bachelor%20of%20Artificial%20Intelligence%20and%20Data/Project-Work---Bsc.-AIDS/venv/lib/site-packages/matplotlib/pyplot.py?line=2586'>2587</a>\u001b[0m         cumulative\u001b[39m=\u001b[39m\u001b[39mFalse\u001b[39;00m, bottom\u001b[39m=\u001b[39m\u001b[39mNone\u001b[39;00m, histtype\u001b[39m=\u001b[39m\u001b[39m'\u001b[39m\u001b[39mbar\u001b[39m\u001b[39m'\u001b[39m, align\u001b[39m=\u001b[39m\u001b[39m'\u001b[39m\u001b[39mmid\u001b[39m\u001b[39m'\u001b[39m,\n\u001b[0;32m   <a href='file:///c%3A/Users/andre/OneDrive%20-%20Danmarks%20Tekniske%20Universitet/02466%20Project%20work%20-%20Bachelor%20of%20Artificial%20Intelligence%20and%20Data/Project-Work---Bsc.-AIDS/venv/lib/site-packages/matplotlib/pyplot.py?line=2587'>2588</a>\u001b[0m         orientation\u001b[39m=\u001b[39m\u001b[39m'\u001b[39m\u001b[39mvertical\u001b[39m\u001b[39m'\u001b[39m, rwidth\u001b[39m=\u001b[39m\u001b[39mNone\u001b[39;00m, log\u001b[39m=\u001b[39m\u001b[39mFalse\u001b[39;00m, color\u001b[39m=\u001b[39m\u001b[39mNone\u001b[39;00m,\n\u001b[0;32m   <a href='file:///c%3A/Users/andre/OneDrive%20-%20Danmarks%20Tekniske%20Universitet/02466%20Project%20work%20-%20Bachelor%20of%20Artificial%20Intelligence%20and%20Data/Project-Work---Bsc.-AIDS/venv/lib/site-packages/matplotlib/pyplot.py?line=2588'>2589</a>\u001b[0m         label\u001b[39m=\u001b[39m\u001b[39mNone\u001b[39;00m, stacked\u001b[39m=\u001b[39m\u001b[39mFalse\u001b[39;00m, \u001b[39m*\u001b[39m, data\u001b[39m=\u001b[39m\u001b[39mNone\u001b[39;00m, \u001b[39m*\u001b[39m\u001b[39m*\u001b[39mkwargs):\n\u001b[1;32m-> <a href='file:///c%3A/Users/andre/OneDrive%20-%20Danmarks%20Tekniske%20Universitet/02466%20Project%20work%20-%20Bachelor%20of%20Artificial%20Intelligence%20and%20Data/Project-Work---Bsc.-AIDS/venv/lib/site-packages/matplotlib/pyplot.py?line=2589'>2590</a>\u001b[0m     \u001b[39mreturn\u001b[39;00m gca()\u001b[39m.\u001b[39;49mhist(\n\u001b[0;32m   <a href='file:///c%3A/Users/andre/OneDrive%20-%20Danmarks%20Tekniske%20Universitet/02466%20Project%20work%20-%20Bachelor%20of%20Artificial%20Intelligence%20and%20Data/Project-Work---Bsc.-AIDS/venv/lib/site-packages/matplotlib/pyplot.py?line=2590'>2591</a>\u001b[0m         x, bins\u001b[39m=\u001b[39;49mbins, \u001b[39mrange\u001b[39;49m\u001b[39m=\u001b[39;49m\u001b[39mrange\u001b[39;49m, density\u001b[39m=\u001b[39;49mdensity, weights\u001b[39m=\u001b[39;49mweights,\n\u001b[0;32m   <a href='file:///c%3A/Users/andre/OneDrive%20-%20Danmarks%20Tekniske%20Universitet/02466%20Project%20work%20-%20Bachelor%20of%20Artificial%20Intelligence%20and%20Data/Project-Work---Bsc.-AIDS/venv/lib/site-packages/matplotlib/pyplot.py?line=2591'>2592</a>\u001b[0m         cumulative\u001b[39m=\u001b[39;49mcumulative, bottom\u001b[39m=\u001b[39;49mbottom, histtype\u001b[39m=\u001b[39;49mhisttype,\n\u001b[0;32m   <a href='file:///c%3A/Users/andre/OneDrive%20-%20Danmarks%20Tekniske%20Universitet/02466%20Project%20work%20-%20Bachelor%20of%20Artificial%20Intelligence%20and%20Data/Project-Work---Bsc.-AIDS/venv/lib/site-packages/matplotlib/pyplot.py?line=2592'>2593</a>\u001b[0m         align\u001b[39m=\u001b[39;49malign, orientation\u001b[39m=\u001b[39;49morientation, rwidth\u001b[39m=\u001b[39;49mrwidth, log\u001b[39m=\u001b[39;49mlog,\n\u001b[0;32m   <a href='file:///c%3A/Users/andre/OneDrive%20-%20Danmarks%20Tekniske%20Universitet/02466%20Project%20work%20-%20Bachelor%20of%20Artificial%20Intelligence%20and%20Data/Project-Work---Bsc.-AIDS/venv/lib/site-packages/matplotlib/pyplot.py?line=2593'>2594</a>\u001b[0m         color\u001b[39m=\u001b[39;49mcolor, label\u001b[39m=\u001b[39;49mlabel, stacked\u001b[39m=\u001b[39;49mstacked,\n\u001b[0;32m   <a href='file:///c%3A/Users/andre/OneDrive%20-%20Danmarks%20Tekniske%20Universitet/02466%20Project%20work%20-%20Bachelor%20of%20Artificial%20Intelligence%20and%20Data/Project-Work---Bsc.-AIDS/venv/lib/site-packages/matplotlib/pyplot.py?line=2594'>2595</a>\u001b[0m         \u001b[39m*\u001b[39;49m\u001b[39m*\u001b[39;49m({\u001b[39m\"\u001b[39;49m\u001b[39mdata\u001b[39;49m\u001b[39m\"\u001b[39;49m: data} \u001b[39mif\u001b[39;49;00m data \u001b[39mis\u001b[39;49;00m \u001b[39mnot\u001b[39;49;00m \u001b[39mNone\u001b[39;49;00m \u001b[39melse\u001b[39;49;00m {}), \u001b[39m*\u001b[39;49m\u001b[39m*\u001b[39;49mkwargs)\n",
      "File \u001b[1;32mc:\\Users\\andre\\OneDrive - Danmarks Tekniske Universitet\\02466 Project work - Bachelor of Artificial Intelligence and Data\\Project-Work---Bsc.-AIDS\\venv\\lib\\site-packages\\matplotlib\\__init__.py:1412\u001b[0m, in \u001b[0;36m_preprocess_data.<locals>.inner\u001b[1;34m(ax, data, *args, **kwargs)\u001b[0m\n\u001b[0;32m   <a href='file:///c%3A/Users/andre/OneDrive%20-%20Danmarks%20Tekniske%20Universitet/02466%20Project%20work%20-%20Bachelor%20of%20Artificial%20Intelligence%20and%20Data/Project-Work---Bsc.-AIDS/venv/lib/site-packages/matplotlib/__init__.py?line=1408'>1409</a>\u001b[0m \u001b[39m@functools\u001b[39m\u001b[39m.\u001b[39mwraps(func)\n\u001b[0;32m   <a href='file:///c%3A/Users/andre/OneDrive%20-%20Danmarks%20Tekniske%20Universitet/02466%20Project%20work%20-%20Bachelor%20of%20Artificial%20Intelligence%20and%20Data/Project-Work---Bsc.-AIDS/venv/lib/site-packages/matplotlib/__init__.py?line=1409'>1410</a>\u001b[0m \u001b[39mdef\u001b[39;00m \u001b[39minner\u001b[39m(ax, \u001b[39m*\u001b[39margs, data\u001b[39m=\u001b[39m\u001b[39mNone\u001b[39;00m, \u001b[39m*\u001b[39m\u001b[39m*\u001b[39mkwargs):\n\u001b[0;32m   <a href='file:///c%3A/Users/andre/OneDrive%20-%20Danmarks%20Tekniske%20Universitet/02466%20Project%20work%20-%20Bachelor%20of%20Artificial%20Intelligence%20and%20Data/Project-Work---Bsc.-AIDS/venv/lib/site-packages/matplotlib/__init__.py?line=1410'>1411</a>\u001b[0m     \u001b[39mif\u001b[39;00m data \u001b[39mis\u001b[39;00m \u001b[39mNone\u001b[39;00m:\n\u001b[1;32m-> <a href='file:///c%3A/Users/andre/OneDrive%20-%20Danmarks%20Tekniske%20Universitet/02466%20Project%20work%20-%20Bachelor%20of%20Artificial%20Intelligence%20and%20Data/Project-Work---Bsc.-AIDS/venv/lib/site-packages/matplotlib/__init__.py?line=1411'>1412</a>\u001b[0m         \u001b[39mreturn\u001b[39;00m func(ax, \u001b[39m*\u001b[39;49m\u001b[39mmap\u001b[39;49m(sanitize_sequence, args), \u001b[39m*\u001b[39;49m\u001b[39m*\u001b[39;49mkwargs)\n\u001b[0;32m   <a href='file:///c%3A/Users/andre/OneDrive%20-%20Danmarks%20Tekniske%20Universitet/02466%20Project%20work%20-%20Bachelor%20of%20Artificial%20Intelligence%20and%20Data/Project-Work---Bsc.-AIDS/venv/lib/site-packages/matplotlib/__init__.py?line=1413'>1414</a>\u001b[0m     bound \u001b[39m=\u001b[39m new_sig\u001b[39m.\u001b[39mbind(ax, \u001b[39m*\u001b[39margs, \u001b[39m*\u001b[39m\u001b[39m*\u001b[39mkwargs)\n\u001b[0;32m   <a href='file:///c%3A/Users/andre/OneDrive%20-%20Danmarks%20Tekniske%20Universitet/02466%20Project%20work%20-%20Bachelor%20of%20Artificial%20Intelligence%20and%20Data/Project-Work---Bsc.-AIDS/venv/lib/site-packages/matplotlib/__init__.py?line=1414'>1415</a>\u001b[0m     auto_label \u001b[39m=\u001b[39m (bound\u001b[39m.\u001b[39marguments\u001b[39m.\u001b[39mget(label_namer)\n\u001b[0;32m   <a href='file:///c%3A/Users/andre/OneDrive%20-%20Danmarks%20Tekniske%20Universitet/02466%20Project%20work%20-%20Bachelor%20of%20Artificial%20Intelligence%20and%20Data/Project-Work---Bsc.-AIDS/venv/lib/site-packages/matplotlib/__init__.py?line=1415'>1416</a>\u001b[0m                   \u001b[39mor\u001b[39;00m bound\u001b[39m.\u001b[39mkwargs\u001b[39m.\u001b[39mget(label_namer))\n",
      "File \u001b[1;32mc:\\Users\\andre\\OneDrive - Danmarks Tekniske Universitet\\02466 Project work - Bachelor of Artificial Intelligence and Data\\Project-Work---Bsc.-AIDS\\venv\\lib\\site-packages\\matplotlib\\axes\\_axes.py:6552\u001b[0m, in \u001b[0;36mAxes.hist\u001b[1;34m(self, x, bins, range, density, weights, cumulative, bottom, histtype, align, orientation, rwidth, log, color, label, stacked, **kwargs)\u001b[0m\n\u001b[0;32m   <a href='file:///c%3A/Users/andre/OneDrive%20-%20Danmarks%20Tekniske%20Universitet/02466%20Project%20work%20-%20Bachelor%20of%20Artificial%20Intelligence%20and%20Data/Project-Work---Bsc.-AIDS/venv/lib/site-packages/matplotlib/axes/_axes.py?line=6548'>6549</a>\u001b[0m     stacked \u001b[39m=\u001b[39m \u001b[39mTrue\u001b[39;00m\n\u001b[0;32m   <a href='file:///c%3A/Users/andre/OneDrive%20-%20Danmarks%20Tekniske%20Universitet/02466%20Project%20work%20-%20Bachelor%20of%20Artificial%20Intelligence%20and%20Data/Project-Work---Bsc.-AIDS/venv/lib/site-packages/matplotlib/axes/_axes.py?line=6550'>6551</a>\u001b[0m \u001b[39m# Massage 'x' for processing.\u001b[39;00m\n\u001b[1;32m-> <a href='file:///c%3A/Users/andre/OneDrive%20-%20Danmarks%20Tekniske%20Universitet/02466%20Project%20work%20-%20Bachelor%20of%20Artificial%20Intelligence%20and%20Data/Project-Work---Bsc.-AIDS/venv/lib/site-packages/matplotlib/axes/_axes.py?line=6551'>6552</a>\u001b[0m x \u001b[39m=\u001b[39m cbook\u001b[39m.\u001b[39;49m_reshape_2D(x, \u001b[39m'\u001b[39;49m\u001b[39mx\u001b[39;49m\u001b[39m'\u001b[39;49m)\n\u001b[0;32m   <a href='file:///c%3A/Users/andre/OneDrive%20-%20Danmarks%20Tekniske%20Universitet/02466%20Project%20work%20-%20Bachelor%20of%20Artificial%20Intelligence%20and%20Data/Project-Work---Bsc.-AIDS/venv/lib/site-packages/matplotlib/axes/_axes.py?line=6552'>6553</a>\u001b[0m nx \u001b[39m=\u001b[39m \u001b[39mlen\u001b[39m(x)  \u001b[39m# number of datasets\u001b[39;00m\n\u001b[0;32m   <a href='file:///c%3A/Users/andre/OneDrive%20-%20Danmarks%20Tekniske%20Universitet/02466%20Project%20work%20-%20Bachelor%20of%20Artificial%20Intelligence%20and%20Data/Project-Work---Bsc.-AIDS/venv/lib/site-packages/matplotlib/axes/_axes.py?line=6554'>6555</a>\u001b[0m \u001b[39m# Process unit information.  _process_unit_info sets the unit and\u001b[39;00m\n\u001b[0;32m   <a href='file:///c%3A/Users/andre/OneDrive%20-%20Danmarks%20Tekniske%20Universitet/02466%20Project%20work%20-%20Bachelor%20of%20Artificial%20Intelligence%20and%20Data/Project-Work---Bsc.-AIDS/venv/lib/site-packages/matplotlib/axes/_axes.py?line=6555'>6556</a>\u001b[0m \u001b[39m# converts the first dataset; then we convert each following dataset\u001b[39;00m\n\u001b[0;32m   <a href='file:///c%3A/Users/andre/OneDrive%20-%20Danmarks%20Tekniske%20Universitet/02466%20Project%20work%20-%20Bachelor%20of%20Artificial%20Intelligence%20and%20Data/Project-Work---Bsc.-AIDS/venv/lib/site-packages/matplotlib/axes/_axes.py?line=6556'>6557</a>\u001b[0m \u001b[39m# one at a time.\u001b[39;00m\n",
      "File \u001b[1;32mc:\\Users\\andre\\OneDrive - Danmarks Tekniske Universitet\\02466 Project work - Bachelor of Artificial Intelligence and Data\\Project-Work---Bsc.-AIDS\\venv\\lib\\site-packages\\matplotlib\\cbook\\__init__.py:1384\u001b[0m, in \u001b[0;36m_reshape_2D\u001b[1;34m(X, name)\u001b[0m\n\u001b[0;32m   <a href='file:///c%3A/Users/andre/OneDrive%20-%20Danmarks%20Tekniske%20Universitet/02466%20Project%20work%20-%20Bachelor%20of%20Artificial%20Intelligence%20and%20Data/Project-Work---Bsc.-AIDS/venv/lib/site-packages/matplotlib/cbook/__init__.py?line=1380'>1381</a>\u001b[0m         \u001b[39mraise\u001b[39;00m \u001b[39mValueError\u001b[39;00m(\u001b[39mf\u001b[39m\u001b[39m'\u001b[39m\u001b[39m{\u001b[39;00mname\u001b[39m}\u001b[39;00m\u001b[39m must have 2 or fewer dimensions\u001b[39m\u001b[39m'\u001b[39m)\n\u001b[0;32m   <a href='file:///c%3A/Users/andre/OneDrive%20-%20Danmarks%20Tekniske%20Universitet/02466%20Project%20work%20-%20Bachelor%20of%20Artificial%20Intelligence%20and%20Data/Project-Work---Bsc.-AIDS/venv/lib/site-packages/matplotlib/cbook/__init__.py?line=1382'>1383</a>\u001b[0m \u001b[39m# Iterate over list of iterables.\u001b[39;00m\n\u001b[1;32m-> <a href='file:///c%3A/Users/andre/OneDrive%20-%20Danmarks%20Tekniske%20Universitet/02466%20Project%20work%20-%20Bachelor%20of%20Artificial%20Intelligence%20and%20Data/Project-Work---Bsc.-AIDS/venv/lib/site-packages/matplotlib/cbook/__init__.py?line=1383'>1384</a>\u001b[0m \u001b[39mif\u001b[39;00m \u001b[39mlen\u001b[39;49m(X) \u001b[39m==\u001b[39m \u001b[39m0\u001b[39m:\n\u001b[0;32m   <a href='file:///c%3A/Users/andre/OneDrive%20-%20Danmarks%20Tekniske%20Universitet/02466%20Project%20work%20-%20Bachelor%20of%20Artificial%20Intelligence%20and%20Data/Project-Work---Bsc.-AIDS/venv/lib/site-packages/matplotlib/cbook/__init__.py?line=1384'>1385</a>\u001b[0m     \u001b[39mreturn\u001b[39;00m [[]]\n\u001b[0;32m   <a href='file:///c%3A/Users/andre/OneDrive%20-%20Danmarks%20Tekniske%20Universitet/02466%20Project%20work%20-%20Bachelor%20of%20Artificial%20Intelligence%20and%20Data/Project-Work---Bsc.-AIDS/venv/lib/site-packages/matplotlib/cbook/__init__.py?line=1386'>1387</a>\u001b[0m result \u001b[39m=\u001b[39m []\n",
      "File \u001b[1;32mc:\\Users\\andre\\OneDrive - Danmarks Tekniske Universitet\\02466 Project work - Bachelor of Artificial Intelligence and Data\\Project-Work---Bsc.-AIDS\\venv\\lib\\site-packages\\dask\\dataframe\\core.py:628\u001b[0m, in \u001b[0;36m_Frame.__len__\u001b[1;34m(self)\u001b[0m\n\u001b[0;32m    <a href='file:///c%3A/Users/andre/OneDrive%20-%20Danmarks%20Tekniske%20Universitet/02466%20Project%20work%20-%20Bachelor%20of%20Artificial%20Intelligence%20and%20Data/Project-Work---Bsc.-AIDS/venv/lib/site-packages/dask/dataframe/core.py?line=626'>627</a>\u001b[0m \u001b[39mdef\u001b[39;00m \u001b[39m__len__\u001b[39m(\u001b[39mself\u001b[39m):\n\u001b[1;32m--> <a href='file:///c%3A/Users/andre/OneDrive%20-%20Danmarks%20Tekniske%20Universitet/02466%20Project%20work%20-%20Bachelor%20of%20Artificial%20Intelligence%20and%20Data/Project-Work---Bsc.-AIDS/venv/lib/site-packages/dask/dataframe/core.py?line=627'>628</a>\u001b[0m     \u001b[39mreturn\u001b[39;00m \u001b[39mself\u001b[39;49m\u001b[39m.\u001b[39;49mreduction(\n\u001b[0;32m    <a href='file:///c%3A/Users/andre/OneDrive%20-%20Danmarks%20Tekniske%20Universitet/02466%20Project%20work%20-%20Bachelor%20of%20Artificial%20Intelligence%20and%20Data/Project-Work---Bsc.-AIDS/venv/lib/site-packages/dask/dataframe/core.py?line=628'>629</a>\u001b[0m         \u001b[39mlen\u001b[39;49m, np\u001b[39m.\u001b[39;49msum, token\u001b[39m=\u001b[39;49m\u001b[39m\"\u001b[39;49m\u001b[39mlen\u001b[39;49m\u001b[39m\"\u001b[39;49m, meta\u001b[39m=\u001b[39;49m\u001b[39mint\u001b[39;49m, split_every\u001b[39m=\u001b[39;49m\u001b[39mFalse\u001b[39;49;00m\n\u001b[0;32m    <a href='file:///c%3A/Users/andre/OneDrive%20-%20Danmarks%20Tekniske%20Universitet/02466%20Project%20work%20-%20Bachelor%20of%20Artificial%20Intelligence%20and%20Data/Project-Work---Bsc.-AIDS/venv/lib/site-packages/dask/dataframe/core.py?line=629'>630</a>\u001b[0m     )\u001b[39m.\u001b[39;49mcompute()\n",
      "File \u001b[1;32mc:\\Users\\andre\\OneDrive - Danmarks Tekniske Universitet\\02466 Project work - Bachelor of Artificial Intelligence and Data\\Project-Work---Bsc.-AIDS\\venv\\lib\\site-packages\\dask\\base.py:290\u001b[0m, in \u001b[0;36mDaskMethodsMixin.compute\u001b[1;34m(self, **kwargs)\u001b[0m\n\u001b[0;32m    <a href='file:///c%3A/Users/andre/OneDrive%20-%20Danmarks%20Tekniske%20Universitet/02466%20Project%20work%20-%20Bachelor%20of%20Artificial%20Intelligence%20and%20Data/Project-Work---Bsc.-AIDS/venv/lib/site-packages/dask/base.py?line=265'>266</a>\u001b[0m \u001b[39mdef\u001b[39;00m \u001b[39mcompute\u001b[39m(\u001b[39mself\u001b[39m, \u001b[39m*\u001b[39m\u001b[39m*\u001b[39mkwargs):\n\u001b[0;32m    <a href='file:///c%3A/Users/andre/OneDrive%20-%20Danmarks%20Tekniske%20Universitet/02466%20Project%20work%20-%20Bachelor%20of%20Artificial%20Intelligence%20and%20Data/Project-Work---Bsc.-AIDS/venv/lib/site-packages/dask/base.py?line=266'>267</a>\u001b[0m     \u001b[39m\"\"\"Compute this dask collection\u001b[39;00m\n\u001b[0;32m    <a href='file:///c%3A/Users/andre/OneDrive%20-%20Danmarks%20Tekniske%20Universitet/02466%20Project%20work%20-%20Bachelor%20of%20Artificial%20Intelligence%20and%20Data/Project-Work---Bsc.-AIDS/venv/lib/site-packages/dask/base.py?line=267'>268</a>\u001b[0m \n\u001b[0;32m    <a href='file:///c%3A/Users/andre/OneDrive%20-%20Danmarks%20Tekniske%20Universitet/02466%20Project%20work%20-%20Bachelor%20of%20Artificial%20Intelligence%20and%20Data/Project-Work---Bsc.-AIDS/venv/lib/site-packages/dask/base.py?line=268'>269</a>\u001b[0m \u001b[39m    This turns a lazy Dask collection into its in-memory equivalent.\u001b[39;00m\n\u001b[1;32m   (...)\u001b[0m\n\u001b[0;32m    <a href='file:///c%3A/Users/andre/OneDrive%20-%20Danmarks%20Tekniske%20Universitet/02466%20Project%20work%20-%20Bachelor%20of%20Artificial%20Intelligence%20and%20Data/Project-Work---Bsc.-AIDS/venv/lib/site-packages/dask/base.py?line=287'>288</a>\u001b[0m \u001b[39m    dask.base.compute\u001b[39;00m\n\u001b[0;32m    <a href='file:///c%3A/Users/andre/OneDrive%20-%20Danmarks%20Tekniske%20Universitet/02466%20Project%20work%20-%20Bachelor%20of%20Artificial%20Intelligence%20and%20Data/Project-Work---Bsc.-AIDS/venv/lib/site-packages/dask/base.py?line=288'>289</a>\u001b[0m \u001b[39m    \"\"\"\u001b[39;00m\n\u001b[1;32m--> <a href='file:///c%3A/Users/andre/OneDrive%20-%20Danmarks%20Tekniske%20Universitet/02466%20Project%20work%20-%20Bachelor%20of%20Artificial%20Intelligence%20and%20Data/Project-Work---Bsc.-AIDS/venv/lib/site-packages/dask/base.py?line=289'>290</a>\u001b[0m     (result,) \u001b[39m=\u001b[39m compute(\u001b[39mself\u001b[39;49m, traverse\u001b[39m=\u001b[39;49m\u001b[39mFalse\u001b[39;49;00m, \u001b[39m*\u001b[39;49m\u001b[39m*\u001b[39;49mkwargs)\n\u001b[0;32m    <a href='file:///c%3A/Users/andre/OneDrive%20-%20Danmarks%20Tekniske%20Universitet/02466%20Project%20work%20-%20Bachelor%20of%20Artificial%20Intelligence%20and%20Data/Project-Work---Bsc.-AIDS/venv/lib/site-packages/dask/base.py?line=290'>291</a>\u001b[0m     \u001b[39mreturn\u001b[39;00m result\n",
      "File \u001b[1;32mc:\\Users\\andre\\OneDrive - Danmarks Tekniske Universitet\\02466 Project work - Bachelor of Artificial Intelligence and Data\\Project-Work---Bsc.-AIDS\\venv\\lib\\site-packages\\dask\\base.py:573\u001b[0m, in \u001b[0;36mcompute\u001b[1;34m(traverse, optimize_graph, scheduler, get, *args, **kwargs)\u001b[0m\n\u001b[0;32m    <a href='file:///c%3A/Users/andre/OneDrive%20-%20Danmarks%20Tekniske%20Universitet/02466%20Project%20work%20-%20Bachelor%20of%20Artificial%20Intelligence%20and%20Data/Project-Work---Bsc.-AIDS/venv/lib/site-packages/dask/base.py?line=569'>570</a>\u001b[0m     keys\u001b[39m.\u001b[39mappend(x\u001b[39m.\u001b[39m__dask_keys__())\n\u001b[0;32m    <a href='file:///c%3A/Users/andre/OneDrive%20-%20Danmarks%20Tekniske%20Universitet/02466%20Project%20work%20-%20Bachelor%20of%20Artificial%20Intelligence%20and%20Data/Project-Work---Bsc.-AIDS/venv/lib/site-packages/dask/base.py?line=570'>571</a>\u001b[0m     postcomputes\u001b[39m.\u001b[39mappend(x\u001b[39m.\u001b[39m__dask_postcompute__())\n\u001b[1;32m--> <a href='file:///c%3A/Users/andre/OneDrive%20-%20Danmarks%20Tekniske%20Universitet/02466%20Project%20work%20-%20Bachelor%20of%20Artificial%20Intelligence%20and%20Data/Project-Work---Bsc.-AIDS/venv/lib/site-packages/dask/base.py?line=572'>573</a>\u001b[0m results \u001b[39m=\u001b[39m schedule(dsk, keys, \u001b[39m*\u001b[39;49m\u001b[39m*\u001b[39;49mkwargs)\n\u001b[0;32m    <a href='file:///c%3A/Users/andre/OneDrive%20-%20Danmarks%20Tekniske%20Universitet/02466%20Project%20work%20-%20Bachelor%20of%20Artificial%20Intelligence%20and%20Data/Project-Work---Bsc.-AIDS/venv/lib/site-packages/dask/base.py?line=573'>574</a>\u001b[0m \u001b[39mreturn\u001b[39;00m repack([f(r, \u001b[39m*\u001b[39ma) \u001b[39mfor\u001b[39;00m r, (f, a) \u001b[39min\u001b[39;00m \u001b[39mzip\u001b[39m(results, postcomputes)])\n",
      "File \u001b[1;32mc:\\Users\\andre\\OneDrive - Danmarks Tekniske Universitet\\02466 Project work - Bachelor of Artificial Intelligence and Data\\Project-Work---Bsc.-AIDS\\venv\\lib\\site-packages\\dask\\threaded.py:81\u001b[0m, in \u001b[0;36mget\u001b[1;34m(dsk, result, cache, num_workers, pool, **kwargs)\u001b[0m\n\u001b[0;32m     <a href='file:///c%3A/Users/andre/OneDrive%20-%20Danmarks%20Tekniske%20Universitet/02466%20Project%20work%20-%20Bachelor%20of%20Artificial%20Intelligence%20and%20Data/Project-Work---Bsc.-AIDS/venv/lib/site-packages/dask/threaded.py?line=77'>78</a>\u001b[0m     \u001b[39melif\u001b[39;00m \u001b[39misinstance\u001b[39m(pool, multiprocessing\u001b[39m.\u001b[39mpool\u001b[39m.\u001b[39mPool):\n\u001b[0;32m     <a href='file:///c%3A/Users/andre/OneDrive%20-%20Danmarks%20Tekniske%20Universitet/02466%20Project%20work%20-%20Bachelor%20of%20Artificial%20Intelligence%20and%20Data/Project-Work---Bsc.-AIDS/venv/lib/site-packages/dask/threaded.py?line=78'>79</a>\u001b[0m         pool \u001b[39m=\u001b[39m MultiprocessingPoolExecutor(pool)\n\u001b[1;32m---> <a href='file:///c%3A/Users/andre/OneDrive%20-%20Danmarks%20Tekniske%20Universitet/02466%20Project%20work%20-%20Bachelor%20of%20Artificial%20Intelligence%20and%20Data/Project-Work---Bsc.-AIDS/venv/lib/site-packages/dask/threaded.py?line=80'>81</a>\u001b[0m results \u001b[39m=\u001b[39m get_async(\n\u001b[0;32m     <a href='file:///c%3A/Users/andre/OneDrive%20-%20Danmarks%20Tekniske%20Universitet/02466%20Project%20work%20-%20Bachelor%20of%20Artificial%20Intelligence%20and%20Data/Project-Work---Bsc.-AIDS/venv/lib/site-packages/dask/threaded.py?line=81'>82</a>\u001b[0m     pool\u001b[39m.\u001b[39;49msubmit,\n\u001b[0;32m     <a href='file:///c%3A/Users/andre/OneDrive%20-%20Danmarks%20Tekniske%20Universitet/02466%20Project%20work%20-%20Bachelor%20of%20Artificial%20Intelligence%20and%20Data/Project-Work---Bsc.-AIDS/venv/lib/site-packages/dask/threaded.py?line=82'>83</a>\u001b[0m     pool\u001b[39m.\u001b[39;49m_max_workers,\n\u001b[0;32m     <a href='file:///c%3A/Users/andre/OneDrive%20-%20Danmarks%20Tekniske%20Universitet/02466%20Project%20work%20-%20Bachelor%20of%20Artificial%20Intelligence%20and%20Data/Project-Work---Bsc.-AIDS/venv/lib/site-packages/dask/threaded.py?line=83'>84</a>\u001b[0m     dsk,\n\u001b[0;32m     <a href='file:///c%3A/Users/andre/OneDrive%20-%20Danmarks%20Tekniske%20Universitet/02466%20Project%20work%20-%20Bachelor%20of%20Artificial%20Intelligence%20and%20Data/Project-Work---Bsc.-AIDS/venv/lib/site-packages/dask/threaded.py?line=84'>85</a>\u001b[0m     result,\n\u001b[0;32m     <a href='file:///c%3A/Users/andre/OneDrive%20-%20Danmarks%20Tekniske%20Universitet/02466%20Project%20work%20-%20Bachelor%20of%20Artificial%20Intelligence%20and%20Data/Project-Work---Bsc.-AIDS/venv/lib/site-packages/dask/threaded.py?line=85'>86</a>\u001b[0m     cache\u001b[39m=\u001b[39;49mcache,\n\u001b[0;32m     <a href='file:///c%3A/Users/andre/OneDrive%20-%20Danmarks%20Tekniske%20Universitet/02466%20Project%20work%20-%20Bachelor%20of%20Artificial%20Intelligence%20and%20Data/Project-Work---Bsc.-AIDS/venv/lib/site-packages/dask/threaded.py?line=86'>87</a>\u001b[0m     get_id\u001b[39m=\u001b[39;49m_thread_get_id,\n\u001b[0;32m     <a href='file:///c%3A/Users/andre/OneDrive%20-%20Danmarks%20Tekniske%20Universitet/02466%20Project%20work%20-%20Bachelor%20of%20Artificial%20Intelligence%20and%20Data/Project-Work---Bsc.-AIDS/venv/lib/site-packages/dask/threaded.py?line=87'>88</a>\u001b[0m     pack_exception\u001b[39m=\u001b[39;49mpack_exception,\n\u001b[0;32m     <a href='file:///c%3A/Users/andre/OneDrive%20-%20Danmarks%20Tekniske%20Universitet/02466%20Project%20work%20-%20Bachelor%20of%20Artificial%20Intelligence%20and%20Data/Project-Work---Bsc.-AIDS/venv/lib/site-packages/dask/threaded.py?line=88'>89</a>\u001b[0m     \u001b[39m*\u001b[39;49m\u001b[39m*\u001b[39;49mkwargs,\n\u001b[0;32m     <a href='file:///c%3A/Users/andre/OneDrive%20-%20Danmarks%20Tekniske%20Universitet/02466%20Project%20work%20-%20Bachelor%20of%20Artificial%20Intelligence%20and%20Data/Project-Work---Bsc.-AIDS/venv/lib/site-packages/dask/threaded.py?line=89'>90</a>\u001b[0m )\n\u001b[0;32m     <a href='file:///c%3A/Users/andre/OneDrive%20-%20Danmarks%20Tekniske%20Universitet/02466%20Project%20work%20-%20Bachelor%20of%20Artificial%20Intelligence%20and%20Data/Project-Work---Bsc.-AIDS/venv/lib/site-packages/dask/threaded.py?line=91'>92</a>\u001b[0m \u001b[39m# Cleanup pools associated to dead threads\u001b[39;00m\n\u001b[0;32m     <a href='file:///c%3A/Users/andre/OneDrive%20-%20Danmarks%20Tekniske%20Universitet/02466%20Project%20work%20-%20Bachelor%20of%20Artificial%20Intelligence%20and%20Data/Project-Work---Bsc.-AIDS/venv/lib/site-packages/dask/threaded.py?line=92'>93</a>\u001b[0m \u001b[39mwith\u001b[39;00m pools_lock:\n",
      "File \u001b[1;32mc:\\Users\\andre\\OneDrive - Danmarks Tekniske Universitet\\02466 Project work - Bachelor of Artificial Intelligence and Data\\Project-Work---Bsc.-AIDS\\venv\\lib\\site-packages\\dask\\local.py:495\u001b[0m, in \u001b[0;36mget_async\u001b[1;34m(submit, num_workers, dsk, result, cache, get_id, rerun_exceptions_locally, pack_exception, raise_exception, callbacks, dumps, loads, chunksize, **kwargs)\u001b[0m\n\u001b[0;32m    <a href='file:///c%3A/Users/andre/OneDrive%20-%20Danmarks%20Tekniske%20Universitet/02466%20Project%20work%20-%20Bachelor%20of%20Artificial%20Intelligence%20and%20Data/Project-Work---Bsc.-AIDS/venv/lib/site-packages/dask/local.py?line=492'>493</a>\u001b[0m \u001b[39mwhile\u001b[39;00m state[\u001b[39m\"\u001b[39m\u001b[39mwaiting\u001b[39m\u001b[39m\"\u001b[39m] \u001b[39mor\u001b[39;00m state[\u001b[39m\"\u001b[39m\u001b[39mready\u001b[39m\u001b[39m\"\u001b[39m] \u001b[39mor\u001b[39;00m state[\u001b[39m\"\u001b[39m\u001b[39mrunning\u001b[39m\u001b[39m\"\u001b[39m]:\n\u001b[0;32m    <a href='file:///c%3A/Users/andre/OneDrive%20-%20Danmarks%20Tekniske%20Universitet/02466%20Project%20work%20-%20Bachelor%20of%20Artificial%20Intelligence%20and%20Data/Project-Work---Bsc.-AIDS/venv/lib/site-packages/dask/local.py?line=493'>494</a>\u001b[0m     fire_tasks(chunksize)\n\u001b[1;32m--> <a href='file:///c%3A/Users/andre/OneDrive%20-%20Danmarks%20Tekniske%20Universitet/02466%20Project%20work%20-%20Bachelor%20of%20Artificial%20Intelligence%20and%20Data/Project-Work---Bsc.-AIDS/venv/lib/site-packages/dask/local.py?line=494'>495</a>\u001b[0m     \u001b[39mfor\u001b[39;00m key, res_info, failed \u001b[39min\u001b[39;00m queue_get(queue)\u001b[39m.\u001b[39mresult():\n\u001b[0;32m    <a href='file:///c%3A/Users/andre/OneDrive%20-%20Danmarks%20Tekniske%20Universitet/02466%20Project%20work%20-%20Bachelor%20of%20Artificial%20Intelligence%20and%20Data/Project-Work---Bsc.-AIDS/venv/lib/site-packages/dask/local.py?line=495'>496</a>\u001b[0m         \u001b[39mif\u001b[39;00m failed:\n\u001b[0;32m    <a href='file:///c%3A/Users/andre/OneDrive%20-%20Danmarks%20Tekniske%20Universitet/02466%20Project%20work%20-%20Bachelor%20of%20Artificial%20Intelligence%20and%20Data/Project-Work---Bsc.-AIDS/venv/lib/site-packages/dask/local.py?line=496'>497</a>\u001b[0m             exc, tb \u001b[39m=\u001b[39m loads(res_info)\n",
      "File \u001b[1;32mc:\\Users\\andre\\OneDrive - Danmarks Tekniske Universitet\\02466 Project work - Bachelor of Artificial Intelligence and Data\\Project-Work---Bsc.-AIDS\\venv\\lib\\site-packages\\dask\\local.py:126\u001b[0m, in \u001b[0;36mqueue_get\u001b[1;34m(q)\u001b[0m\n\u001b[0;32m    <a href='file:///c%3A/Users/andre/OneDrive%20-%20Danmarks%20Tekniske%20Universitet/02466%20Project%20work%20-%20Bachelor%20of%20Artificial%20Intelligence%20and%20Data/Project-Work---Bsc.-AIDS/venv/lib/site-packages/dask/local.py?line=123'>124</a>\u001b[0m \u001b[39mwhile\u001b[39;00m \u001b[39mTrue\u001b[39;00m:\n\u001b[0;32m    <a href='file:///c%3A/Users/andre/OneDrive%20-%20Danmarks%20Tekniske%20Universitet/02466%20Project%20work%20-%20Bachelor%20of%20Artificial%20Intelligence%20and%20Data/Project-Work---Bsc.-AIDS/venv/lib/site-packages/dask/local.py?line=124'>125</a>\u001b[0m     \u001b[39mtry\u001b[39;00m:\n\u001b[1;32m--> <a href='file:///c%3A/Users/andre/OneDrive%20-%20Danmarks%20Tekniske%20Universitet/02466%20Project%20work%20-%20Bachelor%20of%20Artificial%20Intelligence%20and%20Data/Project-Work---Bsc.-AIDS/venv/lib/site-packages/dask/local.py?line=125'>126</a>\u001b[0m         \u001b[39mreturn\u001b[39;00m q\u001b[39m.\u001b[39;49mget(block\u001b[39m=\u001b[39;49m\u001b[39mTrue\u001b[39;49;00m, timeout\u001b[39m=\u001b[39;49m\u001b[39m0.1\u001b[39;49m)\n\u001b[0;32m    <a href='file:///c%3A/Users/andre/OneDrive%20-%20Danmarks%20Tekniske%20Universitet/02466%20Project%20work%20-%20Bachelor%20of%20Artificial%20Intelligence%20and%20Data/Project-Work---Bsc.-AIDS/venv/lib/site-packages/dask/local.py?line=126'>127</a>\u001b[0m     \u001b[39mexcept\u001b[39;00m Empty:\n\u001b[0;32m    <a href='file:///c%3A/Users/andre/OneDrive%20-%20Danmarks%20Tekniske%20Universitet/02466%20Project%20work%20-%20Bachelor%20of%20Artificial%20Intelligence%20and%20Data/Project-Work---Bsc.-AIDS/venv/lib/site-packages/dask/local.py?line=127'>128</a>\u001b[0m         \u001b[39mpass\u001b[39;00m\n",
      "File \u001b[1;32m~\\anaconda3\\lib\\queue.py:179\u001b[0m, in \u001b[0;36mQueue.get\u001b[1;34m(self, block, timeout)\u001b[0m\n\u001b[0;32m    <a href='file:///c%3A/Users/andre/anaconda3/lib/queue.py?line=176'>177</a>\u001b[0m         \u001b[39mif\u001b[39;00m remaining \u001b[39m<\u001b[39m\u001b[39m=\u001b[39m \u001b[39m0.0\u001b[39m:\n\u001b[0;32m    <a href='file:///c%3A/Users/andre/anaconda3/lib/queue.py?line=177'>178</a>\u001b[0m             \u001b[39mraise\u001b[39;00m Empty\n\u001b[1;32m--> <a href='file:///c%3A/Users/andre/anaconda3/lib/queue.py?line=178'>179</a>\u001b[0m         \u001b[39mself\u001b[39;49m\u001b[39m.\u001b[39;49mnot_empty\u001b[39m.\u001b[39;49mwait(remaining)\n\u001b[0;32m    <a href='file:///c%3A/Users/andre/anaconda3/lib/queue.py?line=179'>180</a>\u001b[0m item \u001b[39m=\u001b[39m \u001b[39mself\u001b[39m\u001b[39m.\u001b[39m_get()\n\u001b[0;32m    <a href='file:///c%3A/Users/andre/anaconda3/lib/queue.py?line=180'>181</a>\u001b[0m \u001b[39mself\u001b[39m\u001b[39m.\u001b[39mnot_full\u001b[39m.\u001b[39mnotify()\n",
      "File \u001b[1;32m~\\anaconda3\\lib\\threading.py:306\u001b[0m, in \u001b[0;36mCondition.wait\u001b[1;34m(self, timeout)\u001b[0m\n\u001b[0;32m    <a href='file:///c%3A/Users/andre/anaconda3/lib/threading.py?line=303'>304</a>\u001b[0m \u001b[39melse\u001b[39;00m:\n\u001b[0;32m    <a href='file:///c%3A/Users/andre/anaconda3/lib/threading.py?line=304'>305</a>\u001b[0m     \u001b[39mif\u001b[39;00m timeout \u001b[39m>\u001b[39m \u001b[39m0\u001b[39m:\n\u001b[1;32m--> <a href='file:///c%3A/Users/andre/anaconda3/lib/threading.py?line=305'>306</a>\u001b[0m         gotit \u001b[39m=\u001b[39m waiter\u001b[39m.\u001b[39;49macquire(\u001b[39mTrue\u001b[39;49;00m, timeout)\n\u001b[0;32m    <a href='file:///c%3A/Users/andre/anaconda3/lib/threading.py?line=306'>307</a>\u001b[0m     \u001b[39melse\u001b[39;00m:\n\u001b[0;32m    <a href='file:///c%3A/Users/andre/anaconda3/lib/threading.py?line=307'>308</a>\u001b[0m         gotit \u001b[39m=\u001b[39m waiter\u001b[39m.\u001b[39macquire(\u001b[39mFalse\u001b[39;00m)\n",
      "\u001b[1;31mKeyboardInterrupt\u001b[0m: "
     ]
    },
    {
     "data": {
      "image/png": "[encoded data removed]",
      "text/plain": [
       "<Figure size 576x396 with 1 Axes>"
      ]
     },
     "metadata": {},
     "output_type": "display_data"
    }
   ],
   "source": [
    "Create barplot of num_kwh accross all meters\n"
   ]
  },
  {
   "cell_type": "code",
   "execution_count": 160,
   "metadata": {},
   "outputs": [
    {
     "data": {
      "text/plain": [
       "28ba7f57-6e83-4341-8078-232c1639e4e3    63966\n",
       "e3c18c2d-30f1-432e-bbfa-ee5d0117987e    60311\n",
       "60ad4a18-0ca3-48e4-8289-a2a0ee15c3bd    59230\n",
       "028b54e1-6594-4fca-ba0d-bfbb5f9a8b6f    59226\n",
       "29964561-4c45-4dbb-bc91-4a4e35fa9d67    59225\n",
       "                                        ...  \n",
       "0361b668-4146-4d91-9f39-a9cdf23eadca     9349\n",
       "25d76a7a-8e27-4fc4-8d75-abf620d9c740     9349\n",
       "1f7e4f08-b7e8-4e3f-b4fe-ec5440d78b1d     9253\n",
       "423c0929-b07c-489b-b4d7-680e54a06737     9253\n",
       "a3f0c342-9f50-4626-9f78-18c54836a5be     8906\n",
       "Name: meter_id, Length: 531, dtype: int64"
      ]
     },
     "execution_count": 160,
     "metadata": {},
     "output_type": "execute_result"
    }
   ],
   "source": [
    "df_threshold.meter_id.value_counts().compute()"
   ]
  },
  {
   "cell_type": "code",
   "execution_count": 235,
   "metadata": {},
   "outputs": [],
   "source": [
    "meters_less_than_0 = df_threshold[df_threshold[\"num_kwh\"] < 0].compute()"
   ]
  },
  {
   "cell_type": "code",
   "execution_count": 236,
   "metadata": {},
   "outputs": [
    {
     "data": {
      "text/html": [
       "<div>\n",
       "<style scoped>\n",
       "    .dataframe tbody tr th:only-of-type {\n",
       "        vertical-align: middle;\n",
       "    }\n",
       "\n",
       "    .dataframe tbody tr th {\n",
       "        vertical-align: top;\n",
       "    }\n",
       "\n",
       "    .dataframe thead th {\n",
       "        text-align: right;\n",
       "    }\n",
       "</style>\n",
       "<table border=\"1\" class=\"dataframe\">\n",
       "  <thead>\n",
       "    <tr style=\"text-align: right;\">\n",
       "      <th></th>\n",
       "      <th>meter_id</th>\n",
       "      <th>type</th>\n",
       "      <th>timeslot</th>\n",
       "      <th>num_kwh</th>\n",
       "      <th>spot_price_no_vat</th>\n",
       "      <th>amount_no_vat</th>\n",
       "      <th>amount_with_vat</th>\n",
       "      <th>vat_percent</th>\n",
       "      <th>ediel_product_code</th>\n",
       "      <th>kwh_fee_no_vat</th>\n",
       "    </tr>\n",
       "  </thead>\n",
       "  <tbody>\n",
       "    <tr>\n",
       "      <th>21318</th>\n",
       "      <td>4274df56-bcee-4906-86e5-d0f016f3b8cf</td>\n",
       "      <td>consumption</td>\n",
       "      <td>2017-10-01 00:00:00+02</td>\n",
       "      <td>-85.0</td>\n",
       "      <td>0.245</td>\n",
       "      <td>-20.789</td>\n",
       "      <td>-25.987</td>\n",
       "      <td>25</td>\n",
       "      <td>1591.0</td>\n",
       "      <td>0.0</td>\n",
       "    </tr>\n",
       "    <tr>\n",
       "      <th>21319</th>\n",
       "      <td>4274df56-bcee-4906-86e5-d0f016f3b8cf</td>\n",
       "      <td>consumption</td>\n",
       "      <td>2017-10-02 00:00:00+02</td>\n",
       "      <td>-83.0</td>\n",
       "      <td>0.244</td>\n",
       "      <td>-20.243</td>\n",
       "      <td>-25.303</td>\n",
       "      <td>25</td>\n",
       "      <td>1591.0</td>\n",
       "      <td>0.0</td>\n",
       "    </tr>\n",
       "    <tr>\n",
       "      <th>21320</th>\n",
       "      <td>4274df56-bcee-4906-86e5-d0f016f3b8cf</td>\n",
       "      <td>consumption</td>\n",
       "      <td>2017-10-04 00:00:00+02</td>\n",
       "      <td>-86.0</td>\n",
       "      <td>0.213</td>\n",
       "      <td>-18.339</td>\n",
       "      <td>-22.923</td>\n",
       "      <td>25</td>\n",
       "      <td>1591.0</td>\n",
       "      <td>0.0</td>\n",
       "    </tr>\n",
       "    <tr>\n",
       "      <th>21321</th>\n",
       "      <td>4274df56-bcee-4906-86e5-d0f016f3b8cf</td>\n",
       "      <td>consumption</td>\n",
       "      <td>2017-10-05 00:00:00+02</td>\n",
       "      <td>-89.0</td>\n",
       "      <td>0.233</td>\n",
       "      <td>-20.760</td>\n",
       "      <td>-25.950</td>\n",
       "      <td>25</td>\n",
       "      <td>1591.0</td>\n",
       "      <td>0.0</td>\n",
       "    </tr>\n",
       "    <tr>\n",
       "      <th>21322</th>\n",
       "      <td>4274df56-bcee-4906-86e5-d0f016f3b8cf</td>\n",
       "      <td>elcert</td>\n",
       "      <td>2017-10-01 00:00:00+02</td>\n",
       "      <td>-85.0</td>\n",
       "      <td>0.020</td>\n",
       "      <td>-1.700</td>\n",
       "      <td>-2.125</td>\n",
       "      <td>25</td>\n",
       "      <td>1591.0</td>\n",
       "      <td>0.0</td>\n",
       "    </tr>\n",
       "    <tr>\n",
       "      <th>...</th>\n",
       "      <td>...</td>\n",
       "      <td>...</td>\n",
       "      <td>...</td>\n",
       "      <td>...</td>\n",
       "      <td>...</td>\n",
       "      <td>...</td>\n",
       "      <td>...</td>\n",
       "      <td>...</td>\n",
       "      <td>...</td>\n",
       "      <td>...</td>\n",
       "    </tr>\n",
       "    <tr>\n",
       "      <th>618147</th>\n",
       "      <td>c319c7a2-65cc-44e6-bbaf-9d0dd39f0890</td>\n",
       "      <td>production</td>\n",
       "      <td>2018-01-10 03:00:00+01</td>\n",
       "      <td>-1.0</td>\n",
       "      <td>-2.000</td>\n",
       "      <td>1.000</td>\n",
       "      <td>1.000</td>\n",
       "      <td>0</td>\n",
       "      <td>2982.0</td>\n",
       "      <td>0.0</td>\n",
       "    </tr>\n",
       "    <tr>\n",
       "      <th>618248</th>\n",
       "      <td>c319c7a2-65cc-44e6-bbaf-9d0dd39f0890</td>\n",
       "      <td>production</td>\n",
       "      <td>2018-01-14 10:00:00+01</td>\n",
       "      <td>-1.0</td>\n",
       "      <td>-2.000</td>\n",
       "      <td>1.000</td>\n",
       "      <td>1.000</td>\n",
       "      <td>0</td>\n",
       "      <td>2982.0</td>\n",
       "      <td>0.0</td>\n",
       "    </tr>\n",
       "    <tr>\n",
       "      <th>43172</th>\n",
       "      <td>4274df56-bcee-4906-86e5-d0f016f3b8cf</td>\n",
       "      <td>consumption</td>\n",
       "      <td>2017-10-03 00:00:00+02</td>\n",
       "      <td>-80.0</td>\n",
       "      <td>0.233</td>\n",
       "      <td>-18.671</td>\n",
       "      <td>-23.339</td>\n",
       "      <td>25</td>\n",
       "      <td>1591.0</td>\n",
       "      <td>0.0</td>\n",
       "    </tr>\n",
       "    <tr>\n",
       "      <th>47477</th>\n",
       "      <td>4274df56-bcee-4906-86e5-d0f016f3b8cf</td>\n",
       "      <td>elcert</td>\n",
       "      <td>2017-10-03 00:00:00+02</td>\n",
       "      <td>-80.0</td>\n",
       "      <td>0.020</td>\n",
       "      <td>-1.600</td>\n",
       "      <td>-2.000</td>\n",
       "      <td>25</td>\n",
       "      <td>1591.0</td>\n",
       "      <td>0.0</td>\n",
       "    </tr>\n",
       "    <tr>\n",
       "      <th>47478</th>\n",
       "      <td>4274df56-bcee-4906-86e5-d0f016f3b8cf</td>\n",
       "      <td>elcert</td>\n",
       "      <td>2017-10-04 00:00:00+02</td>\n",
       "      <td>-86.0</td>\n",
       "      <td>0.020</td>\n",
       "      <td>-1.720</td>\n",
       "      <td>-2.150</td>\n",
       "      <td>25</td>\n",
       "      <td>1591.0</td>\n",
       "      <td>0.0</td>\n",
       "    </tr>\n",
       "  </tbody>\n",
       "</table>\n",
       "<p>1491 rows × 10 columns</p>\n",
       "</div>"
      ],
      "text/plain": [
       "                                    meter_id         type  \\\n",
       "21318   4274df56-bcee-4906-86e5-d0f016f3b8cf  consumption   \n",
       "21319   4274df56-bcee-4906-86e5-d0f016f3b8cf  consumption   \n",
       "21320   4274df56-bcee-4906-86e5-d0f016f3b8cf  consumption   \n",
       "21321   4274df56-bcee-4906-86e5-d0f016f3b8cf  consumption   \n",
       "21322   4274df56-bcee-4906-86e5-d0f016f3b8cf       elcert   \n",
       "...                                      ...          ...   \n",
       "618147  c319c7a2-65cc-44e6-bbaf-9d0dd39f0890   production   \n",
       "618248  c319c7a2-65cc-44e6-bbaf-9d0dd39f0890   production   \n",
       "43172   4274df56-bcee-4906-86e5-d0f016f3b8cf  consumption   \n",
       "47477   4274df56-bcee-4906-86e5-d0f016f3b8cf       elcert   \n",
       "47478   4274df56-bcee-4906-86e5-d0f016f3b8cf       elcert   \n",
       "\n",
       "                      timeslot  num_kwh  spot_price_no_vat  amount_no_vat  \\\n",
       "21318   2017-10-01 00:00:00+02    -85.0              0.245        -20.789   \n",
       "21319   2017-10-02 00:00:00+02    -83.0              0.244        -20.243   \n",
       "21320   2017-10-04 00:00:00+02    -86.0              0.213        -18.339   \n",
       "21321   2017-10-05 00:00:00+02    -89.0              0.233        -20.760   \n",
       "21322   2017-10-01 00:00:00+02    -85.0              0.020         -1.700   \n",
       "...                        ...      ...                ...            ...   \n",
       "618147  2018-01-10 03:00:00+01     -1.0             -2.000          1.000   \n",
       "618248  2018-01-14 10:00:00+01     -1.0             -2.000          1.000   \n",
       "43172   2017-10-03 00:00:00+02    -80.0              0.233        -18.671   \n",
       "47477   2017-10-03 00:00:00+02    -80.0              0.020         -1.600   \n",
       "47478   2017-10-04 00:00:00+02    -86.0              0.020         -1.720   \n",
       "\n",
       "        amount_with_vat  vat_percent  ediel_product_code  kwh_fee_no_vat  \n",
       "21318           -25.987           25              1591.0             0.0  \n",
       "21319           -25.303           25              1591.0             0.0  \n",
       "21320           -22.923           25              1591.0             0.0  \n",
       "21321           -25.950           25              1591.0             0.0  \n",
       "21322            -2.125           25              1591.0             0.0  \n",
       "...                 ...          ...                 ...             ...  \n",
       "618147            1.000            0              2982.0             0.0  \n",
       "618248            1.000            0              2982.0             0.0  \n",
       "43172           -23.339           25              1591.0             0.0  \n",
       "47477            -2.000           25              1591.0             0.0  \n",
       "47478            -2.150           25              1591.0             0.0  \n",
       "\n",
       "[1491 rows x 10 columns]"
      ]
     },
     "execution_count": 236,
     "metadata": {},
     "output_type": "execute_result"
    }
   ],
   "source": [
    "meters_less_than_0"
   ]
  },
  {
   "cell_type": "code",
   "execution_count": 227,
   "metadata": {},
   "outputs": [],
   "source": [
    "meters_with_neg = meters_less_than_0[\"meter_id\"].unique().compute()"
   ]
  },
  {
   "cell_type": "code",
   "execution_count": 229,
   "metadata": {},
   "outputs": [
    {
     "data": {
      "text/plain": [
       "False"
      ]
     },
     "execution_count": 229,
     "metadata": {},
     "output_type": "execute_result"
    }
   ],
   "source": [
    "\"28ba7f57-6e83-4341-8078-232c1639e4e3\" in meters_with_neg"
   ]
  },
  {
   "cell_type": "code",
   "execution_count": 237,
   "metadata": {},
   "outputs": [],
   "source": [
    "meter_test = df_threshold[df_threshold[\"meter_id\"] == \"4274df56-bcee-4906-86e5-d0f016f3b8cf\"]"
   ]
  },
  {
   "cell_type": "code",
   "execution_count": 238,
   "metadata": {},
   "outputs": [
    {
     "data": {
      "text/html": [
       "<div>\n",
       "<style scoped>\n",
       "    .dataframe tbody tr th:only-of-type {\n",
       "        vertical-align: middle;\n",
       "    }\n",
       "\n",
       "    .dataframe tbody tr th {\n",
       "        vertical-align: top;\n",
       "    }\n",
       "\n",
       "    .dataframe thead th {\n",
       "        text-align: right;\n",
       "    }\n",
       "</style>\n",
       "<table border=\"1\" class=\"dataframe\">\n",
       "  <thead>\n",
       "    <tr style=\"text-align: right;\">\n",
       "      <th></th>\n",
       "      <th>num_kwh</th>\n",
       "      <th>spot_price_no_vat</th>\n",
       "      <th>amount_no_vat</th>\n",
       "      <th>amount_with_vat</th>\n",
       "      <th>vat_percent</th>\n",
       "      <th>ediel_product_code</th>\n",
       "      <th>kwh_fee_no_vat</th>\n",
       "    </tr>\n",
       "  </thead>\n",
       "  <tbody>\n",
       "    <tr>\n",
       "      <th>count</th>\n",
       "      <td>29120.000000</td>\n",
       "      <td>29120.000000</td>\n",
       "      <td>2.912000e+04</td>\n",
       "      <td>2.912000e+04</td>\n",
       "      <td>29120.000000</td>\n",
       "      <td>29120.000000</td>\n",
       "      <td>29120.000000</td>\n",
       "    </tr>\n",
       "    <tr>\n",
       "      <th>mean</th>\n",
       "      <td>5.041568</td>\n",
       "      <td>-0.434698</td>\n",
       "      <td>7.211538e-07</td>\n",
       "      <td>-3.090659e-07</td>\n",
       "      <td>28.932864</td>\n",
       "      <td>2898.858516</td>\n",
       "      <td>0.022456</td>\n",
       "    </tr>\n",
       "    <tr>\n",
       "      <th>std</th>\n",
       "      <td>18.437800</td>\n",
       "      <td>1.301068</td>\n",
       "      <td>4.378914e+01</td>\n",
       "      <td>5.460449e+01</td>\n",
       "      <td>23.993860</td>\n",
       "      <td>355.008421</td>\n",
       "      <td>0.041085</td>\n",
       "    </tr>\n",
       "    <tr>\n",
       "      <th>min</th>\n",
       "      <td>-89.000000</td>\n",
       "      <td>-2.000000</td>\n",
       "      <td>-3.826690e+03</td>\n",
       "      <td>-4.783360e+03</td>\n",
       "      <td>0.000000</td>\n",
       "      <td>0.000000</td>\n",
       "      <td>0.000000</td>\n",
       "    </tr>\n",
       "    <tr>\n",
       "      <th>25%</th>\n",
       "      <td>0.000000</td>\n",
       "      <td>-0.654570</td>\n",
       "      <td>0.000000e+00</td>\n",
       "      <td>0.000000e+00</td>\n",
       "      <td>0.000000</td>\n",
       "      <td>2982.000000</td>\n",
       "      <td>0.000000</td>\n",
       "    </tr>\n",
       "    <tr>\n",
       "      <th>50%</th>\n",
       "      <td>2.000000</td>\n",
       "      <td>0.363000</td>\n",
       "      <td>8.000000e-02</td>\n",
       "      <td>1.000000e-01</td>\n",
       "      <td>50.000000</td>\n",
       "      <td>2982.000000</td>\n",
       "      <td>0.000000</td>\n",
       "    </tr>\n",
       "    <tr>\n",
       "      <th>75%</th>\n",
       "      <td>11.000000</td>\n",
       "      <td>0.981240</td>\n",
       "      <td>3.819000e+00</td>\n",
       "      <td>4.774000e+00</td>\n",
       "      <td>50.000000</td>\n",
       "      <td>2982.000000</td>\n",
       "      <td>0.080000</td>\n",
       "    </tr>\n",
       "    <tr>\n",
       "      <th>max</th>\n",
       "      <td>206.000000</td>\n",
       "      <td>2.138100</td>\n",
       "      <td>5.580000e+02</td>\n",
       "      <td>5.580000e+02</td>\n",
       "      <td>50.000000</td>\n",
       "      <td>2982.000000</td>\n",
       "      <td>0.112000</td>\n",
       "    </tr>\n",
       "  </tbody>\n",
       "</table>\n",
       "</div>"
      ],
      "text/plain": [
       "            num_kwh  spot_price_no_vat  amount_no_vat  amount_with_vat  \\\n",
       "count  29120.000000       29120.000000   2.912000e+04     2.912000e+04   \n",
       "mean       5.041568          -0.434698   7.211538e-07    -3.090659e-07   \n",
       "std       18.437800           1.301068   4.378914e+01     5.460449e+01   \n",
       "min      -89.000000          -2.000000  -3.826690e+03    -4.783360e+03   \n",
       "25%        0.000000          -0.654570   0.000000e+00     0.000000e+00   \n",
       "50%        2.000000           0.363000   8.000000e-02     1.000000e-01   \n",
       "75%       11.000000           0.981240   3.819000e+00     4.774000e+00   \n",
       "max      206.000000           2.138100   5.580000e+02     5.580000e+02   \n",
       "\n",
       "        vat_percent  ediel_product_code  kwh_fee_no_vat  \n",
       "count  29120.000000        29120.000000    29120.000000  \n",
       "mean      28.932864         2898.858516        0.022456  \n",
       "std       23.993860          355.008421        0.041085  \n",
       "min        0.000000            0.000000        0.000000  \n",
       "25%        0.000000         2982.000000        0.000000  \n",
       "50%       50.000000         2982.000000        0.000000  \n",
       "75%       50.000000         2982.000000        0.080000  \n",
       "max       50.000000         2982.000000        0.112000  "
      ]
     },
     "execution_count": 238,
     "metadata": {},
     "output_type": "execute_result"
    }
   ],
   "source": [
    "meter_test.describe().compute()"
   ]
  },
  {
   "cell_type": "code",
   "execution_count": 158,
   "metadata": {},
   "outputs": [],
   "source": [
    "# get unique meter ids\n",
    "meter_ids = df_threshold.meter_id.unique().compute()"
   ]
  },
  {
   "cell_type": "code",
   "execution_count": 161,
   "metadata": {},
   "outputs": [
    {
     "data": {
      "text/plain": [
       "0      0056cf1e-2bec-46d2-afa8-b2c434932480\n",
       "1      0089c962-ad28-43d8-b3b2-8a7c00f6791d\n",
       "2      0148117f-53bb-48ca-ae71-1523f099fb81\n",
       "3      028b54e1-6594-4fca-ba0d-bfbb5f9a8b6f\n",
       "4      0361b668-4146-4d91-9f39-a9cdf23eadca\n",
       "                       ...                 \n",
       "526    6ff57f39-b298-4616-8ba1-0f9a25c07ea1\n",
       "527    2d010707-c403-40a2-8407-1776d689721d\n",
       "528    7d73b185-df0a-4cdf-9a7b-b2ab2ab4deb3\n",
       "529    a86756b6-8b3d-4410-a82f-f57c77048da2\n",
       "530    a3f0c342-9f50-4626-9f78-18c54836a5be\n",
       "Name: meter_id, Length: 531, dtype: object"
      ]
     },
     "execution_count": 161,
     "metadata": {},
     "output_type": "execute_result"
    }
   ],
   "source": [
    "meter_ids"
   ]
  },
  {
   "cell_type": "markdown",
   "metadata": {},
   "source": [
    "#  Explore Merged Meter Ids"
   ]
  },
  {
   "cell_type": "code",
   "execution_count": null,
   "metadata": {},
   "outputs": [],
   "source": [
    "# Load data \n",
    "dtype={'adjusts_id': 'object',\n",
    "       'ediel_product_code': 'float64',\n",
    "       'invoice_item_id': 'object',\n",
    "       'parent_id': 'object',\n",
    "       'meter_id': 'str'}\n",
    "\n",
    "file = \"data/merged_meter_ids.csv\"\n",
    "df = dd.read_csv(file, sep=\";\", dtype=dtype)"
   ]
  },
  {
   "cell_type": "code",
   "execution_count": null,
   "metadata": {},
   "outputs": [
    {
     "name": "stdout",
     "output_type": "stream",
     "text": [
      "['Unnamed: 0', 'created_at', 'updated_at', 'num_kwh', 'timeslot', 'type', 'estimation', 'spot_price_no_vat', 'amount_no_vat', 'vat_percent', 'meter_id', 'kwh_fee_no_vat']\n",
      "   Unnamed: 0                     created_at                     updated_at  \\\n",
      "0           0  2018-04-26 16:34:10.145628+02  2018-04-26 16:34:10.145628+02   \n",
      "1           1  2018-04-25 06:11:19.555649+02  2018-04-26 16:34:10.192034+02   \n",
      "2           2   2018-04-26 16:34:10.25942+02   2018-04-26 16:34:10.25942+02   \n",
      "3           3  2018-04-25 06:11:19.741357+02  2018-04-26 16:34:10.508598+02   \n",
      "4           4  2018-04-26 16:34:10.596066+02  2018-04-26 16:34:10.596066+02   \n",
      "\n",
      "   num_kwh                timeslot        type estimation  spot_price_no_vat  \\\n",
      "0      3.0  2018-04-22 23:00:00+02      elcert          f               0.02   \n",
      "1      0.0  2018-04-22 23:00:00+02  production          f              -1.00   \n",
      "2      0.0  2018-04-22 23:00:00+02  production          f              -1.00   \n",
      "3      0.0  2018-04-22 22:00:00+02  production          f              -1.00   \n",
      "4      0.0  2018-04-22 22:00:00+02  production          f              -1.00   \n",
      "\n",
      "   amount_no_vat  vat_percent                              meter_id  \\\n",
      "0           0.06           25  4ab70bee-64cb-4908-8c31-1a996ad049de   \n",
      "1           0.00            0  4ab70bee-64cb-4908-8c31-1a996ad049de   \n",
      "2           0.00            0  4ab70bee-64cb-4908-8c31-1a996ad049de   \n",
      "3           0.00            0  4ab70bee-64cb-4908-8c31-1a996ad049de   \n",
      "4           0.00            0  4ab70bee-64cb-4908-8c31-1a996ad049de   \n",
      "\n",
      "   kwh_fee_no_vat  \n",
      "0             0.0  \n",
      "1             0.0  \n",
      "2             0.0  \n",
      "3             0.0  \n",
      "4             0.0  \n"
     ]
    }
   ],
   "source": [
    "print(list(df.columns))\n",
    "print(df.head())"
   ]
  },
  {
   "cell_type": "code",
   "execution_count": null,
   "metadata": {},
   "outputs": [
    {
     "name": "stdout",
     "output_type": "stream",
     "text": [
      "0    25\n",
      "1     0\n",
      "Name: vat_percent, dtype: int64\n"
     ]
    }
   ],
   "source": [
    "print(df[\"vat_percent\"].unique().compute())\n"
   ]
  },
  {
   "cell_type": "code",
   "execution_count": null,
   "metadata": {},
   "outputs": [
    {
     "name": "stdout",
     "output_type": "stream",
     "text": [
      "0    25\n",
      "1     0\n",
      "Name: vat_percent, dtype: int64\n",
      "0    f\n",
      "1    t\n",
      "Name: estimation, dtype: object\n"
     ]
    }
   ],
   "source": [
    "print(df[\"vat_percent\"].unique().compute())\n",
    "\n",
    "\n",
    "print(df[\"estimation\"].unique().compute())\n",
    "\n"
   ]
  },
  {
   "cell_type": "code",
   "execution_count": null,
   "metadata": {},
   "outputs": [],
   "source": [
    "# Load data \n",
    "dtype={'adjusts_id': 'object',\n",
    "       'ediel_product_code': 'float64',\n",
    "       'invoice_item_id': 'object',\n",
    "       'parent_id': 'object',\n",
    "       'meter_id': 'str'}\n",
    "\n",
    "file = \"data/merged_meter_ids-MERGED.csv\"\n",
    "df = dd.read_csv(file, sep=\";\", dtype=dtype)"
   ]
  },
  {
   "cell_type": "code",
   "execution_count": null,
   "metadata": {},
   "outputs": [
    {
     "data": {
      "text/plain": [
       "['Unnamed: 0,created_at,updated_at,num_kwh,timeslot,type,estimation,spot_price_no_vat,amount_no_vat,vat_percent,meter_id,kwh_fee_no_vat,idgrid_data_table,automatic_meter,market_balance_area,code,lat,lng']"
      ]
     },
     "execution_count": 23,
     "metadata": {},
     "output_type": "execute_result"
    }
   ],
   "source": [
    "list(df.columns)"
   ]
  },
  {
   "cell_type": "code",
   "execution_count": null,
   "metadata": {},
   "outputs": [],
   "source": [
    "file  = \"data/grid-metering-point-dump-plus-zipcode-GMAPS-in-gridtx.csv\"\n",
    "df = pd.read_csv(file)"
   ]
  },
  {
   "cell_type": "code",
   "execution_count": null,
   "metadata": {},
   "outputs": [
    {
     "ename": "AttributeError",
     "evalue": "'Series' object has no attribute 'value_count'",
     "output_type": "error",
     "traceback": [
      "\u001b[1;31m---------------------------------------------------------------------------\u001b[0m",
      "\u001b[1;31mAttributeError\u001b[0m                            Traceback (most recent call last)",
      "\u001b[1;32mc:\\Users\\andre\\OneDrive - Danmarks Tekniske Universitet\\02466 Project work - Bachelor of Artificial Intelligence and Data\\Project-Work---Bsc.-AIDS\\explore.ipynb Cell 29'\u001b[0m in \u001b[0;36m<cell line: 1>\u001b[1;34m()\u001b[0m\n\u001b[1;32m----> <a href='vscode-notebook-cell:/c%3A/Users/andre/OneDrive%20-%20Danmarks%20Tekniske%20Universitet/02466%20Project%20work%20-%20Bachelor%20of%20Artificial%20Intelligence%20and%20Data/Project-Work---Bsc.-AIDS/explore.ipynb#ch0000029?line=0'>1</a>\u001b[0m df[\u001b[39m\"\u001b[39;49m\u001b[39mautomatic_meter\u001b[39;49m\u001b[39m\"\u001b[39;49m]\u001b[39m.\u001b[39;49mvalue_count()\n",
      "File \u001b[1;32mc:\\Users\\andre\\OneDrive - Danmarks Tekniske Universitet\\02466 Project work - Bachelor of Artificial Intelligence and Data\\Project-Work---Bsc.-AIDS\\venv\\lib\\site-packages\\pandas\\core\\generic.py:5583\u001b[0m, in \u001b[0;36mNDFrame.__getattr__\u001b[1;34m(self, name)\u001b[0m\n\u001b[0;32m   <a href='file:///c%3A/Users/andre/OneDrive%20-%20Danmarks%20Tekniske%20Universitet/02466%20Project%20work%20-%20Bachelor%20of%20Artificial%20Intelligence%20and%20Data/Project-Work---Bsc.-AIDS/venv/lib/site-packages/pandas/core/generic.py?line=5575'>5576</a>\u001b[0m \u001b[39mif\u001b[39;00m (\n\u001b[0;32m   <a href='file:///c%3A/Users/andre/OneDrive%20-%20Danmarks%20Tekniske%20Universitet/02466%20Project%20work%20-%20Bachelor%20of%20Artificial%20Intelligence%20and%20Data/Project-Work---Bsc.-AIDS/venv/lib/site-packages/pandas/core/generic.py?line=5576'>5577</a>\u001b[0m     name \u001b[39mnot\u001b[39;00m \u001b[39min\u001b[39;00m \u001b[39mself\u001b[39m\u001b[39m.\u001b[39m_internal_names_set\n\u001b[0;32m   <a href='file:///c%3A/Users/andre/OneDrive%20-%20Danmarks%20Tekniske%20Universitet/02466%20Project%20work%20-%20Bachelor%20of%20Artificial%20Intelligence%20and%20Data/Project-Work---Bsc.-AIDS/venv/lib/site-packages/pandas/core/generic.py?line=5577'>5578</a>\u001b[0m     \u001b[39mand\u001b[39;00m name \u001b[39mnot\u001b[39;00m \u001b[39min\u001b[39;00m \u001b[39mself\u001b[39m\u001b[39m.\u001b[39m_metadata\n\u001b[0;32m   <a href='file:///c%3A/Users/andre/OneDrive%20-%20Danmarks%20Tekniske%20Universitet/02466%20Project%20work%20-%20Bachelor%20of%20Artificial%20Intelligence%20and%20Data/Project-Work---Bsc.-AIDS/venv/lib/site-packages/pandas/core/generic.py?line=5578'>5579</a>\u001b[0m     \u001b[39mand\u001b[39;00m name \u001b[39mnot\u001b[39;00m \u001b[39min\u001b[39;00m \u001b[39mself\u001b[39m\u001b[39m.\u001b[39m_accessors\n\u001b[0;32m   <a href='file:///c%3A/Users/andre/OneDrive%20-%20Danmarks%20Tekniske%20Universitet/02466%20Project%20work%20-%20Bachelor%20of%20Artificial%20Intelligence%20and%20Data/Project-Work---Bsc.-AIDS/venv/lib/site-packages/pandas/core/generic.py?line=5579'>5580</a>\u001b[0m     \u001b[39mand\u001b[39;00m \u001b[39mself\u001b[39m\u001b[39m.\u001b[39m_info_axis\u001b[39m.\u001b[39m_can_hold_identifiers_and_holds_name(name)\n\u001b[0;32m   <a href='file:///c%3A/Users/andre/OneDrive%20-%20Danmarks%20Tekniske%20Universitet/02466%20Project%20work%20-%20Bachelor%20of%20Artificial%20Intelligence%20and%20Data/Project-Work---Bsc.-AIDS/venv/lib/site-packages/pandas/core/generic.py?line=5580'>5581</a>\u001b[0m ):\n\u001b[0;32m   <a href='file:///c%3A/Users/andre/OneDrive%20-%20Danmarks%20Tekniske%20Universitet/02466%20Project%20work%20-%20Bachelor%20of%20Artificial%20Intelligence%20and%20Data/Project-Work---Bsc.-AIDS/venv/lib/site-packages/pandas/core/generic.py?line=5581'>5582</a>\u001b[0m     \u001b[39mreturn\u001b[39;00m \u001b[39mself\u001b[39m[name]\n\u001b[1;32m-> <a href='file:///c%3A/Users/andre/OneDrive%20-%20Danmarks%20Tekniske%20Universitet/02466%20Project%20work%20-%20Bachelor%20of%20Artificial%20Intelligence%20and%20Data/Project-Work---Bsc.-AIDS/venv/lib/site-packages/pandas/core/generic.py?line=5582'>5583</a>\u001b[0m \u001b[39mreturn\u001b[39;00m \u001b[39mobject\u001b[39;49m\u001b[39m.\u001b[39;49m\u001b[39m__getattribute__\u001b[39;49m(\u001b[39mself\u001b[39;49m, name)\n",
      "\u001b[1;31mAttributeError\u001b[0m: 'Series' object has no attribute 'value_count'"
     ]
    }
   ],
   "source": [
    "df[\"automatic_meter\"].value_count()"
   ]
  },
  {
   "cell_type": "code",
   "execution_count": null,
   "metadata": {},
   "outputs": [
    {
     "ename": "AttributeError",
     "evalue": "'Series' object has no attribute 'values_count'",
     "output_type": "error",
     "traceback": [
      "\u001b[1;31m---------------------------------------------------------------------------\u001b[0m",
      "\u001b[1;31mAttributeError\u001b[0m                            Traceback (most recent call last)",
      "\u001b[1;32mc:\\Users\\andre\\OneDrive - Danmarks Tekniske Universitet\\02466 Project work - Bachelor of Artificial Intelligence and Data\\Project-Work---Bsc.-AIDS\\explore.ipynb Cell 29'\u001b[0m in \u001b[0;36m<cell line: 1>\u001b[1;34m()\u001b[0m\n\u001b[1;32m----> <a href='vscode-notebook-cell:/c%3A/Users/andre/OneDrive%20-%20Danmarks%20Tekniske%20Universitet/02466%20Project%20work%20-%20Bachelor%20of%20Artificial%20Intelligence%20and%20Data/Project-Work---Bsc.-AIDS/explore.ipynb#ch0000028?line=0'>1</a>\u001b[0m df[\u001b[39m\"\u001b[39;49m\u001b[39mautomatic_meter\u001b[39;49m\u001b[39m\"\u001b[39;49m]\u001b[39m.\u001b[39;49mvalues_count()\n",
      "File \u001b[1;32mc:\\Users\\andre\\OneDrive - Danmarks Tekniske Universitet\\02466 Project work - Bachelor of Artificial Intelligence and Data\\Project-Work---Bsc.-AIDS\\venv\\lib\\site-packages\\pandas\\core\\generic.py:5583\u001b[0m, in \u001b[0;36mNDFrame.__getattr__\u001b[1;34m(self, name)\u001b[0m\n\u001b[0;32m   <a href='file:///c%3A/Users/andre/OneDrive%20-%20Danmarks%20Tekniske%20Universitet/02466%20Project%20work%20-%20Bachelor%20of%20Artificial%20Intelligence%20and%20Data/Project-Work---Bsc.-AIDS/venv/lib/site-packages/pandas/core/generic.py?line=5575'>5576</a>\u001b[0m \u001b[39mif\u001b[39;00m (\n\u001b[0;32m   <a href='file:///c%3A/Users/andre/OneDrive%20-%20Danmarks%20Tekniske%20Universitet/02466%20Project%20work%20-%20Bachelor%20of%20Artificial%20Intelligence%20and%20Data/Project-Work---Bsc.-AIDS/venv/lib/site-packages/pandas/core/generic.py?line=5576'>5577</a>\u001b[0m     name \u001b[39mnot\u001b[39;00m \u001b[39min\u001b[39;00m \u001b[39mself\u001b[39m\u001b[39m.\u001b[39m_internal_names_set\n\u001b[0;32m   <a href='file:///c%3A/Users/andre/OneDrive%20-%20Danmarks%20Tekniske%20Universitet/02466%20Project%20work%20-%20Bachelor%20of%20Artificial%20Intelligence%20and%20Data/Project-Work---Bsc.-AIDS/venv/lib/site-packages/pandas/core/generic.py?line=5577'>5578</a>\u001b[0m     \u001b[39mand\u001b[39;00m name \u001b[39mnot\u001b[39;00m \u001b[39min\u001b[39;00m \u001b[39mself\u001b[39m\u001b[39m.\u001b[39m_metadata\n\u001b[0;32m   <a href='file:///c%3A/Users/andre/OneDrive%20-%20Danmarks%20Tekniske%20Universitet/02466%20Project%20work%20-%20Bachelor%20of%20Artificial%20Intelligence%20and%20Data/Project-Work---Bsc.-AIDS/venv/lib/site-packages/pandas/core/generic.py?line=5578'>5579</a>\u001b[0m     \u001b[39mand\u001b[39;00m name \u001b[39mnot\u001b[39;00m \u001b[39min\u001b[39;00m \u001b[39mself\u001b[39m\u001b[39m.\u001b[39m_accessors\n\u001b[0;32m   <a href='file:///c%3A/Users/andre/OneDrive%20-%20Danmarks%20Tekniske%20Universitet/02466%20Project%20work%20-%20Bachelor%20of%20Artificial%20Intelligence%20and%20Data/Project-Work---Bsc.-AIDS/venv/lib/site-packages/pandas/core/generic.py?line=5579'>5580</a>\u001b[0m     \u001b[39mand\u001b[39;00m \u001b[39mself\u001b[39m\u001b[39m.\u001b[39m_info_axis\u001b[39m.\u001b[39m_can_hold_identifiers_and_holds_name(name)\n\u001b[0;32m   <a href='file:///c%3A/Users/andre/OneDrive%20-%20Danmarks%20Tekniske%20Universitet/02466%20Project%20work%20-%20Bachelor%20of%20Artificial%20Intelligence%20and%20Data/Project-Work---Bsc.-AIDS/venv/lib/site-packages/pandas/core/generic.py?line=5580'>5581</a>\u001b[0m ):\n\u001b[0;32m   <a href='file:///c%3A/Users/andre/OneDrive%20-%20Danmarks%20Tekniske%20Universitet/02466%20Project%20work%20-%20Bachelor%20of%20Artificial%20Intelligence%20and%20Data/Project-Work---Bsc.-AIDS/venv/lib/site-packages/pandas/core/generic.py?line=5581'>5582</a>\u001b[0m     \u001b[39mreturn\u001b[39;00m \u001b[39mself\u001b[39m[name]\n\u001b[1;32m-> <a href='file:///c%3A/Users/andre/OneDrive%20-%20Danmarks%20Tekniske%20Universitet/02466%20Project%20work%20-%20Bachelor%20of%20Artificial%20Intelligence%20and%20Data/Project-Work---Bsc.-AIDS/venv/lib/site-packages/pandas/core/generic.py?line=5582'>5583</a>\u001b[0m \u001b[39mreturn\u001b[39;00m \u001b[39mobject\u001b[39;49m\u001b[39m.\u001b[39;49m\u001b[39m__getattribute__\u001b[39;49m(\u001b[39mself\u001b[39;49m, name)\n",
      "\u001b[1;31mAttributeError\u001b[0m: 'Series' object has no attribute 'values_count'"
     ]
    }
   ],
   "source": [
    "df[\"automatic_meter\"].values_count()"
   ]
  },
  {
   "cell_type": "markdown",
   "metadata": {},
   "source": [
    "# Explore random meter IDs"
   ]
  },
  {
   "cell_type": "code",
   "execution_count": 196,
   "metadata": {},
   "outputs": [],
   "source": [
    "file = \"data/gridtx-dump.csv\"\n",
    "\n",
    "# Load gridtx dump \n",
    "dtype={'adjusts_id': 'object',\n",
    "       'ediel_product_code': 'float64',\n",
    "       'invoice_item_id': 'object',\n",
    "       'parent_id': 'object',\n",
    "       'meter_id': 'object'}\n",
    "\n",
    "df = dd.read_csv(file, sep=\";\", dtype=dtype)"
   ]
  },
  {
   "cell_type": "code",
   "execution_count": 28,
   "metadata": {},
   "outputs": [
    {
     "name": "stdout",
     "output_type": "stream",
     "text": [
      "Number of meters: 30\n",
      "Meter row counts:\n",
      "117646\n"
     ]
    }
   ],
   "source": [
    "print(\"Number of meters:\", len(df[\"meter_id\"].unique().compute()))\n",
    "print(\"Max row counts:\")\n",
    "print(max(df[\"meter_id\"].value_counts().compute()))\n"
   ]
  },
  {
   "cell_type": "code",
   "execution_count": 197,
   "metadata": {},
   "outputs": [
    {
     "data": {
      "text/plain": [
       "['id',\n",
       " 'created_at',\n",
       " 'updated_at',\n",
       " 'num_kwh',\n",
       " 'timeslot',\n",
       " 'type',\n",
       " 'estimation',\n",
       " 'spot_price_no_vat',\n",
       " 'amount_no_vat',\n",
       " 'adjusts_id',\n",
       " 'parent_id',\n",
       " 'subscription_id',\n",
       " 'amount_with_vat',\n",
       " 'vat_percent',\n",
       " 'invoice_item_id',\n",
       " 'meter_id',\n",
       " 'ediel_product_code',\n",
       " 'kwh_fee_no_vat']"
      ]
     },
     "execution_count": 197,
     "metadata": {},
     "output_type": "execute_result"
    }
   ],
   "source": [
    "list(df.columns)"
   ]
  },
  {
   "cell_type": "code",
   "execution_count": 200,
   "metadata": {},
   "outputs": [],
   "source": [
    "meter_id_to_explore = \"28ba7f57-6e83-4341-8078-232c1639e4e3\"\n",
    "single_meter = df[df[\"meter_id\"] == \"28ba7f57-6e83-4341-8078-232c1639e4e3\"].compute()"
   ]
  },
  {
   "cell_type": "code",
   "execution_count": 201,
   "metadata": {},
   "outputs": [],
   "source": [
    "# Create dataframes for production and consumption for single_meter\n",
    "prod = single_meter[single_meter[\"type\"] == \"production\"]\n",
    "cons = single_meter[single_meter[\"type\"] == \"consumption\"]"
   ]
  },
  {
   "cell_type": "code",
   "execution_count": 202,
   "metadata": {},
   "outputs": [
    {
     "data": {
      "text/plain": [
       "Index(['id', 'created_at', 'updated_at', 'num_kwh', 'timeslot', 'type',\n",
       "       'estimation', 'spot_price_no_vat', 'amount_no_vat', 'adjusts_id',\n",
       "       'parent_id', 'subscription_id', 'amount_with_vat', 'vat_percent',\n",
       "       'invoice_item_id', 'meter_id', 'ediel_product_code', 'kwh_fee_no_vat'],\n",
       "      dtype='object')"
      ]
     },
     "execution_count": 202,
     "metadata": {},
     "output_type": "execute_result"
    }
   ],
   "source": [
    "prod.columns"
   ]
  },
  {
   "cell_type": "code",
   "execution_count": 211,
   "metadata": {},
   "outputs": [],
   "source": [
    "prod_estimation = prod[prod[\"estimation\"] == \"t\"]\n",
    "cons_estimation = prod[prod[\"estimation\"] == \"t\"]"
   ]
  },
  {
   "cell_type": "code",
   "execution_count": 183,
   "metadata": {},
   "outputs": [
    {
     "name": "stderr",
     "output_type": "stream",
     "text": [
      "C:\\Users\\andre\\AppData\\Local\\Temp\\ipykernel_24664\\4046220770.py:2: FutureWarning: Indexing with multiple keys (implicitly converted to a tuple of keys) will be deprecated, use a list instead.\n",
      "  prod_agg = prod.groupby(\"timeslot\")[\"num_kwh\", \"spot_price_no_vat\"].sum().reset_index()\n",
      "C:\\Users\\andre\\AppData\\Local\\Temp\\ipykernel_24664\\4046220770.py:3: FutureWarning: Indexing with multiple keys (implicitly converted to a tuple of keys) will be deprecated, use a list instead.\n",
      "  cons_agg = cons.groupby(\"timeslot\")[\"num_kwh\", \"spot_price_no_vat\"].sum().reset_index()\n"
     ]
    }
   ],
   "source": [
    "# Aggregate by timeslot \n",
    "prod_agg = prod.groupby(\"timeslot\")[\"num_kwh\", \"spot_price_no_vat\"].sum().reset_index()\n",
    "cons_agg = cons.groupby(\"timeslot\")[\"num_kwh\", \"spot_price_no_vat\"].sum().reset_index()\n",
    "\n",
    "# Create datetime index \n",
    "prod_agg.index = pd.to_datetime(prod_agg[\"timeslot\"], utc=True)\n",
    "cons_agg.index = pd.to_datetime(cons_agg[\"timeslot\"], utc=True)"
   ]
  },
  {
   "cell_type": "code",
   "execution_count": 216,
   "metadata": {},
   "outputs": [
    {
     "name": "stdout",
     "output_type": "stream",
     "text": [
      "            num_kwh  spot_price_no_vat\n",
      "count  23568.000000            23568.0\n",
      "mean       0.297256               -2.0\n",
      "std        0.967014                0.0\n",
      "min        0.000000               -2.0\n",
      "25%        0.000000               -2.0\n",
      "50%        0.000000               -2.0\n",
      "75%        0.000000               -2.0\n",
      "max        6.000000               -2.0\n",
      "            num_kwh  spot_price_no_vat\n",
      "count  23592.000000       23592.000000\n",
      "mean       3.544384           0.701836\n",
      "std        2.669621           0.217383\n",
      "min        0.000000           0.036360\n",
      "25%        1.000000           0.536000\n",
      "50%        3.574000           0.642000\n",
      "75%        5.000000           0.848220\n",
      "max       18.000000           4.908000\n"
     ]
    }
   ],
   "source": [
    "print(prod_agg.describe())\n",
    "print(cons_agg.describe())"
   ]
  },
  {
   "cell_type": "code",
   "execution_count": 203,
   "metadata": {},
   "outputs": [],
   "source": [
    "# Sum week in column    \n",
    "prod_agg_month = prod_agg.groupby(pd.Grouper(freq=\"M\")).sum().reset_index()\n",
    "cons_agg_month = cons_agg.groupby(pd.Grouper(freq=\"M\")).sum().reset_index()\n",
    "\n",
    "# Aggregate dataframe by week\n",
    "prod_agg_week = prod_agg.groupby(pd.Grouper(freq=\"W\")).sum().reset_index()\n",
    "cons_agg_week = cons_agg.groupby(pd.Grouper(freq=\"W\")).sum().reset_index()"
   ]
  },
  {
   "cell_type": "code",
   "execution_count": 267,
   "metadata": {},
   "outputs": [
    {
     "data": {
      "text/plain": [
       "<matplotlib.legend.Legend at 0x1eb0b4151c0>"
      ]
     },
     "execution_count": 267,
     "metadata": {},
     "output_type": "execute_result"
    },
    {
     "data": {
      "image/png": "[encoded data removed]",
      "text/plain": [
       "<Figure size 432x288 with 1 Axes>"
      ]
     },
     "metadata": {
      "needs_background": "light"
     },
     "output_type": "display_data"
    }
   ],
   "source": [
    "ax = prod_agg_week.plot(x='timeslot', y='num_kwh', title=\"num_kwh for \" + meter_id_to_explore)\n",
    "cons_agg_week.plot(ax=ax, x='timeslot', y='num_kwh')\n",
    "ax.legend([\"Production\", \"Consumption\"])"
   ]
  },
  {
   "cell_type": "code",
   "execution_count": 269,
   "metadata": {},
   "outputs": [
    {
     "data": {
      "text/plain": [
       "<matplotlib.legend.Legend at 0x1eb06bf0a90>"
      ]
     },
     "execution_count": 269,
     "metadata": {},
     "output_type": "execute_result"
    },
    {
     "data": {
      "image/png": "[encoded data removed]",
      "text/plain": [
       "<Figure size 432x288 with 1 Axes>"
      ]
     },
     "metadata": {
      "needs_background": "light"
     },
     "output_type": "display_data"
    }
   ],
   "source": [
    "ax = prod_agg_week.plot(x='timeslot', y='spot_price_no_vat', legend=True, title=\"spot_price_no_vat for \" + meter_id_to_explore)\n",
    "cons_agg_week.plot(ax=ax, x='timeslot', y='spot_price_no_vat')\n",
    "ax.legend([\"Production\", \"Consumption\"])"
   ]
  },
  {
   "cell_type": "code",
   "execution_count": 145,
   "metadata": {},
   "outputs": [
    {
     "data": {
      "text/html": [
       "<div>\n",
       "<style scoped>\n",
       "    .dataframe tbody tr th:only-of-type {\n",
       "        vertical-align: middle;\n",
       "    }\n",
       "\n",
       "    .dataframe tbody tr th {\n",
       "        vertical-align: top;\n",
       "    }\n",
       "\n",
       "    .dataframe thead th {\n",
       "        text-align: right;\n",
       "    }\n",
       "</style>\n",
       "<table border=\"1\" class=\"dataframe\">\n",
       "  <thead>\n",
       "    <tr style=\"text-align: right;\">\n",
       "      <th></th>\n",
       "      <th>num_kwh</th>\n",
       "    </tr>\n",
       "  </thead>\n",
       "  <tbody>\n",
       "    <tr>\n",
       "      <th>count</th>\n",
       "      <td>21887.000000</td>\n",
       "    </tr>\n",
       "    <tr>\n",
       "      <th>mean</th>\n",
       "      <td>2.030482</td>\n",
       "    </tr>\n",
       "    <tr>\n",
       "      <th>std</th>\n",
       "      <td>1.602753</td>\n",
       "    </tr>\n",
       "    <tr>\n",
       "      <th>min</th>\n",
       "      <td>0.000000</td>\n",
       "    </tr>\n",
       "    <tr>\n",
       "      <th>25%</th>\n",
       "      <td>1.000000</td>\n",
       "    </tr>\n",
       "    <tr>\n",
       "      <th>50%</th>\n",
       "      <td>2.000000</td>\n",
       "    </tr>\n",
       "    <tr>\n",
       "      <th>75%</th>\n",
       "      <td>3.000000</td>\n",
       "    </tr>\n",
       "    <tr>\n",
       "      <th>max</th>\n",
       "      <td>15.000000</td>\n",
       "    </tr>\n",
       "  </tbody>\n",
       "</table>\n",
       "</div>"
      ],
      "text/plain": [
       "            num_kwh\n",
       "count  21887.000000\n",
       "mean       2.030482\n",
       "std        1.602753\n",
       "min        0.000000\n",
       "25%        1.000000\n",
       "50%        2.000000\n",
       "75%        3.000000\n",
       "max       15.000000"
      ]
     },
     "execution_count": 145,
     "metadata": {},
     "output_type": "execute_result"
    }
   ],
   "source": [
    "cons_agg.describe()"
   ]
  },
  {
   "cell_type": "code",
   "execution_count": 171,
   "metadata": {},
   "outputs": [
    {
     "data": {
      "text/plain": [
       "<AxesSubplot:xlabel='timeslot'>"
      ]
     },
     "execution_count": 171,
     "metadata": {},
     "output_type": "execute_result"
    },
    {
     "data": {
      "image/png": "[encoded data removed]",
      "text/plain": [
       "<Figure size 432x288 with 1 Axes>"
      ]
     },
     "metadata": {
      "needs_background": "light"
     },
     "output_type": "display_data"
    }
   ],
   "source": [
    "# plot dataframe by index   \n",
    "prod_agg_week.plot(x='timeslot', y='num_kwh')"
   ]
  },
  {
   "cell_type": "code",
   "execution_count": 23,
   "metadata": {},
   "outputs": [
    {
     "name": "stdout",
     "output_type": "stream",
     "text": [
      "Consumption (num_kwh) below 0: Delayed('int-edeb96b8-b54e-4392-ab9f-9a5463e3cc4d')\n",
      "Consumption (num_kwh) equal to 0: Delayed('int-1b1125ba-af74-4cee-b2ae-be9092be4063')\n",
      "Consumption (num_kwh) above 0: Delayed('int-66014e8d-3cb3-4b5e-bf30-e5cb353526f2')\n",
      "\n",
      "Production (num_kwh) below 0: Delayed('int-909a5a92-314e-4ffb-b8b5-2a3b567f093a')\n",
      "Production (num_kwh) equal to 0: Delayed('int-4f0244c9-d8c0-4597-9221-e9f650e7ba4d')\n",
      "Production (num_kwh) above 0: Delayed('int-0b528777-6dc2-4f76-a940-7af3b46e3c08')\n",
      "\n",
      "Elcert (num_kwh) below 0: Delayed('int-3e7046ff-2274-4a34-8ef8-3b53ce52952c')\n",
      "Elcert (num_kwh) equal to 0: Delayed('int-9ec240d8-bf5d-47b5-94b1-8ee14c8aafef')\n",
      "Elcert (num_kwh) above 0: Delayed('int-0bd9c6d7-87fb-4208-87af-960c095dc4d4')\n"
     ]
    }
   ],
   "source": [
    "# print(df[[\"meter_id\",\"timeslot\"]].value_counts())\n",
    "\n",
    "\n",
    "# df[(df[\"meter_id\"] == \"d63b305d-7049-4c56-b121-48478c7dfbb1\") & (df[\"timeslot\"] == \"2018-06-30 00:00:00+02\")]\n",
    "\n",
    "\n",
    "df[df[\"num_kwh\"] == 0.0][\"amount_no_vat\"].describe()\n",
    "\n",
    "\n",
    "df[(df[\"num_kwh\"] == 0.0) & (df[\"type\"] == \"consumption\")].describe()\n",
    "\n",
    "print(\"Consumption (num_kwh) below 0: {}\".format(df[(df[\"type\"] == \"consumption\") & (df[\"num_kwh\"] < 0)].shape[0]))\n",
    "print(\"Consumption (num_kwh) equal to 0: {}\".format(df[(df[\"type\"] == \"consumption\") & (df[\"num_kwh\"] == 0)].shape[0]))\n",
    "print(\"Consumption (num_kwh) above 0: {}\".format(df[(df[\"type\"] == \"consumption\") & (df[\"num_kwh\"] > 0)].shape[0]))\n",
    "print()\n",
    "print(\"Production (num_kwh) below 0: {}\".format(df[(df[\"type\"] == \"production\") & (df[\"num_kwh\"] < 0)].shape[0]))\n",
    "print(\"Production (num_kwh) equal to 0: {}\".format(df[(df[\"type\"] == \"production\") & (df[\"num_kwh\"] == 0)].shape[0]))\n",
    "print(\"Production (num_kwh) above 0: {}\".format(df[(df[\"type\"] == \"production\") & (df[\"num_kwh\"] > 0)].shape[0]))\n",
    "print()\n",
    "print(\"Elcert (num_kwh) below 0: {}\".format(df[(df[\"type\"] == \"elcert\") & (df[\"num_kwh\"] < 0)].shape[0]))\n",
    "print(\"Elcert (num_kwh) equal to 0: {}\".format(df[(df[\"type\"] == \"elcert\") & (df[\"num_kwh\"] == 0)].shape[0]))\n",
    "print(\"Elcert (num_kwh) above 0: {}\".format(df[(df[\"type\"] == \"elcert\") & (df[\"num_kwh\"] > 0)].shape[0]))\n"
   ]
  },
  {
   "cell_type": "code",
   "execution_count": 26,
   "metadata": {},
   "outputs": [
    {
     "data": {
      "text/plain": [
       "0              consumption\n",
       "1                   elcert\n",
       "2      payment_consumption\n",
       "3           payment_elcert\n",
       "4              consumption\n",
       "              ...         \n",
       "129    payment_consumption\n",
       "130            consumption\n",
       "131    payment_consumption\n",
       "132     payment_production\n",
       "133             production\n",
       "Name: type, Length: 134, dtype: object"
      ]
     },
     "execution_count": 26,
     "metadata": {},
     "output_type": "execute_result"
    }
   ],
   "source": [
    "type_sum = df.groupby([\"meter_id\", \"type\"], as_index=False).sum()\n",
    "\n",
    "type_sum.shape[0]\n",
    "\n",
    "type_sum[\"num_kwh\"].describe()\n",
    "\n",
    "# df[[\"meter_id\", \"type\"]].drop_duplicates().shape[0]\n",
    "# type_sum = df.group_by(\"meter_id\")"
   ]
  },
  {
   "cell_type": "code",
   "execution_count": 311,
   "metadata": {},
   "outputs": [
    {
     "data": {
      "text/html": [
       "<div>\n",
       "<style scoped>\n",
       "    .dataframe tbody tr th:only-of-type {\n",
       "        vertical-align: middle;\n",
       "    }\n",
       "\n",
       "    .dataframe tbody tr th {\n",
       "        vertical-align: top;\n",
       "    }\n",
       "\n",
       "    .dataframe thead th {\n",
       "        text-align: right;\n",
       "    }\n",
       "</style>\n",
       "<table border=\"1\" class=\"dataframe\">\n",
       "  <thead>\n",
       "    <tr style=\"text-align: right;\">\n",
       "      <th></th>\n",
       "      <th></th>\n",
       "      <th>Unnamed: 0</th>\n",
       "      <th>num_kwh</th>\n",
       "      <th>spot_price_no_vat</th>\n",
       "      <th>amount_no_vat</th>\n",
       "      <th>amount_with_vat</th>\n",
       "      <th>vat_percent</th>\n",
       "      <th>ediel_product_code</th>\n",
       "      <th>kwh_fee_no_vat</th>\n",
       "    </tr>\n",
       "    <tr>\n",
       "      <th>meter_id</th>\n",
       "      <th>type</th>\n",
       "      <th></th>\n",
       "      <th></th>\n",
       "      <th></th>\n",
       "      <th></th>\n",
       "      <th></th>\n",
       "      <th></th>\n",
       "      <th></th>\n",
       "      <th></th>\n",
       "    </tr>\n",
       "  </thead>\n",
       "  <tbody>\n",
       "    <tr>\n",
       "      <th rowspan=\"4\" valign=\"top\">07d1adfd-5898-4ba4-aeca-8c3a38158355</th>\n",
       "      <th>consumption</th>\n",
       "      <td>74261677</td>\n",
       "      <td>11722.0</td>\n",
       "      <td>158.14900</td>\n",
       "      <td>3502.632</td>\n",
       "      <td>4378.294</td>\n",
       "      <td>13150</td>\n",
       "      <td>836866.0</td>\n",
       "      <td>0.00</td>\n",
       "    </tr>\n",
       "    <tr>\n",
       "      <th>elcert</th>\n",
       "      <td>74238595</td>\n",
       "      <td>11722.0</td>\n",
       "      <td>10.52000</td>\n",
       "      <td>234.440</td>\n",
       "      <td>293.050</td>\n",
       "      <td>13150</td>\n",
       "      <td>836866.0</td>\n",
       "      <td>0.00</td>\n",
       "    </tr>\n",
       "    <tr>\n",
       "      <th>payment_consumption</th>\n",
       "      <td>4235738</td>\n",
       "      <td>0.0</td>\n",
       "      <td>0.00000</td>\n",
       "      <td>-3502.650</td>\n",
       "      <td>-4378.290</td>\n",
       "      <td>750</td>\n",
       "      <td>0.0</td>\n",
       "      <td>0.00</td>\n",
       "    </tr>\n",
       "    <tr>\n",
       "      <th>payment_elcert</th>\n",
       "      <td>3812648</td>\n",
       "      <td>0.0</td>\n",
       "      <td>0.00000</td>\n",
       "      <td>-234.400</td>\n",
       "      <td>-293.050</td>\n",
       "      <td>675</td>\n",
       "      <td>0.0</td>\n",
       "      <td>0.00</td>\n",
       "    </tr>\n",
       "    <tr>\n",
       "      <th>117e0012-3f28-4df4-906f-eb83b8a106ef</th>\n",
       "      <th>consumption</th>\n",
       "      <td>985775306</td>\n",
       "      <td>25557.7</td>\n",
       "      <td>4438.65811</td>\n",
       "      <td>13300.177</td>\n",
       "      <td>16625.217</td>\n",
       "      <td>242975</td>\n",
       "      <td>14491029.0</td>\n",
       "      <td>491.64</td>\n",
       "    </tr>\n",
       "  </tbody>\n",
       "</table>\n",
       "</div>"
      ],
      "text/plain": [
       "                                                          Unnamed: 0  num_kwh  \\\n",
       "meter_id                             type                                       \n",
       "07d1adfd-5898-4ba4-aeca-8c3a38158355 consumption            74261677  11722.0   \n",
       "                                     elcert                 74238595  11722.0   \n",
       "                                     payment_consumption     4235738      0.0   \n",
       "                                     payment_elcert          3812648      0.0   \n",
       "117e0012-3f28-4df4-906f-eb83b8a106ef consumption           985775306  25557.7   \n",
       "\n",
       "                                                          spot_price_no_vat  \\\n",
       "meter_id                             type                                     \n",
       "07d1adfd-5898-4ba4-aeca-8c3a38158355 consumption                  158.14900   \n",
       "                                     elcert                        10.52000   \n",
       "                                     payment_consumption            0.00000   \n",
       "                                     payment_elcert                 0.00000   \n",
       "117e0012-3f28-4df4-906f-eb83b8a106ef consumption                 4438.65811   \n",
       "\n",
       "                                                          amount_no_vat  \\\n",
       "meter_id                             type                                 \n",
       "07d1adfd-5898-4ba4-aeca-8c3a38158355 consumption               3502.632   \n",
       "                                     elcert                     234.440   \n",
       "                                     payment_consumption      -3502.650   \n",
       "                                     payment_elcert            -234.400   \n",
       "117e0012-3f28-4df4-906f-eb83b8a106ef consumption              13300.177   \n",
       "\n",
       "                                                          amount_with_vat  \\\n",
       "meter_id                             type                                   \n",
       "07d1adfd-5898-4ba4-aeca-8c3a38158355 consumption                 4378.294   \n",
       "                                     elcert                       293.050   \n",
       "                                     payment_consumption        -4378.290   \n",
       "                                     payment_elcert              -293.050   \n",
       "117e0012-3f28-4df4-906f-eb83b8a106ef consumption                16625.217   \n",
       "\n",
       "                                                          vat_percent  \\\n",
       "meter_id                             type                               \n",
       "07d1adfd-5898-4ba4-aeca-8c3a38158355 consumption                13150   \n",
       "                                     elcert                     13150   \n",
       "                                     payment_consumption          750   \n",
       "                                     payment_elcert               675   \n",
       "117e0012-3f28-4df4-906f-eb83b8a106ef consumption               242975   \n",
       "\n",
       "                                                          ediel_product_code  \\\n",
       "meter_id                             type                                      \n",
       "07d1adfd-5898-4ba4-aeca-8c3a38158355 consumption                    836866.0   \n",
       "                                     elcert                         836866.0   \n",
       "                                     payment_consumption                 0.0   \n",
       "                                     payment_elcert                      0.0   \n",
       "117e0012-3f28-4df4-906f-eb83b8a106ef consumption                  14491029.0   \n",
       "\n",
       "                                                          kwh_fee_no_vat  \n",
       "meter_id                             type                                 \n",
       "07d1adfd-5898-4ba4-aeca-8c3a38158355 consumption                    0.00  \n",
       "                                     elcert                         0.00  \n",
       "                                     payment_consumption            0.00  \n",
       "                                     payment_elcert                 0.00  \n",
       "117e0012-3f28-4df4-906f-eb83b8a106ef consumption                  491.64  "
      ]
     },
     "execution_count": 311,
     "metadata": {},
     "output_type": "execute_result"
    }
   ],
   "source": [
    "type_sum.head()"
   ]
  },
  {
   "cell_type": "code",
   "execution_count": 310,
   "metadata": {},
   "outputs": [
    {
     "ename": "KeyError",
     "evalue": "'type'",
     "output_type": "error",
     "traceback": [
      "\u001b[1;31m---------------------------------------------------------------------------\u001b[0m",
      "\u001b[1;31mKeyError\u001b[0m                                  Traceback (most recent call last)",
      "File \u001b[1;32mc:\\Users\\andre\\OneDrive - Danmarks Tekniske Universitet\\02466 Project work - Bachelor of Artificial Intelligence and Data\\Project-Work---Bsc.-AIDS\\venv\\lib\\site-packages\\pandas\\core\\indexes\\base.py:3621\u001b[0m, in \u001b[0;36mIndex.get_loc\u001b[1;34m(self, key, method, tolerance)\u001b[0m\n\u001b[0;32m   <a href='file:///c%3A/Users/andre/OneDrive%20-%20Danmarks%20Tekniske%20Universitet/02466%20Project%20work%20-%20Bachelor%20of%20Artificial%20Intelligence%20and%20Data/Project-Work---Bsc.-AIDS/venv/lib/site-packages/pandas/core/indexes/base.py?line=3619'>3620</a>\u001b[0m \u001b[39mtry\u001b[39;00m:\n\u001b[1;32m-> <a href='file:///c%3A/Users/andre/OneDrive%20-%20Danmarks%20Tekniske%20Universitet/02466%20Project%20work%20-%20Bachelor%20of%20Artificial%20Intelligence%20and%20Data/Project-Work---Bsc.-AIDS/venv/lib/site-packages/pandas/core/indexes/base.py?line=3620'>3621</a>\u001b[0m     \u001b[39mreturn\u001b[39;00m \u001b[39mself\u001b[39;49m\u001b[39m.\u001b[39;49m_engine\u001b[39m.\u001b[39;49mget_loc(casted_key)\n\u001b[0;32m   <a href='file:///c%3A/Users/andre/OneDrive%20-%20Danmarks%20Tekniske%20Universitet/02466%20Project%20work%20-%20Bachelor%20of%20Artificial%20Intelligence%20and%20Data/Project-Work---Bsc.-AIDS/venv/lib/site-packages/pandas/core/indexes/base.py?line=3621'>3622</a>\u001b[0m \u001b[39mexcept\u001b[39;00m \u001b[39mKeyError\u001b[39;00m \u001b[39mas\u001b[39;00m err:\n",
      "File \u001b[1;32mc:\\Users\\andre\\OneDrive - Danmarks Tekniske Universitet\\02466 Project work - Bachelor of Artificial Intelligence and Data\\Project-Work---Bsc.-AIDS\\venv\\lib\\site-packages\\pandas\\_libs\\index.pyx:136\u001b[0m, in \u001b[0;36mpandas._libs.index.IndexEngine.get_loc\u001b[1;34m()\u001b[0m\n",
      "File \u001b[1;32mc:\\Users\\andre\\OneDrive - Danmarks Tekniske Universitet\\02466 Project work - Bachelor of Artificial Intelligence and Data\\Project-Work---Bsc.-AIDS\\venv\\lib\\site-packages\\pandas\\_libs\\index.pyx:163\u001b[0m, in \u001b[0;36mpandas._libs.index.IndexEngine.get_loc\u001b[1;34m()\u001b[0m\n",
      "File \u001b[1;32mpandas\\_libs\\hashtable_class_helper.pxi:5198\u001b[0m, in \u001b[0;36mpandas._libs.hashtable.PyObjectHashTable.get_item\u001b[1;34m()\u001b[0m\n",
      "File \u001b[1;32mpandas\\_libs\\hashtable_class_helper.pxi:5206\u001b[0m, in \u001b[0;36mpandas._libs.hashtable.PyObjectHashTable.get_item\u001b[1;34m()\u001b[0m\n",
      "\u001b[1;31mKeyError\u001b[0m: 'type'",
      "\nThe above exception was the direct cause of the following exception:\n",
      "\u001b[1;31mKeyError\u001b[0m                                  Traceback (most recent call last)",
      "\u001b[1;32mc:\\Users\\andre\\OneDrive - Danmarks Tekniske Universitet\\02466 Project work - Bachelor of Artificial Intelligence and Data\\Project-Work---Bsc.-AIDS\\explore.ipynb Cell 46'\u001b[0m in \u001b[0;36m<cell line: 3>\u001b[1;34m()\u001b[0m\n\u001b[0;32m      <a href='vscode-notebook-cell:/c%3A/Users/andre/OneDrive%20-%20Danmarks%20Tekniske%20Universitet/02466%20Project%20work%20-%20Bachelor%20of%20Artificial%20Intelligence%20and%20Data/Project-Work---Bsc.-AIDS/explore.ipynb#ch0000055?line=0'>1</a>\u001b[0m df \u001b[39m=\u001b[39m type_sum\n\u001b[1;32m----> <a href='vscode-notebook-cell:/c%3A/Users/andre/OneDrive%20-%20Danmarks%20Tekniske%20Universitet/02466%20Project%20work%20-%20Bachelor%20of%20Artificial%20Intelligence%20and%20Data/Project-Work---Bsc.-AIDS/explore.ipynb#ch0000055?line=2'>3</a>\u001b[0m \u001b[39mprint\u001b[39m(\u001b[39m\"\u001b[39m\u001b[39mConsumption (num_kwh) below 0: \u001b[39m\u001b[39m{}\u001b[39;00m\u001b[39m\"\u001b[39m\u001b[39m.\u001b[39mformat(df[(df[\u001b[39m\"\u001b[39;49m\u001b[39mtype\u001b[39;49m\u001b[39m\"\u001b[39;49m] \u001b[39m==\u001b[39m \u001b[39m\"\u001b[39m\u001b[39mconsumption\u001b[39m\u001b[39m\"\u001b[39m) \u001b[39m&\u001b[39m (df[\u001b[39m\"\u001b[39m\u001b[39mnum_kwh\u001b[39m\u001b[39m\"\u001b[39m] \u001b[39m<\u001b[39m \u001b[39m0\u001b[39m)]\u001b[39m.\u001b[39mshape[\u001b[39m0\u001b[39m]))\n\u001b[0;32m      <a href='vscode-notebook-cell:/c%3A/Users/andre/OneDrive%20-%20Danmarks%20Tekniske%20Universitet/02466%20Project%20work%20-%20Bachelor%20of%20Artificial%20Intelligence%20and%20Data/Project-Work---Bsc.-AIDS/explore.ipynb#ch0000055?line=3'>4</a>\u001b[0m \u001b[39mprint\u001b[39m(\u001b[39m\"\u001b[39m\u001b[39mConsumption (num_kwh) equal to 0: \u001b[39m\u001b[39m{}\u001b[39;00m\u001b[39m\"\u001b[39m\u001b[39m.\u001b[39mformat(df[(df[\u001b[39m\"\u001b[39m\u001b[39mtype\u001b[39m\u001b[39m\"\u001b[39m] \u001b[39m==\u001b[39m \u001b[39m\"\u001b[39m\u001b[39mconsumption\u001b[39m\u001b[39m\"\u001b[39m) \u001b[39m&\u001b[39m (df[\u001b[39m\"\u001b[39m\u001b[39mnum_kwh\u001b[39m\u001b[39m\"\u001b[39m] \u001b[39m==\u001b[39m \u001b[39m0\u001b[39m)]\u001b[39m.\u001b[39mshape[\u001b[39m0\u001b[39m]))\n\u001b[0;32m      <a href='vscode-notebook-cell:/c%3A/Users/andre/OneDrive%20-%20Danmarks%20Tekniske%20Universitet/02466%20Project%20work%20-%20Bachelor%20of%20Artificial%20Intelligence%20and%20Data/Project-Work---Bsc.-AIDS/explore.ipynb#ch0000055?line=4'>5</a>\u001b[0m \u001b[39mprint\u001b[39m(\u001b[39m\"\u001b[39m\u001b[39mConsumption (num_kwh) above 0: \u001b[39m\u001b[39m{}\u001b[39;00m\u001b[39m\"\u001b[39m\u001b[39m.\u001b[39mformat(df[(df[\u001b[39m\"\u001b[39m\u001b[39mtype\u001b[39m\u001b[39m\"\u001b[39m] \u001b[39m==\u001b[39m \u001b[39m\"\u001b[39m\u001b[39mconsumption\u001b[39m\u001b[39m\"\u001b[39m) \u001b[39m&\u001b[39m (df[\u001b[39m\"\u001b[39m\u001b[39mnum_kwh\u001b[39m\u001b[39m\"\u001b[39m] \u001b[39m>\u001b[39m \u001b[39m0\u001b[39m)]\u001b[39m.\u001b[39mshape[\u001b[39m0\u001b[39m]))\n",
      "File \u001b[1;32mc:\\Users\\andre\\OneDrive - Danmarks Tekniske Universitet\\02466 Project work - Bachelor of Artificial Intelligence and Data\\Project-Work---Bsc.-AIDS\\venv\\lib\\site-packages\\pandas\\core\\frame.py:3505\u001b[0m, in \u001b[0;36mDataFrame.__getitem__\u001b[1;34m(self, key)\u001b[0m\n\u001b[0;32m   <a href='file:///c%3A/Users/andre/OneDrive%20-%20Danmarks%20Tekniske%20Universitet/02466%20Project%20work%20-%20Bachelor%20of%20Artificial%20Intelligence%20and%20Data/Project-Work---Bsc.-AIDS/venv/lib/site-packages/pandas/core/frame.py?line=3502'>3503</a>\u001b[0m \u001b[39mif\u001b[39;00m \u001b[39mself\u001b[39m\u001b[39m.\u001b[39mcolumns\u001b[39m.\u001b[39mnlevels \u001b[39m>\u001b[39m \u001b[39m1\u001b[39m:\n\u001b[0;32m   <a href='file:///c%3A/Users/andre/OneDrive%20-%20Danmarks%20Tekniske%20Universitet/02466%20Project%20work%20-%20Bachelor%20of%20Artificial%20Intelligence%20and%20Data/Project-Work---Bsc.-AIDS/venv/lib/site-packages/pandas/core/frame.py?line=3503'>3504</a>\u001b[0m     \u001b[39mreturn\u001b[39;00m \u001b[39mself\u001b[39m\u001b[39m.\u001b[39m_getitem_multilevel(key)\n\u001b[1;32m-> <a href='file:///c%3A/Users/andre/OneDrive%20-%20Danmarks%20Tekniske%20Universitet/02466%20Project%20work%20-%20Bachelor%20of%20Artificial%20Intelligence%20and%20Data/Project-Work---Bsc.-AIDS/venv/lib/site-packages/pandas/core/frame.py?line=3504'>3505</a>\u001b[0m indexer \u001b[39m=\u001b[39m \u001b[39mself\u001b[39;49m\u001b[39m.\u001b[39;49mcolumns\u001b[39m.\u001b[39;49mget_loc(key)\n\u001b[0;32m   <a href='file:///c%3A/Users/andre/OneDrive%20-%20Danmarks%20Tekniske%20Universitet/02466%20Project%20work%20-%20Bachelor%20of%20Artificial%20Intelligence%20and%20Data/Project-Work---Bsc.-AIDS/venv/lib/site-packages/pandas/core/frame.py?line=3505'>3506</a>\u001b[0m \u001b[39mif\u001b[39;00m is_integer(indexer):\n\u001b[0;32m   <a href='file:///c%3A/Users/andre/OneDrive%20-%20Danmarks%20Tekniske%20Universitet/02466%20Project%20work%20-%20Bachelor%20of%20Artificial%20Intelligence%20and%20Data/Project-Work---Bsc.-AIDS/venv/lib/site-packages/pandas/core/frame.py?line=3506'>3507</a>\u001b[0m     indexer \u001b[39m=\u001b[39m [indexer]\n",
      "File \u001b[1;32mc:\\Users\\andre\\OneDrive - Danmarks Tekniske Universitet\\02466 Project work - Bachelor of Artificial Intelligence and Data\\Project-Work---Bsc.-AIDS\\venv\\lib\\site-packages\\pandas\\core\\indexes\\base.py:3623\u001b[0m, in \u001b[0;36mIndex.get_loc\u001b[1;34m(self, key, method, tolerance)\u001b[0m\n\u001b[0;32m   <a href='file:///c%3A/Users/andre/OneDrive%20-%20Danmarks%20Tekniske%20Universitet/02466%20Project%20work%20-%20Bachelor%20of%20Artificial%20Intelligence%20and%20Data/Project-Work---Bsc.-AIDS/venv/lib/site-packages/pandas/core/indexes/base.py?line=3620'>3621</a>\u001b[0m     \u001b[39mreturn\u001b[39;00m \u001b[39mself\u001b[39m\u001b[39m.\u001b[39m_engine\u001b[39m.\u001b[39mget_loc(casted_key)\n\u001b[0;32m   <a href='file:///c%3A/Users/andre/OneDrive%20-%20Danmarks%20Tekniske%20Universitet/02466%20Project%20work%20-%20Bachelor%20of%20Artificial%20Intelligence%20and%20Data/Project-Work---Bsc.-AIDS/venv/lib/site-packages/pandas/core/indexes/base.py?line=3621'>3622</a>\u001b[0m \u001b[39mexcept\u001b[39;00m \u001b[39mKeyError\u001b[39;00m \u001b[39mas\u001b[39;00m err:\n\u001b[1;32m-> <a href='file:///c%3A/Users/andre/OneDrive%20-%20Danmarks%20Tekniske%20Universitet/02466%20Project%20work%20-%20Bachelor%20of%20Artificial%20Intelligence%20and%20Data/Project-Work---Bsc.-AIDS/venv/lib/site-packages/pandas/core/indexes/base.py?line=3622'>3623</a>\u001b[0m     \u001b[39mraise\u001b[39;00m \u001b[39mKeyError\u001b[39;00m(key) \u001b[39mfrom\u001b[39;00m \u001b[39merr\u001b[39;00m\n\u001b[0;32m   <a href='file:///c%3A/Users/andre/OneDrive%20-%20Danmarks%20Tekniske%20Universitet/02466%20Project%20work%20-%20Bachelor%20of%20Artificial%20Intelligence%20and%20Data/Project-Work---Bsc.-AIDS/venv/lib/site-packages/pandas/core/indexes/base.py?line=3623'>3624</a>\u001b[0m \u001b[39mexcept\u001b[39;00m \u001b[39mTypeError\u001b[39;00m:\n\u001b[0;32m   <a href='file:///c%3A/Users/andre/OneDrive%20-%20Danmarks%20Tekniske%20Universitet/02466%20Project%20work%20-%20Bachelor%20of%20Artificial%20Intelligence%20and%20Data/Project-Work---Bsc.-AIDS/venv/lib/site-packages/pandas/core/indexes/base.py?line=3624'>3625</a>\u001b[0m     \u001b[39m# If we have a listlike key, _check_indexing_error will raise\u001b[39;00m\n\u001b[0;32m   <a href='file:///c%3A/Users/andre/OneDrive%20-%20Danmarks%20Tekniske%20Universitet/02466%20Project%20work%20-%20Bachelor%20of%20Artificial%20Intelligence%20and%20Data/Project-Work---Bsc.-AIDS/venv/lib/site-packages/pandas/core/indexes/base.py?line=3625'>3626</a>\u001b[0m     \u001b[39m#  InvalidIndexError. Otherwise we fall through and re-raise\u001b[39;00m\n\u001b[0;32m   <a href='file:///c%3A/Users/andre/OneDrive%20-%20Danmarks%20Tekniske%20Universitet/02466%20Project%20work%20-%20Bachelor%20of%20Artificial%20Intelligence%20and%20Data/Project-Work---Bsc.-AIDS/venv/lib/site-packages/pandas/core/indexes/base.py?line=3626'>3627</a>\u001b[0m     \u001b[39m#  the TypeError.\u001b[39;00m\n\u001b[0;32m   <a href='file:///c%3A/Users/andre/OneDrive%20-%20Danmarks%20Tekniske%20Universitet/02466%20Project%20work%20-%20Bachelor%20of%20Artificial%20Intelligence%20and%20Data/Project-Work---Bsc.-AIDS/venv/lib/site-packages/pandas/core/indexes/base.py?line=3627'>3628</a>\u001b[0m     \u001b[39mself\u001b[39m\u001b[39m.\u001b[39m_check_indexing_error(key)\n",
      "\u001b[1;31mKeyError\u001b[0m: 'type'"
     ]
    }
   ],
   "source": [
    "df = type_sum\n",
    "\n",
    "print(\"Consumption (num_kwh) below 0: {}\".format(df[(df[\"type\"] == \"consumption\") & (df[\"num_kwh\"] < 0)].shape[0]))\n",
    "print(\"Consumption (num_kwh) equal to 0: {}\".format(df[(df[\"type\"] == \"consumption\") & (df[\"num_kwh\"] == 0)].shape[0]))\n",
    "print(\"Consumption (num_kwh) above 0: {}\".format(df[(df[\"type\"] == \"consumption\") & (df[\"num_kwh\"] > 0)].shape[0]))\n",
    "print()\n",
    "print(\"Production (num_kwh) below 0: {}\".format(df[(df[\"type\"] == \"production\") & (df[\"num_kwh\"] < 0)].shape[0]))\n",
    "print(\"Production (num_kwh) equal to 0: {}\".format(df[(df[\"type\"] == \"production\") & (df[\"num_kwh\"] == 0)].shape[0]))\n",
    "print(\"Production (num_kwh) above 0: {}\".format(df[(df[\"type\"] == \"production\") & (df[\"num_kwh\"] > 0)].shape[0]))\n",
    "print()\n",
    "print(\"Elcert (num_kwh) below 0: {}\".format(df[(df[\"type\"] == \"elcert\") & (df[\"num_kwh\"] < 0)].shape[0]))\n",
    "print(\"Elcert (num_kwh) equal to 0: {}\".format(df[(df[\"type\"] == \"elcert\") & (df[\"num_kwh\"] == 0)].shape[0]))\n",
    "print(\"Elcert (num_kwh) above 0: {}\".format(df[(df[\"type\"] == \"elcert\") & (df[\"num_kwh\"] > 0)].shape[0]))"
   ]
  }
 ],
 "metadata": {
  "interpreter": {
   "hash": "373ca570fc891238f1057e6d105cf17eb814cd9c6397d08456c6623205273c62"
  },
  "kernelspec": {
   "display_name": "Python 3.8.8 ('venv': venv)",
   "language": "python",
   "name": "python3"
  },
  "language_info": {
   "codemirror_mode": {
    "name": "ipython",
    "version": 3
   },
   "file_extension": ".py",
   "mimetype": "text/x-python",
   "name": "python",
   "nbconvert_exporter": "python",
   "pygments_lexer": "ipython3",
   "version": "3.8.8"
  },
  "orig_nbformat": 4
 },
 "nbformat": 4,
 "nbformat_minor": 2
}
