{
 "cells": [
  {
   "cell_type": "code",
   "execution_count": 37,
   "metadata": {},
   "outputs": [],
   "source": [
    "import numpy as np\n",
    "import pandas as pd\n",
    "import dask.dataframe as dd\n",
    "import datetime\n",
    "import matplotlib.pyplot as plt"
   ]
  },
  {
   "cell_type": "code",
   "execution_count": 48,
   "metadata": {},
   "outputs": [],
   "source": [
    "def plot_missing_dates_on_timeline(start, end, missing, title = \"Missing timeslots\"):\n",
    "    \"\"\"Plot missing dates on timeline\n",
    "\n",
    "    Args:\n",
    "        min (datetime): start date on timeline\n",
    "        max (datetime): end date on timeline\n",
    "        missing (list): list of missing dates in the interval\n",
    "        title (str, optional): Plot title. Defaults to \"Missing timeslots\".\n",
    "    \"\"\"\n",
    "    \n",
    "    # Plot missing timeslot values \n",
    "    # Inspired by https://matplotlib.org/3.5.1/gallery/lines_bars_and_markers/timeline.html\n",
    "\n",
    "    # Choose some nice levels\n",
    "    levels = np.tile([-5, 5, -3, 3, -1, 1],\n",
    "                    int(np.ceil(len(missing)/6)))[:len(missing)]\n",
    "\n",
    "    # Create figure and plot a stem plot with the date\n",
    "    fig, ax = plt.subplots(figsize=(8.8, 4), constrained_layout=True)\n",
    "    ax.set(title=title)\n",
    "\n",
    "    ax.vlines(missing, 0, levels, color=\"tab:red\")  # The vertical stems.\n",
    "    ax.plot(missing, np.zeros_like(missing), \"-o\",\n",
    "            color=\"k\", markerfacecolor=\"w\")  # Baseline and markers on it.\n",
    "\n",
    "    # remove y axis and spines\n",
    "    ax.yaxis.set_visible(False)\n",
    "    ax.spines[[\"left\", \"top\", \"right\"]].set_visible(False)\n",
    "\n",
    "    # Set x-axis interval\n",
    "    ax.set_xlim(start, end)\n",
    "\n",
    "    ax.margins(y=0.1)\n",
    "    plt.show()\n",
    "\n",
    "def get_missing_hours(dates):\n",
    "    \"\"\"List of hour\n",
    "\n",
    "    Args:\n",
    "        dates (list:datetime): list of hours\n",
    "\n",
    "    Returns:\n",
    "        list:datetime: list of missing hours in timeseries\n",
    "    \"\"\"\n",
    "    date_set = set(dates[0] - datetime.timedelta(hours = x) for x in range(int(((dates[-1] - dates[0]) / datetime.timedelta(hours=1)/24))))\n",
    "    missing  = sorted(date_set - set(dates))\n",
    "    return missing"
   ]
  },
  {
   "cell_type": "code",
   "execution_count": 39,
   "metadata": {},
   "outputs": [],
   "source": [
    "df = pd.read_csv(\"data/28ba7f57-6e83-4341-8078-232c1639e4e3_AGGREGATED.csv\")"
   ]
  },
  {
   "cell_type": "code",
   "execution_count": 62,
   "metadata": {},
   "outputs": [],
   "source": [
    "# print(df[df[\"type\"] == \"consumption\"].describe())\n",
    "# print(df[df[\"type\"] == \"production\"].describe())"
   ]
  },
  {
   "cell_type": "code",
   "execution_count": 64,
   "metadata": {},
   "outputs": [],
   "source": [
    "# Convert timeslot to datetime\n",
    "df.index = pd.to_datetime(df[\"timeslot\"], utc=True)\n",
    "\n",
    "df_prod =  df[df[\"type\"] == \"production\"]\n",
    "df_cons = df[df[\"type\"] == \"consumption\"]"
   ]
  },
  {
   "cell_type": "code",
   "execution_count": 66,
   "metadata": {},
   "outputs": [
    {
     "name": "stdout",
     "output_type": "stream",
     "text": [
      "There are 0 missing timeslots in the consumption data from start to end\n",
      "There are 0 missing timeslots in the production data from start to end\n"
     ]
    },
    {
     "data": {
      "image/png": "[encoded data removed]",
      "text/plain": [
       "<Figure size 633.6x288 with 1 Axes>"
      ]
     },
     "metadata": {
      "needs_background": "light"
     },
     "output_type": "display_data"
    },
    {
     "data": {
      "image/png": "[encoded data removed]",
      "text/plain": [
       "<Figure size 633.6x288 with 1 Axes>"
      ]
     },
     "metadata": {
      "needs_background": "light"
     },
     "output_type": "display_data"
    }
   ],
   "source": [
    "missing_prod = get_missing_hours(df_prod.index)\n",
    "missing_cons = get_missing_hours(df_cons.index)\n",
    "\n",
    "print(f\"There are {len(missing_prod)} missing timeslots in the consumption data from start to end\")\n",
    "print(f\"There are {len(missing_cons)} missing timeslots in the production data from start to end\")\n",
    "\n",
    "plot_missing_dates_on_timeline(df_prod.index[0], df_prod.index[-1], missing_cons, \"Missing timeslots for production\")\n",
    "plot_missing_dates_on_timeline(df_cons.index[0], df_cons.index[-1], missing_cons, \"Missing timeslots for consumption\")\n"
   ]
  },
  {
   "cell_type": "code",
   "execution_count": 77,
   "metadata": {},
   "outputs": [
    {
     "name": "stdout",
     "output_type": "stream",
     "text": [
      "Production:  2016-09-04 22:00:00+00:00 2019-05-14 21:00:00+00:00\n",
      "Consumption:  2016-09-03 22:00:00+00:00 2019-05-14 21:00:00+00:00\n"
     ]
    }
   ],
   "source": [
    "# Print intervals\n",
    "print(\"Production: \",  min(df_prod.index), max(df_prod.index)) \n",
    "print(\"Consumption: \", min(df_cons.index), max(df_cons.index)) "
   ]
  }
 ],
 "metadata": {
  "interpreter": {
   "hash": "373ca570fc891238f1057e6d105cf17eb814cd9c6397d08456c6623205273c62"
  },
  "kernelspec": {
   "display_name": "Python 3.8.8 ('venv': venv)",
   "language": "python",
   "name": "python3"
  },
  "language_info": {
   "codemirror_mode": {
    "name": "ipython",
    "version": 3
   },
   "file_extension": ".py",
   "mimetype": "text/x-python",
   "name": "python",
   "nbconvert_exporter": "python",
   "pygments_lexer": "ipython3",
   "version": "3.8.8"
  },
  "orig_nbformat": 4
 },
 "nbformat": 4,
 "nbformat_minor": 2
}
