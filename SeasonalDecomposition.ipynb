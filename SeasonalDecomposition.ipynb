{
 "cells": [
  {
   "cell_type": "code",
   "execution_count": 265,
   "metadata": {},
   "outputs": [],
   "source": [
    "import pandas as pd\n",
    "import plotly.express as px\n",
    "import matplotlib.pyplot as plt\n",
    "from matplotlib.pyplot import figure\n",
    "from datetime import datetime\n",
    "import numpy as np\n",
    "import seaborn as sns"
   ]
  },
  {
   "cell_type": "code",
   "execution_count": 266,
   "metadata": {},
   "outputs": [],
   "source": [
    "df = pd.read_csv(\"C:/Users/vidis/OneDrive/Desktop/Summer2022/Project Work/non_agg_meterid.csv\", sep=',')\n",
    "df = df.drop(['meter_id', 'spot_price_no_vat', 'amount_no_vat','amount_with_vat','vat_percent','ediel_product_code','kwh_fee_no_vat' ], axis=1)\n",
    "\n",
    "df['timeslot'] = pd.to_datetime(df['timeslot'], utc=True)\n",
    "df.set_index('timeslot', inplace=True, drop=True)\n",
    "\n",
    "df_prod = df[df['type']=='production']\n",
    "df_cons = df[df['type']=='consumption']"
   ]
  },
  {
   "cell_type": "code",
   "execution_count": 267,
   "metadata": {},
   "outputs": [
    {
     "data": {
      "text/html": [
       "<div>\n",
       "<style scoped>\n",
       "    .dataframe tbody tr th:only-of-type {\n",
       "        vertical-align: middle;\n",
       "    }\n",
       "\n",
       "    .dataframe tbody tr th {\n",
       "        vertical-align: top;\n",
       "    }\n",
       "\n",
       "    .dataframe thead th {\n",
       "        text-align: right;\n",
       "    }\n",
       "</style>\n",
       "<table border=\"1\" class=\"dataframe\">\n",
       "  <thead>\n",
       "    <tr style=\"text-align: right;\">\n",
       "      <th></th>\n",
       "    </tr>\n",
       "    <tr>\n",
       "      <th>timeslot</th>\n",
       "    </tr>\n",
       "  </thead>\n",
       "  <tbody>\n",
       "    <tr>\n",
       "      <th>2016-09-03 22:00:00+00:00</th>\n",
       "    </tr>\n",
       "    <tr>\n",
       "      <th>2016-09-03 23:00:00+00:00</th>\n",
       "    </tr>\n",
       "    <tr>\n",
       "      <th>2016-09-04 00:00:00+00:00</th>\n",
       "    </tr>\n",
       "    <tr>\n",
       "      <th>2016-09-04 01:00:00+00:00</th>\n",
       "    </tr>\n",
       "    <tr>\n",
       "      <th>2016-09-04 02:00:00+00:00</th>\n",
       "    </tr>\n",
       "    <tr>\n",
       "      <th>...</th>\n",
       "    </tr>\n",
       "    <tr>\n",
       "      <th>2019-05-14 17:00:00+00:00</th>\n",
       "    </tr>\n",
       "    <tr>\n",
       "      <th>2019-05-14 18:00:00+00:00</th>\n",
       "    </tr>\n",
       "    <tr>\n",
       "      <th>2019-05-14 19:00:00+00:00</th>\n",
       "    </tr>\n",
       "    <tr>\n",
       "      <th>2019-05-14 20:00:00+00:00</th>\n",
       "    </tr>\n",
       "    <tr>\n",
       "      <th>2019-05-14 21:00:00+00:00</th>\n",
       "    </tr>\n",
       "  </tbody>\n",
       "</table>\n",
       "<p>23592 rows × 0 columns</p>\n",
       "</div>"
      ],
      "text/plain": [
       "Empty DataFrame\n",
       "Columns: []\n",
       "Index: [2016-09-03 22:00:00+00:00, 2016-09-03 23:00:00+00:00, 2016-09-04 00:00:00+00:00, 2016-09-04 01:00:00+00:00, 2016-09-04 02:00:00+00:00, 2016-09-04 03:00:00+00:00, 2016-09-04 04:00:00+00:00, 2016-09-04 05:00:00+00:00, 2016-09-04 06:00:00+00:00, 2016-09-04 07:00:00+00:00, 2016-09-04 08:00:00+00:00, 2016-09-04 09:00:00+00:00, 2016-09-04 10:00:00+00:00, 2016-09-04 11:00:00+00:00, 2016-09-04 12:00:00+00:00, 2016-09-04 13:00:00+00:00, 2016-09-04 14:00:00+00:00, 2016-09-04 15:00:00+00:00, 2016-09-04 16:00:00+00:00, 2016-09-04 17:00:00+00:00, 2016-09-04 18:00:00+00:00, 2016-09-04 19:00:00+00:00, 2016-09-04 20:00:00+00:00, 2016-09-04 21:00:00+00:00, 2016-09-04 22:00:00+00:00, 2016-09-04 23:00:00+00:00, 2016-09-05 00:00:00+00:00, 2016-09-05 01:00:00+00:00, 2016-09-05 02:00:00+00:00, 2016-09-05 03:00:00+00:00, 2016-09-05 04:00:00+00:00, 2016-09-05 05:00:00+00:00, 2016-09-05 06:00:00+00:00, 2016-09-05 07:00:00+00:00, 2016-09-05 08:00:00+00:00, 2016-09-05 09:00:00+00:00, 2016-09-05 10:00:00+00:00, 2016-09-05 11:00:00+00:00, 2016-09-05 12:00:00+00:00, 2016-09-05 13:00:00+00:00, 2016-09-05 14:00:00+00:00, 2016-09-05 15:00:00+00:00, 2016-09-05 16:00:00+00:00, 2016-09-05 17:00:00+00:00, 2016-09-05 18:00:00+00:00, 2016-09-05 19:00:00+00:00, 2016-09-05 20:00:00+00:00, 2016-09-05 21:00:00+00:00, 2016-09-05 22:00:00+00:00, 2016-09-05 23:00:00+00:00, 2016-09-06 00:00:00+00:00, 2016-09-06 01:00:00+00:00, 2016-09-06 02:00:00+00:00, 2016-09-06 03:00:00+00:00, 2016-09-06 04:00:00+00:00, 2016-09-06 05:00:00+00:00, 2016-09-06 06:00:00+00:00, 2016-09-06 07:00:00+00:00, 2016-09-06 08:00:00+00:00, 2016-09-06 09:00:00+00:00, 2016-09-06 10:00:00+00:00, 2016-09-06 11:00:00+00:00, 2016-09-06 12:00:00+00:00, 2016-09-06 13:00:00+00:00, 2016-09-06 14:00:00+00:00, 2016-09-06 15:00:00+00:00, 2016-09-06 16:00:00+00:00, 2016-09-06 17:00:00+00:00, 2016-09-06 18:00:00+00:00, 2016-09-06 19:00:00+00:00, 2016-09-06 20:00:00+00:00, 2016-09-06 21:00:00+00:00, 2016-09-06 22:00:00+00:00, 2016-09-06 23:00:00+00:00, 2016-09-07 00:00:00+00:00, 2016-09-07 01:00:00+00:00, 2016-09-07 02:00:00+00:00, 2016-09-07 03:00:00+00:00, 2016-09-07 04:00:00+00:00, 2016-09-07 05:00:00+00:00, 2016-09-07 06:00:00+00:00, 2016-09-07 07:00:00+00:00, 2016-09-07 08:00:00+00:00, 2016-09-07 09:00:00+00:00, 2016-09-07 10:00:00+00:00, 2016-09-07 11:00:00+00:00, 2016-09-07 12:00:00+00:00, 2016-09-07 13:00:00+00:00, 2016-09-07 14:00:00+00:00, 2016-09-07 15:00:00+00:00, 2016-09-07 16:00:00+00:00, 2016-09-07 17:00:00+00:00, 2016-09-07 18:00:00+00:00, 2016-09-07 19:00:00+00:00, 2016-09-07 20:00:00+00:00, 2016-09-07 21:00:00+00:00, 2016-09-07 22:00:00+00:00, 2016-09-07 23:00:00+00:00, 2016-09-08 00:00:00+00:00, 2016-09-08 01:00:00+00:00, ...]\n",
       "\n",
       "[23592 rows x 0 columns]"
      ]
     },
     "execution_count": 267,
     "metadata": {},
     "output_type": "execute_result"
    }
   ],
   "source": [
    "pf = pd.DataFrame({'timeslot': []})\n",
    "pf['timeslot'] = pd.date_range(start=\"2016-09-03 22:00:00+0000\", end=\"2019-05-14 21:00:00+0000\", freq='H')\n",
    "pf.set_index('timeslot')"
   ]
  },
  {
   "cell_type": "code",
   "execution_count": 268,
   "metadata": {},
   "outputs": [],
   "source": [
    "hf_prod = pd.merge(pf, df_prod, on='timeslot',how='left')\n",
    "hf_cons = pd.merge(pf, df_cons, on='timeslot',how='left')\n",
    "hf_prod.set_index('timeslot', inplace=True, drop=True)\n",
    "hf_cons.set_index('timeslot', inplace=True, drop=True)\n",
    "hf_prod = hf_prod.drop('type',1)\n",
    "hf_cons = hf_cons.drop('type',1)"
   ]
  },
  {
   "cell_type": "code",
   "execution_count": 261,
   "metadata": {},
   "outputs": [],
   "source": [
    "hf_cons.drop(hf_cons.loc['2016-09-03 22:00:00+00:00': '2016-12-31 23:00:00+00:00'].index, axis=0, inplace=True)\n",
    "hf_prod.drop(hf_prod.loc['2016-09-03 22:00:00+00:00': '2016-12-31 23:00:00+00:00'].index, axis=0, inplace=True)\n",
    "hf_cons.drop(hf_cons.loc['2019-01-01 00:00:00+00:00\t': '2019-05-14 21:00:00+00:00'].index, axis=0, inplace=True)\n",
    "hf_prod.drop(hf_prod.loc['2019-01-01 00:00:00+00:00\t': '2019-05-14 21:00:00+00:00'].index, axis=0, inplace=True)"
   ]
  },
  {
   "cell_type": "code",
   "execution_count": 271,
   "metadata": {},
   "outputs": [],
   "source": [
    "hf_prod.to_csv(r'C:\\Users\\vidis\\OneDrive\\Desktop\\Summer2022\\Project Work\\prod.csv')\n",
    "hf_cons.to_csv(r'C:\\Users\\vidis\\OneDrive\\Desktop\\Summer2022\\Project Work\\cons.csv')"
   ]
  },
  {
   "cell_type": "code",
   "execution_count": 270,
   "metadata": {},
   "outputs": [
    {
     "ename": "ValueError",
     "evalue": "This function does not handle missing values",
     "output_type": "error",
     "traceback": [
      "\u001b[1;31m---------------------------------------------------------------------------\u001b[0m",
      "\u001b[1;31mValueError\u001b[0m                                Traceback (most recent call last)",
      "\u001b[1;32m<ipython-input-270-2b6f2b23ccac>\u001b[0m in \u001b[0;36m<module>\u001b[1;34m\u001b[0m\n\u001b[0;32m      3\u001b[0m \u001b[1;32mfrom\u001b[0m \u001b[0mstatsmodels\u001b[0m\u001b[1;33m.\u001b[0m\u001b[0mtsa\u001b[0m\u001b[1;33m.\u001b[0m\u001b[0mseasonal\u001b[0m \u001b[1;32mimport\u001b[0m \u001b[0mseasonal_decompose\u001b[0m\u001b[1;33m\u001b[0m\u001b[1;33m\u001b[0m\u001b[0m\n\u001b[0;32m      4\u001b[0m \u001b[0mseries\u001b[0m \u001b[1;33m=\u001b[0m \u001b[0mhf_prod\u001b[0m\u001b[1;33m[\u001b[0m\u001b[1;34m'num_kwh'\u001b[0m\u001b[1;33m]\u001b[0m\u001b[1;33m\u001b[0m\u001b[1;33m\u001b[0m\u001b[0m\n\u001b[1;32m----> 5\u001b[1;33m \u001b[0mresult\u001b[0m \u001b[1;33m=\u001b[0m \u001b[0mseasonal_decompose\u001b[0m\u001b[1;33m(\u001b[0m\u001b[0mseries\u001b[0m\u001b[1;33m,\u001b[0m \u001b[0mmodel\u001b[0m\u001b[1;33m=\u001b[0m\u001b[1;34m'addtive'\u001b[0m\u001b[1;33m,\u001b[0m \u001b[0mperiod\u001b[0m\u001b[1;33m=\u001b[0m\u001b[1;36m24\u001b[0m\u001b[1;33m*\u001b[0m\u001b[1;36m30\u001b[0m\u001b[1;33m)\u001b[0m\u001b[1;33m\u001b[0m\u001b[1;33m\u001b[0m\u001b[0m\n\u001b[0m\u001b[0;32m      6\u001b[0m \u001b[0mresult\u001b[0m\u001b[1;33m.\u001b[0m\u001b[0mplot\u001b[0m\u001b[1;33m(\u001b[0m\u001b[1;33m)\u001b[0m\u001b[1;33m\u001b[0m\u001b[1;33m\u001b[0m\u001b[0m\n\u001b[0;32m      7\u001b[0m \u001b[0mplt\u001b[0m\u001b[1;33m.\u001b[0m\u001b[0mshow\u001b[0m\u001b[1;33m(\u001b[0m\u001b[1;33m)\u001b[0m\u001b[1;33m\u001b[0m\u001b[1;33m\u001b[0m\u001b[0m\n",
      "\u001b[1;32m~\\anaconda3\\lib\\site-packages\\pandas\\util\\_decorators.py\u001b[0m in \u001b[0;36mwrapper\u001b[1;34m(*args, **kwargs)\u001b[0m\n\u001b[0;32m    212\u001b[0m                 \u001b[1;32melse\u001b[0m\u001b[1;33m:\u001b[0m\u001b[1;33m\u001b[0m\u001b[1;33m\u001b[0m\u001b[0m\n\u001b[0;32m    213\u001b[0m                     \u001b[0mkwargs\u001b[0m\u001b[1;33m[\u001b[0m\u001b[0mnew_arg_name\u001b[0m\u001b[1;33m]\u001b[0m \u001b[1;33m=\u001b[0m \u001b[0mnew_arg_value\u001b[0m\u001b[1;33m\u001b[0m\u001b[1;33m\u001b[0m\u001b[0m\n\u001b[1;32m--> 214\u001b[1;33m             \u001b[1;32mreturn\u001b[0m \u001b[0mfunc\u001b[0m\u001b[1;33m(\u001b[0m\u001b[1;33m*\u001b[0m\u001b[0margs\u001b[0m\u001b[1;33m,\u001b[0m \u001b[1;33m**\u001b[0m\u001b[0mkwargs\u001b[0m\u001b[1;33m)\u001b[0m\u001b[1;33m\u001b[0m\u001b[1;33m\u001b[0m\u001b[0m\n\u001b[0m\u001b[0;32m    215\u001b[0m \u001b[1;33m\u001b[0m\u001b[0m\n\u001b[0;32m    216\u001b[0m         \u001b[1;32mreturn\u001b[0m \u001b[0mcast\u001b[0m\u001b[1;33m(\u001b[0m\u001b[0mF\u001b[0m\u001b[1;33m,\u001b[0m \u001b[0mwrapper\u001b[0m\u001b[1;33m)\u001b[0m\u001b[1;33m\u001b[0m\u001b[1;33m\u001b[0m\u001b[0m\n",
      "\u001b[1;32m~\\anaconda3\\lib\\site-packages\\statsmodels\\tsa\\seasonal.py\u001b[0m in \u001b[0;36mseasonal_decompose\u001b[1;34m(x, model, filt, period, two_sided, extrapolate_trend)\u001b[0m\n\u001b[0;32m    129\u001b[0m \u001b[1;33m\u001b[0m\u001b[0m\n\u001b[0;32m    130\u001b[0m     \u001b[1;32mif\u001b[0m \u001b[1;32mnot\u001b[0m \u001b[0mnp\u001b[0m\u001b[1;33m.\u001b[0m\u001b[0mall\u001b[0m\u001b[1;33m(\u001b[0m\u001b[0mnp\u001b[0m\u001b[1;33m.\u001b[0m\u001b[0misfinite\u001b[0m\u001b[1;33m(\u001b[0m\u001b[0mx\u001b[0m\u001b[1;33m)\u001b[0m\u001b[1;33m)\u001b[0m\u001b[1;33m:\u001b[0m\u001b[1;33m\u001b[0m\u001b[1;33m\u001b[0m\u001b[0m\n\u001b[1;32m--> 131\u001b[1;33m         \u001b[1;32mraise\u001b[0m \u001b[0mValueError\u001b[0m\u001b[1;33m(\u001b[0m\u001b[1;34m\"This function does not handle missing values\"\u001b[0m\u001b[1;33m)\u001b[0m\u001b[1;33m\u001b[0m\u001b[1;33m\u001b[0m\u001b[0m\n\u001b[0m\u001b[0;32m    132\u001b[0m     \u001b[1;32mif\u001b[0m \u001b[0mmodel\u001b[0m\u001b[1;33m.\u001b[0m\u001b[0mstartswith\u001b[0m\u001b[1;33m(\u001b[0m\u001b[1;34m'm'\u001b[0m\u001b[1;33m)\u001b[0m\u001b[1;33m:\u001b[0m\u001b[1;33m\u001b[0m\u001b[1;33m\u001b[0m\u001b[0m\n\u001b[0;32m    133\u001b[0m         \u001b[1;32mif\u001b[0m \u001b[0mnp\u001b[0m\u001b[1;33m.\u001b[0m\u001b[0many\u001b[0m\u001b[1;33m(\u001b[0m\u001b[0mx\u001b[0m \u001b[1;33m<=\u001b[0m \u001b[1;36m0\u001b[0m\u001b[1;33m)\u001b[0m\u001b[1;33m:\u001b[0m\u001b[1;33m\u001b[0m\u001b[1;33m\u001b[0m\u001b[0m\n",
      "\u001b[1;31mValueError\u001b[0m: This function does not handle missing values"
     ]
    }
   ],
   "source": [
    "from random import randrange\n",
    "from pandas import Series\n",
    "from statsmodels.tsa.seasonal import seasonal_decompose\n",
    "series = hf_prod['num_kwh']\n",
    "result = seasonal_decompose(series, model='addtive', period=24*30)\n",
    "result.plot()\n",
    "plt.show()"
   ]
  },
  {
   "cell_type": "code",
   "execution_count": 264,
   "metadata": {},
   "outputs": [
    {
     "data": {
      "text/plain": [
       "8760"
      ]
     },
     "execution_count": 264,
     "metadata": {},
     "output_type": "execute_result"
    }
   ],
   "source": [
    "24*365"
   ]
  }
 ],
 "metadata": {
  "kernelspec": {
   "display_name": "Python 3",
   "language": "python",
   "name": "python3"
  },
  "language_info": {
   "codemirror_mode": {
    "name": "ipython",
    "version": 3
   },
   "file_extension": ".py",
   "mimetype": "text/x-python",
   "name": "python",
   "nbconvert_exporter": "python",
   "pygments_lexer": "ipython3",
   "version": "3.7.6"
  }
 },
 "nbformat": 4,
 "nbformat_minor": 4
}
