{
 "cells": [
  {
   "cell_type": "code",
   "execution_count": 44,
   "metadata": {},
   "outputs": [],
   "source": [
    "import pandas as pd\n",
    "import plotly.express as px\n",
    "import matplotlib.pyplot as plt\n",
    "from datetime import datetime"
   ]
  },
  {
   "cell_type": "code",
   "execution_count": 105,
   "metadata": {},
   "outputs": [],
   "source": [
    "df = pd.read_csv(\"C:/Users/vidis/OneDrive/Desktop/Summer2022/Project Work/non_agg_meterid.csv\", sep=',')\n",
    "df = df.drop(['meter_id', 'spot_price_no_vat', 'amount_no_vat','amount_with_vat','vat_percent','ediel_product_code','kwh_fee_no_vat' ], axis=1)\n",
    "\n",
    "df['timeslot'] = pd.to_datetime(df['timeslot'], utc=True)\n",
    "df.set_index('timeslot', inplace=True, drop=True)"
   ]
  },
  {
   "cell_type": "code",
   "execution_count": 106,
   "metadata": {},
   "outputs": [
    {
     "data": {
      "text/html": [
       "<div>\n",
       "<style scoped>\n",
       "    .dataframe tbody tr th:only-of-type {\n",
       "        vertical-align: middle;\n",
       "    }\n",
       "\n",
       "    .dataframe tbody tr th {\n",
       "        vertical-align: top;\n",
       "    }\n",
       "\n",
       "    .dataframe thead th {\n",
       "        text-align: right;\n",
       "    }\n",
       "</style>\n",
       "<table border=\"1\" class=\"dataframe\">\n",
       "  <thead>\n",
       "    <tr style=\"text-align: right;\">\n",
       "      <th></th>\n",
       "    </tr>\n",
       "    <tr>\n",
       "      <th>timeslot</th>\n",
       "    </tr>\n",
       "  </thead>\n",
       "  <tbody>\n",
       "    <tr>\n",
       "      <th>2016-09-03 22:00:00+00:00</th>\n",
       "    </tr>\n",
       "    <tr>\n",
       "      <th>2016-09-03 23:00:00+00:00</th>\n",
       "    </tr>\n",
       "    <tr>\n",
       "      <th>2016-09-04 00:00:00+00:00</th>\n",
       "    </tr>\n",
       "    <tr>\n",
       "      <th>2016-09-04 01:00:00+00:00</th>\n",
       "    </tr>\n",
       "    <tr>\n",
       "      <th>2016-09-04 02:00:00+00:00</th>\n",
       "    </tr>\n",
       "    <tr>\n",
       "      <th>...</th>\n",
       "    </tr>\n",
       "    <tr>\n",
       "      <th>2019-05-14 17:00:00+00:00</th>\n",
       "    </tr>\n",
       "    <tr>\n",
       "      <th>2019-05-14 18:00:00+00:00</th>\n",
       "    </tr>\n",
       "    <tr>\n",
       "      <th>2019-05-14 19:00:00+00:00</th>\n",
       "    </tr>\n",
       "    <tr>\n",
       "      <th>2019-05-14 20:00:00+00:00</th>\n",
       "    </tr>\n",
       "    <tr>\n",
       "      <th>2019-05-14 21:00:00+00:00</th>\n",
       "    </tr>\n",
       "  </tbody>\n",
       "</table>\n",
       "<p>23592 rows × 0 columns</p>\n",
       "</div>"
      ],
      "text/plain": [
       "Empty DataFrame\n",
       "Columns: []\n",
       "Index: [2016-09-03 22:00:00+00:00, 2016-09-03 23:00:00+00:00, 2016-09-04 00:00:00+00:00, 2016-09-04 01:00:00+00:00, 2016-09-04 02:00:00+00:00, 2016-09-04 03:00:00+00:00, 2016-09-04 04:00:00+00:00, 2016-09-04 05:00:00+00:00, 2016-09-04 06:00:00+00:00, 2016-09-04 07:00:00+00:00, 2016-09-04 08:00:00+00:00, 2016-09-04 09:00:00+00:00, 2016-09-04 10:00:00+00:00, 2016-09-04 11:00:00+00:00, 2016-09-04 12:00:00+00:00, 2016-09-04 13:00:00+00:00, 2016-09-04 14:00:00+00:00, 2016-09-04 15:00:00+00:00, 2016-09-04 16:00:00+00:00, 2016-09-04 17:00:00+00:00, 2016-09-04 18:00:00+00:00, 2016-09-04 19:00:00+00:00, 2016-09-04 20:00:00+00:00, 2016-09-04 21:00:00+00:00, 2016-09-04 22:00:00+00:00, 2016-09-04 23:00:00+00:00, 2016-09-05 00:00:00+00:00, 2016-09-05 01:00:00+00:00, 2016-09-05 02:00:00+00:00, 2016-09-05 03:00:00+00:00, 2016-09-05 04:00:00+00:00, 2016-09-05 05:00:00+00:00, 2016-09-05 06:00:00+00:00, 2016-09-05 07:00:00+00:00, 2016-09-05 08:00:00+00:00, 2016-09-05 09:00:00+00:00, 2016-09-05 10:00:00+00:00, 2016-09-05 11:00:00+00:00, 2016-09-05 12:00:00+00:00, 2016-09-05 13:00:00+00:00, 2016-09-05 14:00:00+00:00, 2016-09-05 15:00:00+00:00, 2016-09-05 16:00:00+00:00, 2016-09-05 17:00:00+00:00, 2016-09-05 18:00:00+00:00, 2016-09-05 19:00:00+00:00, 2016-09-05 20:00:00+00:00, 2016-09-05 21:00:00+00:00, 2016-09-05 22:00:00+00:00, 2016-09-05 23:00:00+00:00, 2016-09-06 00:00:00+00:00, 2016-09-06 01:00:00+00:00, 2016-09-06 02:00:00+00:00, 2016-09-06 03:00:00+00:00, 2016-09-06 04:00:00+00:00, 2016-09-06 05:00:00+00:00, 2016-09-06 06:00:00+00:00, 2016-09-06 07:00:00+00:00, 2016-09-06 08:00:00+00:00, 2016-09-06 09:00:00+00:00, 2016-09-06 10:00:00+00:00, 2016-09-06 11:00:00+00:00, 2016-09-06 12:00:00+00:00, 2016-09-06 13:00:00+00:00, 2016-09-06 14:00:00+00:00, 2016-09-06 15:00:00+00:00, 2016-09-06 16:00:00+00:00, 2016-09-06 17:00:00+00:00, 2016-09-06 18:00:00+00:00, 2016-09-06 19:00:00+00:00, 2016-09-06 20:00:00+00:00, 2016-09-06 21:00:00+00:00, 2016-09-06 22:00:00+00:00, 2016-09-06 23:00:00+00:00, 2016-09-07 00:00:00+00:00, 2016-09-07 01:00:00+00:00, 2016-09-07 02:00:00+00:00, 2016-09-07 03:00:00+00:00, 2016-09-07 04:00:00+00:00, 2016-09-07 05:00:00+00:00, 2016-09-07 06:00:00+00:00, 2016-09-07 07:00:00+00:00, 2016-09-07 08:00:00+00:00, 2016-09-07 09:00:00+00:00, 2016-09-07 10:00:00+00:00, 2016-09-07 11:00:00+00:00, 2016-09-07 12:00:00+00:00, 2016-09-07 13:00:00+00:00, 2016-09-07 14:00:00+00:00, 2016-09-07 15:00:00+00:00, 2016-09-07 16:00:00+00:00, 2016-09-07 17:00:00+00:00, 2016-09-07 18:00:00+00:00, 2016-09-07 19:00:00+00:00, 2016-09-07 20:00:00+00:00, 2016-09-07 21:00:00+00:00, 2016-09-07 22:00:00+00:00, 2016-09-07 23:00:00+00:00, 2016-09-08 00:00:00+00:00, 2016-09-08 01:00:00+00:00, ...]\n",
       "\n",
       "[23592 rows x 0 columns]"
      ]
     },
     "execution_count": 106,
     "metadata": {},
     "output_type": "execute_result"
    }
   ],
   "source": [
    "pf = pd.DataFrame({'timeslot': []})\n",
    "pf['timeslot'] = pd.date_range(start=\"2016-09-03 22:00:00+0000\", end=\"2019-05-14 21:00:00+0000\", freq='H')\n",
    "pf.set_index('timeslot')"
   ]
  },
  {
   "cell_type": "code",
   "execution_count": 113,
   "metadata": {},
   "outputs": [
    {
     "data": {
      "text/html": [
       "<div>\n",
       "<style scoped>\n",
       "    .dataframe tbody tr th:only-of-type {\n",
       "        vertical-align: middle;\n",
       "    }\n",
       "\n",
       "    .dataframe tbody tr th {\n",
       "        vertical-align: top;\n",
       "    }\n",
       "\n",
       "    .dataframe thead th {\n",
       "        text-align: right;\n",
       "    }\n",
       "</style>\n",
       "<table border=\"1\" class=\"dataframe\">\n",
       "  <thead>\n",
       "    <tr style=\"text-align: right;\">\n",
       "      <th></th>\n",
       "      <th>type</th>\n",
       "      <th>num_kwh</th>\n",
       "    </tr>\n",
       "    <tr>\n",
       "      <th>timeslot</th>\n",
       "      <th></th>\n",
       "      <th></th>\n",
       "    </tr>\n",
       "  </thead>\n",
       "  <tbody>\n",
       "    <tr>\n",
       "      <th>2016-09-03 22:00:00+00:00</th>\n",
       "      <td>elcert</td>\n",
       "      <td>0.000</td>\n",
       "    </tr>\n",
       "    <tr>\n",
       "      <th>2016-09-03 22:00:00+00:00</th>\n",
       "      <td>consumption</td>\n",
       "      <td>0.000</td>\n",
       "    </tr>\n",
       "    <tr>\n",
       "      <th>2016-09-03 23:00:00+00:00</th>\n",
       "      <td>elcert</td>\n",
       "      <td>1.000</td>\n",
       "    </tr>\n",
       "    <tr>\n",
       "      <th>2016-09-03 23:00:00+00:00</th>\n",
       "      <td>consumption</td>\n",
       "      <td>1.000</td>\n",
       "    </tr>\n",
       "    <tr>\n",
       "      <th>2016-09-04 00:00:00+00:00</th>\n",
       "      <td>elcert</td>\n",
       "      <td>1.000</td>\n",
       "    </tr>\n",
       "    <tr>\n",
       "      <th>...</th>\n",
       "      <td>...</td>\n",
       "      <td>...</td>\n",
       "    </tr>\n",
       "    <tr>\n",
       "      <th>2019-05-14 19:00:00+00:00</th>\n",
       "      <td>production</td>\n",
       "      <td>0.000</td>\n",
       "    </tr>\n",
       "    <tr>\n",
       "      <th>2019-05-14 20:00:00+00:00</th>\n",
       "      <td>consumption</td>\n",
       "      <td>3.311</td>\n",
       "    </tr>\n",
       "    <tr>\n",
       "      <th>2019-05-14 20:00:00+00:00</th>\n",
       "      <td>production</td>\n",
       "      <td>0.000</td>\n",
       "    </tr>\n",
       "    <tr>\n",
       "      <th>2019-05-14 21:00:00+00:00</th>\n",
       "      <td>consumption</td>\n",
       "      <td>2.197</td>\n",
       "    </tr>\n",
       "    <tr>\n",
       "      <th>2019-05-14 21:00:00+00:00</th>\n",
       "      <td>production</td>\n",
       "      <td>0.000</td>\n",
       "    </tr>\n",
       "  </tbody>\n",
       "</table>\n",
       "<p>63931 rows × 2 columns</p>\n",
       "</div>"
      ],
      "text/plain": [
       "                                  type  num_kwh\n",
       "timeslot                                       \n",
       "2016-09-03 22:00:00+00:00       elcert    0.000\n",
       "2016-09-03 22:00:00+00:00  consumption    0.000\n",
       "2016-09-03 23:00:00+00:00       elcert    1.000\n",
       "2016-09-03 23:00:00+00:00  consumption    1.000\n",
       "2016-09-04 00:00:00+00:00       elcert    1.000\n",
       "...                                ...      ...\n",
       "2019-05-14 19:00:00+00:00   production    0.000\n",
       "2019-05-14 20:00:00+00:00  consumption    3.311\n",
       "2019-05-14 20:00:00+00:00   production    0.000\n",
       "2019-05-14 21:00:00+00:00  consumption    2.197\n",
       "2019-05-14 21:00:00+00:00   production    0.000\n",
       "\n",
       "[63931 rows x 2 columns]"
      ]
     },
     "execution_count": 113,
     "metadata": {},
     "output_type": "execute_result"
    }
   ],
   "source": [
    "hf = pd.merge(pf, df, on='timeslot',how='left')\n",
    "hf.set_index('timeslot', inplace=True, drop=True)\n",
    "hf"
   ]
  },
  {
   "cell_type": "code",
   "execution_count": 120,
   "metadata": {},
   "outputs": [],
   "source": [
    "hf_prod = hf[hf['type'] == 'production']\n",
    "hf_cons = hf[hf['type'] == 'consumption']"
   ]
  },
  {
   "cell_type": "code",
   "execution_count": 123,
   "metadata": {},
   "outputs": [],
   "source": [
    "hf_prod.to_csv(r'C:\\Users\\vidis\\OneDrive\\Desktop\\Summer2022\\Project Work\\prod.csv')\n",
    "hf_cons.to_csv(r'C:\\Users\\vidis\\OneDrive\\Desktop\\Summer2022\\Project Work\\cons.csv')"
   ]
  },
  {
   "cell_type": "code",
   "execution_count": null,
   "metadata": {},
   "outputs": [],
   "source": [
    "result = seasonal_decompose(hf_prod[''], model='multiplicable', period=12)"
   ]
  }
 ],
 "metadata": {
  "kernelspec": {
   "display_name": "Python 3",
   "language": "python",
   "name": "python3"
  },
  "language_info": {
   "codemirror_mode": {
    "name": "ipython",
    "version": 3
   },
   "file_extension": ".py",
   "mimetype": "text/x-python",
   "name": "python",
   "nbconvert_exporter": "python",
   "pygments_lexer": "ipython3",
   "version": "3.7.6"
  }
 },
 "nbformat": 4,
 "nbformat_minor": 4
}
