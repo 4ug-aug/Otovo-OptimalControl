{
 "cells": [
  {
   "cell_type": "code",
   "execution_count": 43,
   "metadata": {},
   "outputs": [
    {
     "name": "stdout",
     "output_type": "stream",
     "text": [
      "load_dataset - Filepath: /Users/augusttollerup/Documents/SEM4/Fagprojekt/Data/agg-cleaned-largest-meter-id.csv\n",
      "Loaded dataset to Pandas DataFrame\n"
     ]
    }
   ],
   "source": [
    "# Load Data\n",
    "from load_data import load_dataset\n",
    "import pandas as pd\n",
    "\n",
    "# fp = \"/Users/augusttollerup/Documents/SEM4/Fagprojekt/Data/agg-meter-ids.csv\"\n",
    "fp = \"/Users/augusttollerup/Documents/SEM4/Fagprojekt/Data/agg-cleaned-largest-meter-id.csv\"\n",
    "\n",
    "df = load_dataset(fp, type=\"pandas\", sep=\",\")\n",
    "\n",
    "df = df[[\"meter_id\", \"timeslot\", \"type\"]]"
   ]
  },
  {
   "cell_type": "code",
   "execution_count": 76,
   "metadata": {},
   "outputs": [],
   "source": [
    "df_prod = df[df[\"type\"] == \"production\"]\n",
    "df_prod.reset_index(drop=True, inplace=True)"
   ]
  },
  {
   "cell_type": "code",
   "execution_count": 60,
   "metadata": {},
   "outputs": [],
   "source": [
    "# Get index for timeslot = 01-01-2018 00:01:00\n",
    "\n",
    "def create_ideal_index(index_start, index_end):\n",
    "    new_index = []\n",
    "    # Find hours between index_start and index_end\n",
    "    hours = (pd.to_datetime(index_end) - pd.to_datetime(index_start)).total_seconds() // 3600\n",
    "    # Create list of hourly datetime index_start to datetime index_end\n",
    "    for i in range(0, int(hours)):\n",
    "        new_index.append(\n",
    "            pd.to_datetime(\n",
    "                index_start) + pd.Timedelta(i, unit=\"h\")\n",
    "        )\n",
    "    # Convert new_index to string\n",
    "    new_index = [str(x).replace(\"02:00\", \"02\") for x in new_index]\n",
    "    return new_index\n",
    "\n"
   ]
  },
  {
   "cell_type": "code",
   "execution_count": 13,
   "metadata": {},
   "outputs": [],
   "source": [
    "import numpy as np\n",
    "import matplotlib.pyplot as plt\n",
    "def plot_missing_dates_on_timeline(start, end, missing, title = \"Missing timeslots\"):\n",
    "    \"\"\"Plot missing dates on timeline\n",
    "\n",
    "    Args:\n",
    "        min (datetime): start date on timeline\n",
    "        max (datetime): end date on timeline\n",
    "        missing (list): list of missing dates in the interval\n",
    "        title (str, optional): Plot title. Defaults to \"Missing timeslots\".\n",
    "    \"\"\"\n",
    "    \n",
    "    # Plot missing timeslot values \n",
    "    # Inspired by https://matplotlib.org/3.5.1/gallery/lines_bars_and_markers/timeline.html\n",
    "\n",
    "    # Choose some nice levels\n",
    "    levels = np.tile([-5, 5, -3, 3, -1, 1],\n",
    "                    int(np.ceil(len(missing)/6)))[:len(missing)]\n",
    "\n",
    "    # Create figure and plot a stem plot with the date\n",
    "    fig, ax = plt.subplots(figsize=(8.8, 4), constrained_layout=True)\n",
    "    ax.set(title=title)\n",
    "\n",
    "    ax.vlines(missing, 0, levels, color=\"tab:red\")  # The vertical stems.\n",
    "    ax.plot(missing, np.zeros_like(missing), \"-o\",\n",
    "            color=\"k\", markerfacecolor=\"w\")  # Baseline and markers on it.\n",
    "\n",
    "    # remove y axis and spines\n",
    "    ax.yaxis.set_visible(False)\n",
    "    ax.spines[[\"left\", \"top\", \"right\"]].set_visible(False)\n",
    "\n",
    "    # Set x-axis interval\n",
    "    ax.set_xlim(start, end)\n",
    "\n",
    "    ax.margins(y=0.1)\n",
    "    plt.show()"
   ]
  },
  {
   "cell_type": "code",
   "execution_count": 47,
   "metadata": {},
   "outputs": [
    {
     "name": "stdout",
     "output_type": "stream",
     "text": [
      "1\n"
     ]
    }
   ],
   "source": [
    "# Get unique meter_ids\n",
    "meter_ids_unique = df.meter_id.unique()\n",
    "print(len(meter_ids_unique))"
   ]
  },
  {
   "cell_type": "code",
   "execution_count": 69,
   "metadata": {},
   "outputs": [
    {
     "name": "stdout",
     "output_type": "stream",
     "text": [
      "23591.0\n",
      "2016-09-04 00:00:00+02 2019-05-14 23:00:00+02\n",
      "Meter_id:  28ba7f57-6e83-4341-8078-232c1639e4e3  Coverage:  0.5215548302318681 ,  0  out of  1\n"
     ]
    }
   ],
   "source": [
    "# Loop through meter_ids and calculate yearly coverage\n",
    "full_coverage_meter_ids = []\n",
    "\n",
    "df_loop = df\n",
    "\n",
    "df_coverages = pd.DataFrame(columns=[\"meter_id\", \"year_coverage\"])\n",
    "\n",
    "for idx, meter_id in enumerate(meter_ids_unique):\n",
    "    dat = sorted(df_loop[df_loop[\"meter_id\"] == meter_id][\"timeslot\"].values)\n",
    "\n",
    "    # Get first and last timeslot\n",
    "    first_timeslot = dat[0]\n",
    "    last_timeslot = dat[-1]\n",
    "    new_index = create_ideal_index(first_timeslot, last_timeslot)\n",
    "\n",
    "    print(dat[0], dat[-1])\n",
    "\n",
    "    overlap = list(set(dat) & set(new_index))\n",
    "    missing = list(set(new_index) - set(dat))\n",
    "    # print(len(overlap), len(missing))\n",
    "    \n",
    "    # plot_missing_dates_on_timeline(pd.to_datetime(first_timeslot), pd.to_datetime(last_timeslot), pd.to_datetime(missing))\n",
    "    \n",
    "    # Calculate coverage\n",
    "    coverage = len(overlap) / len(new_index)\n",
    "    print(\"Meter_id: \", meter_id, \" Coverage: \", coverage, \", \", idx, \" out of \", len(meter_ids_unique))\n",
    "    df_coverages.loc[idx] = [meter_id, coverage]\n"
   ]
  },
  {
   "cell_type": "code",
   "execution_count": 67,
   "metadata": {},
   "outputs": [
    {
     "name": "stdout",
     "output_type": "stream",
     "text": [
      "23568\n"
     ]
    }
   ],
   "source": [
    "# Print unique timeslots\n",
    "print(len(df_prod[\"timeslot\"].unique()))"
   ]
  },
  {
   "cell_type": "code",
   "execution_count": 49,
   "metadata": {},
   "outputs": [
    {
     "name": "stdout",
     "output_type": "stream",
     "text": [
      "                               meter_id  year_coverage\n",
      "0  28ba7f57-6e83-4341-8078-232c1639e4e3       0.572374\n"
     ]
    }
   ],
   "source": [
    "df_coverages = df_coverages.sort_values(by=\"year_coverage\", ascending=False)\n",
    "print(df_coverages.head())"
   ]
  },
  {
   "cell_type": "code",
   "execution_count": 35,
   "metadata": {},
   "outputs": [],
   "source": [
    "# Save to csv\n",
    "df_coverages.to_csv(\"year_coverage.csv\", index=False)"
   ]
  },
  {
   "cell_type": "code",
   "execution_count": 50,
   "metadata": {},
   "outputs": [],
   "source": [
    "# Find 10 meter_ids with highest coverage\n",
    "df_coverages_10 = df_coverages.head(10)"
   ]
  },
  {
   "cell_type": "code",
   "execution_count": 72,
   "metadata": {},
   "outputs": [
    {
     "name": "stdout",
     "output_type": "stream",
     "text": [
      "28ba7f57-6e83-4341-8078-232c1639e4e3\n",
      "23591.0\n",
      "2017-12-16 13:00:00+02\n"
     ]
    },
    {
     "data": {
      "image/png": "[encoded data removed]",
      "text/plain": [
       "<Figure size 633.6x288 with 1 Axes>"
      ]
     },
     "metadata": {
      "needs_background": "light"
     },
     "output_type": "display_data"
    }
   ],
   "source": [
    "for meter_id in df_coverages_10[\"meter_id\"]:\n",
    "    print(meter_id)\n",
    "    dat = sorted(df_loop[df_loop[\"meter_id\"] == meter_id][\"timeslot\"].values)\n",
    "    first_timeslot = dat[0]\n",
    "    last_timeslot = dat[-1]\n",
    "    new_index = create_ideal_index(first_timeslot, last_timeslot)\n",
    "    overlap = list(set(dat) & set(new_index))\n",
    "    missing = list(set(new_index) - set(dat))\n",
    "    print(missing[0])\n",
    "    plot_missing_dates_on_timeline(pd.to_datetime(first_timeslot), pd.to_datetime(last_timeslot), pd.to_datetime(missing))"
   ]
  },
  {
   "cell_type": "code",
   "execution_count": 79,
   "metadata": {},
   "outputs": [
    {
     "name": "stdout",
     "output_type": "stream",
     "text": [
      "2017-09-04 05:00:00+02\n",
      "<class 'str'>\n"
     ]
    }
   ],
   "source": [
    "# Find 2017-12-16 13:00:00+02 in timeslot\n",
    "# print(df_prod[df_prod[\"timeslot\"] == \"2017-12-16 13:00:00+02\"])\n",
    "print(df_prod[\"timeslot\"].iloc[0])\n",
    "print(type(df_prod[\"timeslot\"].iloc[0]))"
   ]
  }
 ],
 "metadata": {
  "interpreter": {
   "hash": "528ab2b825a4efd34bdd13622bbc356c85ce5334aacc4ee2e2c553fd26a47110"
  },
  "kernelspec": {
   "display_name": "Python 3.8.5 ('otovo': venv)",
   "language": "python",
   "name": "python3"
  },
  "language_info": {
   "codemirror_mode": {
    "name": "ipython",
    "version": 3
   },
   "file_extension": ".py",
   "mimetype": "text/x-python",
   "name": "python",
   "nbconvert_exporter": "python",
   "pygments_lexer": "ipython3",
   "version": "3.8.5"
  },
  "orig_nbformat": 4
 },
 "nbformat": 4,
 "nbformat_minor": 2
}
