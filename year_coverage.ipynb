{
 "cells": [
  {
   "cell_type": "code",
   "execution_count": 33,
   "metadata": {},
   "outputs": [],
   "source": [
    "# imports\n",
    "from load_data import load_dataset\n",
    "import pandas as pd\n",
    "import numpy as np\n",
    "import matplotlib.pyplot as plt\n",
    "import json\n",
    "from pprint import pprint\n",
    "from math import isnan\n"
   ]
  },
  {
   "cell_type": "code",
   "execution_count": 4,
   "metadata": {},
   "outputs": [
    {
     "name": "stdout",
     "output_type": "stream",
     "text": [
      "load_dataset - Filepath: /Users/augusttollerup/Documents/SEM4/Fagprojekt/Data/agg-cleaned.csv\n",
      "Loaded dataset to Pandas DataFrame\n",
      "Index(['meter_id', 'type', 'timeslot', 'num_kwh', 'spot_price_no_vat',\n",
      "       'amount_no_vat', 'amount_with_vat', 'vat_percent', 'ediel_product_code',\n",
      "       'kwh_fee_no_vat'],\n",
      "      dtype='object')\n"
     ]
    }
   ],
   "source": [
    "# Load Data\n",
    "fp = \"/Users/augusttollerup/Documents/SEM4/Fagprojekt/Data/agg-cleaned.csv\"\n",
    "\n",
    "df = load_dataset(fp, type=\"pandas\", sep=\",\")\n",
    "print(df.columns)"
   ]
  },
  {
   "cell_type": "code",
   "execution_count": 5,
   "metadata": {},
   "outputs": [],
   "source": [
    "df_prod = df[df[\"type\"] == \"production\"]\n",
    "df_prod.reset_index(drop=True, inplace=True)\n",
    "\n",
    "df_cons = df[df[\"type\"] == \"consumption\"]\n",
    "df_cons.reset_index(drop=True, inplace=True)"
   ]
  },
  {
   "cell_type": "code",
   "execution_count": null,
   "metadata": {},
   "outputs": [],
   "source": [
    "# Print unique timeslots\n",
    "print(\"Timeslots in entire dataset: \",len(df[\"timeslot\"]))\n",
    "print(\"Timeslots in production: \",len(df_prod[\"timeslot\"]))\n",
    "print(\"Timeslots in consumption: \",len(df_cons[\"timeslot\"]))"
   ]
  },
  {
   "cell_type": "code",
   "execution_count": null,
   "metadata": {},
   "outputs": [],
   "source": [
    "# Get index for timeslot = 01-01-2018 00:01:00\n",
    "\n",
    "def create_ideal_index(index_start, index_end):\n",
    "    new_index = pd.date_range(start = index_start, end = index_end, freq = \"1H\")\n",
    "    # Convert new_index to string\n",
    "    new_index = [str(x) for x in new_index]\n",
    "    return new_index\n"
   ]
  },
  {
   "cell_type": "code",
   "execution_count": null,
   "metadata": {},
   "outputs": [],
   "source": [
    "def plot_missing_dates_on_timeline(start, end, missing, title = \"Missing timeslots\"):\n",
    "    \"\"\"Plot missing dates on timeline\n",
    "\n",
    "    Args:\n",
    "        min (datetime): start date on timeline\n",
    "        max (datetime): end date on timeline\n",
    "        missing (list): list of missing dates in the interval\n",
    "        title (str, optional): Plot title. Defaults to \"Missing timeslots\".\n",
    "    \"\"\"\n",
    "    \n",
    "    # Plot missing timeslot values \n",
    "    # Inspired by https://matplotlib.org/3.5.1/gallery/lines_bars_and_markers/timeline.html\n",
    "\n",
    "    # Choose some nice levels\n",
    "    levels = np.tile([-5, 5, -3, 3, -1, 1],\n",
    "                    int(np.ceil(len(missing)/6)))[:len(missing)]\n",
    "\n",
    "    # Create figure and plot a stem plot with the date\n",
    "    fig, ax = plt.subplots(figsize=(8.8, 4), constrained_layout=True)\n",
    "    ax.set(title=title)\n",
    "\n",
    "    ax.vlines(missing, 0, levels, color=\"tab:red\")  # The vertical stems.\n",
    "    ax.plot(missing, np.zeros_like(missing), \"-o\",\n",
    "            color=\"k\", markerfacecolor=\"w\")  # Baseline and markers on it.\n",
    "\n",
    "    # remove y axis and spines\n",
    "    ax.yaxis.set_visible(False)\n",
    "    ax.spines[[\"left\", \"top\", \"right\"]].set_visible(False)\n",
    "\n",
    "    # Set x-axis interval\n",
    "    ax.set_xlim(start, end)\n",
    "\n",
    "    ax.margins(y=0.1)\n",
    "    plt.show()"
   ]
  },
  {
   "cell_type": "code",
   "execution_count": null,
   "metadata": {},
   "outputs": [],
   "source": [
    "def plot_missing_timeslots(start, end, ideal, missing, title = \"Missing timeslots\"):\n",
    "    first_timeslot = start\n",
    "    last_timeslot = end\n",
    "\n",
    "    # Set first and last element of ideal to x_labels\n",
    "    x_labels = missing.copy()\n",
    "    x_labels[0] = first_timeslot\n",
    "    x_labels[-1] = last_timeslot\n",
    "\n",
    "    # plot dot on horisontal line for ideal timeslots\n",
    "    plt.rcParams[\"figure.figsize\"] = (22,3)\n",
    "    plt.plot(ideal, [0] * len(ideal), \"-o\", markerfacecolor=\"none\", markeredgecolor=\"black\", markersize=1)\n",
    "    # Show only first and last x-axis label\n",
    "    # Plot vertical line for missing timeslots with red dot\n",
    "    plt.vlines(missing, 0, 1, color=\"red\", linewidth=1, label=\"Missing\", alpha=0.5, linestyle=\"--\")\n",
    "    # Rotate x-axis labels\n",
    "    plt.xticks([first_timeslot] + missing + [last_timeslot], rotation=90)\n",
    "    plt.legend()\n",
    "    plt.title(title)\n",
    "    plt.show()"
   ]
  },
  {
   "cell_type": "code",
   "execution_count": null,
   "metadata": {},
   "outputs": [],
   "source": [
    "# Get unique meter_ids\n",
    "meter_ids_unique = df_prod.meter_id.unique()\n",
    "print(len(meter_ids_unique))"
   ]
  },
  {
   "cell_type": "code",
   "execution_count": null,
   "metadata": {},
   "outputs": [],
   "source": [
    "# Fix timeslot\n",
    "def fix_timeslot(timeslot):\n",
    "    # Pandas convert +01:00 to +02:00\n",
    "    timeslot = pd.to_datetime(timeslot)\n",
    "    timeslot = timeslot.tz_convert(tz = \"UTC\")\n",
    "    # Convert to string\n",
    "    timeslot = str(timeslot)\n",
    "    \n",
    "    return timeslot"
   ]
  },
  {
   "cell_type": "code",
   "execution_count": null,
   "metadata": {},
   "outputs": [],
   "source": [
    "# Loop through meter_ids and calculate yearly coverage\n",
    "full_coverage_meter_ids = []\n",
    "\n",
    "# Define dataset to use\n",
    "df_loop = df_cons\n",
    "\n",
    "df_coverages = pd.DataFrame(columns=[\"meter_id\", \"year_coverage\", \"first_timeslot\", \"last_timeslot\"])\n",
    "\n",
    "for idx, meter_id in enumerate(meter_ids_unique):\n",
    "    timeslots_for_meter = sorted(df_loop[df_loop[\"meter_id\"] == meter_id][\"timeslot\"].values)\n",
    "\n",
    "    # Convert timeslot to UTC\n",
    "    timeslots_for_meter = [pd.to_datetime(x).tz_convert(\"UTC\").strftime(\"%Y-%m-%d %H:%M:%S+00:00\") for x in timeslots_for_meter]\n",
    "\n",
    "    # Get first and last timeslot\n",
    "    first_timeslot = fix_timeslot(str(timeslots_for_meter[0]))\n",
    "    last_timeslot = fix_timeslot(str(timeslots_for_meter[-1]))\n",
    "\n",
    "    # print(\"First timeslot: \", first_timeslot)\n",
    "    # print(\"Last timeslot: \", last_timeslot)\n",
    "\n",
    "    new_index = create_ideal_index(first_timeslot, last_timeslot)\n",
    "\n",
    "    # print(\"New index first timeslot: \", new_index[0])\n",
    "    # print(\"New index last timeslot: \", new_index[-1])\n",
    "\n",
    "    overlap = list(set(timeslots_for_meter) & set(new_index))\n",
    "    missing = list(set(new_index) - set(timeslots_for_meter))\n",
    "    \n",
    "    # Calculate overlap percentage\n",
    " \n",
    "    coverage = len(overlap) / len(new_index) * 100\n",
    "    print(\"Meter_id: \", meter_id, \" Coverage: \", coverage, \", \", idx, \" out of \", len(meter_ids_unique))\n",
    "    df_coverages.loc[idx] = [meter_id, coverage, first_timeslot, last_timeslot]\n"
   ]
  },
  {
   "cell_type": "code",
   "execution_count": null,
   "metadata": {},
   "outputs": [],
   "source": [
    "df_coverages = df_coverages.sort_values(by=\"year_coverage\", ascending=False)\n",
    "print(df_coverages.head())"
   ]
  },
  {
   "cell_type": "code",
   "execution_count": null,
   "metadata": {},
   "outputs": [],
   "source": [
    "# Save to csv\n",
    "df_coverages.to_csv(\"year_coverage_consumption.csv\", index=False)"
   ]
  },
  {
   "cell_type": "code",
   "execution_count": 2,
   "metadata": {},
   "outputs": [
    {
     "ename": "FileNotFoundError",
     "evalue": "[Errno 2] No such file or directory: 'year_coverage_consumption.csv'",
     "output_type": "error",
     "traceback": [
      "\u001b[0;31m---------------------------------------------------------------------------\u001b[0m",
      "\u001b[0;31mFileNotFoundError\u001b[0m                         Traceback (most recent call last)",
      "\u001b[1;32m/Users/augusttollerup/Documents/SEM4/Fagprojekt/Otovo-OptimalControl/year_coverage.ipynb Cell 13'\u001b[0m in \u001b[0;36m<cell line: 2>\u001b[0;34m()\u001b[0m\n\u001b[1;32m      <a href='vscode-notebook-cell:/Users/augusttollerup/Documents/SEM4/Fagprojekt/Otovo-OptimalControl/year_coverage.ipynb#ch0000012?line=0'>1</a>\u001b[0m \u001b[39m# Load csv\u001b[39;00m\n\u001b[0;32m----> <a href='vscode-notebook-cell:/Users/augusttollerup/Documents/SEM4/Fagprojekt/Otovo-OptimalControl/year_coverage.ipynb#ch0000012?line=1'>2</a>\u001b[0m df_coverages_cons \u001b[39m=\u001b[39m pd\u001b[39m.\u001b[39;49mread_csv(\u001b[39m\"\u001b[39;49m\u001b[39myear_coverage_consumption.csv\u001b[39;49m\u001b[39m\"\u001b[39;49m)\n\u001b[1;32m      <a href='vscode-notebook-cell:/Users/augusttollerup/Documents/SEM4/Fagprojekt/Otovo-OptimalControl/year_coverage.ipynb#ch0000012?line=2'>3</a>\u001b[0m df_coverages_prod \u001b[39m=\u001b[39m pd\u001b[39m.\u001b[39mread_csv(\u001b[39m\"\u001b[39m\u001b[39myear_coverage_production.csv\u001b[39m\u001b[39m\"\u001b[39m)\n\u001b[1;32m      <a href='vscode-notebook-cell:/Users/augusttollerup/Documents/SEM4/Fagprojekt/Otovo-OptimalControl/year_coverage.ipynb#ch0000012?line=3'>4</a>\u001b[0m \u001b[39m# Round to 2 decimal\u001b[39;00m\n",
      "File \u001b[0;32m~/Documents/SEM4/Fagprojekt/Otovo-OptimalControl/otovo/lib/python3.8/site-packages/pandas/util/_decorators.py:311\u001b[0m, in \u001b[0;36mdeprecate_nonkeyword_arguments.<locals>.decorate.<locals>.wrapper\u001b[0;34m(*args, **kwargs)\u001b[0m\n\u001b[1;32m    <a href='file:///Users/augusttollerup/Documents/SEM4/Fagprojekt/Otovo-OptimalControl/otovo/lib/python3.8/site-packages/pandas/util/_decorators.py?line=304'>305</a>\u001b[0m \u001b[39mif\u001b[39;00m \u001b[39mlen\u001b[39m(args) \u001b[39m>\u001b[39m num_allow_args:\n\u001b[1;32m    <a href='file:///Users/augusttollerup/Documents/SEM4/Fagprojekt/Otovo-OptimalControl/otovo/lib/python3.8/site-packages/pandas/util/_decorators.py?line=305'>306</a>\u001b[0m     warnings\u001b[39m.\u001b[39mwarn(\n\u001b[1;32m    <a href='file:///Users/augusttollerup/Documents/SEM4/Fagprojekt/Otovo-OptimalControl/otovo/lib/python3.8/site-packages/pandas/util/_decorators.py?line=306'>307</a>\u001b[0m         msg\u001b[39m.\u001b[39mformat(arguments\u001b[39m=\u001b[39marguments),\n\u001b[1;32m    <a href='file:///Users/augusttollerup/Documents/SEM4/Fagprojekt/Otovo-OptimalControl/otovo/lib/python3.8/site-packages/pandas/util/_decorators.py?line=307'>308</a>\u001b[0m         \u001b[39mFutureWarning\u001b[39;00m,\n\u001b[1;32m    <a href='file:///Users/augusttollerup/Documents/SEM4/Fagprojekt/Otovo-OptimalControl/otovo/lib/python3.8/site-packages/pandas/util/_decorators.py?line=308'>309</a>\u001b[0m         stacklevel\u001b[39m=\u001b[39mstacklevel,\n\u001b[1;32m    <a href='file:///Users/augusttollerup/Documents/SEM4/Fagprojekt/Otovo-OptimalControl/otovo/lib/python3.8/site-packages/pandas/util/_decorators.py?line=309'>310</a>\u001b[0m     )\n\u001b[0;32m--> <a href='file:///Users/augusttollerup/Documents/SEM4/Fagprojekt/Otovo-OptimalControl/otovo/lib/python3.8/site-packages/pandas/util/_decorators.py?line=310'>311</a>\u001b[0m \u001b[39mreturn\u001b[39;00m func(\u001b[39m*\u001b[39;49margs, \u001b[39m*\u001b[39;49m\u001b[39m*\u001b[39;49mkwargs)\n",
      "File \u001b[0;32m~/Documents/SEM4/Fagprojekt/Otovo-OptimalControl/otovo/lib/python3.8/site-packages/pandas/io/parsers/readers.py:680\u001b[0m, in \u001b[0;36mread_csv\u001b[0;34m(filepath_or_buffer, sep, delimiter, header, names, index_col, usecols, squeeze, prefix, mangle_dupe_cols, dtype, engine, converters, true_values, false_values, skipinitialspace, skiprows, skipfooter, nrows, na_values, keep_default_na, na_filter, verbose, skip_blank_lines, parse_dates, infer_datetime_format, keep_date_col, date_parser, dayfirst, cache_dates, iterator, chunksize, compression, thousands, decimal, lineterminator, quotechar, quoting, doublequote, escapechar, comment, encoding, encoding_errors, dialect, error_bad_lines, warn_bad_lines, on_bad_lines, delim_whitespace, low_memory, memory_map, float_precision, storage_options)\u001b[0m\n\u001b[1;32m    <a href='file:///Users/augusttollerup/Documents/SEM4/Fagprojekt/Otovo-OptimalControl/otovo/lib/python3.8/site-packages/pandas/io/parsers/readers.py?line=664'>665</a>\u001b[0m kwds_defaults \u001b[39m=\u001b[39m _refine_defaults_read(\n\u001b[1;32m    <a href='file:///Users/augusttollerup/Documents/SEM4/Fagprojekt/Otovo-OptimalControl/otovo/lib/python3.8/site-packages/pandas/io/parsers/readers.py?line=665'>666</a>\u001b[0m     dialect,\n\u001b[1;32m    <a href='file:///Users/augusttollerup/Documents/SEM4/Fagprojekt/Otovo-OptimalControl/otovo/lib/python3.8/site-packages/pandas/io/parsers/readers.py?line=666'>667</a>\u001b[0m     delimiter,\n\u001b[0;32m   (...)\u001b[0m\n\u001b[1;32m    <a href='file:///Users/augusttollerup/Documents/SEM4/Fagprojekt/Otovo-OptimalControl/otovo/lib/python3.8/site-packages/pandas/io/parsers/readers.py?line=675'>676</a>\u001b[0m     defaults\u001b[39m=\u001b[39m{\u001b[39m\"\u001b[39m\u001b[39mdelimiter\u001b[39m\u001b[39m\"\u001b[39m: \u001b[39m\"\u001b[39m\u001b[39m,\u001b[39m\u001b[39m\"\u001b[39m},\n\u001b[1;32m    <a href='file:///Users/augusttollerup/Documents/SEM4/Fagprojekt/Otovo-OptimalControl/otovo/lib/python3.8/site-packages/pandas/io/parsers/readers.py?line=676'>677</a>\u001b[0m )\n\u001b[1;32m    <a href='file:///Users/augusttollerup/Documents/SEM4/Fagprojekt/Otovo-OptimalControl/otovo/lib/python3.8/site-packages/pandas/io/parsers/readers.py?line=677'>678</a>\u001b[0m kwds\u001b[39m.\u001b[39mupdate(kwds_defaults)\n\u001b[0;32m--> <a href='file:///Users/augusttollerup/Documents/SEM4/Fagprojekt/Otovo-OptimalControl/otovo/lib/python3.8/site-packages/pandas/io/parsers/readers.py?line=679'>680</a>\u001b[0m \u001b[39mreturn\u001b[39;00m _read(filepath_or_buffer, kwds)\n",
      "File \u001b[0;32m~/Documents/SEM4/Fagprojekt/Otovo-OptimalControl/otovo/lib/python3.8/site-packages/pandas/io/parsers/readers.py:575\u001b[0m, in \u001b[0;36m_read\u001b[0;34m(filepath_or_buffer, kwds)\u001b[0m\n\u001b[1;32m    <a href='file:///Users/augusttollerup/Documents/SEM4/Fagprojekt/Otovo-OptimalControl/otovo/lib/python3.8/site-packages/pandas/io/parsers/readers.py?line=571'>572</a>\u001b[0m _validate_names(kwds\u001b[39m.\u001b[39mget(\u001b[39m\"\u001b[39m\u001b[39mnames\u001b[39m\u001b[39m\"\u001b[39m, \u001b[39mNone\u001b[39;00m))\n\u001b[1;32m    <a href='file:///Users/augusttollerup/Documents/SEM4/Fagprojekt/Otovo-OptimalControl/otovo/lib/python3.8/site-packages/pandas/io/parsers/readers.py?line=573'>574</a>\u001b[0m \u001b[39m# Create the parser.\u001b[39;00m\n\u001b[0;32m--> <a href='file:///Users/augusttollerup/Documents/SEM4/Fagprojekt/Otovo-OptimalControl/otovo/lib/python3.8/site-packages/pandas/io/parsers/readers.py?line=574'>575</a>\u001b[0m parser \u001b[39m=\u001b[39m TextFileReader(filepath_or_buffer, \u001b[39m*\u001b[39;49m\u001b[39m*\u001b[39;49mkwds)\n\u001b[1;32m    <a href='file:///Users/augusttollerup/Documents/SEM4/Fagprojekt/Otovo-OptimalControl/otovo/lib/python3.8/site-packages/pandas/io/parsers/readers.py?line=576'>577</a>\u001b[0m \u001b[39mif\u001b[39;00m chunksize \u001b[39mor\u001b[39;00m iterator:\n\u001b[1;32m    <a href='file:///Users/augusttollerup/Documents/SEM4/Fagprojekt/Otovo-OptimalControl/otovo/lib/python3.8/site-packages/pandas/io/parsers/readers.py?line=577'>578</a>\u001b[0m     \u001b[39mreturn\u001b[39;00m parser\n",
      "File \u001b[0;32m~/Documents/SEM4/Fagprojekt/Otovo-OptimalControl/otovo/lib/python3.8/site-packages/pandas/io/parsers/readers.py:933\u001b[0m, in \u001b[0;36mTextFileReader.__init__\u001b[0;34m(self, f, engine, **kwds)\u001b[0m\n\u001b[1;32m    <a href='file:///Users/augusttollerup/Documents/SEM4/Fagprojekt/Otovo-OptimalControl/otovo/lib/python3.8/site-packages/pandas/io/parsers/readers.py?line=929'>930</a>\u001b[0m     \u001b[39mself\u001b[39m\u001b[39m.\u001b[39moptions[\u001b[39m\"\u001b[39m\u001b[39mhas_index_names\u001b[39m\u001b[39m\"\u001b[39m] \u001b[39m=\u001b[39m kwds[\u001b[39m\"\u001b[39m\u001b[39mhas_index_names\u001b[39m\u001b[39m\"\u001b[39m]\n\u001b[1;32m    <a href='file:///Users/augusttollerup/Documents/SEM4/Fagprojekt/Otovo-OptimalControl/otovo/lib/python3.8/site-packages/pandas/io/parsers/readers.py?line=931'>932</a>\u001b[0m \u001b[39mself\u001b[39m\u001b[39m.\u001b[39mhandles: IOHandles \u001b[39m|\u001b[39m \u001b[39mNone\u001b[39;00m \u001b[39m=\u001b[39m \u001b[39mNone\u001b[39;00m\n\u001b[0;32m--> <a href='file:///Users/augusttollerup/Documents/SEM4/Fagprojekt/Otovo-OptimalControl/otovo/lib/python3.8/site-packages/pandas/io/parsers/readers.py?line=932'>933</a>\u001b[0m \u001b[39mself\u001b[39m\u001b[39m.\u001b[39m_engine \u001b[39m=\u001b[39m \u001b[39mself\u001b[39;49m\u001b[39m.\u001b[39;49m_make_engine(f, \u001b[39mself\u001b[39;49m\u001b[39m.\u001b[39;49mengine)\n",
      "File \u001b[0;32m~/Documents/SEM4/Fagprojekt/Otovo-OptimalControl/otovo/lib/python3.8/site-packages/pandas/io/parsers/readers.py:1217\u001b[0m, in \u001b[0;36mTextFileReader._make_engine\u001b[0;34m(self, f, engine)\u001b[0m\n\u001b[1;32m   <a href='file:///Users/augusttollerup/Documents/SEM4/Fagprojekt/Otovo-OptimalControl/otovo/lib/python3.8/site-packages/pandas/io/parsers/readers.py?line=1212'>1213</a>\u001b[0m     mode \u001b[39m=\u001b[39m \u001b[39m\"\u001b[39m\u001b[39mrb\u001b[39m\u001b[39m\"\u001b[39m\n\u001b[1;32m   <a href='file:///Users/augusttollerup/Documents/SEM4/Fagprojekt/Otovo-OptimalControl/otovo/lib/python3.8/site-packages/pandas/io/parsers/readers.py?line=1213'>1214</a>\u001b[0m \u001b[39m# error: No overload variant of \"get_handle\" matches argument types\u001b[39;00m\n\u001b[1;32m   <a href='file:///Users/augusttollerup/Documents/SEM4/Fagprojekt/Otovo-OptimalControl/otovo/lib/python3.8/site-packages/pandas/io/parsers/readers.py?line=1214'>1215</a>\u001b[0m \u001b[39m# \"Union[str, PathLike[str], ReadCsvBuffer[bytes], ReadCsvBuffer[str]]\"\u001b[39;00m\n\u001b[1;32m   <a href='file:///Users/augusttollerup/Documents/SEM4/Fagprojekt/Otovo-OptimalControl/otovo/lib/python3.8/site-packages/pandas/io/parsers/readers.py?line=1215'>1216</a>\u001b[0m \u001b[39m# , \"str\", \"bool\", \"Any\", \"Any\", \"Any\", \"Any\", \"Any\"\u001b[39;00m\n\u001b[0;32m-> <a href='file:///Users/augusttollerup/Documents/SEM4/Fagprojekt/Otovo-OptimalControl/otovo/lib/python3.8/site-packages/pandas/io/parsers/readers.py?line=1216'>1217</a>\u001b[0m \u001b[39mself\u001b[39m\u001b[39m.\u001b[39mhandles \u001b[39m=\u001b[39m get_handle(  \u001b[39m# type: ignore[call-overload]\u001b[39;49;00m\n\u001b[1;32m   <a href='file:///Users/augusttollerup/Documents/SEM4/Fagprojekt/Otovo-OptimalControl/otovo/lib/python3.8/site-packages/pandas/io/parsers/readers.py?line=1217'>1218</a>\u001b[0m     f,\n\u001b[1;32m   <a href='file:///Users/augusttollerup/Documents/SEM4/Fagprojekt/Otovo-OptimalControl/otovo/lib/python3.8/site-packages/pandas/io/parsers/readers.py?line=1218'>1219</a>\u001b[0m     mode,\n\u001b[1;32m   <a href='file:///Users/augusttollerup/Documents/SEM4/Fagprojekt/Otovo-OptimalControl/otovo/lib/python3.8/site-packages/pandas/io/parsers/readers.py?line=1219'>1220</a>\u001b[0m     encoding\u001b[39m=\u001b[39;49m\u001b[39mself\u001b[39;49m\u001b[39m.\u001b[39;49moptions\u001b[39m.\u001b[39;49mget(\u001b[39m\"\u001b[39;49m\u001b[39mencoding\u001b[39;49m\u001b[39m\"\u001b[39;49m, \u001b[39mNone\u001b[39;49;00m),\n\u001b[1;32m   <a href='file:///Users/augusttollerup/Documents/SEM4/Fagprojekt/Otovo-OptimalControl/otovo/lib/python3.8/site-packages/pandas/io/parsers/readers.py?line=1220'>1221</a>\u001b[0m     compression\u001b[39m=\u001b[39;49m\u001b[39mself\u001b[39;49m\u001b[39m.\u001b[39;49moptions\u001b[39m.\u001b[39;49mget(\u001b[39m\"\u001b[39;49m\u001b[39mcompression\u001b[39;49m\u001b[39m\"\u001b[39;49m, \u001b[39mNone\u001b[39;49;00m),\n\u001b[1;32m   <a href='file:///Users/augusttollerup/Documents/SEM4/Fagprojekt/Otovo-OptimalControl/otovo/lib/python3.8/site-packages/pandas/io/parsers/readers.py?line=1221'>1222</a>\u001b[0m     memory_map\u001b[39m=\u001b[39;49m\u001b[39mself\u001b[39;49m\u001b[39m.\u001b[39;49moptions\u001b[39m.\u001b[39;49mget(\u001b[39m\"\u001b[39;49m\u001b[39mmemory_map\u001b[39;49m\u001b[39m\"\u001b[39;49m, \u001b[39mFalse\u001b[39;49;00m),\n\u001b[1;32m   <a href='file:///Users/augusttollerup/Documents/SEM4/Fagprojekt/Otovo-OptimalControl/otovo/lib/python3.8/site-packages/pandas/io/parsers/readers.py?line=1222'>1223</a>\u001b[0m     is_text\u001b[39m=\u001b[39;49mis_text,\n\u001b[1;32m   <a href='file:///Users/augusttollerup/Documents/SEM4/Fagprojekt/Otovo-OptimalControl/otovo/lib/python3.8/site-packages/pandas/io/parsers/readers.py?line=1223'>1224</a>\u001b[0m     errors\u001b[39m=\u001b[39;49m\u001b[39mself\u001b[39;49m\u001b[39m.\u001b[39;49moptions\u001b[39m.\u001b[39;49mget(\u001b[39m\"\u001b[39;49m\u001b[39mencoding_errors\u001b[39;49m\u001b[39m\"\u001b[39;49m, \u001b[39m\"\u001b[39;49m\u001b[39mstrict\u001b[39;49m\u001b[39m\"\u001b[39;49m),\n\u001b[1;32m   <a href='file:///Users/augusttollerup/Documents/SEM4/Fagprojekt/Otovo-OptimalControl/otovo/lib/python3.8/site-packages/pandas/io/parsers/readers.py?line=1224'>1225</a>\u001b[0m     storage_options\u001b[39m=\u001b[39;49m\u001b[39mself\u001b[39;49m\u001b[39m.\u001b[39;49moptions\u001b[39m.\u001b[39;49mget(\u001b[39m\"\u001b[39;49m\u001b[39mstorage_options\u001b[39;49m\u001b[39m\"\u001b[39;49m, \u001b[39mNone\u001b[39;49;00m),\n\u001b[1;32m   <a href='file:///Users/augusttollerup/Documents/SEM4/Fagprojekt/Otovo-OptimalControl/otovo/lib/python3.8/site-packages/pandas/io/parsers/readers.py?line=1225'>1226</a>\u001b[0m )\n\u001b[1;32m   <a href='file:///Users/augusttollerup/Documents/SEM4/Fagprojekt/Otovo-OptimalControl/otovo/lib/python3.8/site-packages/pandas/io/parsers/readers.py?line=1226'>1227</a>\u001b[0m \u001b[39massert\u001b[39;00m \u001b[39mself\u001b[39m\u001b[39m.\u001b[39mhandles \u001b[39mis\u001b[39;00m \u001b[39mnot\u001b[39;00m \u001b[39mNone\u001b[39;00m\n\u001b[1;32m   <a href='file:///Users/augusttollerup/Documents/SEM4/Fagprojekt/Otovo-OptimalControl/otovo/lib/python3.8/site-packages/pandas/io/parsers/readers.py?line=1227'>1228</a>\u001b[0m f \u001b[39m=\u001b[39m \u001b[39mself\u001b[39m\u001b[39m.\u001b[39mhandles\u001b[39m.\u001b[39mhandle\n",
      "File \u001b[0;32m~/Documents/SEM4/Fagprojekt/Otovo-OptimalControl/otovo/lib/python3.8/site-packages/pandas/io/common.py:789\u001b[0m, in \u001b[0;36mget_handle\u001b[0;34m(path_or_buf, mode, encoding, compression, memory_map, is_text, errors, storage_options)\u001b[0m\n\u001b[1;32m    <a href='file:///Users/augusttollerup/Documents/SEM4/Fagprojekt/Otovo-OptimalControl/otovo/lib/python3.8/site-packages/pandas/io/common.py?line=783'>784</a>\u001b[0m \u001b[39melif\u001b[39;00m \u001b[39misinstance\u001b[39m(handle, \u001b[39mstr\u001b[39m):\n\u001b[1;32m    <a href='file:///Users/augusttollerup/Documents/SEM4/Fagprojekt/Otovo-OptimalControl/otovo/lib/python3.8/site-packages/pandas/io/common.py?line=784'>785</a>\u001b[0m     \u001b[39m# Check whether the filename is to be opened in binary mode.\u001b[39;00m\n\u001b[1;32m    <a href='file:///Users/augusttollerup/Documents/SEM4/Fagprojekt/Otovo-OptimalControl/otovo/lib/python3.8/site-packages/pandas/io/common.py?line=785'>786</a>\u001b[0m     \u001b[39m# Binary mode does not support 'encoding' and 'newline'.\u001b[39;00m\n\u001b[1;32m    <a href='file:///Users/augusttollerup/Documents/SEM4/Fagprojekt/Otovo-OptimalControl/otovo/lib/python3.8/site-packages/pandas/io/common.py?line=786'>787</a>\u001b[0m     \u001b[39mif\u001b[39;00m ioargs\u001b[39m.\u001b[39mencoding \u001b[39mand\u001b[39;00m \u001b[39m\"\u001b[39m\u001b[39mb\u001b[39m\u001b[39m\"\u001b[39m \u001b[39mnot\u001b[39;00m \u001b[39min\u001b[39;00m ioargs\u001b[39m.\u001b[39mmode:\n\u001b[1;32m    <a href='file:///Users/augusttollerup/Documents/SEM4/Fagprojekt/Otovo-OptimalControl/otovo/lib/python3.8/site-packages/pandas/io/common.py?line=787'>788</a>\u001b[0m         \u001b[39m# Encoding\u001b[39;00m\n\u001b[0;32m--> <a href='file:///Users/augusttollerup/Documents/SEM4/Fagprojekt/Otovo-OptimalControl/otovo/lib/python3.8/site-packages/pandas/io/common.py?line=788'>789</a>\u001b[0m         handle \u001b[39m=\u001b[39m \u001b[39mopen\u001b[39;49m(\n\u001b[1;32m    <a href='file:///Users/augusttollerup/Documents/SEM4/Fagprojekt/Otovo-OptimalControl/otovo/lib/python3.8/site-packages/pandas/io/common.py?line=789'>790</a>\u001b[0m             handle,\n\u001b[1;32m    <a href='file:///Users/augusttollerup/Documents/SEM4/Fagprojekt/Otovo-OptimalControl/otovo/lib/python3.8/site-packages/pandas/io/common.py?line=790'>791</a>\u001b[0m             ioargs\u001b[39m.\u001b[39;49mmode,\n\u001b[1;32m    <a href='file:///Users/augusttollerup/Documents/SEM4/Fagprojekt/Otovo-OptimalControl/otovo/lib/python3.8/site-packages/pandas/io/common.py?line=791'>792</a>\u001b[0m             encoding\u001b[39m=\u001b[39;49mioargs\u001b[39m.\u001b[39;49mencoding,\n\u001b[1;32m    <a href='file:///Users/augusttollerup/Documents/SEM4/Fagprojekt/Otovo-OptimalControl/otovo/lib/python3.8/site-packages/pandas/io/common.py?line=792'>793</a>\u001b[0m             errors\u001b[39m=\u001b[39;49merrors,\n\u001b[1;32m    <a href='file:///Users/augusttollerup/Documents/SEM4/Fagprojekt/Otovo-OptimalControl/otovo/lib/python3.8/site-packages/pandas/io/common.py?line=793'>794</a>\u001b[0m             newline\u001b[39m=\u001b[39;49m\u001b[39m\"\u001b[39;49m\u001b[39m\"\u001b[39;49m,\n\u001b[1;32m    <a href='file:///Users/augusttollerup/Documents/SEM4/Fagprojekt/Otovo-OptimalControl/otovo/lib/python3.8/site-packages/pandas/io/common.py?line=794'>795</a>\u001b[0m         )\n\u001b[1;32m    <a href='file:///Users/augusttollerup/Documents/SEM4/Fagprojekt/Otovo-OptimalControl/otovo/lib/python3.8/site-packages/pandas/io/common.py?line=795'>796</a>\u001b[0m     \u001b[39melse\u001b[39;00m:\n\u001b[1;32m    <a href='file:///Users/augusttollerup/Documents/SEM4/Fagprojekt/Otovo-OptimalControl/otovo/lib/python3.8/site-packages/pandas/io/common.py?line=796'>797</a>\u001b[0m         \u001b[39m# Binary mode\u001b[39;00m\n\u001b[1;32m    <a href='file:///Users/augusttollerup/Documents/SEM4/Fagprojekt/Otovo-OptimalControl/otovo/lib/python3.8/site-packages/pandas/io/common.py?line=797'>798</a>\u001b[0m         handle \u001b[39m=\u001b[39m \u001b[39mopen\u001b[39m(handle, ioargs\u001b[39m.\u001b[39mmode)\n",
      "\u001b[0;31mFileNotFoundError\u001b[0m: [Errno 2] No such file or directory: 'year_coverage_consumption.csv'"
     ]
    }
   ],
   "source": [
    "# Load csv\n",
    "df_coverages_cons = pd.read_csv(\"year_coverage_consumption.csv\")\n",
    "df_coverages_prod = pd.read_csv(\"year_coverage_production.csv\")\n",
    "# Round to 2 decimal\n",
    "df_coverages_cons[\"year_coverage\"] = df_coverages_cons[\"year_coverage\"].round(2)\n",
    "df_coverages_prod[\"year_coverage\"] = df_coverages_prod[\"year_coverage\"].round(2)\n",
    "\n",
    "# Plot  \n",
    "# Set plot background color\n",
    "plt.style.use('seaborn')\n",
    "plt.hist([df_coverages_cons[\"year_coverage\"],df_coverages_prod[\"year_coverage\"]], bins=30, label=[\"Consumption\", \"Production\"],\n",
    "                    color=[\"tab:blue\", \"tab:orange\"])\n",
    "plt.ylabel(\"Count\")\n",
    "plt.xlabel(\"Coverage\")\n",
    "plt.legend([\"Consumption\", \"Production\"])\n",
    "plt.show()\n"
   ]
  },
  {
   "cell_type": "code",
   "execution_count": null,
   "metadata": {},
   "outputs": [],
   "source": [
    "# Find meters with 100% coverage\n",
    "df_coverages_cons_100 = df_coverages_cons[df_coverages_cons[\"year_coverage\"] == 100]\n",
    "df_coverages_prod_100 = df_coverages_prod[df_coverages_prod[\"year_coverage\"] == 100]\n",
    "\n",
    "print(r\"Consumption Meters with 100% coverage: \", len(df_coverages_cons_100), \" out of \", len(df_coverages_cons))\n",
    "print(r\"Production Meters with 100% coverage: \", len(df_coverages_prod_100), \" out of \", len(df_coverages_prod))"
   ]
  },
  {
   "cell_type": "code",
   "execution_count": null,
   "metadata": {},
   "outputs": [],
   "source": [
    "# For each meter caluclate the time between first and last timeslot\n",
    "df_coverages_cons_100[\"time_between_first_last\"] = pd.to_datetime(df_coverages_cons_100[\"last_timeslot\"]) - pd.to_datetime(df_coverages_cons_100[\"first_timeslot\"])\n",
    "df_coverages_prod_100[\"time_between_first_last\"] = pd.to_datetime(df_coverages_prod_100[\"last_timeslot\"]) - pd.to_datetime(df_coverages_prod_100[\"first_timeslot\"])\n",
    "\n",
    "# Convert time_between_first_last to years\n",
    "df_coverages_cons_100[\"time_between_first_last\"] = df_coverages_cons_100[\"time_between_first_last\"] / pd.Timedelta(days=365)\n",
    "df_coverages_prod_100[\"time_between_first_last\"] = df_coverages_prod_100[\"time_between_first_last\"] / pd.Timedelta(days=365)\n",
    "\n",
    "# Return only meters with more than 1 year of coverage\n",
    "df_coverages_cons_100 = df_coverages_cons_100.loc[df_coverages_cons_100[\"time_between_first_last\"] > 1]\n",
    "df_coverages_prod_100 = df_coverages_prod_100.loc[df_coverages_prod_100[\"time_between_first_last\"] > 1]\n",
    "\n",
    "print(r\"Consumption Meters with more than 1 year of 100% coverage: \", len(df_coverages_cons_100), \" out of \", len(df_coverages_cons))\n",
    "print(r\"Production Meters with more than 1 year of 100% coverage: \", len(df_coverages_prod_100), \" out of \", len(df_coverages_prod))\n",
    "\n",
    "# Save to csv\n",
    "df_coverages_cons_100.to_csv(\"year_coverage_consumption_100.csv\", index=False)\n",
    "df_coverages_prod_100.to_csv(\"year_coverage_production_100.csv\", index=False)"
   ]
  },
  {
   "cell_type": "code",
   "execution_count": null,
   "metadata": {},
   "outputs": [],
   "source": [
    "# Create dataset for production with meters with 100% coverage\n",
    "new_df = pd.DataFrame(columns=[\"meter_id\", \"timeslot\", \"num_kwh\"])\n",
    "\n",
    "df_coverages_cons_100 = pd.read_csv(\"year_coverage_consumption_100.csv\")\n",
    "df_coverages_prod_100 = pd.read_csv(\"year_coverage_production_100.csv\")\n",
    "\n",
    "df_loop = df_cons\n",
    "\n",
    "for meter_id in df_coverages_cons_100[\"meter_id\"]:\n",
    "    # Find all timeslots for meter in df\n",
    "    print(\"Meter_id: \", meter_id)\n",
    "    timeslots_for_meter = df_loop[df_loop[\"meter_id\"] == meter_id][[\"meter_id\", \"timeslot\", \"num_kwh\"]]\n",
    "    # Skip if num_kwh > 40 is found\n",
    "    if not timeslots_for_meter.loc[timeslots_for_meter[\"num_kwh\"] > 40].empty:\n",
    "        continue\n",
    "\n",
    "    # Convert timeslot to UTC\n",
    "    timeslots_for_meter[\"timeslot\"] = [pd.to_datetime(x).tz_convert(\"UTC\").strftime(\"%Y-%m-%d %H:%M:%S+00:00\") for x in timeslots_for_meter[\"timeslot\"]]\n",
    "    # Add to prod_new_df\n",
    "    new_df = pd.concat([new_df,timeslots_for_meter], ignore_index = True)\n",
    "\n",
    "# Save prod_new_df to csv\n",
    "new_df.to_csv(\"consumption_100_data.csv\", index=False)\n"
   ]
  },
  {
   "cell_type": "code",
   "execution_count": null,
   "metadata": {},
   "outputs": [],
   "source": [
    "new_df = pd.DataFrame(columns=[\"meter_id\", \"timeslot\", \"num_kwh\"])\n",
    "\n",
    "df_loop = df_prod\n",
    "\n",
    "for meter_id in df_coverages_prod_100[\"meter_id\"]:\n",
    "    # Find all timeslots for meter in df\n",
    "    print(\"Meter_id: \", meter_id)\n",
    "    timeslots_for_meter = df_loop[df_loop[\"meter_id\"] == meter_id][[\"meter_id\", \"timeslot\", \"num_kwh\"]]\n",
    "    # Skip if num_kwh > 40 is found\n",
    "    if not timeslots_for_meter.loc[timeslots_for_meter[\"num_kwh\"] > 40].empty:\n",
    "        continue\n",
    "\n",
    "    # Convert timeslot to UTC\n",
    "    timeslots_for_meter[\"timeslot\"] = [pd.to_datetime(x).tz_convert(\"UTC\").strftime(\"%Y-%m-%d %H:%M:%S+00:00\") for x in timeslots_for_meter[\"timeslot\"]]\n",
    "    # Add to prod_new_df\n",
    "    new_df = pd.concat([new_df,timeslots_for_meter], ignore_index = True)\n",
    "\n",
    "# Save prod_new_df to csv\n",
    "new_df.to_csv(\"production_100_data.csv\", index=False)"
   ]
  },
  {
   "cell_type": "markdown",
   "metadata": {},
   "source": [
    "### Calculate overlap between meter-ids with 100% coverage in production and consumption"
   ]
  },
  {
   "cell_type": "code",
   "execution_count": 15,
   "metadata": {},
   "outputs": [
    {
     "name": "stdout",
     "output_type": "stream",
     "text": [
      "Amount of overlap:  90\n"
     ]
    }
   ],
   "source": [
    "# Load datasets\n",
    "df_cons_meters = pd.read_csv(\"data/year_coverage_consumption_100.csv\")[\"meter_id\"]\n",
    "df_prod_meters = pd.read_csv(\"data/year_coverage_production_100.csv\")[\"meter_id\"]\n",
    "\n",
    "# Calculate overlap\n",
    "overlap = list(set(df_cons_meters).intersection(set(df_prod_meters)))\n",
    "\n",
    "print(\"Amount of overlap: \", len(overlap))"
   ]
  },
  {
   "cell_type": "code",
   "execution_count": 38,
   "metadata": {},
   "outputs": [
    {
     "name": "stdout",
     "output_type": "stream",
     "text": [
      "Total amount:  90\n",
      "Amount of nan values in dict:  59\n",
      "Meters with isnan(x):  ['5147ccb0-82f2-472c-8115-575cff4bfe1b', 'd4effc31-6ac4-4e7a-b44e-ade092a1aaa3', '6af3a461-6b88-43e0-a014-b73c6bafa354', 'b6378e61-45d7-4eeb-ba26-be1e0f4f493b', '677a46d3-ed32-495f-814c-02d437f30f8b', 'a25560c0-6d09-4ae5-a904-c10ead513ab5', 'acbde122-0a69-40c6-a2d4-67eaaa44183e', '2de03d15-ac94-4f00-801c-a242fa414972', 'f4a8ee56-e68f-4b56-ac2d-48ca0f040203', 'd55f5ebc-7920-4b6d-a209-57743b2963d0', 'f903406b-6a8c-46f0-b609-1ddb36d511cf', 'cc455940-3eed-4275-8f74-b1182919259f', 'b508ffc9-4b89-4455-89eb-4f5574e6c524', 'b245b0f0-a1d2-4995-9b17-5176e24d9755', 'dadfd659-ebdd-40ea-83de-fd78455b702a', 'cc9a3dd0-2d67-42a1-9314-d4f665f354de', 'd75c67d4-61b3-4fb7-ac64-2322f592d2d0', 'f316d984-56e9-4029-a67b-1dd5343d6595', '7adc116d-0725-4b44-966a-a9e51f8fa3bb', '279e0e65-6353-47bc-8b20-135774ffefc6', 'ccd59abe-3f37-4dbc-abdd-adc4df00b4ec', 'd3a031cd-f118-4a5c-b00f-159d1852448a', '70027dcc-6fd5-4cea-8866-09b5796c228e', 'c1c7e415-8a38-485b-a4a6-84bf8fdee0c3', '69b40710-66ea-4fa7-a711-e846419e9d03', 'a992b53d-5c84-4d83-ae48-6ebdc0d0a432', '463ea0a3-5ad0-43d0-aa90-f95e409724d1', '6101c9f9-e2a6-4e45-9bb8-26ad91f09d3b', '60ad4a18-0ca3-48e4-8289-a2a0ee15c3bd', '92e91b33-f6c2-4594-aedd-464e383d9895', '96c6ea04-56ee-40af-b401-c646c8caa049']\n"
     ]
    }
   ],
   "source": [
    "# load json as dict\n",
    "with open('data/meters_num_panels_dict.json') as json_file:\n",
    "    data_num_panels = json.load(json_file)\n",
    "\n",
    "num_paneles_dict = {key: value for key, value in data_num_panels.items() if key in overlap}\n",
    "\n",
    "# print count of nan values in dict\n",
    "print(\"Total amount: \",len(num_paneles_dict))\n",
    "print(\"Amount of nan values in dict: \", sum(1 for x in num_paneles_dict.values() if not isnan(x)))\n",
    "# Print meters with isnan(x)\n",
    "print(\"Meters with isnan(x): \", [key for key, value in num_paneles_dict.items() if isnan(value)])\n",
    "print()\n",
    "# print meters without isnan(x)\n",
    "print(\"Meters without isnan(x): \", [key for key, value in num_paneles_dict.items() if not isnan(value)])\n"
   ]
  }
 ],
 "metadata": {
  "interpreter": {
   "hash": "528ab2b825a4efd34bdd13622bbc356c85ce5334aacc4ee2e2c553fd26a47110"
  },
  "kernelspec": {
   "display_name": "Python 3.8.5 ('otovo': venv)",
   "language": "python",
   "name": "python3"
  },
  "language_info": {
   "codemirror_mode": {
    "name": "ipython",
    "version": 3
   },
   "file_extension": ".py",
   "mimetype": "text/x-python",
   "name": "python",
   "nbconvert_exporter": "python",
   "pygments_lexer": "ipython3",
   "version": "3.8.5"
  },
  "orig_nbformat": 4
 },
 "nbformat": 4,
 "nbformat_minor": 2
}
