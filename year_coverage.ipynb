{
 "cells": [
  {
   "cell_type": "code",
   "execution_count": null,
   "metadata": {},
   "outputs": [],
   "source": [
    "# imports\n",
    "from load_data import load_dataset\n",
    "import pandas as pd\n",
    "import numpy as np\n",
    "import matplotlib.pyplot as plt\n",
    "import re\n"
   ]
  },
  {
   "cell_type": "code",
   "execution_count": null,
   "metadata": {},
   "outputs": [],
   "source": [
    "# Load Data\n",
    "fp = \"/Users/augusttollerup/Documents/SEM4/Fagprojekt/Data/agg-cleaned.csv\"\n",
    "\n",
    "df = load_dataset(fp, type=\"pandas\", sep=\",\")\n",
    "print(df.columns)"
   ]
  },
  {
   "cell_type": "code",
   "execution_count": null,
   "metadata": {},
   "outputs": [],
   "source": [
    "df_prod = df[df[\"type\"] == \"production\"]\n",
    "df_prod.reset_index(drop=True, inplace=True)\n",
    "\n",
    "df_cons = df[df[\"type\"] == \"consumption\"]\n",
    "df_cons.reset_index(drop=True, inplace=True)\n",
    "\n"
   ]
  },
  {
   "cell_type": "code",
   "execution_count": null,
   "metadata": {},
   "outputs": [],
   "source": [
    "# Print unique timeslots\n",
    "print(\"Timeslots in entire dataset: \",len(df[\"timeslot\"]))\n",
    "print(\"Timeslots in production: \",len(df_prod[\"timeslot\"]))\n",
    "print(\"Timeslots in consumption: \",len(df_cons[\"timeslot\"]))"
   ]
  },
  {
   "cell_type": "code",
   "execution_count": null,
   "metadata": {},
   "outputs": [],
   "source": [
    "# Get index for timeslot = 01-01-2018 00:01:00\n",
    "\n",
    "def create_ideal_index(index_start, index_end):\n",
    "    new_index = pd.date_range(start = index_start, end = index_end, freq = \"1H\")\n",
    "    # Convert new_index to string\n",
    "    new_index = [str(x) for x in new_index]\n",
    "    return new_index\n"
   ]
  },
  {
   "cell_type": "code",
   "execution_count": null,
   "metadata": {},
   "outputs": [],
   "source": [
    "def plot_missing_dates_on_timeline(start, end, missing, title = \"Missing timeslots\"):\n",
    "    \"\"\"Plot missing dates on timeline\n",
    "\n",
    "    Args:\n",
    "        min (datetime): start date on timeline\n",
    "        max (datetime): end date on timeline\n",
    "        missing (list): list of missing dates in the interval\n",
    "        title (str, optional): Plot title. Defaults to \"Missing timeslots\".\n",
    "    \"\"\"\n",
    "    \n",
    "    # Plot missing timeslot values \n",
    "    # Inspired by https://matplotlib.org/3.5.1/gallery/lines_bars_and_markers/timeline.html\n",
    "\n",
    "    # Choose some nice levels\n",
    "    levels = np.tile([-5, 5, -3, 3, -1, 1],\n",
    "                    int(np.ceil(len(missing)/6)))[:len(missing)]\n",
    "\n",
    "    # Create figure and plot a stem plot with the date\n",
    "    fig, ax = plt.subplots(figsize=(8.8, 4), constrained_layout=True)\n",
    "    ax.set(title=title)\n",
    "\n",
    "    ax.vlines(missing, 0, levels, color=\"tab:red\")  # The vertical stems.\n",
    "    ax.plot(missing, np.zeros_like(missing), \"-o\",\n",
    "            color=\"k\", markerfacecolor=\"w\")  # Baseline and markers on it.\n",
    "\n",
    "    # remove y axis and spines\n",
    "    ax.yaxis.set_visible(False)\n",
    "    ax.spines[[\"left\", \"top\", \"right\"]].set_visible(False)\n",
    "\n",
    "    # Set x-axis interval\n",
    "    ax.set_xlim(start, end)\n",
    "\n",
    "    ax.margins(y=0.1)\n",
    "    plt.show()"
   ]
  },
  {
   "cell_type": "code",
   "execution_count": null,
   "metadata": {},
   "outputs": [],
   "source": [
    "def plot_missing_timeslots(start, end, ideal, missing, title = \"Missing timeslots\"):\n",
    "    first_timeslot = start\n",
    "    last_timeslot = end\n",
    "\n",
    "    # Set first and last element of ideal to x_labels\n",
    "    x_labels = missing.copy()\n",
    "    x_labels[0] = first_timeslot\n",
    "    x_labels[-1] = last_timeslot\n",
    "\n",
    "    # plot dot on horisontal line for ideal timeslots\n",
    "    plt.rcParams[\"figure.figsize\"] = (22,3)\n",
    "    plt.plot(ideal, [0] * len(ideal), \"-o\", markerfacecolor=\"none\", markeredgecolor=\"black\", markersize=1)\n",
    "    # Show only first and last x-axis label\n",
    "    # Plot vertical line for missing timeslots with red dot\n",
    "    plt.vlines(missing, 0, 1, color=\"red\", linewidth=1, label=\"Missing\", alpha=0.5, linestyle=\"--\")\n",
    "    # Rotate x-axis labels\n",
    "    plt.xticks([first_timeslot] + missing + [last_timeslot], rotation=90)\n",
    "    plt.legend()\n",
    "    plt.title(title)\n",
    "    plt.show()\n",
    "\n"
   ]
  },
  {
   "cell_type": "code",
   "execution_count": null,
   "metadata": {},
   "outputs": [],
   "source": [
    "# Get unique meter_ids\n",
    "meter_ids_unique = df_prod.meter_id.unique()\n",
    "print(len(meter_ids_unique))"
   ]
  },
  {
   "cell_type": "code",
   "execution_count": null,
   "metadata": {},
   "outputs": [],
   "source": [
    "# Fix timeslot\n",
    "def fix_timeslot(timeslot):\n",
    "    # Pandas convert +01:00 to +02:00\n",
    "    timeslot = pd.to_datetime(timeslot)\n",
    "    timeslot = timeslot.tz_convert(tz = \"UTC\")\n",
    "    # Convert to string\n",
    "    timeslot = str(timeslot)\n",
    "    \n",
    "    return timeslot\n"
   ]
  },
  {
   "cell_type": "code",
   "execution_count": null,
   "metadata": {},
   "outputs": [],
   "source": [
    "# Loop through meter_ids and calculate yearly coverage\n",
    "full_coverage_meter_ids = []\n",
    "\n",
    "# Define dataset to use\n",
    "df_loop = df_cons\n",
    "\n",
    "df_coverages = pd.DataFrame(columns=[\"meter_id\", \"year_coverage\", \"first_timeslot\", \"last_timeslot\"])\n",
    "\n",
    "for idx, meter_id in enumerate(meter_ids_unique):\n",
    "    timeslots_for_meter = sorted(df_loop[df_loop[\"meter_id\"] == meter_id][\"timeslot\"].values)\n",
    "\n",
    "    # Convert timeslot to UTC\n",
    "    timeslots_for_meter = [pd.to_datetime(x).tz_convert(\"UTC\").strftime(\"%Y-%m-%d %H:%M:%S+00:00\") for x in timeslots_for_meter]\n",
    "\n",
    "    # Get first and last timeslot\n",
    "    first_timeslot = fix_timeslot(str(timeslots_for_meter[0]))\n",
    "    last_timeslot = fix_timeslot(str(timeslots_for_meter[-1]))\n",
    "\n",
    "    # print(\"First timeslot: \", first_timeslot)\n",
    "    # print(\"Last timeslot: \", last_timeslot)\n",
    "\n",
    "    new_index = create_ideal_index(first_timeslot, last_timeslot)\n",
    "\n",
    "    # print(\"New index first timeslot: \", new_index[0])\n",
    "    # print(\"New index last timeslot: \", new_index[-1])\n",
    "\n",
    "    overlap = list(set(timeslots_for_meter) & set(new_index))\n",
    "    missing = list(set(new_index) - set(timeslots_for_meter))\n",
    "    \n",
    "    # Calculate overlap percentage\n",
    " \n",
    "    coverage = len(overlap) / len(new_index) * 100\n",
    "    print(\"Meter_id: \", meter_id, \" Coverage: \", coverage, \", \", idx, \" out of \", len(meter_ids_unique))\n",
    "    df_coverages.loc[idx] = [meter_id, coverage, first_timeslot, last_timeslot]\n"
   ]
  },
  {
   "cell_type": "code",
   "execution_count": null,
   "metadata": {},
   "outputs": [],
   "source": [
    "df_coverages = df_coverages.sort_values(by=\"year_coverage\", ascending=False)\n",
    "print(df_coverages.head())"
   ]
  },
  {
   "cell_type": "code",
   "execution_count": null,
   "metadata": {},
   "outputs": [],
   "source": [
    "# Save to csv\n",
    "df_coverages.to_csv(\"year_coverage_consumption.csv\", index=False)"
   ]
  },
  {
   "cell_type": "code",
   "execution_count": 18,
   "metadata": {},
   "outputs": [
    {
     "data": {
      "image/png": "[encoded data removed]",
      "text/plain": [
       "<Figure size 576x396 with 1 Axes>"
      ]
     },
     "metadata": {},
     "output_type": "display_data"
    }
   ],
   "source": [
    "# Load csv\n",
    "df_coverages_cons = pd.read_csv(\"year_coverage_consumption.csv\")\n",
    "df_coverages_prod = pd.read_csv(\"year_coverage_production.csv\")\n",
    "# Round to 1 decimal\n",
    "df_coverages_cons[\"year_coverage\"] = df_coverages_cons[\"year_coverage\"].round(2)\n",
    "df_coverages_prod[\"year_coverage\"] = df_coverages_prod[\"year_coverage\"].round(2)\n",
    "\n",
    "# Plot  \n",
    "# Set plot background color\n",
    "plt.style.use('seaborn')\n",
    "plt.hist([df_coverages_cons[\"year_coverage\"],df_coverages_prod[\"year_coverage\"]], bins=30, label=[\"Consumption\", \"Production\"],\n",
    "                    color=[\"tab:blue\", \"tab:orange\"])\n",
    "plt.ylabel(\"Count\")\n",
    "plt.xlabel(\"Coverage\")\n",
    "plt.legend([\"Consumption\", \"Production\"])\n",
    "plt.show()\n"
   ]
  },
  {
   "cell_type": "code",
   "execution_count": 19,
   "metadata": {},
   "outputs": [
    {
     "name": "stdout",
     "output_type": "stream",
     "text": [
      "Consumption Meters with 100% coverage:  358  out of  542\n",
      "Production Meters with 100% coverage:  478  out of  542\n"
     ]
    }
   ],
   "source": [
    "# Find meters with 100% coverage\n",
    "df_coverages_cons_100 = df_coverages_cons[df_coverages_cons[\"year_coverage\"] == 100]\n",
    "df_coverages_prod_100 = df_coverages_prod[df_coverages_prod[\"year_coverage\"] == 100]\n",
    "\n",
    "print(r\"Consumption Meters with 100% coverage: \", len(df_coverages_cons_100), \" out of \", len(df_coverages_cons))\n",
    "print(r\"Production Meters with 100% coverage: \", len(df_coverages_prod_100), \" out of \", len(df_coverages_prod))"
   ]
  },
  {
   "cell_type": "code",
   "execution_count": 20,
   "metadata": {},
   "outputs": [
    {
     "name": "stdout",
     "output_type": "stream",
     "text": [
      "Consumption Meters with more than 1 year of 100% coverage:  137  out of  542\n",
      "Production Meters with more than 1 year of 100% coverage:  163  out of  542\n"
     ]
    },
    {
     "name": "stderr",
     "output_type": "stream",
     "text": [
      "/var/folders/b1/gpnk8rp50gd31snzzh0dyycr0000gn/T/ipykernel_35268/1765777603.py:2: SettingWithCopyWarning: \n",
      "A value is trying to be set on a copy of a slice from a DataFrame.\n",
      "Try using .loc[row_indexer,col_indexer] = value instead\n",
      "\n",
      "See the caveats in the documentation: https://pandas.pydata.org/pandas-docs/stable/user_guide/indexing.html#returning-a-view-versus-a-copy\n",
      "  df_coverages_cons_100[\"time_between_first_last\"] = pd.to_datetime(df_coverages_cons_100[\"last_timeslot\"]) - pd.to_datetime(df_coverages_cons_100[\"first_timeslot\"])\n",
      "/var/folders/b1/gpnk8rp50gd31snzzh0dyycr0000gn/T/ipykernel_35268/1765777603.py:3: SettingWithCopyWarning: \n",
      "A value is trying to be set on a copy of a slice from a DataFrame.\n",
      "Try using .loc[row_indexer,col_indexer] = value instead\n",
      "\n",
      "See the caveats in the documentation: https://pandas.pydata.org/pandas-docs/stable/user_guide/indexing.html#returning-a-view-versus-a-copy\n",
      "  df_coverages_prod_100[\"time_between_first_last\"] = pd.to_datetime(df_coverages_prod_100[\"last_timeslot\"]) - pd.to_datetime(df_coverages_prod_100[\"first_timeslot\"])\n",
      "/var/folders/b1/gpnk8rp50gd31snzzh0dyycr0000gn/T/ipykernel_35268/1765777603.py:6: SettingWithCopyWarning: \n",
      "A value is trying to be set on a copy of a slice from a DataFrame.\n",
      "Try using .loc[row_indexer,col_indexer] = value instead\n",
      "\n",
      "See the caveats in the documentation: https://pandas.pydata.org/pandas-docs/stable/user_guide/indexing.html#returning-a-view-versus-a-copy\n",
      "  df_coverages_cons_100[\"time_between_first_last\"] = df_coverages_cons_100[\"time_between_first_last\"] / pd.Timedelta(days=365)\n",
      "/var/folders/b1/gpnk8rp50gd31snzzh0dyycr0000gn/T/ipykernel_35268/1765777603.py:7: SettingWithCopyWarning: \n",
      "A value is trying to be set on a copy of a slice from a DataFrame.\n",
      "Try using .loc[row_indexer,col_indexer] = value instead\n",
      "\n",
      "See the caveats in the documentation: https://pandas.pydata.org/pandas-docs/stable/user_guide/indexing.html#returning-a-view-versus-a-copy\n",
      "  df_coverages_prod_100[\"time_between_first_last\"] = df_coverages_prod_100[\"time_between_first_last\"] / pd.Timedelta(days=365)\n"
     ]
    }
   ],
   "source": [
    "# For each meter caluclate the time between first and last timeslot\n",
    "df_coverages_cons_100[\"time_between_first_last\"] = pd.to_datetime(df_coverages_cons_100[\"last_timeslot\"]) - pd.to_datetime(df_coverages_cons_100[\"first_timeslot\"])\n",
    "df_coverages_prod_100[\"time_between_first_last\"] = pd.to_datetime(df_coverages_prod_100[\"last_timeslot\"]) - pd.to_datetime(df_coverages_prod_100[\"first_timeslot\"])\n",
    "\n",
    "# Convert time_between_first_last to years\n",
    "df_coverages_cons_100[\"time_between_first_last\"] = df_coverages_cons_100[\"time_between_first_last\"] / pd.Timedelta(days=365)\n",
    "df_coverages_prod_100[\"time_between_first_last\"] = df_coverages_prod_100[\"time_between_first_last\"] / pd.Timedelta(days=365)\n",
    "\n",
    "# Return only meters with more than 1 year of coverage\n",
    "df_coverages_cons_100 = df_coverages_cons_100.loc[df_coverages_cons_100[\"time_between_first_last\"] > 1]\n",
    "df_coverages_prod_100 = df_coverages_prod_100.loc[df_coverages_prod_100[\"time_between_first_last\"] > 1]\n",
    "\n",
    "print(r\"Consumption Meters with more than 1 year of 100% coverage: \", len(df_coverages_cons_100), \" out of \", len(df_coverages_cons))\n",
    "print(r\"Production Meters with more than 1 year of 100% coverage: \", len(df_coverages_prod_100), \" out of \", len(df_coverages_prod))\n",
    "\n",
    "# Save to csv\n",
    "df_coverages_cons_100.to_csv(\"year_coverage_consumption_100.csv\", index=False)\n",
    "df_coverages_prod_100.to_csv(\"year_coverage_production_100.csv\", index=False)"
   ]
  },
  {
   "cell_type": "code",
   "execution_count": 30,
   "metadata": {},
   "outputs": [
    {
     "name": "stdout",
     "output_type": "stream",
     "text": [
      "Meter_id:  0148117f-53bb-48ca-ae71-1523f099fb81\n",
      "Meter_id:  bf1f9a38-e811-4378-8810-1cb774773e2d\n",
      "Meter_id:  ffde7516-88ea-4e11-a4e5-d87fd8618288\n",
      "Meter_id:  d5230fc7-e311-4880-98ac-9148b3f8291f\n",
      "Meter_id:  cf87108a-987e-4f81-87bf-0b0f64a511bd\n",
      "Meter_id:  c1919556-abe3-4be1-a448-e7eca099a0cc\n",
      "Meter_id:  a0e14f40-a19b-4482-93c2-e000d1a84305\n",
      "Meter_id:  63ae4c40-f358-4a1e-aa17-f3c51bf76cdc\n",
      "Meter_id:  4b61aa71-7112-4f02-ab23-77d9c9305d20\n",
      "Meter_id:  311d4515-202c-43f1-815f-45b5855e1d68\n",
      "Meter_id:  c7b06116-17aa-470f-9456-682177ca850e\n",
      "Meter_id:  068e0174-077e-413f-91f0-620b7d3ee0c8\n",
      "Meter_id:  f4a8ee56-e68f-4b56-ac2d-48ca0f040203\n",
      "Meter_id:  c608a72c-956e-46cf-9ab3-10de64c002b7\n",
      "Meter_id:  96c6ea04-56ee-40af-b401-c646c8caa049\n",
      "Meter_id:  2fe83bc4-2f99-4843-b626-d6a46bf02c28\n",
      "Meter_id:  2835eec0-814a-4221-bbe7-f81f76f8703b\n",
      "Meter_id:  c319c7a2-65cc-44e6-bbaf-9d0dd39f0890\n",
      "Meter_id:  cfbbddbf-d18c-46a3-9f43-795c76fbaff3\n",
      "Meter_id:  9a3eb28c-66a9-471d-83ce-397f4ae6872a\n",
      "Meter_id:  92bf5dd3-8b13-4b7c-b7fe-5b39470fb97d\n",
      "Meter_id:  7c557023-a64e-4635-82b9-1748118e1eaa\n",
      "Meter_id:  e84a2375-a1f2-40d1-969e-a1d5288edd45\n",
      "Meter_id:  028b54e1-6594-4fca-ba0d-bfbb5f9a8b6f\n",
      "Meter_id:  447c0861-b501-4e68-9d60-14f8d268aeff\n",
      "Meter_id:  a86ef346-2a85-47d2-a70a-ddc239e54634\n",
      "Meter_id:  8fb5599d-dc6f-4a4d-849f-f7c0d8233213\n",
      "Meter_id:  87014c08-4bd2-4cd5-93ce-df61e0a46ad9\n",
      "Meter_id:  26af5d95-38ba-429e-9f9b-01ed5a4293e2\n",
      "Meter_id:  151276be-9e92-45c4-b889-1dee89e9a4a4\n",
      "Meter_id:  11d80e25-a411-4a55-90fb-220c1d2494a5\n",
      "Meter_id:  103072de-3b30-4860-b1db-59896f9b5bea\n",
      "Meter_id:  7036a1dc-d35c-4172-a1b8-95c222ada792\n",
      "Meter_id:  e681406b-fe65-4b23-9fb9-c9654fa90de7\n",
      "Meter_id:  30c2f7ef-fd70-4c6f-bff4-3f8f22fd9d33\n",
      "Meter_id:  ee1b1208-39c8-4051-b1a8-deb52524563a\n",
      "Meter_id:  09ccba3e-6859-4ad2-a2f3-267050238cec\n",
      "Meter_id:  6402472c-bba0-412b-8a60-f02753f727ed\n",
      "Meter_id:  28bbb1cf-abf0-4bf0-821e-55270df92201\n",
      "Meter_id:  857686cc-834f-4ce0-998e-cd42990a1e67\n",
      "Meter_id:  bf9b1c09-0e75-44a9-b647-301ae98d9040\n",
      "Meter_id:  84dea7eb-0232-4f4b-976b-1ab71aca13df\n",
      "Meter_id:  90f49dff-b4df-4b43-8281-0c88509027b4\n",
      "Meter_id:  07487666-fb63-4245-bf45-e414159459b0\n",
      "Meter_id:  d25659ea-1046-4a96-9233-8c74d8defb6c\n",
      "Meter_id:  e338731d-fc3a-49de-a19b-669a9589c3cf\n",
      "Meter_id:  d0e900eb-23ec-4449-8d92-4ddb4da657ee\n",
      "Meter_id:  da82cfc3-8033-421b-96b2-96c488f8db1c\n",
      "Meter_id:  d966cc98-a503-465b-a389-9dbd0101ea14\n",
      "Meter_id:  d75c67d4-61b3-4fb7-ac64-2322f592d2d0\n",
      "Meter_id:  d55f5ebc-7920-4b6d-a209-57743b2963d0\n",
      "Meter_id:  d4effc31-6ac4-4e7a-b44e-ade092a1aaa3\n",
      "Meter_id:  d3a031cd-f118-4a5c-b00f-159d1852448a\n",
      "Meter_id:  ccd59abe-3f37-4dbc-abdd-adc4df00b4ec\n",
      "Meter_id:  a992b53d-5c84-4d83-ae48-6ebdc0d0a432\n",
      "Meter_id:  cc9a3dd0-2d67-42a1-9314-d4f665f354de\n",
      "Meter_id:  c1c7e415-8a38-485b-a4a6-84bf8fdee0c3\n",
      "Meter_id:  be9ad8e9-1388-4f11-afcb-3512ff2e2c4d\n",
      "Meter_id:  b6378e61-45d7-4eeb-ba26-be1e0f4f493b\n",
      "Meter_id:  b508ffc9-4b89-4455-89eb-4f5574e6c524\n",
      "Meter_id:  b245b0f0-a1d2-4995-9b17-5176e24d9755\n",
      "Meter_id:  ad6fa395-5a41-49a5-9388-7eedc11f8e4d\n",
      "Meter_id:  acbde122-0a69-40c6-a2d4-67eaaa44183e\n",
      "Meter_id:  dadfd659-ebdd-40ea-83de-fd78455b702a\n",
      "Meter_id:  de23a040-ee81-4b17-ba3f-0ae41c47764b\n",
      "Meter_id:  e3c18c2d-30f1-432e-bbfa-ee5d0117987e\n",
      "Meter_id:  e7f1fc1b-be16-4530-8ca9-3ecd161fbcbc\n",
      "Meter_id:  4c8c1da2-f1b1-4999-b08f-584f291f9d48\n",
      "Meter_id:  463ea0a3-5ad0-43d0-aa90-f95e409724d1\n",
      "Meter_id:  2de03d15-ac94-4f00-801c-a242fa414972\n",
      "Meter_id:  2cae4c46-a1ab-4f7c-9ef8-f1d614ee1335\n",
      "Meter_id:  2257af11-ac47-45db-adf7-682860167171\n",
      "Meter_id:  19199ed2-6d13-4e17-b37f-cce5c04d9199\n",
      "Meter_id:  108dfe71-2684-4b3c-ab5a-a518eb7df362\n",
      "Meter_id:  0e2fc21f-27a5-404d-9f05-6ef131003ab1\n",
      "Meter_id:  f903406b-6a8c-46f0-b609-1ddb36d511cf\n",
      "Meter_id:  f316d984-56e9-4029-a67b-1dd5343d6595\n",
      "Meter_id:  e9a811d8-d6bb-4b6d-ae16-eb004ceb0f58\n",
      "Meter_id:  e882f9a7-f1de-4419-9869-7339be303281\n",
      "Meter_id:  aa84af00-93a0-4e28-b171-6830645c300d\n",
      "Meter_id:  a25560c0-6d09-4ae5-a904-c10ead513ab5\n",
      "Meter_id:  60ad4a18-0ca3-48e4-8289-a2a0ee15c3bd\n",
      "Meter_id:  3007c044-42c5-4210-b477-61893c906a71\n",
      "Meter_id:  518bcc78-d0b0-4645-9301-e67186c5ffbf\n",
      "Meter_id:  51656824-1e89-41d3-9fc9-7495c2acb8cb\n",
      "Meter_id:  5147ccb0-82f2-472c-8115-575cff4bfe1b\n",
      "Meter_id:  3da378d5-ad2e-490c-ae82-b41f0812b4e3\n",
      "Meter_id:  3ba47f27-33e8-4764-a390-d33ca37d625f\n",
      "Meter_id:  375789f5-ba34-42e8-8ac3-f3216b2a05ff\n",
      "Meter_id:  3445fd05-781e-4e2b-a4d5-c9a47e0e944e\n",
      "Meter_id:  31e7bc53-152c-4bbe-ace3-de6a6206f717\n",
      "Meter_id:  31857ce7-bec6-45d6-af73-39f41e036892\n",
      "Meter_id:  9bb49f36-c772-4843-b660-ac87ea9b6d74\n",
      "Meter_id:  29964561-4c45-4dbb-bc91-4a4e35fa9d67\n",
      "Meter_id:  28ba7f57-6e83-4341-8078-232c1639e4e3\n",
      "Meter_id:  279e0e65-6353-47bc-8b20-135774ffefc6\n",
      "Meter_id:  271bb7eb-b649-4f64-8796-0763bf7395ba\n",
      "Meter_id:  1909a290-a734-4425-92a7-0c2ee9ee8a65\n",
      "Meter_id:  0fbb107a-9d54-42bf-b203-6cbb4f6fbc4f\n",
      "Meter_id:  0d54d233-15a2-4253-a38a-69f325dc3ee7\n",
      "Meter_id:  6101c9f9-e2a6-4e45-9bb8-26ad91f09d3b\n",
      "Meter_id:  623480f3-072b-4b89-af25-6ba7fb01f5d7\n",
      "Meter_id:  9ae6ca33-0bc6-4417-a0ff-7cd82f51dd2f\n",
      "Meter_id:  99bdcc88-4d66-4aab-a252-db0bc41d2a1f\n",
      "Meter_id:  91e3cbd4-5eba-4c7e-97a5-f65b2cb9c345\n",
      "Meter_id:  8730416b-7e81-405c-9a8c-fb4e8524971c\n",
      "Meter_id:  84511883-86e8-4486-a405-35a6b6fbec56\n",
      "Meter_id:  81c2f221-3be4-4f07-aec2-88f135fd7869\n",
      "Meter_id:  7fc12916-7b6e-4960-9ec7-a54195d9be4d\n",
      "Meter_id:  7e7e1b9d-535e-46d9-bb48-871406feb444\n",
      "Meter_id:  7df04550-e85c-4729-8cf5-cceb633b6567\n",
      "Meter_id:  7adc116d-0725-4b44-966a-a9e51f8fa3bb\n",
      "Meter_id:  76fe68ae-ad1d-4264-a046-f1d8296cf0ae\n",
      "Meter_id:  7674b495-1db5-43cd-867f-ca2c8326e39f\n",
      "Meter_id:  70925e64-4dbd-45b3-a106-99e57d38b5ab\n",
      "Meter_id:  70027dcc-6fd5-4cea-8866-09b5796c228e\n",
      "Meter_id:  6af3a461-6b88-43e0-a014-b73c6bafa354\n",
      "Meter_id:  69b40710-66ea-4fa7-a711-e846419e9d03\n",
      "Meter_id:  680feae1-66df-470e-bd8e-784694d0aaae\n",
      "Meter_id:  677a46d3-ed32-495f-814c-02d437f30f8b\n",
      "Meter_id:  c69eb646-2a7f-41e8-a62f-774415a3e61f\n",
      "Meter_id:  703ea69b-65c5-4bea-b0d6-9f93e6936e2b\n",
      "Meter_id:  c7bb1c2d-12d6-4916-b526-2e731936f6d8\n",
      "Meter_id:  92e91b33-f6c2-4594-aedd-464e383d9895\n",
      "Meter_id:  b8210242-80f5-44a0-9669-f2fed3f2a4b1\n",
      "Meter_id:  0ab4a607-d096-4905-96c2-637c35e424a6\n",
      "Meter_id:  26b7ecc6-d967-48e4-a225-d7ddcc4990a9\n",
      "Meter_id:  32c03cc4-01a8-4783-abfa-d41dd00897b3\n",
      "Meter_id:  e2411ce4-c466-4460-bdc8-24109b910dc5\n",
      "Meter_id:  4bf63539-d546-4976-8030-b44c399d8746\n",
      "Meter_id:  ed6b9f1c-393b-48ea-9e09-ab06d5d260bb\n",
      "Meter_id:  a4d5c9d6-188f-4958-8763-18229af4d018\n",
      "Meter_id:  f59e4432-3ce6-44ae-80f5-566dfec2fef7\n",
      "Meter_id:  0056cf1e-2bec-46d2-afa8-b2c434932480\n",
      "Meter_id:  9a84f6b0-88ee-4b4a-a144-faf84ba3893a\n",
      "Meter_id:  0316a38e-6858-4e2c-a1c5-8b3217a51ae4\n",
      "Meter_id:  cc455940-3eed-4275-8f74-b1182919259f\n"
     ]
    }
   ],
   "source": [
    "# Create dataset for production with meters with 100% coverage\n",
    "cons_new_df = pd.DataFrame(columns=[\"meter_id\", \"timeslot\", \"num_kwh\"])\n",
    "\n",
    "for meter_id in df_coverages_cons_100[\"meter_id\"]:\n",
    "    # Find all timeslots for meter in df\n",
    "    print(\"Meter_id: \", meter_id)\n",
    "    timeslots_for_meter = df[df[\"meter_id\"] == meter_id][[\"meter_id\", \"timeslot\", \"num_kwh\"]]\n",
    "    # Skip if num_kwh > 40 is found\n",
    "    if not timeslots_for_meter.loc[timeslots_for_meter[\"num_kwh\"] > 40].empty:\n",
    "        continue\n",
    "\n",
    "    # Convert timeslot to UTC\n",
    "    timeslots_for_meter[\"timeslot\"] = [pd.to_datetime(x).tz_convert(\"UTC\").strftime(\"%Y-%m-%d %H:%M:%S+00:00\") for x in timeslots_for_meter[\"timeslot\"]]\n",
    "    # Add to prod_new_df\n",
    "    cons_new_df = pd.concat([cons_new_df,timeslots_for_meter], ignore_index = True)\n",
    "\n",
    "\n",
    "# Save prod_new_df to csv\n",
    "cons_new_df.to_csv(\"production_100_data.csv\", index=False)\n"
   ]
  },
  {
   "cell_type": "code",
   "execution_count": 28,
   "metadata": {},
   "outputs": [],
   "source": [
    "# Save prod_new_df to csv\n",
    "cons_new_df.to_csv(\"production_100_data.csv\", index=False)"
   ]
  }
 ],
 "metadata": {
  "interpreter": {
   "hash": "528ab2b825a4efd34bdd13622bbc356c85ce5334aacc4ee2e2c553fd26a47110"
  },
  "kernelspec": {
   "display_name": "Python 3.8.5 ('otovo': venv)",
   "language": "python",
   "name": "python3"
  },
  "language_info": {
   "codemirror_mode": {
    "name": "ipython",
    "version": 3
   },
   "file_extension": ".py",
   "mimetype": "text/x-python",
   "name": "python",
   "nbconvert_exporter": "python",
   "pygments_lexer": "ipython3",
   "version": "3.8.5"
  },
  "orig_nbformat": 4
 },
 "nbformat": 4,
 "nbformat_minor": 2
}
