{
 "cells": [
  {
   "cell_type": "code",
   "execution_count": 1,
   "metadata": {},
   "outputs": [],
   "source": [
    "# imports\n",
    "from load_data import load_dataset\n",
    "import pandas as pd\n",
    "import numpy as np\n",
    "import matplotlib.pyplot as plt\n",
    "import json\n",
    "from pprint import pprint\n",
    "from math import isnan\n"
   ]
  },
  {
   "cell_type": "code",
   "execution_count": null,
   "metadata": {},
   "outputs": [],
   "source": [
    "# Load Data\n",
    "fp = \"/Users/augusttollerup/Documents/SEM4/Fagprojekt/Data/agg-cleaned.csv\"\n",
    "\n",
    "df = load_dataset(fp, type=\"pandas\", sep=\",\")\n",
    "print(df.columns)"
   ]
  },
  {
   "cell_type": "code",
   "execution_count": null,
   "metadata": {},
   "outputs": [],
   "source": [
    "df_prod = df[df[\"type\"] == \"production\"]\n",
    "df_prod.reset_index(drop=True, inplace=True)\n",
    "\n",
    "df_cons = df[df[\"type\"] == \"consumption\"]\n",
    "df_cons.reset_index(drop=True, inplace=True)"
   ]
  },
  {
   "cell_type": "code",
   "execution_count": null,
   "metadata": {},
   "outputs": [],
   "source": [
    "# Print unique timeslots\n",
    "print(\"Timeslots in entire dataset: \",len(df[\"timeslot\"]))\n",
    "print(\"Timeslots in production: \",len(df_prod[\"timeslot\"]))\n",
    "print(\"Timeslots in consumption: \",len(df_cons[\"timeslot\"]))"
   ]
  },
  {
   "cell_type": "code",
   "execution_count": null,
   "metadata": {},
   "outputs": [],
   "source": [
    "# Get index for timeslot = 01-01-2018 00:01:00\n",
    "\n",
    "def create_ideal_index(index_start, index_end):\n",
    "    new_index = pd.date_range(start = index_start, end = index_end, freq = \"1H\")\n",
    "    # Convert new_index to string\n",
    "    new_index = [str(x) for x in new_index]\n",
    "    return new_index\n"
   ]
  },
  {
   "cell_type": "code",
   "execution_count": null,
   "metadata": {},
   "outputs": [],
   "source": [
    "def plot_missing_dates_on_timeline(start, end, missing, title = \"Missing timeslots\"):\n",
    "    \"\"\"Plot missing dates on timeline\n",
    "\n",
    "    Args:\n",
    "        min (datetime): start date on timeline\n",
    "        max (datetime): end date on timeline\n",
    "        missing (list): list of missing dates in the interval\n",
    "        title (str, optional): Plot title. Defaults to \"Missing timeslots\".\n",
    "    \"\"\"\n",
    "    \n",
    "    # Plot missing timeslot values \n",
    "    # Inspired by https://matplotlib.org/3.5.1/gallery/lines_bars_and_markers/timeline.html\n",
    "\n",
    "    # Choose some nice levels\n",
    "    levels = np.tile([-5, 5, -3, 3, -1, 1],\n",
    "                    int(np.ceil(len(missing)/6)))[:len(missing)]\n",
    "\n",
    "    # Create figure and plot a stem plot with the date\n",
    "    fig, ax = plt.subplots(figsize=(8.8, 4), constrained_layout=True)\n",
    "    ax.set(title=title)\n",
    "\n",
    "    ax.vlines(missing, 0, levels, color=\"tab:red\")  # The vertical stems.\n",
    "    ax.plot(missing, np.zeros_like(missing), \"-o\",\n",
    "            color=\"k\", markerfacecolor=\"w\")  # Baseline and markers on it.\n",
    "\n",
    "    # remove y axis and spines\n",
    "    ax.yaxis.set_visible(False)\n",
    "    ax.spines[[\"left\", \"top\", \"right\"]].set_visible(False)\n",
    "\n",
    "    # Set x-axis interval\n",
    "    ax.set_xlim(start, end)\n",
    "\n",
    "    ax.margins(y=0.1)\n",
    "    plt.show()"
   ]
  },
  {
   "cell_type": "code",
   "execution_count": null,
   "metadata": {},
   "outputs": [],
   "source": [
    "def plot_missing_timeslots(start, end, ideal, missing, title = \"Missing timeslots\"):\n",
    "    first_timeslot = start\n",
    "    last_timeslot = end\n",
    "\n",
    "    # Set first and last element of ideal to x_labels\n",
    "    x_labels = missing.copy()\n",
    "    x_labels[0] = first_timeslot\n",
    "    x_labels[-1] = last_timeslot\n",
    "\n",
    "    # plot dot on horisontal line for ideal timeslots\n",
    "    plt.rcParams[\"figure.figsize\"] = (22,3)\n",
    "    plt.plot(ideal, [0] * len(ideal), \"-o\", markerfacecolor=\"none\", markeredgecolor=\"black\", markersize=1)\n",
    "    # Show only first and last x-axis label\n",
    "    # Plot vertical line for missing timeslots with red dot\n",
    "    plt.vlines(missing, 0, 1, color=\"red\", linewidth=1, label=\"Missing\", alpha=0.5, linestyle=\"--\")\n",
    "    # Rotate x-axis labels\n",
    "    plt.xticks([first_timeslot] + missing + [last_timeslot], rotation=90)\n",
    "    plt.legend()\n",
    "    plt.title(title)\n",
    "    plt.show()"
   ]
  },
  {
   "cell_type": "code",
   "execution_count": null,
   "metadata": {},
   "outputs": [],
   "source": [
    "# Get unique meter_ids\n",
    "meter_ids_unique = df_prod.meter_id.unique()\n",
    "print(len(meter_ids_unique))"
   ]
  },
  {
   "cell_type": "code",
   "execution_count": null,
   "metadata": {},
   "outputs": [],
   "source": [
    "# Fix timeslot\n",
    "def fix_timeslot(timeslot):\n",
    "    # Pandas convert +01:00 to +02:00\n",
    "    timeslot = pd.to_datetime(timeslot)\n",
    "    timeslot = timeslot.tz_convert(tz = \"UTC\")\n",
    "    # Convert to string\n",
    "    timeslot = str(timeslot)\n",
    "    \n",
    "    return timeslot"
   ]
  },
  {
   "cell_type": "code",
   "execution_count": null,
   "metadata": {},
   "outputs": [],
   "source": [
    "# Loop through meter_ids and calculate yearly coverage\n",
    "full_coverage_meter_ids = []\n",
    "\n",
    "# Define dataset to use\n",
    "df_loop = df_cons\n",
    "\n",
    "df_coverages = pd.DataFrame(columns=[\"meter_id\", \"year_coverage\", \"first_timeslot\", \"last_timeslot\"])\n",
    "\n",
    "for idx, meter_id in enumerate(meter_ids_unique):\n",
    "    timeslots_for_meter = sorted(df_loop[df_loop[\"meter_id\"] == meter_id][\"timeslot\"].values)\n",
    "\n",
    "    # Convert timeslot to UTC\n",
    "    timeslots_for_meter = [pd.to_datetime(x).tz_convert(\"UTC\").strftime(\"%Y-%m-%d %H:%M:%S+00:00\") for x in timeslots_for_meter]\n",
    "\n",
    "    # Get first and last timeslot\n",
    "    first_timeslot = fix_timeslot(str(timeslots_for_meter[0]))\n",
    "    last_timeslot = fix_timeslot(str(timeslots_for_meter[-1]))\n",
    "\n",
    "    # print(\"First timeslot: \", first_timeslot)\n",
    "    # print(\"Last timeslot: \", last_timeslot)\n",
    "\n",
    "    new_index = create_ideal_index(first_timeslot, last_timeslot)\n",
    "\n",
    "    # print(\"New index first timeslot: \", new_index[0])\n",
    "    # print(\"New index last timeslot: \", new_index[-1])\n",
    "\n",
    "    overlap = list(set(timeslots_for_meter) & set(new_index))\n",
    "    missing = list(set(new_index) - set(timeslots_for_meter))\n",
    "    \n",
    "    # Calculate overlap percentage\n",
    " \n",
    "    coverage = len(overlap) / len(new_index) * 100\n",
    "    print(\"Meter_id: \", meter_id, \" Coverage: \", coverage, \", \", idx, \" out of \", len(meter_ids_unique))\n",
    "    df_coverages.loc[idx] = [meter_id, coverage, first_timeslot, last_timeslot]\n"
   ]
  },
  {
   "cell_type": "code",
   "execution_count": null,
   "metadata": {},
   "outputs": [],
   "source": [
    "df_coverages = df_coverages.sort_values(by=\"year_coverage\", ascending=False)\n",
    "print(df_coverages.head())"
   ]
  },
  {
   "cell_type": "code",
   "execution_count": null,
   "metadata": {},
   "outputs": [],
   "source": [
    "# Save to csv\n",
    "df_coverages.to_csv(\"year_coverage_consumption.csv\", index=False)"
   ]
  },
  {
   "cell_type": "code",
   "execution_count": null,
   "metadata": {},
   "outputs": [],
   "source": [
    "# Load csv\n",
    "df_coverages_cons = pd.read_csv(\"year_coverage_consumption.csv\")\n",
    "df_coverages_prod = pd.read_csv(\"year_coverage_production.csv\")\n",
    "# Round to 2 decimal\n",
    "df_coverages_cons[\"year_coverage\"] = df_coverages_cons[\"year_coverage\"].round(2)\n",
    "df_coverages_prod[\"year_coverage\"] = df_coverages_prod[\"year_coverage\"].round(2)\n",
    "\n",
    "# Plot  \n",
    "# Set plot background color\n",
    "plt.style.use('seaborn')\n",
    "plt.hist([df_coverages_cons[\"year_coverage\"],df_coverages_prod[\"year_coverage\"]], bins=30, label=[\"Consumption\", \"Production\"],\n",
    "                    color=[\"tab:blue\", \"tab:orange\"])\n",
    "plt.ylabel(\"Count\")\n",
    "plt.xlabel(\"Coverage\")\n",
    "plt.legend([\"Consumption\", \"Production\"])\n",
    "plt.show()\n"
   ]
  },
  {
   "cell_type": "code",
   "execution_count": null,
   "metadata": {},
   "outputs": [],
   "source": [
    "# Find meters with 100% coverage\n",
    "df_coverages_cons_100 = df_coverages_cons[df_coverages_cons[\"year_coverage\"] == 100]\n",
    "df_coverages_prod_100 = df_coverages_prod[df_coverages_prod[\"year_coverage\"] == 100]\n",
    "\n",
    "print(r\"Consumption Meters with 100% coverage: \", len(df_coverages_cons_100), \" out of \", len(df_coverages_cons))\n",
    "print(r\"Production Meters with 100% coverage: \", len(df_coverages_prod_100), \" out of \", len(df_coverages_prod))"
   ]
  },
  {
   "cell_type": "code",
   "execution_count": null,
   "metadata": {},
   "outputs": [],
   "source": [
    "# For each meter caluclate the time between first and last timeslot\n",
    "df_coverages_cons_100[\"time_between_first_last\"] = pd.to_datetime(df_coverages_cons_100[\"last_timeslot\"]) - pd.to_datetime(df_coverages_cons_100[\"first_timeslot\"])\n",
    "df_coverages_prod_100[\"time_between_first_last\"] = pd.to_datetime(df_coverages_prod_100[\"last_timeslot\"]) - pd.to_datetime(df_coverages_prod_100[\"first_timeslot\"])\n",
    "\n",
    "# Convert time_between_first_last to years\n",
    "df_coverages_cons_100[\"time_between_first_last\"] = df_coverages_cons_100[\"time_between_first_last\"] / pd.Timedelta(days=365)\n",
    "df_coverages_prod_100[\"time_between_first_last\"] = df_coverages_prod_100[\"time_between_first_last\"] / pd.Timedelta(days=365)\n",
    "\n",
    "# Return only meters with more than 1 year of coverage\n",
    "df_coverages_cons_100 = df_coverages_cons_100.loc[df_coverages_cons_100[\"time_between_first_last\"] > 1]\n",
    "df_coverages_prod_100 = df_coverages_prod_100.loc[df_coverages_prod_100[\"time_between_first_last\"] > 1]\n",
    "\n",
    "print(r\"Consumption Meters with more than 1 year of 100% coverage: \", len(df_coverages_cons_100), \" out of \", len(df_coverages_cons))\n",
    "print(r\"Production Meters with more than 1 year of 100% coverage: \", len(df_coverages_prod_100), \" out of \", len(df_coverages_prod))\n",
    "\n",
    "# Save to csv\n",
    "df_coverages_cons_100.to_csv(\"year_coverage_consumption_100.csv\", index=False)\n",
    "df_coverages_prod_100.to_csv(\"year_coverage_production_100.csv\", index=False)"
   ]
  },
  {
   "cell_type": "code",
   "execution_count": null,
   "metadata": {},
   "outputs": [],
   "source": [
    "# Create dataset for production with meters with 100% coverage\n",
    "new_df = pd.DataFrame(columns=[\"meter_id\", \"timeslot\", \"num_kwh\"])\n",
    "\n",
    "df_coverages_cons_100 = pd.read_csv(\"year_coverage_consumption_100.csv\")\n",
    "df_coverages_prod_100 = pd.read_csv(\"year_coverage_production_100.csv\")\n",
    "\n",
    "df_loop = df_cons\n",
    "\n",
    "for meter_id in df_coverages_cons_100[\"meter_id\"]:\n",
    "    # Find all timeslots for meter in df\n",
    "    print(\"Meter_id: \", meter_id)\n",
    "    timeslots_for_meter = df_loop[df_loop[\"meter_id\"] == meter_id][[\"meter_id\", \"timeslot\", \"num_kwh\"]]\n",
    "    # Skip if num_kwh > 40 is found\n",
    "    if not timeslots_for_meter.loc[timeslots_for_meter[\"num_kwh\"] > 40].empty:\n",
    "        continue\n",
    "\n",
    "    # Convert timeslot to UTC\n",
    "    timeslots_for_meter[\"timeslot\"] = [pd.to_datetime(x).tz_convert(\"UTC\").strftime(\"%Y-%m-%d %H:%M:%S+00:00\") for x in timeslots_for_meter[\"timeslot\"]]\n",
    "    # Add to prod_new_df\n",
    "    new_df = pd.concat([new_df,timeslots_for_meter], ignore_index = True)\n",
    "\n",
    "# Save prod_new_df to csv\n",
    "new_df.to_csv(\"consumption_100_data.csv\", index=False)\n"
   ]
  },
  {
   "cell_type": "code",
   "execution_count": null,
   "metadata": {},
   "outputs": [],
   "source": [
    "new_df = pd.DataFrame(columns=[\"meter_id\", \"timeslot\", \"num_kwh\"])\n",
    "\n",
    "df_loop = df_prod\n",
    "\n",
    "for meter_id in df_coverages_prod_100[\"meter_id\"]:\n",
    "    # Find all timeslots for meter in df\n",
    "    print(\"Meter_id: \", meter_id)\n",
    "    timeslots_for_meter = df_loop[df_loop[\"meter_id\"] == meter_id][[\"meter_id\", \"timeslot\", \"num_kwh\"]]\n",
    "    # Skip if num_kwh > 40 is found\n",
    "    if not timeslots_for_meter.loc[timeslots_for_meter[\"num_kwh\"] > 40].empty:\n",
    "        continue\n",
    "\n",
    "    # Convert timeslot to UTC\n",
    "    timeslots_for_meter[\"timeslot\"] = [pd.to_datetime(x).tz_convert(\"UTC\").strftime(\"%Y-%m-%d %H:%M:%S+00:00\") for x in timeslots_for_meter[\"timeslot\"]]\n",
    "    # Add to prod_new_df\n",
    "    new_df = pd.concat([new_df,timeslots_for_meter], ignore_index = True)\n",
    "\n",
    "# Save prod_new_df to csv\n",
    "new_df.to_csv(\"production_100_data.csv\", index=False)"
   ]
  },
  {
   "cell_type": "markdown",
   "metadata": {},
   "source": [
    "### Calculate overlap between meter-ids with 100% coverage in production and consumption"
   ]
  },
  {
   "cell_type": "code",
   "execution_count": 2,
   "metadata": {},
   "outputs": [
    {
     "name": "stdout",
     "output_type": "stream",
     "text": [
      "Amount of overlap:  90\n"
     ]
    }
   ],
   "source": [
    "# Load datasets\n",
    "df_cons_meters = pd.read_csv(\"data/year_coverage_consumption_100.csv\")[\"meter_id\"]\n",
    "df_prod_meters = pd.read_csv(\"data/year_coverage_production_100.csv\")[\"meter_id\"]\n",
    "\n",
    "# Calculate overlap\n",
    "overlap = list(set(df_cons_meters).intersection(set(df_prod_meters)))\n",
    "\n",
    "print(\"Amount of overlap: \", len(overlap))"
   ]
  },
  {
   "cell_type": "code",
   "execution_count": 13,
   "metadata": {},
   "outputs": [
    {
     "name": "stdout",
     "output_type": "stream",
     "text": [
      "Total amount:  90\n",
      "Amount of nan values in dict:  59\n",
      "\n"
     ]
    }
   ],
   "source": [
    "# load json as dict\n",
    "with open('data/meters_num_panels_dict.json') as json_file:\n",
    "    data_num_panels = json.load(json_file)\n",
    "\n",
    "num_paneles_dict = {key: value for key, value in data_num_panels.items() if key in overlap}\n",
    "\n",
    "# print count of nan values in dict\n",
    "print(\"Total amount: \",len(num_paneles_dict))\n",
    "print(\"Amount of nan values in dict: \", sum(1 for x in num_paneles_dict.values() if not isnan(x)))\n",
    "# Print meters with isnan(x)\n",
    "not_valued_meters = [key for key, value in num_paneles_dict.items() if isnan(value)]\n",
    "# print(\"Meters with NaN: \", not_valued_meters)\n",
    "print()\n",
    "# print meters without isnan(x)\n",
    "valued_meters = [key for key, value in num_paneles_dict.items() if not isnan(value)]\n",
    "# print(\"Meters without NaN: \", valued_meters)\n",
    "# Create new dict with only valued meters\n",
    "new_dict_valued = {key: value for key, value in num_paneles_dict.items() if key in valued_meters}\n",
    "new_dict_not_valued = {key: value for key, value in num_paneles_dict.items() if key in not_valued_meters}"
   ]
  },
  {
   "cell_type": "code",
   "execution_count": 18,
   "metadata": {},
   "outputs": [],
   "source": [
    "# Convert dict to dataframe with index from 1 to len(new_dict_valued)\n",
    "df_new_dict_valued = pd.DataFrame.from_dict(new_dict_valued, orient='index')\n",
    "df_new_dict_valued.index.name = 'meter_id'\n",
    "df_new_dict_valued.reset_index(inplace=True)\n",
    "df_new_dict_valued.columns = ['meter_id', 'num_panels']\n",
    "\n",
    "df_new_dict_not_valued = pd.DataFrame.from_dict(new_dict_not_valued, orient='index')\n",
    "df_new_dict_not_valued.index.name = 'meter_id'\n",
    "df_new_dict_not_valued.reset_index(inplace=True)\n",
    "df_new_dict_not_valued.columns = ['meter_id', 'num_panels']\n",
    "\n",
    "# Save dataframe to csv with index as range\n",
    "df_new_dict_valued.to_csv(\"data/num_panels_valued.csv\", index=True)\n",
    "df_new_dict_not_valued.to_csv(\"data/num_panels_not_valued.csv\", index=True)"
   ]
  }
 ],
 "metadata": {
  "interpreter": {
   "hash": "528ab2b825a4efd34bdd13622bbc356c85ce5334aacc4ee2e2c553fd26a47110"
  },
  "kernelspec": {
   "display_name": "Python 3.8.5 ('otovo': venv)",
   "language": "python",
   "name": "python3"
  },
  "language_info": {
   "codemirror_mode": {
    "name": "ipython",
    "version": 3
   },
   "file_extension": ".py",
   "mimetype": "text/x-python",
   "name": "python",
   "nbconvert_exporter": "python",
   "pygments_lexer": "ipython3",
   "version": "3.8.5"
  },
  "orig_nbformat": 4
 },
 "nbformat": 4,
 "nbformat_minor": 2
}
