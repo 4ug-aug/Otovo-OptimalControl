{
 "cells": [
  {
   "cell_type": "markdown",
   "metadata": {},
   "source": [
    "# Imports"
   ]
  },
  {
   "cell_type": "code",
   "execution_count": 57,
   "metadata": {},
   "outputs": [],
   "source": [
    "import pandas as pd\n",
    "import numpy as np\n",
    "import matplotlib.pyplot as plt\n",
    "import seaborn as sns\n"
   ]
  },
  {
   "cell_type": "markdown",
   "metadata": {},
   "source": [
    "# Load data"
   ]
  },
  {
   "cell_type": "code",
   "execution_count": 3,
   "metadata": {},
   "outputs": [],
   "source": [
    "# load gridtx-dump-AGGREGATED-CLEANED-THRESHOLD-COVERAGE100-NORMALIZED.csv \n",
    "df = pd.read_csv('data/gridtx-dump-AGGREGATED-CLEANED-THRESHOLD-COVERAGE100-NORMALIZED.csv')"
   ]
  },
  {
   "cell_type": "code",
   "execution_count": 6,
   "metadata": {},
   "outputs": [],
   "source": [
    "df_prod = df[df['type'] == 'production']\n",
    "df_cons = df[df['type'] == 'consumption']"
   ]
  },
  {
   "cell_type": "markdown",
   "metadata": {},
   "source": [
    "# Summary statistics"
   ]
  },
  {
   "cell_type": "code",
   "execution_count": 20,
   "metadata": {},
   "outputs": [
    {
     "name": "stdout",
     "output_type": "stream",
     "text": [
      "\\begin{tabular}{lrr}\n",
      "\\toprule\n",
      "{} &     Production &    Consumption \\\\\n",
      "\\midrule\n",
      "count &  891400.000000 &  962585.000000 \\\\\n",
      "mean  &       0.009133 &       0.140550 \\\\\n",
      "std   &       0.030896 &       0.134185 \\\\\n",
      "min   &       0.000000 &       0.000000 \\\\\n",
      "25\\%   &       0.000000 &       0.047619 \\\\\n",
      "50\\%   &       0.000000 &       0.107143 \\\\\n",
      "75\\%   &       0.000000 &       0.200000 \\\\\n",
      "max   &       0.611111 &       1.562500 \\\\\n",
      "\\bottomrule\n",
      "\\end{tabular}\n",
      "\n"
     ]
    },
    {
     "name": "stderr",
     "output_type": "stream",
     "text": [
      "C:\\Users\\andre\\AppData\\Local\\Temp\\ipykernel_11612\\1424640167.py:10: FutureWarning: In future versions `DataFrame.to_latex` is expected to utilise the base implementation of `Styler.to_latex` for formatting and rendering. The arguments signature may therefore change. It is recommended instead to use `DataFrame.style.to_latex` which also contains additional functionality.\n",
      "  print(df_prod_cons_desc.to_latex())\n"
     ]
    }
   ],
   "source": [
    "df_prod_desc = df_prod[\"num_kwh_normalized\"].describe()\n",
    "df_cons_desc = df_cons[\"num_kwh_normalized\"].describe()\n",
    "\n",
    "# Concat series into dataframe\n",
    "df_prod_cons_desc = pd.concat([df_prod_desc, df_cons_desc], axis=1)\n",
    "\n",
    "#Change column names\n",
    "df_prod_cons_desc.columns = ['Production', 'Consumption']\n",
    "\n",
    "print(df_prod_cons_desc.to_latex())"
   ]
  },
  {
   "cell_type": "markdown",
   "metadata": {},
   "source": [
    "# Explore single meter\n",
    "The one with most observations"
   ]
  },
  {
   "cell_type": "code",
   "execution_count": 110,
   "metadata": {},
   "outputs": [
    {
     "name": "stdout",
     "output_type": "stream",
     "text": [
      "<class 'pandas.core.series.Series'>\n"
     ]
    },
    {
     "data": {
      "text/plain": [
       "<AxesSubplot:>"
      ]
     },
     "execution_count": 110,
     "metadata": {},
     "output_type": "execute_result"
    },
    {
     "data": {
      "image/png": "[encoded data removed]",
      "text/plain": [
       "<Figure size 432x288 with 1 Axes>"
      ]
     },
     "metadata": {
      "needs_background": "light"
     },
     "output_type": "display_data"
    }
   ],
   "source": [
    "# Meter with most observations\n",
    "mm_id = \"28ba7f57-6e83-4341-8078-232c1639e4e3\"\n",
    "\n",
    "df_mm = df[df['meter_id'] == mm_id]\n",
    "\n",
    "df_mm_prod = df_mm[df_mm['type'] == 'production']\n",
    "df_mm_cons = df_mm[df_mm['type'] == 'consumption']\n",
    "\n",
    "\n",
    "df_mm_prod.index = pd.to_datetime(df_mm_prod['timeslot'], utc=True)\n",
    "df_mm_cons.index = pd.to_datetime(df_mm_cons['timeslot'], utc=True)\n",
    "\n",
    "\n",
    "print(type(df_mm_prod[\"num_kwh_normalized\"]))\n",
    "# Make monthly boxplot for df_mm_prod\n",
    "\n",
    "\n",
    "# groups = df_mm_prod[\"num_kwh_normalized\"].groupby(pd.Grouper(freq='M'))\n",
    "groups = df_mm_prod[\"num_kwh_normalized\"].groupby(by=[df_mm_prod[\"num_kwh_normalized\"].index.month, df_mm_prod[\"num_kwh_normalized\"].index.year])\n",
    "\n",
    "# Make boxplot of groupby object\n",
    "df_mm_prod_monthly = pd.concat([pd.DataFrame(x[1].values) for x in groups], axis=1)\n",
    "df_mm_prod_monthly\n",
    "\n",
    "df_mm_prod_monthly = pd.DataFrame(df_mm_prod_monthly)\n",
    "df_mm_prod_monthly.columns = range(len(groups))\n",
    "df_mm_prod_monthly.boxplot()\n",
    "# df_mm_prod_monthly.boxplot()\n",
    "\n",
    "\n",
    "\n",
    "# groups = df_mm_prod[\"num_kwh_normalized\"].groupby(pd.Grouper(freq='M'))\n",
    "groups = df_mm_cons[\"num_kwh_normalized\"].groupby(by=[df_mm_cons[\"num_kwh_normalized\"].index.month, df_mm_cons[\"num_kwh_normalized\"].index.year])\n",
    "\n",
    "# Make boxplot of groupby object\n",
    "df_mm_cons_monthly = pd.concat([pd.DataFrame(x[1].values) for x in groups], axis=1)\n",
    "df_mm_cons_monthly\n",
    "\n",
    "df_mm_cons_monthly = pd.DataFrame(df_mm_cons_monthly)\n",
    "df_mm_cons_monthly.columns = range(len(groups))\n",
    "df_mm_cons_monthly.boxplot()\n"
   ]
  }
 ],
 "metadata": {
  "interpreter": {
   "hash": "75689878a105dee67c5a2a8f384e2aa8da20bcff148463addcb4797f6b921216"
  },
  "kernelspec": {
   "display_name": "Python 3.8.8 ('venv': venv)",
   "language": "python",
   "name": "python3"
  },
  "language_info": {
   "codemirror_mode": {
    "name": "ipython",
    "version": 3
   },
   "file_extension": ".py",
   "mimetype": "text/x-python",
   "name": "python",
   "nbconvert_exporter": "python",
   "pygments_lexer": "ipython3",
   "version": "3.8.8"
  },
  "orig_nbformat": 4
 },
 "nbformat": 4,
 "nbformat_minor": 2
}
